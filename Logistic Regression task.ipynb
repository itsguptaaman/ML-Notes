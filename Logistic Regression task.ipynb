{
 "cells": [
  {
   "cell_type": "code",
   "execution_count": 2,
   "id": "ded995f0",
   "metadata": {},
   "outputs": [],
   "source": [
    "import numpy as np\n",
    "import pandas as pd\n",
    "import os"
   ]
  },
  {
   "cell_type": "code",
   "execution_count": 110,
   "id": "052ab479",
   "metadata": {},
   "outputs": [],
   "source": [
    "path=r\"C:\\Users\\Aman\\Downloads\\AReM\"\n",
    "folders=os.listdir(path)\n",
    "location=[]\n",
    "for i in folders:\n",
    "    new_path=f\"{path}\\\\{i}\"\n",
    "    for j in os.listdir(new_path):\n",
    "        x=f\"{new_path}\\\\{j}\"\n",
    "        location.append(x)\n"
   ]
  },
  {
   "cell_type": "code",
   "execution_count": 113,
   "id": "09f80ec4",
   "metadata": {},
   "outputs": [
    {
     "data": {
      "text/plain": [
       "{'bending1': 7,\n",
       " 'bending2': 6,\n",
       " 'cycling': 15,\n",
       " 'lying': 15,\n",
       " 'sitting': 15,\n",
       " 'standing': 15,\n",
       " 'walking': 15}"
      ]
     },
     "execution_count": 113,
     "metadata": {},
     "output_type": "execute_result"
    }
   ],
   "source": [
    "folder_dt={key:value for key,value in zip(folders,folder_len)}\n",
    "folder_dt"
   ]
  },
  {
   "cell_type": "code",
   "execution_count": 117,
   "id": "8d3e5119",
   "metadata": {},
   "outputs": [
    {
     "data": {
      "text/plain": [
       "['C:\\\\Users\\\\Aman\\\\Downloads\\\\AReM\\\\bending1\\\\dataset1.csv',\n",
       " 'C:\\\\Users\\\\Aman\\\\Downloads\\\\AReM\\\\bending1\\\\dataset2.csv',\n",
       " 'C:\\\\Users\\\\Aman\\\\Downloads\\\\AReM\\\\bending1\\\\dataset3.csv',\n",
       " 'C:\\\\Users\\\\Aman\\\\Downloads\\\\AReM\\\\bending1\\\\dataset4.csv',\n",
       " 'C:\\\\Users\\\\Aman\\\\Downloads\\\\AReM\\\\bending1\\\\dataset5.csv',\n",
       " 'C:\\\\Users\\\\Aman\\\\Downloads\\\\AReM\\\\bending1\\\\dataset6.csv',\n",
       " 'C:\\\\Users\\\\Aman\\\\Downloads\\\\AReM\\\\bending1\\\\dataset7.csv',\n",
       " 'C:\\\\Users\\\\Aman\\\\Downloads\\\\AReM\\\\bending2\\\\dataset1.csv',\n",
       " 'C:\\\\Users\\\\Aman\\\\Downloads\\\\AReM\\\\bending2\\\\dataset2.csv',\n",
       " 'C:\\\\Users\\\\Aman\\\\Downloads\\\\AReM\\\\bending2\\\\dataset3.csv',\n",
       " 'C:\\\\Users\\\\Aman\\\\Downloads\\\\AReM\\\\bending2\\\\dataset4.csv',\n",
       " 'C:\\\\Users\\\\Aman\\\\Downloads\\\\AReM\\\\bending2\\\\dataset5.csv',\n",
       " 'C:\\\\Users\\\\Aman\\\\Downloads\\\\AReM\\\\bending2\\\\dataset6.csv',\n",
       " 'C:\\\\Users\\\\Aman\\\\Downloads\\\\AReM\\\\cycling\\\\dataset1.csv',\n",
       " 'C:\\\\Users\\\\Aman\\\\Downloads\\\\AReM\\\\cycling\\\\dataset10.csv',\n",
       " 'C:\\\\Users\\\\Aman\\\\Downloads\\\\AReM\\\\cycling\\\\dataset11.csv',\n",
       " 'C:\\\\Users\\\\Aman\\\\Downloads\\\\AReM\\\\cycling\\\\dataset12.csv',\n",
       " 'C:\\\\Users\\\\Aman\\\\Downloads\\\\AReM\\\\cycling\\\\dataset13.csv',\n",
       " 'C:\\\\Users\\\\Aman\\\\Downloads\\\\AReM\\\\cycling\\\\dataset14.csv',\n",
       " 'C:\\\\Users\\\\Aman\\\\Downloads\\\\AReM\\\\cycling\\\\dataset15.csv',\n",
       " 'C:\\\\Users\\\\Aman\\\\Downloads\\\\AReM\\\\cycling\\\\dataset2.csv',\n",
       " 'C:\\\\Users\\\\Aman\\\\Downloads\\\\AReM\\\\cycling\\\\dataset3.csv',\n",
       " 'C:\\\\Users\\\\Aman\\\\Downloads\\\\AReM\\\\cycling\\\\dataset4.csv',\n",
       " 'C:\\\\Users\\\\Aman\\\\Downloads\\\\AReM\\\\cycling\\\\dataset5.csv',\n",
       " 'C:\\\\Users\\\\Aman\\\\Downloads\\\\AReM\\\\cycling\\\\dataset6.csv',\n",
       " 'C:\\\\Users\\\\Aman\\\\Downloads\\\\AReM\\\\cycling\\\\dataset7.csv',\n",
       " 'C:\\\\Users\\\\Aman\\\\Downloads\\\\AReM\\\\cycling\\\\dataset8.csv',\n",
       " 'C:\\\\Users\\\\Aman\\\\Downloads\\\\AReM\\\\cycling\\\\dataset9.csv',\n",
       " 'C:\\\\Users\\\\Aman\\\\Downloads\\\\AReM\\\\lying\\\\dataset1.csv',\n",
       " 'C:\\\\Users\\\\Aman\\\\Downloads\\\\AReM\\\\lying\\\\dataset10.csv',\n",
       " 'C:\\\\Users\\\\Aman\\\\Downloads\\\\AReM\\\\lying\\\\dataset11.csv',\n",
       " 'C:\\\\Users\\\\Aman\\\\Downloads\\\\AReM\\\\lying\\\\dataset12.csv',\n",
       " 'C:\\\\Users\\\\Aman\\\\Downloads\\\\AReM\\\\lying\\\\dataset13.csv',\n",
       " 'C:\\\\Users\\\\Aman\\\\Downloads\\\\AReM\\\\lying\\\\dataset14.csv',\n",
       " 'C:\\\\Users\\\\Aman\\\\Downloads\\\\AReM\\\\lying\\\\dataset15.csv',\n",
       " 'C:\\\\Users\\\\Aman\\\\Downloads\\\\AReM\\\\lying\\\\dataset2.csv',\n",
       " 'C:\\\\Users\\\\Aman\\\\Downloads\\\\AReM\\\\lying\\\\dataset3.csv',\n",
       " 'C:\\\\Users\\\\Aman\\\\Downloads\\\\AReM\\\\lying\\\\dataset4.csv',\n",
       " 'C:\\\\Users\\\\Aman\\\\Downloads\\\\AReM\\\\lying\\\\dataset5.csv',\n",
       " 'C:\\\\Users\\\\Aman\\\\Downloads\\\\AReM\\\\lying\\\\dataset6.csv',\n",
       " 'C:\\\\Users\\\\Aman\\\\Downloads\\\\AReM\\\\lying\\\\dataset7.csv',\n",
       " 'C:\\\\Users\\\\Aman\\\\Downloads\\\\AReM\\\\lying\\\\dataset8.csv',\n",
       " 'C:\\\\Users\\\\Aman\\\\Downloads\\\\AReM\\\\lying\\\\dataset9.csv',\n",
       " 'C:\\\\Users\\\\Aman\\\\Downloads\\\\AReM\\\\sitting\\\\dataset1.csv',\n",
       " 'C:\\\\Users\\\\Aman\\\\Downloads\\\\AReM\\\\sitting\\\\dataset10.csv',\n",
       " 'C:\\\\Users\\\\Aman\\\\Downloads\\\\AReM\\\\sitting\\\\dataset11.csv',\n",
       " 'C:\\\\Users\\\\Aman\\\\Downloads\\\\AReM\\\\sitting\\\\dataset12.csv',\n",
       " 'C:\\\\Users\\\\Aman\\\\Downloads\\\\AReM\\\\sitting\\\\dataset13.csv',\n",
       " 'C:\\\\Users\\\\Aman\\\\Downloads\\\\AReM\\\\sitting\\\\dataset14.csv',\n",
       " 'C:\\\\Users\\\\Aman\\\\Downloads\\\\AReM\\\\sitting\\\\dataset15.csv',\n",
       " 'C:\\\\Users\\\\Aman\\\\Downloads\\\\AReM\\\\sitting\\\\dataset2.csv',\n",
       " 'C:\\\\Users\\\\Aman\\\\Downloads\\\\AReM\\\\sitting\\\\dataset3.csv',\n",
       " 'C:\\\\Users\\\\Aman\\\\Downloads\\\\AReM\\\\sitting\\\\dataset4.csv',\n",
       " 'C:\\\\Users\\\\Aman\\\\Downloads\\\\AReM\\\\sitting\\\\dataset5.csv',\n",
       " 'C:\\\\Users\\\\Aman\\\\Downloads\\\\AReM\\\\sitting\\\\dataset6.csv',\n",
       " 'C:\\\\Users\\\\Aman\\\\Downloads\\\\AReM\\\\sitting\\\\dataset7.csv',\n",
       " 'C:\\\\Users\\\\Aman\\\\Downloads\\\\AReM\\\\sitting\\\\dataset8.csv',\n",
       " 'C:\\\\Users\\\\Aman\\\\Downloads\\\\AReM\\\\sitting\\\\dataset9.csv',\n",
       " 'C:\\\\Users\\\\Aman\\\\Downloads\\\\AReM\\\\standing\\\\dataset1.csv',\n",
       " 'C:\\\\Users\\\\Aman\\\\Downloads\\\\AReM\\\\standing\\\\dataset10.csv',\n",
       " 'C:\\\\Users\\\\Aman\\\\Downloads\\\\AReM\\\\standing\\\\dataset11.csv',\n",
       " 'C:\\\\Users\\\\Aman\\\\Downloads\\\\AReM\\\\standing\\\\dataset12.csv',\n",
       " 'C:\\\\Users\\\\Aman\\\\Downloads\\\\AReM\\\\standing\\\\dataset13.csv',\n",
       " 'C:\\\\Users\\\\Aman\\\\Downloads\\\\AReM\\\\standing\\\\dataset14.csv',\n",
       " 'C:\\\\Users\\\\Aman\\\\Downloads\\\\AReM\\\\standing\\\\dataset15.csv',\n",
       " 'C:\\\\Users\\\\Aman\\\\Downloads\\\\AReM\\\\standing\\\\dataset2.csv',\n",
       " 'C:\\\\Users\\\\Aman\\\\Downloads\\\\AReM\\\\standing\\\\dataset3.csv',\n",
       " 'C:\\\\Users\\\\Aman\\\\Downloads\\\\AReM\\\\standing\\\\dataset4.csv',\n",
       " 'C:\\\\Users\\\\Aman\\\\Downloads\\\\AReM\\\\standing\\\\dataset5.csv',\n",
       " 'C:\\\\Users\\\\Aman\\\\Downloads\\\\AReM\\\\standing\\\\dataset6.csv',\n",
       " 'C:\\\\Users\\\\Aman\\\\Downloads\\\\AReM\\\\standing\\\\dataset7.csv',\n",
       " 'C:\\\\Users\\\\Aman\\\\Downloads\\\\AReM\\\\standing\\\\dataset8.csv',\n",
       " 'C:\\\\Users\\\\Aman\\\\Downloads\\\\AReM\\\\standing\\\\dataset9.csv',\n",
       " 'C:\\\\Users\\\\Aman\\\\Downloads\\\\AReM\\\\walking\\\\dataset1.csv',\n",
       " 'C:\\\\Users\\\\Aman\\\\Downloads\\\\AReM\\\\walking\\\\dataset10.csv',\n",
       " 'C:\\\\Users\\\\Aman\\\\Downloads\\\\AReM\\\\walking\\\\dataset11.csv',\n",
       " 'C:\\\\Users\\\\Aman\\\\Downloads\\\\AReM\\\\walking\\\\dataset12.csv',\n",
       " 'C:\\\\Users\\\\Aman\\\\Downloads\\\\AReM\\\\walking\\\\dataset13.csv',\n",
       " 'C:\\\\Users\\\\Aman\\\\Downloads\\\\AReM\\\\walking\\\\dataset14.csv',\n",
       " 'C:\\\\Users\\\\Aman\\\\Downloads\\\\AReM\\\\walking\\\\dataset15.csv',\n",
       " 'C:\\\\Users\\\\Aman\\\\Downloads\\\\AReM\\\\walking\\\\dataset2.csv',\n",
       " 'C:\\\\Users\\\\Aman\\\\Downloads\\\\AReM\\\\walking\\\\dataset3.csv',\n",
       " 'C:\\\\Users\\\\Aman\\\\Downloads\\\\AReM\\\\walking\\\\dataset4.csv',\n",
       " 'C:\\\\Users\\\\Aman\\\\Downloads\\\\AReM\\\\walking\\\\dataset5.csv',\n",
       " 'C:\\\\Users\\\\Aman\\\\Downloads\\\\AReM\\\\walking\\\\dataset6.csv',\n",
       " 'C:\\\\Users\\\\Aman\\\\Downloads\\\\AReM\\\\walking\\\\dataset7.csv',\n",
       " 'C:\\\\Users\\\\Aman\\\\Downloads\\\\AReM\\\\walking\\\\dataset8.csv',\n",
       " 'C:\\\\Users\\\\Aman\\\\Downloads\\\\AReM\\\\walking\\\\dataset9.csv']"
      ]
     },
     "execution_count": 117,
     "metadata": {},
     "output_type": "execute_result"
    }
   ],
   "source": [
    "location"
   ]
  },
  {
   "cell_type": "code",
   "execution_count": 141,
   "id": "b9d0f468",
   "metadata": {},
   "outputs": [
    {
     "name": "stdout",
     "output_type": "stream",
     "text": [
      "bending1\n",
      "bending1\n",
      "bending1\n",
      "bending1\n",
      "bending1\n",
      "bending1\n",
      "bending1\n",
      "bending2\n",
      "bending2\n",
      "bending2\n",
      "bending2\n",
      "bending2\n",
      "bending2\n",
      "cycling\n",
      "cycling\n",
      "cycling\n",
      "cycling\n",
      "cycling\n",
      "cycling\n",
      "cycling\n",
      "cycling\n",
      "cycling\n",
      "cycling\n",
      "cycling\n",
      "cycling\n",
      "cycling\n",
      "cycling\n",
      "cycling\n",
      "lying\n",
      "lying\n",
      "lying\n",
      "lying\n",
      "lying\n",
      "lying\n",
      "lying\n",
      "lying\n",
      "lying\n",
      "lying\n",
      "lying\n",
      "lying\n",
      "lying\n",
      "lying\n",
      "lying\n",
      "sitting\n",
      "sitting\n",
      "sitting\n",
      "sitting\n",
      "sitting\n",
      "sitting\n",
      "sitting\n",
      "sitting\n",
      "sitting\n",
      "sitting\n",
      "sitting\n",
      "sitting\n",
      "sitting\n",
      "sitting\n",
      "sitting\n",
      "standing\n",
      "standing\n",
      "standing\n",
      "standing\n",
      "standing\n",
      "standing\n",
      "standing\n",
      "standing\n",
      "standing\n",
      "standing\n",
      "standing\n",
      "standing\n",
      "standing\n",
      "standing\n",
      "standing\n",
      "walking\n",
      "walking\n",
      "walking\n",
      "walking\n",
      "walking\n",
      "walking\n",
      "walking\n",
      "walking\n",
      "walking\n",
      "walking\n",
      "walking\n",
      "walking\n",
      "walking\n",
      "walking\n",
      "walking\n"
     ]
    }
   ],
   "source": [
    "for i in location:\n",
    "    f=i.split('\\\\')\n",
    "    print(f[-2])\n",
    "    try:\n",
    "        df=pd.read_csv(i,skiprows=4,on_bad_lines='skip')\n",
    "#         print(df)\n",
    "        df['Label']=f[-2]\n",
    "    except Exception as e:\n",
    "        df=pd.read_csv(i,encoding = \"UTF-8\",skiprows=4,on_bad_lines='skip')\n",
    "        df['Label']=str(f[-2])"
   ]
  },
  {
   "cell_type": "code",
   "execution_count": 51,
   "id": "75444ae9",
   "metadata": {},
   "outputs": [
    {
     "name": "stdout",
     "output_type": "stream",
     "text": [
      "[WindowsPath('C:/Users/Aman/Downloads/AReM/bending1'), WindowsPath('C:/Users/Aman/Downloads/AReM/bending2'), WindowsPath('C:/Users/Aman/Downloads/AReM/cycling'), WindowsPath('C:/Users/Aman/Downloads/AReM/lying'), WindowsPath('C:/Users/Aman/Downloads/AReM/sitting'), WindowsPath('C:/Users/Aman/Downloads/AReM/standing'), WindowsPath('C:/Users/Aman/Downloads/AReM/walking')]\n",
      "['C:\\\\Users\\\\Aman\\\\Downloads\\\\AReM\\\\bending1\\\\dataset1.csv']\n",
      "['C:\\\\Users\\\\Aman\\\\Downloads\\\\AReM\\\\bending1\\\\dataset1.csv', 'C:\\\\Users\\\\Aman\\\\Downloads\\\\AReM\\\\bending1\\\\dataset2.csv']\n",
      "['C:\\\\Users\\\\Aman\\\\Downloads\\\\AReM\\\\bending1\\\\dataset1.csv', 'C:\\\\Users\\\\Aman\\\\Downloads\\\\AReM\\\\bending1\\\\dataset2.csv', 'C:\\\\Users\\\\Aman\\\\Downloads\\\\AReM\\\\bending1\\\\dataset3.csv']\n",
      "['C:\\\\Users\\\\Aman\\\\Downloads\\\\AReM\\\\bending1\\\\dataset1.csv', 'C:\\\\Users\\\\Aman\\\\Downloads\\\\AReM\\\\bending1\\\\dataset2.csv', 'C:\\\\Users\\\\Aman\\\\Downloads\\\\AReM\\\\bending1\\\\dataset3.csv', 'C:\\\\Users\\\\Aman\\\\Downloads\\\\AReM\\\\bending1\\\\dataset4.csv']\n",
      "['C:\\\\Users\\\\Aman\\\\Downloads\\\\AReM\\\\bending1\\\\dataset1.csv', 'C:\\\\Users\\\\Aman\\\\Downloads\\\\AReM\\\\bending1\\\\dataset2.csv', 'C:\\\\Users\\\\Aman\\\\Downloads\\\\AReM\\\\bending1\\\\dataset3.csv', 'C:\\\\Users\\\\Aman\\\\Downloads\\\\AReM\\\\bending1\\\\dataset4.csv', 'C:\\\\Users\\\\Aman\\\\Downloads\\\\AReM\\\\bending1\\\\dataset5.csv']\n",
      "['C:\\\\Users\\\\Aman\\\\Downloads\\\\AReM\\\\bending1\\\\dataset1.csv', 'C:\\\\Users\\\\Aman\\\\Downloads\\\\AReM\\\\bending1\\\\dataset2.csv', 'C:\\\\Users\\\\Aman\\\\Downloads\\\\AReM\\\\bending1\\\\dataset3.csv', 'C:\\\\Users\\\\Aman\\\\Downloads\\\\AReM\\\\bending1\\\\dataset4.csv', 'C:\\\\Users\\\\Aman\\\\Downloads\\\\AReM\\\\bending1\\\\dataset5.csv', 'C:\\\\Users\\\\Aman\\\\Downloads\\\\AReM\\\\bending1\\\\dataset6.csv']\n",
      "['C:\\\\Users\\\\Aman\\\\Downloads\\\\AReM\\\\bending1\\\\dataset1.csv', 'C:\\\\Users\\\\Aman\\\\Downloads\\\\AReM\\\\bending1\\\\dataset2.csv', 'C:\\\\Users\\\\Aman\\\\Downloads\\\\AReM\\\\bending1\\\\dataset3.csv', 'C:\\\\Users\\\\Aman\\\\Downloads\\\\AReM\\\\bending1\\\\dataset4.csv', 'C:\\\\Users\\\\Aman\\\\Downloads\\\\AReM\\\\bending1\\\\dataset5.csv', 'C:\\\\Users\\\\Aman\\\\Downloads\\\\AReM\\\\bending1\\\\dataset6.csv', 'C:\\\\Users\\\\Aman\\\\Downloads\\\\AReM\\\\bending1\\\\dataset7.csv']\n",
      "['C:\\\\Users\\\\Aman\\\\Downloads\\\\AReM\\\\bending1\\\\dataset1.csv', 'C:\\\\Users\\\\Aman\\\\Downloads\\\\AReM\\\\bending1\\\\dataset2.csv', 'C:\\\\Users\\\\Aman\\\\Downloads\\\\AReM\\\\bending1\\\\dataset3.csv', 'C:\\\\Users\\\\Aman\\\\Downloads\\\\AReM\\\\bending1\\\\dataset4.csv', 'C:\\\\Users\\\\Aman\\\\Downloads\\\\AReM\\\\bending1\\\\dataset5.csv', 'C:\\\\Users\\\\Aman\\\\Downloads\\\\AReM\\\\bending1\\\\dataset6.csv', 'C:\\\\Users\\\\Aman\\\\Downloads\\\\AReM\\\\bending1\\\\dataset7.csv', 'C:\\\\Users\\\\Aman\\\\Downloads\\\\AReM\\\\bending2\\\\dataset1.csv']\n",
      "['C:\\\\Users\\\\Aman\\\\Downloads\\\\AReM\\\\bending1\\\\dataset1.csv', 'C:\\\\Users\\\\Aman\\\\Downloads\\\\AReM\\\\bending1\\\\dataset2.csv', 'C:\\\\Users\\\\Aman\\\\Downloads\\\\AReM\\\\bending1\\\\dataset3.csv', 'C:\\\\Users\\\\Aman\\\\Downloads\\\\AReM\\\\bending1\\\\dataset4.csv', 'C:\\\\Users\\\\Aman\\\\Downloads\\\\AReM\\\\bending1\\\\dataset5.csv', 'C:\\\\Users\\\\Aman\\\\Downloads\\\\AReM\\\\bending1\\\\dataset6.csv', 'C:\\\\Users\\\\Aman\\\\Downloads\\\\AReM\\\\bending1\\\\dataset7.csv', 'C:\\\\Users\\\\Aman\\\\Downloads\\\\AReM\\\\bending2\\\\dataset1.csv', 'C:\\\\Users\\\\Aman\\\\Downloads\\\\AReM\\\\bending2\\\\dataset2.csv']\n",
      "['C:\\\\Users\\\\Aman\\\\Downloads\\\\AReM\\\\bending1\\\\dataset1.csv', 'C:\\\\Users\\\\Aman\\\\Downloads\\\\AReM\\\\bending1\\\\dataset2.csv', 'C:\\\\Users\\\\Aman\\\\Downloads\\\\AReM\\\\bending1\\\\dataset3.csv', 'C:\\\\Users\\\\Aman\\\\Downloads\\\\AReM\\\\bending1\\\\dataset4.csv', 'C:\\\\Users\\\\Aman\\\\Downloads\\\\AReM\\\\bending1\\\\dataset5.csv', 'C:\\\\Users\\\\Aman\\\\Downloads\\\\AReM\\\\bending1\\\\dataset6.csv', 'C:\\\\Users\\\\Aman\\\\Downloads\\\\AReM\\\\bending1\\\\dataset7.csv', 'C:\\\\Users\\\\Aman\\\\Downloads\\\\AReM\\\\bending2\\\\dataset1.csv', 'C:\\\\Users\\\\Aman\\\\Downloads\\\\AReM\\\\bending2\\\\dataset2.csv', 'C:\\\\Users\\\\Aman\\\\Downloads\\\\AReM\\\\bending2\\\\dataset3.csv']\n",
      "['C:\\\\Users\\\\Aman\\\\Downloads\\\\AReM\\\\bending1\\\\dataset1.csv', 'C:\\\\Users\\\\Aman\\\\Downloads\\\\AReM\\\\bending1\\\\dataset2.csv', 'C:\\\\Users\\\\Aman\\\\Downloads\\\\AReM\\\\bending1\\\\dataset3.csv', 'C:\\\\Users\\\\Aman\\\\Downloads\\\\AReM\\\\bending1\\\\dataset4.csv', 'C:\\\\Users\\\\Aman\\\\Downloads\\\\AReM\\\\bending1\\\\dataset5.csv', 'C:\\\\Users\\\\Aman\\\\Downloads\\\\AReM\\\\bending1\\\\dataset6.csv', 'C:\\\\Users\\\\Aman\\\\Downloads\\\\AReM\\\\bending1\\\\dataset7.csv', 'C:\\\\Users\\\\Aman\\\\Downloads\\\\AReM\\\\bending2\\\\dataset1.csv', 'C:\\\\Users\\\\Aman\\\\Downloads\\\\AReM\\\\bending2\\\\dataset2.csv', 'C:\\\\Users\\\\Aman\\\\Downloads\\\\AReM\\\\bending2\\\\dataset3.csv', 'C:\\\\Users\\\\Aman\\\\Downloads\\\\AReM\\\\bending2\\\\dataset4.csv']\n",
      "['C:\\\\Users\\\\Aman\\\\Downloads\\\\AReM\\\\bending1\\\\dataset1.csv', 'C:\\\\Users\\\\Aman\\\\Downloads\\\\AReM\\\\bending1\\\\dataset2.csv', 'C:\\\\Users\\\\Aman\\\\Downloads\\\\AReM\\\\bending1\\\\dataset3.csv', 'C:\\\\Users\\\\Aman\\\\Downloads\\\\AReM\\\\bending1\\\\dataset4.csv', 'C:\\\\Users\\\\Aman\\\\Downloads\\\\AReM\\\\bending1\\\\dataset5.csv', 'C:\\\\Users\\\\Aman\\\\Downloads\\\\AReM\\\\bending1\\\\dataset6.csv', 'C:\\\\Users\\\\Aman\\\\Downloads\\\\AReM\\\\bending1\\\\dataset7.csv', 'C:\\\\Users\\\\Aman\\\\Downloads\\\\AReM\\\\bending2\\\\dataset1.csv', 'C:\\\\Users\\\\Aman\\\\Downloads\\\\AReM\\\\bending2\\\\dataset2.csv', 'C:\\\\Users\\\\Aman\\\\Downloads\\\\AReM\\\\bending2\\\\dataset3.csv', 'C:\\\\Users\\\\Aman\\\\Downloads\\\\AReM\\\\bending2\\\\dataset4.csv', 'C:\\\\Users\\\\Aman\\\\Downloads\\\\AReM\\\\bending2\\\\dataset5.csv']\n",
      "['C:\\\\Users\\\\Aman\\\\Downloads\\\\AReM\\\\bending1\\\\dataset1.csv', 'C:\\\\Users\\\\Aman\\\\Downloads\\\\AReM\\\\bending1\\\\dataset2.csv', 'C:\\\\Users\\\\Aman\\\\Downloads\\\\AReM\\\\bending1\\\\dataset3.csv', 'C:\\\\Users\\\\Aman\\\\Downloads\\\\AReM\\\\bending1\\\\dataset4.csv', 'C:\\\\Users\\\\Aman\\\\Downloads\\\\AReM\\\\bending1\\\\dataset5.csv', 'C:\\\\Users\\\\Aman\\\\Downloads\\\\AReM\\\\bending1\\\\dataset6.csv', 'C:\\\\Users\\\\Aman\\\\Downloads\\\\AReM\\\\bending1\\\\dataset7.csv', 'C:\\\\Users\\\\Aman\\\\Downloads\\\\AReM\\\\bending2\\\\dataset1.csv', 'C:\\\\Users\\\\Aman\\\\Downloads\\\\AReM\\\\bending2\\\\dataset2.csv', 'C:\\\\Users\\\\Aman\\\\Downloads\\\\AReM\\\\bending2\\\\dataset3.csv', 'C:\\\\Users\\\\Aman\\\\Downloads\\\\AReM\\\\bending2\\\\dataset4.csv', 'C:\\\\Users\\\\Aman\\\\Downloads\\\\AReM\\\\bending2\\\\dataset5.csv', 'C:\\\\Users\\\\Aman\\\\Downloads\\\\AReM\\\\bending2\\\\dataset6.csv']\n",
      "['C:\\\\Users\\\\Aman\\\\Downloads\\\\AReM\\\\bending1\\\\dataset1.csv', 'C:\\\\Users\\\\Aman\\\\Downloads\\\\AReM\\\\bending1\\\\dataset2.csv', 'C:\\\\Users\\\\Aman\\\\Downloads\\\\AReM\\\\bending1\\\\dataset3.csv', 'C:\\\\Users\\\\Aman\\\\Downloads\\\\AReM\\\\bending1\\\\dataset4.csv', 'C:\\\\Users\\\\Aman\\\\Downloads\\\\AReM\\\\bending1\\\\dataset5.csv', 'C:\\\\Users\\\\Aman\\\\Downloads\\\\AReM\\\\bending1\\\\dataset6.csv', 'C:\\\\Users\\\\Aman\\\\Downloads\\\\AReM\\\\bending1\\\\dataset7.csv', 'C:\\\\Users\\\\Aman\\\\Downloads\\\\AReM\\\\bending2\\\\dataset1.csv', 'C:\\\\Users\\\\Aman\\\\Downloads\\\\AReM\\\\bending2\\\\dataset2.csv', 'C:\\\\Users\\\\Aman\\\\Downloads\\\\AReM\\\\bending2\\\\dataset3.csv', 'C:\\\\Users\\\\Aman\\\\Downloads\\\\AReM\\\\bending2\\\\dataset4.csv', 'C:\\\\Users\\\\Aman\\\\Downloads\\\\AReM\\\\bending2\\\\dataset5.csv', 'C:\\\\Users\\\\Aman\\\\Downloads\\\\AReM\\\\bending2\\\\dataset6.csv', 'C:\\\\Users\\\\Aman\\\\Downloads\\\\AReM\\\\cycling\\\\dataset1.csv']\n",
      "['C:\\\\Users\\\\Aman\\\\Downloads\\\\AReM\\\\bending1\\\\dataset1.csv', 'C:\\\\Users\\\\Aman\\\\Downloads\\\\AReM\\\\bending1\\\\dataset2.csv', 'C:\\\\Users\\\\Aman\\\\Downloads\\\\AReM\\\\bending1\\\\dataset3.csv', 'C:\\\\Users\\\\Aman\\\\Downloads\\\\AReM\\\\bending1\\\\dataset4.csv', 'C:\\\\Users\\\\Aman\\\\Downloads\\\\AReM\\\\bending1\\\\dataset5.csv', 'C:\\\\Users\\\\Aman\\\\Downloads\\\\AReM\\\\bending1\\\\dataset6.csv', 'C:\\\\Users\\\\Aman\\\\Downloads\\\\AReM\\\\bending1\\\\dataset7.csv', 'C:\\\\Users\\\\Aman\\\\Downloads\\\\AReM\\\\bending2\\\\dataset1.csv', 'C:\\\\Users\\\\Aman\\\\Downloads\\\\AReM\\\\bending2\\\\dataset2.csv', 'C:\\\\Users\\\\Aman\\\\Downloads\\\\AReM\\\\bending2\\\\dataset3.csv', 'C:\\\\Users\\\\Aman\\\\Downloads\\\\AReM\\\\bending2\\\\dataset4.csv', 'C:\\\\Users\\\\Aman\\\\Downloads\\\\AReM\\\\bending2\\\\dataset5.csv', 'C:\\\\Users\\\\Aman\\\\Downloads\\\\AReM\\\\bending2\\\\dataset6.csv', 'C:\\\\Users\\\\Aman\\\\Downloads\\\\AReM\\\\cycling\\\\dataset1.csv', 'C:\\\\Users\\\\Aman\\\\Downloads\\\\AReM\\\\cycling\\\\dataset10.csv']\n",
      "['C:\\\\Users\\\\Aman\\\\Downloads\\\\AReM\\\\bending1\\\\dataset1.csv', 'C:\\\\Users\\\\Aman\\\\Downloads\\\\AReM\\\\bending1\\\\dataset2.csv', 'C:\\\\Users\\\\Aman\\\\Downloads\\\\AReM\\\\bending1\\\\dataset3.csv', 'C:\\\\Users\\\\Aman\\\\Downloads\\\\AReM\\\\bending1\\\\dataset4.csv', 'C:\\\\Users\\\\Aman\\\\Downloads\\\\AReM\\\\bending1\\\\dataset5.csv', 'C:\\\\Users\\\\Aman\\\\Downloads\\\\AReM\\\\bending1\\\\dataset6.csv', 'C:\\\\Users\\\\Aman\\\\Downloads\\\\AReM\\\\bending1\\\\dataset7.csv', 'C:\\\\Users\\\\Aman\\\\Downloads\\\\AReM\\\\bending2\\\\dataset1.csv', 'C:\\\\Users\\\\Aman\\\\Downloads\\\\AReM\\\\bending2\\\\dataset2.csv', 'C:\\\\Users\\\\Aman\\\\Downloads\\\\AReM\\\\bending2\\\\dataset3.csv', 'C:\\\\Users\\\\Aman\\\\Downloads\\\\AReM\\\\bending2\\\\dataset4.csv', 'C:\\\\Users\\\\Aman\\\\Downloads\\\\AReM\\\\bending2\\\\dataset5.csv', 'C:\\\\Users\\\\Aman\\\\Downloads\\\\AReM\\\\bending2\\\\dataset6.csv', 'C:\\\\Users\\\\Aman\\\\Downloads\\\\AReM\\\\cycling\\\\dataset1.csv', 'C:\\\\Users\\\\Aman\\\\Downloads\\\\AReM\\\\cycling\\\\dataset10.csv', 'C:\\\\Users\\\\Aman\\\\Downloads\\\\AReM\\\\cycling\\\\dataset11.csv']\n",
      "['C:\\\\Users\\\\Aman\\\\Downloads\\\\AReM\\\\bending1\\\\dataset1.csv', 'C:\\\\Users\\\\Aman\\\\Downloads\\\\AReM\\\\bending1\\\\dataset2.csv', 'C:\\\\Users\\\\Aman\\\\Downloads\\\\AReM\\\\bending1\\\\dataset3.csv', 'C:\\\\Users\\\\Aman\\\\Downloads\\\\AReM\\\\bending1\\\\dataset4.csv', 'C:\\\\Users\\\\Aman\\\\Downloads\\\\AReM\\\\bending1\\\\dataset5.csv', 'C:\\\\Users\\\\Aman\\\\Downloads\\\\AReM\\\\bending1\\\\dataset6.csv', 'C:\\\\Users\\\\Aman\\\\Downloads\\\\AReM\\\\bending1\\\\dataset7.csv', 'C:\\\\Users\\\\Aman\\\\Downloads\\\\AReM\\\\bending2\\\\dataset1.csv', 'C:\\\\Users\\\\Aman\\\\Downloads\\\\AReM\\\\bending2\\\\dataset2.csv', 'C:\\\\Users\\\\Aman\\\\Downloads\\\\AReM\\\\bending2\\\\dataset3.csv', 'C:\\\\Users\\\\Aman\\\\Downloads\\\\AReM\\\\bending2\\\\dataset4.csv', 'C:\\\\Users\\\\Aman\\\\Downloads\\\\AReM\\\\bending2\\\\dataset5.csv', 'C:\\\\Users\\\\Aman\\\\Downloads\\\\AReM\\\\bending2\\\\dataset6.csv', 'C:\\\\Users\\\\Aman\\\\Downloads\\\\AReM\\\\cycling\\\\dataset1.csv', 'C:\\\\Users\\\\Aman\\\\Downloads\\\\AReM\\\\cycling\\\\dataset10.csv', 'C:\\\\Users\\\\Aman\\\\Downloads\\\\AReM\\\\cycling\\\\dataset11.csv', 'C:\\\\Users\\\\Aman\\\\Downloads\\\\AReM\\\\cycling\\\\dataset12.csv']\n",
      "['C:\\\\Users\\\\Aman\\\\Downloads\\\\AReM\\\\bending1\\\\dataset1.csv', 'C:\\\\Users\\\\Aman\\\\Downloads\\\\AReM\\\\bending1\\\\dataset2.csv', 'C:\\\\Users\\\\Aman\\\\Downloads\\\\AReM\\\\bending1\\\\dataset3.csv', 'C:\\\\Users\\\\Aman\\\\Downloads\\\\AReM\\\\bending1\\\\dataset4.csv', 'C:\\\\Users\\\\Aman\\\\Downloads\\\\AReM\\\\bending1\\\\dataset5.csv', 'C:\\\\Users\\\\Aman\\\\Downloads\\\\AReM\\\\bending1\\\\dataset6.csv', 'C:\\\\Users\\\\Aman\\\\Downloads\\\\AReM\\\\bending1\\\\dataset7.csv', 'C:\\\\Users\\\\Aman\\\\Downloads\\\\AReM\\\\bending2\\\\dataset1.csv', 'C:\\\\Users\\\\Aman\\\\Downloads\\\\AReM\\\\bending2\\\\dataset2.csv', 'C:\\\\Users\\\\Aman\\\\Downloads\\\\AReM\\\\bending2\\\\dataset3.csv', 'C:\\\\Users\\\\Aman\\\\Downloads\\\\AReM\\\\bending2\\\\dataset4.csv', 'C:\\\\Users\\\\Aman\\\\Downloads\\\\AReM\\\\bending2\\\\dataset5.csv', 'C:\\\\Users\\\\Aman\\\\Downloads\\\\AReM\\\\bending2\\\\dataset6.csv', 'C:\\\\Users\\\\Aman\\\\Downloads\\\\AReM\\\\cycling\\\\dataset1.csv', 'C:\\\\Users\\\\Aman\\\\Downloads\\\\AReM\\\\cycling\\\\dataset10.csv', 'C:\\\\Users\\\\Aman\\\\Downloads\\\\AReM\\\\cycling\\\\dataset11.csv', 'C:\\\\Users\\\\Aman\\\\Downloads\\\\AReM\\\\cycling\\\\dataset12.csv', 'C:\\\\Users\\\\Aman\\\\Downloads\\\\AReM\\\\cycling\\\\dataset13.csv']\n",
      "['C:\\\\Users\\\\Aman\\\\Downloads\\\\AReM\\\\bending1\\\\dataset1.csv', 'C:\\\\Users\\\\Aman\\\\Downloads\\\\AReM\\\\bending1\\\\dataset2.csv', 'C:\\\\Users\\\\Aman\\\\Downloads\\\\AReM\\\\bending1\\\\dataset3.csv', 'C:\\\\Users\\\\Aman\\\\Downloads\\\\AReM\\\\bending1\\\\dataset4.csv', 'C:\\\\Users\\\\Aman\\\\Downloads\\\\AReM\\\\bending1\\\\dataset5.csv', 'C:\\\\Users\\\\Aman\\\\Downloads\\\\AReM\\\\bending1\\\\dataset6.csv', 'C:\\\\Users\\\\Aman\\\\Downloads\\\\AReM\\\\bending1\\\\dataset7.csv', 'C:\\\\Users\\\\Aman\\\\Downloads\\\\AReM\\\\bending2\\\\dataset1.csv', 'C:\\\\Users\\\\Aman\\\\Downloads\\\\AReM\\\\bending2\\\\dataset2.csv', 'C:\\\\Users\\\\Aman\\\\Downloads\\\\AReM\\\\bending2\\\\dataset3.csv', 'C:\\\\Users\\\\Aman\\\\Downloads\\\\AReM\\\\bending2\\\\dataset4.csv', 'C:\\\\Users\\\\Aman\\\\Downloads\\\\AReM\\\\bending2\\\\dataset5.csv', 'C:\\\\Users\\\\Aman\\\\Downloads\\\\AReM\\\\bending2\\\\dataset6.csv', 'C:\\\\Users\\\\Aman\\\\Downloads\\\\AReM\\\\cycling\\\\dataset1.csv', 'C:\\\\Users\\\\Aman\\\\Downloads\\\\AReM\\\\cycling\\\\dataset10.csv', 'C:\\\\Users\\\\Aman\\\\Downloads\\\\AReM\\\\cycling\\\\dataset11.csv', 'C:\\\\Users\\\\Aman\\\\Downloads\\\\AReM\\\\cycling\\\\dataset12.csv', 'C:\\\\Users\\\\Aman\\\\Downloads\\\\AReM\\\\cycling\\\\dataset13.csv', 'C:\\\\Users\\\\Aman\\\\Downloads\\\\AReM\\\\cycling\\\\dataset14.csv']\n",
      "['C:\\\\Users\\\\Aman\\\\Downloads\\\\AReM\\\\bending1\\\\dataset1.csv', 'C:\\\\Users\\\\Aman\\\\Downloads\\\\AReM\\\\bending1\\\\dataset2.csv', 'C:\\\\Users\\\\Aman\\\\Downloads\\\\AReM\\\\bending1\\\\dataset3.csv', 'C:\\\\Users\\\\Aman\\\\Downloads\\\\AReM\\\\bending1\\\\dataset4.csv', 'C:\\\\Users\\\\Aman\\\\Downloads\\\\AReM\\\\bending1\\\\dataset5.csv', 'C:\\\\Users\\\\Aman\\\\Downloads\\\\AReM\\\\bending1\\\\dataset6.csv', 'C:\\\\Users\\\\Aman\\\\Downloads\\\\AReM\\\\bending1\\\\dataset7.csv', 'C:\\\\Users\\\\Aman\\\\Downloads\\\\AReM\\\\bending2\\\\dataset1.csv', 'C:\\\\Users\\\\Aman\\\\Downloads\\\\AReM\\\\bending2\\\\dataset2.csv', 'C:\\\\Users\\\\Aman\\\\Downloads\\\\AReM\\\\bending2\\\\dataset3.csv', 'C:\\\\Users\\\\Aman\\\\Downloads\\\\AReM\\\\bending2\\\\dataset4.csv', 'C:\\\\Users\\\\Aman\\\\Downloads\\\\AReM\\\\bending2\\\\dataset5.csv', 'C:\\\\Users\\\\Aman\\\\Downloads\\\\AReM\\\\bending2\\\\dataset6.csv', 'C:\\\\Users\\\\Aman\\\\Downloads\\\\AReM\\\\cycling\\\\dataset1.csv', 'C:\\\\Users\\\\Aman\\\\Downloads\\\\AReM\\\\cycling\\\\dataset10.csv', 'C:\\\\Users\\\\Aman\\\\Downloads\\\\AReM\\\\cycling\\\\dataset11.csv', 'C:\\\\Users\\\\Aman\\\\Downloads\\\\AReM\\\\cycling\\\\dataset12.csv', 'C:\\\\Users\\\\Aman\\\\Downloads\\\\AReM\\\\cycling\\\\dataset13.csv', 'C:\\\\Users\\\\Aman\\\\Downloads\\\\AReM\\\\cycling\\\\dataset14.csv', 'C:\\\\Users\\\\Aman\\\\Downloads\\\\AReM\\\\cycling\\\\dataset15.csv']\n",
      "['C:\\\\Users\\\\Aman\\\\Downloads\\\\AReM\\\\bending1\\\\dataset1.csv', 'C:\\\\Users\\\\Aman\\\\Downloads\\\\AReM\\\\bending1\\\\dataset2.csv', 'C:\\\\Users\\\\Aman\\\\Downloads\\\\AReM\\\\bending1\\\\dataset3.csv', 'C:\\\\Users\\\\Aman\\\\Downloads\\\\AReM\\\\bending1\\\\dataset4.csv', 'C:\\\\Users\\\\Aman\\\\Downloads\\\\AReM\\\\bending1\\\\dataset5.csv', 'C:\\\\Users\\\\Aman\\\\Downloads\\\\AReM\\\\bending1\\\\dataset6.csv', 'C:\\\\Users\\\\Aman\\\\Downloads\\\\AReM\\\\bending1\\\\dataset7.csv', 'C:\\\\Users\\\\Aman\\\\Downloads\\\\AReM\\\\bending2\\\\dataset1.csv', 'C:\\\\Users\\\\Aman\\\\Downloads\\\\AReM\\\\bending2\\\\dataset2.csv', 'C:\\\\Users\\\\Aman\\\\Downloads\\\\AReM\\\\bending2\\\\dataset3.csv', 'C:\\\\Users\\\\Aman\\\\Downloads\\\\AReM\\\\bending2\\\\dataset4.csv', 'C:\\\\Users\\\\Aman\\\\Downloads\\\\AReM\\\\bending2\\\\dataset5.csv', 'C:\\\\Users\\\\Aman\\\\Downloads\\\\AReM\\\\bending2\\\\dataset6.csv', 'C:\\\\Users\\\\Aman\\\\Downloads\\\\AReM\\\\cycling\\\\dataset1.csv', 'C:\\\\Users\\\\Aman\\\\Downloads\\\\AReM\\\\cycling\\\\dataset10.csv', 'C:\\\\Users\\\\Aman\\\\Downloads\\\\AReM\\\\cycling\\\\dataset11.csv', 'C:\\\\Users\\\\Aman\\\\Downloads\\\\AReM\\\\cycling\\\\dataset12.csv', 'C:\\\\Users\\\\Aman\\\\Downloads\\\\AReM\\\\cycling\\\\dataset13.csv', 'C:\\\\Users\\\\Aman\\\\Downloads\\\\AReM\\\\cycling\\\\dataset14.csv', 'C:\\\\Users\\\\Aman\\\\Downloads\\\\AReM\\\\cycling\\\\dataset15.csv', 'C:\\\\Users\\\\Aman\\\\Downloads\\\\AReM\\\\cycling\\\\dataset2.csv']\n",
      "['C:\\\\Users\\\\Aman\\\\Downloads\\\\AReM\\\\bending1\\\\dataset1.csv', 'C:\\\\Users\\\\Aman\\\\Downloads\\\\AReM\\\\bending1\\\\dataset2.csv', 'C:\\\\Users\\\\Aman\\\\Downloads\\\\AReM\\\\bending1\\\\dataset3.csv', 'C:\\\\Users\\\\Aman\\\\Downloads\\\\AReM\\\\bending1\\\\dataset4.csv', 'C:\\\\Users\\\\Aman\\\\Downloads\\\\AReM\\\\bending1\\\\dataset5.csv', 'C:\\\\Users\\\\Aman\\\\Downloads\\\\AReM\\\\bending1\\\\dataset6.csv', 'C:\\\\Users\\\\Aman\\\\Downloads\\\\AReM\\\\bending1\\\\dataset7.csv', 'C:\\\\Users\\\\Aman\\\\Downloads\\\\AReM\\\\bending2\\\\dataset1.csv', 'C:\\\\Users\\\\Aman\\\\Downloads\\\\AReM\\\\bending2\\\\dataset2.csv', 'C:\\\\Users\\\\Aman\\\\Downloads\\\\AReM\\\\bending2\\\\dataset3.csv', 'C:\\\\Users\\\\Aman\\\\Downloads\\\\AReM\\\\bending2\\\\dataset4.csv', 'C:\\\\Users\\\\Aman\\\\Downloads\\\\AReM\\\\bending2\\\\dataset5.csv', 'C:\\\\Users\\\\Aman\\\\Downloads\\\\AReM\\\\bending2\\\\dataset6.csv', 'C:\\\\Users\\\\Aman\\\\Downloads\\\\AReM\\\\cycling\\\\dataset1.csv', 'C:\\\\Users\\\\Aman\\\\Downloads\\\\AReM\\\\cycling\\\\dataset10.csv', 'C:\\\\Users\\\\Aman\\\\Downloads\\\\AReM\\\\cycling\\\\dataset11.csv', 'C:\\\\Users\\\\Aman\\\\Downloads\\\\AReM\\\\cycling\\\\dataset12.csv', 'C:\\\\Users\\\\Aman\\\\Downloads\\\\AReM\\\\cycling\\\\dataset13.csv', 'C:\\\\Users\\\\Aman\\\\Downloads\\\\AReM\\\\cycling\\\\dataset14.csv', 'C:\\\\Users\\\\Aman\\\\Downloads\\\\AReM\\\\cycling\\\\dataset15.csv', 'C:\\\\Users\\\\Aman\\\\Downloads\\\\AReM\\\\cycling\\\\dataset2.csv', 'C:\\\\Users\\\\Aman\\\\Downloads\\\\AReM\\\\cycling\\\\dataset3.csv']\n",
      "['C:\\\\Users\\\\Aman\\\\Downloads\\\\AReM\\\\bending1\\\\dataset1.csv', 'C:\\\\Users\\\\Aman\\\\Downloads\\\\AReM\\\\bending1\\\\dataset2.csv', 'C:\\\\Users\\\\Aman\\\\Downloads\\\\AReM\\\\bending1\\\\dataset3.csv', 'C:\\\\Users\\\\Aman\\\\Downloads\\\\AReM\\\\bending1\\\\dataset4.csv', 'C:\\\\Users\\\\Aman\\\\Downloads\\\\AReM\\\\bending1\\\\dataset5.csv', 'C:\\\\Users\\\\Aman\\\\Downloads\\\\AReM\\\\bending1\\\\dataset6.csv', 'C:\\\\Users\\\\Aman\\\\Downloads\\\\AReM\\\\bending1\\\\dataset7.csv', 'C:\\\\Users\\\\Aman\\\\Downloads\\\\AReM\\\\bending2\\\\dataset1.csv', 'C:\\\\Users\\\\Aman\\\\Downloads\\\\AReM\\\\bending2\\\\dataset2.csv', 'C:\\\\Users\\\\Aman\\\\Downloads\\\\AReM\\\\bending2\\\\dataset3.csv', 'C:\\\\Users\\\\Aman\\\\Downloads\\\\AReM\\\\bending2\\\\dataset4.csv', 'C:\\\\Users\\\\Aman\\\\Downloads\\\\AReM\\\\bending2\\\\dataset5.csv', 'C:\\\\Users\\\\Aman\\\\Downloads\\\\AReM\\\\bending2\\\\dataset6.csv', 'C:\\\\Users\\\\Aman\\\\Downloads\\\\AReM\\\\cycling\\\\dataset1.csv', 'C:\\\\Users\\\\Aman\\\\Downloads\\\\AReM\\\\cycling\\\\dataset10.csv', 'C:\\\\Users\\\\Aman\\\\Downloads\\\\AReM\\\\cycling\\\\dataset11.csv', 'C:\\\\Users\\\\Aman\\\\Downloads\\\\AReM\\\\cycling\\\\dataset12.csv', 'C:\\\\Users\\\\Aman\\\\Downloads\\\\AReM\\\\cycling\\\\dataset13.csv', 'C:\\\\Users\\\\Aman\\\\Downloads\\\\AReM\\\\cycling\\\\dataset14.csv', 'C:\\\\Users\\\\Aman\\\\Downloads\\\\AReM\\\\cycling\\\\dataset15.csv', 'C:\\\\Users\\\\Aman\\\\Downloads\\\\AReM\\\\cycling\\\\dataset2.csv', 'C:\\\\Users\\\\Aman\\\\Downloads\\\\AReM\\\\cycling\\\\dataset3.csv', 'C:\\\\Users\\\\Aman\\\\Downloads\\\\AReM\\\\cycling\\\\dataset4.csv']\n",
      "['C:\\\\Users\\\\Aman\\\\Downloads\\\\AReM\\\\bending1\\\\dataset1.csv', 'C:\\\\Users\\\\Aman\\\\Downloads\\\\AReM\\\\bending1\\\\dataset2.csv', 'C:\\\\Users\\\\Aman\\\\Downloads\\\\AReM\\\\bending1\\\\dataset3.csv', 'C:\\\\Users\\\\Aman\\\\Downloads\\\\AReM\\\\bending1\\\\dataset4.csv', 'C:\\\\Users\\\\Aman\\\\Downloads\\\\AReM\\\\bending1\\\\dataset5.csv', 'C:\\\\Users\\\\Aman\\\\Downloads\\\\AReM\\\\bending1\\\\dataset6.csv', 'C:\\\\Users\\\\Aman\\\\Downloads\\\\AReM\\\\bending1\\\\dataset7.csv', 'C:\\\\Users\\\\Aman\\\\Downloads\\\\AReM\\\\bending2\\\\dataset1.csv', 'C:\\\\Users\\\\Aman\\\\Downloads\\\\AReM\\\\bending2\\\\dataset2.csv', 'C:\\\\Users\\\\Aman\\\\Downloads\\\\AReM\\\\bending2\\\\dataset3.csv', 'C:\\\\Users\\\\Aman\\\\Downloads\\\\AReM\\\\bending2\\\\dataset4.csv', 'C:\\\\Users\\\\Aman\\\\Downloads\\\\AReM\\\\bending2\\\\dataset5.csv', 'C:\\\\Users\\\\Aman\\\\Downloads\\\\AReM\\\\bending2\\\\dataset6.csv', 'C:\\\\Users\\\\Aman\\\\Downloads\\\\AReM\\\\cycling\\\\dataset1.csv', 'C:\\\\Users\\\\Aman\\\\Downloads\\\\AReM\\\\cycling\\\\dataset10.csv', 'C:\\\\Users\\\\Aman\\\\Downloads\\\\AReM\\\\cycling\\\\dataset11.csv', 'C:\\\\Users\\\\Aman\\\\Downloads\\\\AReM\\\\cycling\\\\dataset12.csv', 'C:\\\\Users\\\\Aman\\\\Downloads\\\\AReM\\\\cycling\\\\dataset13.csv', 'C:\\\\Users\\\\Aman\\\\Downloads\\\\AReM\\\\cycling\\\\dataset14.csv', 'C:\\\\Users\\\\Aman\\\\Downloads\\\\AReM\\\\cycling\\\\dataset15.csv', 'C:\\\\Users\\\\Aman\\\\Downloads\\\\AReM\\\\cycling\\\\dataset2.csv', 'C:\\\\Users\\\\Aman\\\\Downloads\\\\AReM\\\\cycling\\\\dataset3.csv', 'C:\\\\Users\\\\Aman\\\\Downloads\\\\AReM\\\\cycling\\\\dataset4.csv', 'C:\\\\Users\\\\Aman\\\\Downloads\\\\AReM\\\\cycling\\\\dataset5.csv']\n",
      "['C:\\\\Users\\\\Aman\\\\Downloads\\\\AReM\\\\bending1\\\\dataset1.csv', 'C:\\\\Users\\\\Aman\\\\Downloads\\\\AReM\\\\bending1\\\\dataset2.csv', 'C:\\\\Users\\\\Aman\\\\Downloads\\\\AReM\\\\bending1\\\\dataset3.csv', 'C:\\\\Users\\\\Aman\\\\Downloads\\\\AReM\\\\bending1\\\\dataset4.csv', 'C:\\\\Users\\\\Aman\\\\Downloads\\\\AReM\\\\bending1\\\\dataset5.csv', 'C:\\\\Users\\\\Aman\\\\Downloads\\\\AReM\\\\bending1\\\\dataset6.csv', 'C:\\\\Users\\\\Aman\\\\Downloads\\\\AReM\\\\bending1\\\\dataset7.csv', 'C:\\\\Users\\\\Aman\\\\Downloads\\\\AReM\\\\bending2\\\\dataset1.csv', 'C:\\\\Users\\\\Aman\\\\Downloads\\\\AReM\\\\bending2\\\\dataset2.csv', 'C:\\\\Users\\\\Aman\\\\Downloads\\\\AReM\\\\bending2\\\\dataset3.csv', 'C:\\\\Users\\\\Aman\\\\Downloads\\\\AReM\\\\bending2\\\\dataset4.csv', 'C:\\\\Users\\\\Aman\\\\Downloads\\\\AReM\\\\bending2\\\\dataset5.csv', 'C:\\\\Users\\\\Aman\\\\Downloads\\\\AReM\\\\bending2\\\\dataset6.csv', 'C:\\\\Users\\\\Aman\\\\Downloads\\\\AReM\\\\cycling\\\\dataset1.csv', 'C:\\\\Users\\\\Aman\\\\Downloads\\\\AReM\\\\cycling\\\\dataset10.csv', 'C:\\\\Users\\\\Aman\\\\Downloads\\\\AReM\\\\cycling\\\\dataset11.csv', 'C:\\\\Users\\\\Aman\\\\Downloads\\\\AReM\\\\cycling\\\\dataset12.csv', 'C:\\\\Users\\\\Aman\\\\Downloads\\\\AReM\\\\cycling\\\\dataset13.csv', 'C:\\\\Users\\\\Aman\\\\Downloads\\\\AReM\\\\cycling\\\\dataset14.csv', 'C:\\\\Users\\\\Aman\\\\Downloads\\\\AReM\\\\cycling\\\\dataset15.csv', 'C:\\\\Users\\\\Aman\\\\Downloads\\\\AReM\\\\cycling\\\\dataset2.csv', 'C:\\\\Users\\\\Aman\\\\Downloads\\\\AReM\\\\cycling\\\\dataset3.csv', 'C:\\\\Users\\\\Aman\\\\Downloads\\\\AReM\\\\cycling\\\\dataset4.csv', 'C:\\\\Users\\\\Aman\\\\Downloads\\\\AReM\\\\cycling\\\\dataset5.csv', 'C:\\\\Users\\\\Aman\\\\Downloads\\\\AReM\\\\cycling\\\\dataset6.csv']\n",
      "['C:\\\\Users\\\\Aman\\\\Downloads\\\\AReM\\\\bending1\\\\dataset1.csv', 'C:\\\\Users\\\\Aman\\\\Downloads\\\\AReM\\\\bending1\\\\dataset2.csv', 'C:\\\\Users\\\\Aman\\\\Downloads\\\\AReM\\\\bending1\\\\dataset3.csv', 'C:\\\\Users\\\\Aman\\\\Downloads\\\\AReM\\\\bending1\\\\dataset4.csv', 'C:\\\\Users\\\\Aman\\\\Downloads\\\\AReM\\\\bending1\\\\dataset5.csv', 'C:\\\\Users\\\\Aman\\\\Downloads\\\\AReM\\\\bending1\\\\dataset6.csv', 'C:\\\\Users\\\\Aman\\\\Downloads\\\\AReM\\\\bending1\\\\dataset7.csv', 'C:\\\\Users\\\\Aman\\\\Downloads\\\\AReM\\\\bending2\\\\dataset1.csv', 'C:\\\\Users\\\\Aman\\\\Downloads\\\\AReM\\\\bending2\\\\dataset2.csv', 'C:\\\\Users\\\\Aman\\\\Downloads\\\\AReM\\\\bending2\\\\dataset3.csv', 'C:\\\\Users\\\\Aman\\\\Downloads\\\\AReM\\\\bending2\\\\dataset4.csv', 'C:\\\\Users\\\\Aman\\\\Downloads\\\\AReM\\\\bending2\\\\dataset5.csv', 'C:\\\\Users\\\\Aman\\\\Downloads\\\\AReM\\\\bending2\\\\dataset6.csv', 'C:\\\\Users\\\\Aman\\\\Downloads\\\\AReM\\\\cycling\\\\dataset1.csv', 'C:\\\\Users\\\\Aman\\\\Downloads\\\\AReM\\\\cycling\\\\dataset10.csv', 'C:\\\\Users\\\\Aman\\\\Downloads\\\\AReM\\\\cycling\\\\dataset11.csv', 'C:\\\\Users\\\\Aman\\\\Downloads\\\\AReM\\\\cycling\\\\dataset12.csv', 'C:\\\\Users\\\\Aman\\\\Downloads\\\\AReM\\\\cycling\\\\dataset13.csv', 'C:\\\\Users\\\\Aman\\\\Downloads\\\\AReM\\\\cycling\\\\dataset14.csv', 'C:\\\\Users\\\\Aman\\\\Downloads\\\\AReM\\\\cycling\\\\dataset15.csv', 'C:\\\\Users\\\\Aman\\\\Downloads\\\\AReM\\\\cycling\\\\dataset2.csv', 'C:\\\\Users\\\\Aman\\\\Downloads\\\\AReM\\\\cycling\\\\dataset3.csv', 'C:\\\\Users\\\\Aman\\\\Downloads\\\\AReM\\\\cycling\\\\dataset4.csv', 'C:\\\\Users\\\\Aman\\\\Downloads\\\\AReM\\\\cycling\\\\dataset5.csv', 'C:\\\\Users\\\\Aman\\\\Downloads\\\\AReM\\\\cycling\\\\dataset6.csv', 'C:\\\\Users\\\\Aman\\\\Downloads\\\\AReM\\\\cycling\\\\dataset7.csv']\n",
      "['C:\\\\Users\\\\Aman\\\\Downloads\\\\AReM\\\\bending1\\\\dataset1.csv', 'C:\\\\Users\\\\Aman\\\\Downloads\\\\AReM\\\\bending1\\\\dataset2.csv', 'C:\\\\Users\\\\Aman\\\\Downloads\\\\AReM\\\\bending1\\\\dataset3.csv', 'C:\\\\Users\\\\Aman\\\\Downloads\\\\AReM\\\\bending1\\\\dataset4.csv', 'C:\\\\Users\\\\Aman\\\\Downloads\\\\AReM\\\\bending1\\\\dataset5.csv', 'C:\\\\Users\\\\Aman\\\\Downloads\\\\AReM\\\\bending1\\\\dataset6.csv', 'C:\\\\Users\\\\Aman\\\\Downloads\\\\AReM\\\\bending1\\\\dataset7.csv', 'C:\\\\Users\\\\Aman\\\\Downloads\\\\AReM\\\\bending2\\\\dataset1.csv', 'C:\\\\Users\\\\Aman\\\\Downloads\\\\AReM\\\\bending2\\\\dataset2.csv', 'C:\\\\Users\\\\Aman\\\\Downloads\\\\AReM\\\\bending2\\\\dataset3.csv', 'C:\\\\Users\\\\Aman\\\\Downloads\\\\AReM\\\\bending2\\\\dataset4.csv', 'C:\\\\Users\\\\Aman\\\\Downloads\\\\AReM\\\\bending2\\\\dataset5.csv', 'C:\\\\Users\\\\Aman\\\\Downloads\\\\AReM\\\\bending2\\\\dataset6.csv', 'C:\\\\Users\\\\Aman\\\\Downloads\\\\AReM\\\\cycling\\\\dataset1.csv', 'C:\\\\Users\\\\Aman\\\\Downloads\\\\AReM\\\\cycling\\\\dataset10.csv', 'C:\\\\Users\\\\Aman\\\\Downloads\\\\AReM\\\\cycling\\\\dataset11.csv', 'C:\\\\Users\\\\Aman\\\\Downloads\\\\AReM\\\\cycling\\\\dataset12.csv', 'C:\\\\Users\\\\Aman\\\\Downloads\\\\AReM\\\\cycling\\\\dataset13.csv', 'C:\\\\Users\\\\Aman\\\\Downloads\\\\AReM\\\\cycling\\\\dataset14.csv', 'C:\\\\Users\\\\Aman\\\\Downloads\\\\AReM\\\\cycling\\\\dataset15.csv', 'C:\\\\Users\\\\Aman\\\\Downloads\\\\AReM\\\\cycling\\\\dataset2.csv', 'C:\\\\Users\\\\Aman\\\\Downloads\\\\AReM\\\\cycling\\\\dataset3.csv', 'C:\\\\Users\\\\Aman\\\\Downloads\\\\AReM\\\\cycling\\\\dataset4.csv', 'C:\\\\Users\\\\Aman\\\\Downloads\\\\AReM\\\\cycling\\\\dataset5.csv', 'C:\\\\Users\\\\Aman\\\\Downloads\\\\AReM\\\\cycling\\\\dataset6.csv', 'C:\\\\Users\\\\Aman\\\\Downloads\\\\AReM\\\\cycling\\\\dataset7.csv', 'C:\\\\Users\\\\Aman\\\\Downloads\\\\AReM\\\\cycling\\\\dataset8.csv']\n",
      "['C:\\\\Users\\\\Aman\\\\Downloads\\\\AReM\\\\bending1\\\\dataset1.csv', 'C:\\\\Users\\\\Aman\\\\Downloads\\\\AReM\\\\bending1\\\\dataset2.csv', 'C:\\\\Users\\\\Aman\\\\Downloads\\\\AReM\\\\bending1\\\\dataset3.csv', 'C:\\\\Users\\\\Aman\\\\Downloads\\\\AReM\\\\bending1\\\\dataset4.csv', 'C:\\\\Users\\\\Aman\\\\Downloads\\\\AReM\\\\bending1\\\\dataset5.csv', 'C:\\\\Users\\\\Aman\\\\Downloads\\\\AReM\\\\bending1\\\\dataset6.csv', 'C:\\\\Users\\\\Aman\\\\Downloads\\\\AReM\\\\bending1\\\\dataset7.csv', 'C:\\\\Users\\\\Aman\\\\Downloads\\\\AReM\\\\bending2\\\\dataset1.csv', 'C:\\\\Users\\\\Aman\\\\Downloads\\\\AReM\\\\bending2\\\\dataset2.csv', 'C:\\\\Users\\\\Aman\\\\Downloads\\\\AReM\\\\bending2\\\\dataset3.csv', 'C:\\\\Users\\\\Aman\\\\Downloads\\\\AReM\\\\bending2\\\\dataset4.csv', 'C:\\\\Users\\\\Aman\\\\Downloads\\\\AReM\\\\bending2\\\\dataset5.csv', 'C:\\\\Users\\\\Aman\\\\Downloads\\\\AReM\\\\bending2\\\\dataset6.csv', 'C:\\\\Users\\\\Aman\\\\Downloads\\\\AReM\\\\cycling\\\\dataset1.csv', 'C:\\\\Users\\\\Aman\\\\Downloads\\\\AReM\\\\cycling\\\\dataset10.csv', 'C:\\\\Users\\\\Aman\\\\Downloads\\\\AReM\\\\cycling\\\\dataset11.csv', 'C:\\\\Users\\\\Aman\\\\Downloads\\\\AReM\\\\cycling\\\\dataset12.csv', 'C:\\\\Users\\\\Aman\\\\Downloads\\\\AReM\\\\cycling\\\\dataset13.csv', 'C:\\\\Users\\\\Aman\\\\Downloads\\\\AReM\\\\cycling\\\\dataset14.csv', 'C:\\\\Users\\\\Aman\\\\Downloads\\\\AReM\\\\cycling\\\\dataset15.csv', 'C:\\\\Users\\\\Aman\\\\Downloads\\\\AReM\\\\cycling\\\\dataset2.csv', 'C:\\\\Users\\\\Aman\\\\Downloads\\\\AReM\\\\cycling\\\\dataset3.csv', 'C:\\\\Users\\\\Aman\\\\Downloads\\\\AReM\\\\cycling\\\\dataset4.csv', 'C:\\\\Users\\\\Aman\\\\Downloads\\\\AReM\\\\cycling\\\\dataset5.csv', 'C:\\\\Users\\\\Aman\\\\Downloads\\\\AReM\\\\cycling\\\\dataset6.csv', 'C:\\\\Users\\\\Aman\\\\Downloads\\\\AReM\\\\cycling\\\\dataset7.csv', 'C:\\\\Users\\\\Aman\\\\Downloads\\\\AReM\\\\cycling\\\\dataset8.csv', 'C:\\\\Users\\\\Aman\\\\Downloads\\\\AReM\\\\cycling\\\\dataset9.csv']\n",
      "['C:\\\\Users\\\\Aman\\\\Downloads\\\\AReM\\\\bending1\\\\dataset1.csv', 'C:\\\\Users\\\\Aman\\\\Downloads\\\\AReM\\\\bending1\\\\dataset2.csv', 'C:\\\\Users\\\\Aman\\\\Downloads\\\\AReM\\\\bending1\\\\dataset3.csv', 'C:\\\\Users\\\\Aman\\\\Downloads\\\\AReM\\\\bending1\\\\dataset4.csv', 'C:\\\\Users\\\\Aman\\\\Downloads\\\\AReM\\\\bending1\\\\dataset5.csv', 'C:\\\\Users\\\\Aman\\\\Downloads\\\\AReM\\\\bending1\\\\dataset6.csv', 'C:\\\\Users\\\\Aman\\\\Downloads\\\\AReM\\\\bending1\\\\dataset7.csv', 'C:\\\\Users\\\\Aman\\\\Downloads\\\\AReM\\\\bending2\\\\dataset1.csv', 'C:\\\\Users\\\\Aman\\\\Downloads\\\\AReM\\\\bending2\\\\dataset2.csv', 'C:\\\\Users\\\\Aman\\\\Downloads\\\\AReM\\\\bending2\\\\dataset3.csv', 'C:\\\\Users\\\\Aman\\\\Downloads\\\\AReM\\\\bending2\\\\dataset4.csv', 'C:\\\\Users\\\\Aman\\\\Downloads\\\\AReM\\\\bending2\\\\dataset5.csv', 'C:\\\\Users\\\\Aman\\\\Downloads\\\\AReM\\\\bending2\\\\dataset6.csv', 'C:\\\\Users\\\\Aman\\\\Downloads\\\\AReM\\\\cycling\\\\dataset1.csv', 'C:\\\\Users\\\\Aman\\\\Downloads\\\\AReM\\\\cycling\\\\dataset10.csv', 'C:\\\\Users\\\\Aman\\\\Downloads\\\\AReM\\\\cycling\\\\dataset11.csv', 'C:\\\\Users\\\\Aman\\\\Downloads\\\\AReM\\\\cycling\\\\dataset12.csv', 'C:\\\\Users\\\\Aman\\\\Downloads\\\\AReM\\\\cycling\\\\dataset13.csv', 'C:\\\\Users\\\\Aman\\\\Downloads\\\\AReM\\\\cycling\\\\dataset14.csv', 'C:\\\\Users\\\\Aman\\\\Downloads\\\\AReM\\\\cycling\\\\dataset15.csv', 'C:\\\\Users\\\\Aman\\\\Downloads\\\\AReM\\\\cycling\\\\dataset2.csv', 'C:\\\\Users\\\\Aman\\\\Downloads\\\\AReM\\\\cycling\\\\dataset3.csv', 'C:\\\\Users\\\\Aman\\\\Downloads\\\\AReM\\\\cycling\\\\dataset4.csv', 'C:\\\\Users\\\\Aman\\\\Downloads\\\\AReM\\\\cycling\\\\dataset5.csv', 'C:\\\\Users\\\\Aman\\\\Downloads\\\\AReM\\\\cycling\\\\dataset6.csv', 'C:\\\\Users\\\\Aman\\\\Downloads\\\\AReM\\\\cycling\\\\dataset7.csv', 'C:\\\\Users\\\\Aman\\\\Downloads\\\\AReM\\\\cycling\\\\dataset8.csv', 'C:\\\\Users\\\\Aman\\\\Downloads\\\\AReM\\\\cycling\\\\dataset9.csv', 'C:\\\\Users\\\\Aman\\\\Downloads\\\\AReM\\\\lying\\\\dataset1.csv']\n",
      "['C:\\\\Users\\\\Aman\\\\Downloads\\\\AReM\\\\bending1\\\\dataset1.csv', 'C:\\\\Users\\\\Aman\\\\Downloads\\\\AReM\\\\bending1\\\\dataset2.csv', 'C:\\\\Users\\\\Aman\\\\Downloads\\\\AReM\\\\bending1\\\\dataset3.csv', 'C:\\\\Users\\\\Aman\\\\Downloads\\\\AReM\\\\bending1\\\\dataset4.csv', 'C:\\\\Users\\\\Aman\\\\Downloads\\\\AReM\\\\bending1\\\\dataset5.csv', 'C:\\\\Users\\\\Aman\\\\Downloads\\\\AReM\\\\bending1\\\\dataset6.csv', 'C:\\\\Users\\\\Aman\\\\Downloads\\\\AReM\\\\bending1\\\\dataset7.csv', 'C:\\\\Users\\\\Aman\\\\Downloads\\\\AReM\\\\bending2\\\\dataset1.csv', 'C:\\\\Users\\\\Aman\\\\Downloads\\\\AReM\\\\bending2\\\\dataset2.csv', 'C:\\\\Users\\\\Aman\\\\Downloads\\\\AReM\\\\bending2\\\\dataset3.csv', 'C:\\\\Users\\\\Aman\\\\Downloads\\\\AReM\\\\bending2\\\\dataset4.csv', 'C:\\\\Users\\\\Aman\\\\Downloads\\\\AReM\\\\bending2\\\\dataset5.csv', 'C:\\\\Users\\\\Aman\\\\Downloads\\\\AReM\\\\bending2\\\\dataset6.csv', 'C:\\\\Users\\\\Aman\\\\Downloads\\\\AReM\\\\cycling\\\\dataset1.csv', 'C:\\\\Users\\\\Aman\\\\Downloads\\\\AReM\\\\cycling\\\\dataset10.csv', 'C:\\\\Users\\\\Aman\\\\Downloads\\\\AReM\\\\cycling\\\\dataset11.csv', 'C:\\\\Users\\\\Aman\\\\Downloads\\\\AReM\\\\cycling\\\\dataset12.csv', 'C:\\\\Users\\\\Aman\\\\Downloads\\\\AReM\\\\cycling\\\\dataset13.csv', 'C:\\\\Users\\\\Aman\\\\Downloads\\\\AReM\\\\cycling\\\\dataset14.csv', 'C:\\\\Users\\\\Aman\\\\Downloads\\\\AReM\\\\cycling\\\\dataset15.csv', 'C:\\\\Users\\\\Aman\\\\Downloads\\\\AReM\\\\cycling\\\\dataset2.csv', 'C:\\\\Users\\\\Aman\\\\Downloads\\\\AReM\\\\cycling\\\\dataset3.csv', 'C:\\\\Users\\\\Aman\\\\Downloads\\\\AReM\\\\cycling\\\\dataset4.csv', 'C:\\\\Users\\\\Aman\\\\Downloads\\\\AReM\\\\cycling\\\\dataset5.csv', 'C:\\\\Users\\\\Aman\\\\Downloads\\\\AReM\\\\cycling\\\\dataset6.csv', 'C:\\\\Users\\\\Aman\\\\Downloads\\\\AReM\\\\cycling\\\\dataset7.csv', 'C:\\\\Users\\\\Aman\\\\Downloads\\\\AReM\\\\cycling\\\\dataset8.csv', 'C:\\\\Users\\\\Aman\\\\Downloads\\\\AReM\\\\cycling\\\\dataset9.csv', 'C:\\\\Users\\\\Aman\\\\Downloads\\\\AReM\\\\lying\\\\dataset1.csv', 'C:\\\\Users\\\\Aman\\\\Downloads\\\\AReM\\\\lying\\\\dataset10.csv']\n",
      "['C:\\\\Users\\\\Aman\\\\Downloads\\\\AReM\\\\bending1\\\\dataset1.csv', 'C:\\\\Users\\\\Aman\\\\Downloads\\\\AReM\\\\bending1\\\\dataset2.csv', 'C:\\\\Users\\\\Aman\\\\Downloads\\\\AReM\\\\bending1\\\\dataset3.csv', 'C:\\\\Users\\\\Aman\\\\Downloads\\\\AReM\\\\bending1\\\\dataset4.csv', 'C:\\\\Users\\\\Aman\\\\Downloads\\\\AReM\\\\bending1\\\\dataset5.csv', 'C:\\\\Users\\\\Aman\\\\Downloads\\\\AReM\\\\bending1\\\\dataset6.csv', 'C:\\\\Users\\\\Aman\\\\Downloads\\\\AReM\\\\bending1\\\\dataset7.csv', 'C:\\\\Users\\\\Aman\\\\Downloads\\\\AReM\\\\bending2\\\\dataset1.csv', 'C:\\\\Users\\\\Aman\\\\Downloads\\\\AReM\\\\bending2\\\\dataset2.csv', 'C:\\\\Users\\\\Aman\\\\Downloads\\\\AReM\\\\bending2\\\\dataset3.csv', 'C:\\\\Users\\\\Aman\\\\Downloads\\\\AReM\\\\bending2\\\\dataset4.csv', 'C:\\\\Users\\\\Aman\\\\Downloads\\\\AReM\\\\bending2\\\\dataset5.csv', 'C:\\\\Users\\\\Aman\\\\Downloads\\\\AReM\\\\bending2\\\\dataset6.csv', 'C:\\\\Users\\\\Aman\\\\Downloads\\\\AReM\\\\cycling\\\\dataset1.csv', 'C:\\\\Users\\\\Aman\\\\Downloads\\\\AReM\\\\cycling\\\\dataset10.csv', 'C:\\\\Users\\\\Aman\\\\Downloads\\\\AReM\\\\cycling\\\\dataset11.csv', 'C:\\\\Users\\\\Aman\\\\Downloads\\\\AReM\\\\cycling\\\\dataset12.csv', 'C:\\\\Users\\\\Aman\\\\Downloads\\\\AReM\\\\cycling\\\\dataset13.csv', 'C:\\\\Users\\\\Aman\\\\Downloads\\\\AReM\\\\cycling\\\\dataset14.csv', 'C:\\\\Users\\\\Aman\\\\Downloads\\\\AReM\\\\cycling\\\\dataset15.csv', 'C:\\\\Users\\\\Aman\\\\Downloads\\\\AReM\\\\cycling\\\\dataset2.csv', 'C:\\\\Users\\\\Aman\\\\Downloads\\\\AReM\\\\cycling\\\\dataset3.csv', 'C:\\\\Users\\\\Aman\\\\Downloads\\\\AReM\\\\cycling\\\\dataset4.csv', 'C:\\\\Users\\\\Aman\\\\Downloads\\\\AReM\\\\cycling\\\\dataset5.csv', 'C:\\\\Users\\\\Aman\\\\Downloads\\\\AReM\\\\cycling\\\\dataset6.csv', 'C:\\\\Users\\\\Aman\\\\Downloads\\\\AReM\\\\cycling\\\\dataset7.csv', 'C:\\\\Users\\\\Aman\\\\Downloads\\\\AReM\\\\cycling\\\\dataset8.csv', 'C:\\\\Users\\\\Aman\\\\Downloads\\\\AReM\\\\cycling\\\\dataset9.csv', 'C:\\\\Users\\\\Aman\\\\Downloads\\\\AReM\\\\lying\\\\dataset1.csv', 'C:\\\\Users\\\\Aman\\\\Downloads\\\\AReM\\\\lying\\\\dataset10.csv', 'C:\\\\Users\\\\Aman\\\\Downloads\\\\AReM\\\\lying\\\\dataset11.csv']\n",
      "['C:\\\\Users\\\\Aman\\\\Downloads\\\\AReM\\\\bending1\\\\dataset1.csv', 'C:\\\\Users\\\\Aman\\\\Downloads\\\\AReM\\\\bending1\\\\dataset2.csv', 'C:\\\\Users\\\\Aman\\\\Downloads\\\\AReM\\\\bending1\\\\dataset3.csv', 'C:\\\\Users\\\\Aman\\\\Downloads\\\\AReM\\\\bending1\\\\dataset4.csv', 'C:\\\\Users\\\\Aman\\\\Downloads\\\\AReM\\\\bending1\\\\dataset5.csv', 'C:\\\\Users\\\\Aman\\\\Downloads\\\\AReM\\\\bending1\\\\dataset6.csv', 'C:\\\\Users\\\\Aman\\\\Downloads\\\\AReM\\\\bending1\\\\dataset7.csv', 'C:\\\\Users\\\\Aman\\\\Downloads\\\\AReM\\\\bending2\\\\dataset1.csv', 'C:\\\\Users\\\\Aman\\\\Downloads\\\\AReM\\\\bending2\\\\dataset2.csv', 'C:\\\\Users\\\\Aman\\\\Downloads\\\\AReM\\\\bending2\\\\dataset3.csv', 'C:\\\\Users\\\\Aman\\\\Downloads\\\\AReM\\\\bending2\\\\dataset4.csv', 'C:\\\\Users\\\\Aman\\\\Downloads\\\\AReM\\\\bending2\\\\dataset5.csv', 'C:\\\\Users\\\\Aman\\\\Downloads\\\\AReM\\\\bending2\\\\dataset6.csv', 'C:\\\\Users\\\\Aman\\\\Downloads\\\\AReM\\\\cycling\\\\dataset1.csv', 'C:\\\\Users\\\\Aman\\\\Downloads\\\\AReM\\\\cycling\\\\dataset10.csv', 'C:\\\\Users\\\\Aman\\\\Downloads\\\\AReM\\\\cycling\\\\dataset11.csv', 'C:\\\\Users\\\\Aman\\\\Downloads\\\\AReM\\\\cycling\\\\dataset12.csv', 'C:\\\\Users\\\\Aman\\\\Downloads\\\\AReM\\\\cycling\\\\dataset13.csv', 'C:\\\\Users\\\\Aman\\\\Downloads\\\\AReM\\\\cycling\\\\dataset14.csv', 'C:\\\\Users\\\\Aman\\\\Downloads\\\\AReM\\\\cycling\\\\dataset15.csv', 'C:\\\\Users\\\\Aman\\\\Downloads\\\\AReM\\\\cycling\\\\dataset2.csv', 'C:\\\\Users\\\\Aman\\\\Downloads\\\\AReM\\\\cycling\\\\dataset3.csv', 'C:\\\\Users\\\\Aman\\\\Downloads\\\\AReM\\\\cycling\\\\dataset4.csv', 'C:\\\\Users\\\\Aman\\\\Downloads\\\\AReM\\\\cycling\\\\dataset5.csv', 'C:\\\\Users\\\\Aman\\\\Downloads\\\\AReM\\\\cycling\\\\dataset6.csv', 'C:\\\\Users\\\\Aman\\\\Downloads\\\\AReM\\\\cycling\\\\dataset7.csv', 'C:\\\\Users\\\\Aman\\\\Downloads\\\\AReM\\\\cycling\\\\dataset8.csv', 'C:\\\\Users\\\\Aman\\\\Downloads\\\\AReM\\\\cycling\\\\dataset9.csv', 'C:\\\\Users\\\\Aman\\\\Downloads\\\\AReM\\\\lying\\\\dataset1.csv', 'C:\\\\Users\\\\Aman\\\\Downloads\\\\AReM\\\\lying\\\\dataset10.csv', 'C:\\\\Users\\\\Aman\\\\Downloads\\\\AReM\\\\lying\\\\dataset11.csv', 'C:\\\\Users\\\\Aman\\\\Downloads\\\\AReM\\\\lying\\\\dataset12.csv']\n",
      "['C:\\\\Users\\\\Aman\\\\Downloads\\\\AReM\\\\bending1\\\\dataset1.csv', 'C:\\\\Users\\\\Aman\\\\Downloads\\\\AReM\\\\bending1\\\\dataset2.csv', 'C:\\\\Users\\\\Aman\\\\Downloads\\\\AReM\\\\bending1\\\\dataset3.csv', 'C:\\\\Users\\\\Aman\\\\Downloads\\\\AReM\\\\bending1\\\\dataset4.csv', 'C:\\\\Users\\\\Aman\\\\Downloads\\\\AReM\\\\bending1\\\\dataset5.csv', 'C:\\\\Users\\\\Aman\\\\Downloads\\\\AReM\\\\bending1\\\\dataset6.csv', 'C:\\\\Users\\\\Aman\\\\Downloads\\\\AReM\\\\bending1\\\\dataset7.csv', 'C:\\\\Users\\\\Aman\\\\Downloads\\\\AReM\\\\bending2\\\\dataset1.csv', 'C:\\\\Users\\\\Aman\\\\Downloads\\\\AReM\\\\bending2\\\\dataset2.csv', 'C:\\\\Users\\\\Aman\\\\Downloads\\\\AReM\\\\bending2\\\\dataset3.csv', 'C:\\\\Users\\\\Aman\\\\Downloads\\\\AReM\\\\bending2\\\\dataset4.csv', 'C:\\\\Users\\\\Aman\\\\Downloads\\\\AReM\\\\bending2\\\\dataset5.csv', 'C:\\\\Users\\\\Aman\\\\Downloads\\\\AReM\\\\bending2\\\\dataset6.csv', 'C:\\\\Users\\\\Aman\\\\Downloads\\\\AReM\\\\cycling\\\\dataset1.csv', 'C:\\\\Users\\\\Aman\\\\Downloads\\\\AReM\\\\cycling\\\\dataset10.csv', 'C:\\\\Users\\\\Aman\\\\Downloads\\\\AReM\\\\cycling\\\\dataset11.csv', 'C:\\\\Users\\\\Aman\\\\Downloads\\\\AReM\\\\cycling\\\\dataset12.csv', 'C:\\\\Users\\\\Aman\\\\Downloads\\\\AReM\\\\cycling\\\\dataset13.csv', 'C:\\\\Users\\\\Aman\\\\Downloads\\\\AReM\\\\cycling\\\\dataset14.csv', 'C:\\\\Users\\\\Aman\\\\Downloads\\\\AReM\\\\cycling\\\\dataset15.csv', 'C:\\\\Users\\\\Aman\\\\Downloads\\\\AReM\\\\cycling\\\\dataset2.csv', 'C:\\\\Users\\\\Aman\\\\Downloads\\\\AReM\\\\cycling\\\\dataset3.csv', 'C:\\\\Users\\\\Aman\\\\Downloads\\\\AReM\\\\cycling\\\\dataset4.csv', 'C:\\\\Users\\\\Aman\\\\Downloads\\\\AReM\\\\cycling\\\\dataset5.csv', 'C:\\\\Users\\\\Aman\\\\Downloads\\\\AReM\\\\cycling\\\\dataset6.csv', 'C:\\\\Users\\\\Aman\\\\Downloads\\\\AReM\\\\cycling\\\\dataset7.csv', 'C:\\\\Users\\\\Aman\\\\Downloads\\\\AReM\\\\cycling\\\\dataset8.csv', 'C:\\\\Users\\\\Aman\\\\Downloads\\\\AReM\\\\cycling\\\\dataset9.csv', 'C:\\\\Users\\\\Aman\\\\Downloads\\\\AReM\\\\lying\\\\dataset1.csv', 'C:\\\\Users\\\\Aman\\\\Downloads\\\\AReM\\\\lying\\\\dataset10.csv', 'C:\\\\Users\\\\Aman\\\\Downloads\\\\AReM\\\\lying\\\\dataset11.csv', 'C:\\\\Users\\\\Aman\\\\Downloads\\\\AReM\\\\lying\\\\dataset12.csv', 'C:\\\\Users\\\\Aman\\\\Downloads\\\\AReM\\\\lying\\\\dataset13.csv']\n",
      "['C:\\\\Users\\\\Aman\\\\Downloads\\\\AReM\\\\bending1\\\\dataset1.csv', 'C:\\\\Users\\\\Aman\\\\Downloads\\\\AReM\\\\bending1\\\\dataset2.csv', 'C:\\\\Users\\\\Aman\\\\Downloads\\\\AReM\\\\bending1\\\\dataset3.csv', 'C:\\\\Users\\\\Aman\\\\Downloads\\\\AReM\\\\bending1\\\\dataset4.csv', 'C:\\\\Users\\\\Aman\\\\Downloads\\\\AReM\\\\bending1\\\\dataset5.csv', 'C:\\\\Users\\\\Aman\\\\Downloads\\\\AReM\\\\bending1\\\\dataset6.csv', 'C:\\\\Users\\\\Aman\\\\Downloads\\\\AReM\\\\bending1\\\\dataset7.csv', 'C:\\\\Users\\\\Aman\\\\Downloads\\\\AReM\\\\bending2\\\\dataset1.csv', 'C:\\\\Users\\\\Aman\\\\Downloads\\\\AReM\\\\bending2\\\\dataset2.csv', 'C:\\\\Users\\\\Aman\\\\Downloads\\\\AReM\\\\bending2\\\\dataset3.csv', 'C:\\\\Users\\\\Aman\\\\Downloads\\\\AReM\\\\bending2\\\\dataset4.csv', 'C:\\\\Users\\\\Aman\\\\Downloads\\\\AReM\\\\bending2\\\\dataset5.csv', 'C:\\\\Users\\\\Aman\\\\Downloads\\\\AReM\\\\bending2\\\\dataset6.csv', 'C:\\\\Users\\\\Aman\\\\Downloads\\\\AReM\\\\cycling\\\\dataset1.csv', 'C:\\\\Users\\\\Aman\\\\Downloads\\\\AReM\\\\cycling\\\\dataset10.csv', 'C:\\\\Users\\\\Aman\\\\Downloads\\\\AReM\\\\cycling\\\\dataset11.csv', 'C:\\\\Users\\\\Aman\\\\Downloads\\\\AReM\\\\cycling\\\\dataset12.csv', 'C:\\\\Users\\\\Aman\\\\Downloads\\\\AReM\\\\cycling\\\\dataset13.csv', 'C:\\\\Users\\\\Aman\\\\Downloads\\\\AReM\\\\cycling\\\\dataset14.csv', 'C:\\\\Users\\\\Aman\\\\Downloads\\\\AReM\\\\cycling\\\\dataset15.csv', 'C:\\\\Users\\\\Aman\\\\Downloads\\\\AReM\\\\cycling\\\\dataset2.csv', 'C:\\\\Users\\\\Aman\\\\Downloads\\\\AReM\\\\cycling\\\\dataset3.csv', 'C:\\\\Users\\\\Aman\\\\Downloads\\\\AReM\\\\cycling\\\\dataset4.csv', 'C:\\\\Users\\\\Aman\\\\Downloads\\\\AReM\\\\cycling\\\\dataset5.csv', 'C:\\\\Users\\\\Aman\\\\Downloads\\\\AReM\\\\cycling\\\\dataset6.csv', 'C:\\\\Users\\\\Aman\\\\Downloads\\\\AReM\\\\cycling\\\\dataset7.csv', 'C:\\\\Users\\\\Aman\\\\Downloads\\\\AReM\\\\cycling\\\\dataset8.csv', 'C:\\\\Users\\\\Aman\\\\Downloads\\\\AReM\\\\cycling\\\\dataset9.csv', 'C:\\\\Users\\\\Aman\\\\Downloads\\\\AReM\\\\lying\\\\dataset1.csv', 'C:\\\\Users\\\\Aman\\\\Downloads\\\\AReM\\\\lying\\\\dataset10.csv', 'C:\\\\Users\\\\Aman\\\\Downloads\\\\AReM\\\\lying\\\\dataset11.csv', 'C:\\\\Users\\\\Aman\\\\Downloads\\\\AReM\\\\lying\\\\dataset12.csv', 'C:\\\\Users\\\\Aman\\\\Downloads\\\\AReM\\\\lying\\\\dataset13.csv', 'C:\\\\Users\\\\Aman\\\\Downloads\\\\AReM\\\\lying\\\\dataset14.csv']\n",
      "['C:\\\\Users\\\\Aman\\\\Downloads\\\\AReM\\\\bending1\\\\dataset1.csv', 'C:\\\\Users\\\\Aman\\\\Downloads\\\\AReM\\\\bending1\\\\dataset2.csv', 'C:\\\\Users\\\\Aman\\\\Downloads\\\\AReM\\\\bending1\\\\dataset3.csv', 'C:\\\\Users\\\\Aman\\\\Downloads\\\\AReM\\\\bending1\\\\dataset4.csv', 'C:\\\\Users\\\\Aman\\\\Downloads\\\\AReM\\\\bending1\\\\dataset5.csv', 'C:\\\\Users\\\\Aman\\\\Downloads\\\\AReM\\\\bending1\\\\dataset6.csv', 'C:\\\\Users\\\\Aman\\\\Downloads\\\\AReM\\\\bending1\\\\dataset7.csv', 'C:\\\\Users\\\\Aman\\\\Downloads\\\\AReM\\\\bending2\\\\dataset1.csv', 'C:\\\\Users\\\\Aman\\\\Downloads\\\\AReM\\\\bending2\\\\dataset2.csv', 'C:\\\\Users\\\\Aman\\\\Downloads\\\\AReM\\\\bending2\\\\dataset3.csv', 'C:\\\\Users\\\\Aman\\\\Downloads\\\\AReM\\\\bending2\\\\dataset4.csv', 'C:\\\\Users\\\\Aman\\\\Downloads\\\\AReM\\\\bending2\\\\dataset5.csv', 'C:\\\\Users\\\\Aman\\\\Downloads\\\\AReM\\\\bending2\\\\dataset6.csv', 'C:\\\\Users\\\\Aman\\\\Downloads\\\\AReM\\\\cycling\\\\dataset1.csv', 'C:\\\\Users\\\\Aman\\\\Downloads\\\\AReM\\\\cycling\\\\dataset10.csv', 'C:\\\\Users\\\\Aman\\\\Downloads\\\\AReM\\\\cycling\\\\dataset11.csv', 'C:\\\\Users\\\\Aman\\\\Downloads\\\\AReM\\\\cycling\\\\dataset12.csv', 'C:\\\\Users\\\\Aman\\\\Downloads\\\\AReM\\\\cycling\\\\dataset13.csv', 'C:\\\\Users\\\\Aman\\\\Downloads\\\\AReM\\\\cycling\\\\dataset14.csv', 'C:\\\\Users\\\\Aman\\\\Downloads\\\\AReM\\\\cycling\\\\dataset15.csv', 'C:\\\\Users\\\\Aman\\\\Downloads\\\\AReM\\\\cycling\\\\dataset2.csv', 'C:\\\\Users\\\\Aman\\\\Downloads\\\\AReM\\\\cycling\\\\dataset3.csv', 'C:\\\\Users\\\\Aman\\\\Downloads\\\\AReM\\\\cycling\\\\dataset4.csv', 'C:\\\\Users\\\\Aman\\\\Downloads\\\\AReM\\\\cycling\\\\dataset5.csv', 'C:\\\\Users\\\\Aman\\\\Downloads\\\\AReM\\\\cycling\\\\dataset6.csv', 'C:\\\\Users\\\\Aman\\\\Downloads\\\\AReM\\\\cycling\\\\dataset7.csv', 'C:\\\\Users\\\\Aman\\\\Downloads\\\\AReM\\\\cycling\\\\dataset8.csv', 'C:\\\\Users\\\\Aman\\\\Downloads\\\\AReM\\\\cycling\\\\dataset9.csv', 'C:\\\\Users\\\\Aman\\\\Downloads\\\\AReM\\\\lying\\\\dataset1.csv', 'C:\\\\Users\\\\Aman\\\\Downloads\\\\AReM\\\\lying\\\\dataset10.csv', 'C:\\\\Users\\\\Aman\\\\Downloads\\\\AReM\\\\lying\\\\dataset11.csv', 'C:\\\\Users\\\\Aman\\\\Downloads\\\\AReM\\\\lying\\\\dataset12.csv', 'C:\\\\Users\\\\Aman\\\\Downloads\\\\AReM\\\\lying\\\\dataset13.csv', 'C:\\\\Users\\\\Aman\\\\Downloads\\\\AReM\\\\lying\\\\dataset14.csv', 'C:\\\\Users\\\\Aman\\\\Downloads\\\\AReM\\\\lying\\\\dataset15.csv']\n",
      "['C:\\\\Users\\\\Aman\\\\Downloads\\\\AReM\\\\bending1\\\\dataset1.csv', 'C:\\\\Users\\\\Aman\\\\Downloads\\\\AReM\\\\bending1\\\\dataset2.csv', 'C:\\\\Users\\\\Aman\\\\Downloads\\\\AReM\\\\bending1\\\\dataset3.csv', 'C:\\\\Users\\\\Aman\\\\Downloads\\\\AReM\\\\bending1\\\\dataset4.csv', 'C:\\\\Users\\\\Aman\\\\Downloads\\\\AReM\\\\bending1\\\\dataset5.csv', 'C:\\\\Users\\\\Aman\\\\Downloads\\\\AReM\\\\bending1\\\\dataset6.csv', 'C:\\\\Users\\\\Aman\\\\Downloads\\\\AReM\\\\bending1\\\\dataset7.csv', 'C:\\\\Users\\\\Aman\\\\Downloads\\\\AReM\\\\bending2\\\\dataset1.csv', 'C:\\\\Users\\\\Aman\\\\Downloads\\\\AReM\\\\bending2\\\\dataset2.csv', 'C:\\\\Users\\\\Aman\\\\Downloads\\\\AReM\\\\bending2\\\\dataset3.csv', 'C:\\\\Users\\\\Aman\\\\Downloads\\\\AReM\\\\bending2\\\\dataset4.csv', 'C:\\\\Users\\\\Aman\\\\Downloads\\\\AReM\\\\bending2\\\\dataset5.csv', 'C:\\\\Users\\\\Aman\\\\Downloads\\\\AReM\\\\bending2\\\\dataset6.csv', 'C:\\\\Users\\\\Aman\\\\Downloads\\\\AReM\\\\cycling\\\\dataset1.csv', 'C:\\\\Users\\\\Aman\\\\Downloads\\\\AReM\\\\cycling\\\\dataset10.csv', 'C:\\\\Users\\\\Aman\\\\Downloads\\\\AReM\\\\cycling\\\\dataset11.csv', 'C:\\\\Users\\\\Aman\\\\Downloads\\\\AReM\\\\cycling\\\\dataset12.csv', 'C:\\\\Users\\\\Aman\\\\Downloads\\\\AReM\\\\cycling\\\\dataset13.csv', 'C:\\\\Users\\\\Aman\\\\Downloads\\\\AReM\\\\cycling\\\\dataset14.csv', 'C:\\\\Users\\\\Aman\\\\Downloads\\\\AReM\\\\cycling\\\\dataset15.csv', 'C:\\\\Users\\\\Aman\\\\Downloads\\\\AReM\\\\cycling\\\\dataset2.csv', 'C:\\\\Users\\\\Aman\\\\Downloads\\\\AReM\\\\cycling\\\\dataset3.csv', 'C:\\\\Users\\\\Aman\\\\Downloads\\\\AReM\\\\cycling\\\\dataset4.csv', 'C:\\\\Users\\\\Aman\\\\Downloads\\\\AReM\\\\cycling\\\\dataset5.csv', 'C:\\\\Users\\\\Aman\\\\Downloads\\\\AReM\\\\cycling\\\\dataset6.csv', 'C:\\\\Users\\\\Aman\\\\Downloads\\\\AReM\\\\cycling\\\\dataset7.csv', 'C:\\\\Users\\\\Aman\\\\Downloads\\\\AReM\\\\cycling\\\\dataset8.csv', 'C:\\\\Users\\\\Aman\\\\Downloads\\\\AReM\\\\cycling\\\\dataset9.csv', 'C:\\\\Users\\\\Aman\\\\Downloads\\\\AReM\\\\lying\\\\dataset1.csv', 'C:\\\\Users\\\\Aman\\\\Downloads\\\\AReM\\\\lying\\\\dataset10.csv', 'C:\\\\Users\\\\Aman\\\\Downloads\\\\AReM\\\\lying\\\\dataset11.csv', 'C:\\\\Users\\\\Aman\\\\Downloads\\\\AReM\\\\lying\\\\dataset12.csv', 'C:\\\\Users\\\\Aman\\\\Downloads\\\\AReM\\\\lying\\\\dataset13.csv', 'C:\\\\Users\\\\Aman\\\\Downloads\\\\AReM\\\\lying\\\\dataset14.csv', 'C:\\\\Users\\\\Aman\\\\Downloads\\\\AReM\\\\lying\\\\dataset15.csv', 'C:\\\\Users\\\\Aman\\\\Downloads\\\\AReM\\\\lying\\\\dataset2.csv']\n",
      "['C:\\\\Users\\\\Aman\\\\Downloads\\\\AReM\\\\bending1\\\\dataset1.csv', 'C:\\\\Users\\\\Aman\\\\Downloads\\\\AReM\\\\bending1\\\\dataset2.csv', 'C:\\\\Users\\\\Aman\\\\Downloads\\\\AReM\\\\bending1\\\\dataset3.csv', 'C:\\\\Users\\\\Aman\\\\Downloads\\\\AReM\\\\bending1\\\\dataset4.csv', 'C:\\\\Users\\\\Aman\\\\Downloads\\\\AReM\\\\bending1\\\\dataset5.csv', 'C:\\\\Users\\\\Aman\\\\Downloads\\\\AReM\\\\bending1\\\\dataset6.csv', 'C:\\\\Users\\\\Aman\\\\Downloads\\\\AReM\\\\bending1\\\\dataset7.csv', 'C:\\\\Users\\\\Aman\\\\Downloads\\\\AReM\\\\bending2\\\\dataset1.csv', 'C:\\\\Users\\\\Aman\\\\Downloads\\\\AReM\\\\bending2\\\\dataset2.csv', 'C:\\\\Users\\\\Aman\\\\Downloads\\\\AReM\\\\bending2\\\\dataset3.csv', 'C:\\\\Users\\\\Aman\\\\Downloads\\\\AReM\\\\bending2\\\\dataset4.csv', 'C:\\\\Users\\\\Aman\\\\Downloads\\\\AReM\\\\bending2\\\\dataset5.csv', 'C:\\\\Users\\\\Aman\\\\Downloads\\\\AReM\\\\bending2\\\\dataset6.csv', 'C:\\\\Users\\\\Aman\\\\Downloads\\\\AReM\\\\cycling\\\\dataset1.csv', 'C:\\\\Users\\\\Aman\\\\Downloads\\\\AReM\\\\cycling\\\\dataset10.csv', 'C:\\\\Users\\\\Aman\\\\Downloads\\\\AReM\\\\cycling\\\\dataset11.csv', 'C:\\\\Users\\\\Aman\\\\Downloads\\\\AReM\\\\cycling\\\\dataset12.csv', 'C:\\\\Users\\\\Aman\\\\Downloads\\\\AReM\\\\cycling\\\\dataset13.csv', 'C:\\\\Users\\\\Aman\\\\Downloads\\\\AReM\\\\cycling\\\\dataset14.csv', 'C:\\\\Users\\\\Aman\\\\Downloads\\\\AReM\\\\cycling\\\\dataset15.csv', 'C:\\\\Users\\\\Aman\\\\Downloads\\\\AReM\\\\cycling\\\\dataset2.csv', 'C:\\\\Users\\\\Aman\\\\Downloads\\\\AReM\\\\cycling\\\\dataset3.csv', 'C:\\\\Users\\\\Aman\\\\Downloads\\\\AReM\\\\cycling\\\\dataset4.csv', 'C:\\\\Users\\\\Aman\\\\Downloads\\\\AReM\\\\cycling\\\\dataset5.csv', 'C:\\\\Users\\\\Aman\\\\Downloads\\\\AReM\\\\cycling\\\\dataset6.csv', 'C:\\\\Users\\\\Aman\\\\Downloads\\\\AReM\\\\cycling\\\\dataset7.csv', 'C:\\\\Users\\\\Aman\\\\Downloads\\\\AReM\\\\cycling\\\\dataset8.csv', 'C:\\\\Users\\\\Aman\\\\Downloads\\\\AReM\\\\cycling\\\\dataset9.csv', 'C:\\\\Users\\\\Aman\\\\Downloads\\\\AReM\\\\lying\\\\dataset1.csv', 'C:\\\\Users\\\\Aman\\\\Downloads\\\\AReM\\\\lying\\\\dataset10.csv', 'C:\\\\Users\\\\Aman\\\\Downloads\\\\AReM\\\\lying\\\\dataset11.csv', 'C:\\\\Users\\\\Aman\\\\Downloads\\\\AReM\\\\lying\\\\dataset12.csv', 'C:\\\\Users\\\\Aman\\\\Downloads\\\\AReM\\\\lying\\\\dataset13.csv', 'C:\\\\Users\\\\Aman\\\\Downloads\\\\AReM\\\\lying\\\\dataset14.csv', 'C:\\\\Users\\\\Aman\\\\Downloads\\\\AReM\\\\lying\\\\dataset15.csv', 'C:\\\\Users\\\\Aman\\\\Downloads\\\\AReM\\\\lying\\\\dataset2.csv', 'C:\\\\Users\\\\Aman\\\\Downloads\\\\AReM\\\\lying\\\\dataset3.csv']\n",
      "['C:\\\\Users\\\\Aman\\\\Downloads\\\\AReM\\\\bending1\\\\dataset1.csv', 'C:\\\\Users\\\\Aman\\\\Downloads\\\\AReM\\\\bending1\\\\dataset2.csv', 'C:\\\\Users\\\\Aman\\\\Downloads\\\\AReM\\\\bending1\\\\dataset3.csv', 'C:\\\\Users\\\\Aman\\\\Downloads\\\\AReM\\\\bending1\\\\dataset4.csv', 'C:\\\\Users\\\\Aman\\\\Downloads\\\\AReM\\\\bending1\\\\dataset5.csv', 'C:\\\\Users\\\\Aman\\\\Downloads\\\\AReM\\\\bending1\\\\dataset6.csv', 'C:\\\\Users\\\\Aman\\\\Downloads\\\\AReM\\\\bending1\\\\dataset7.csv', 'C:\\\\Users\\\\Aman\\\\Downloads\\\\AReM\\\\bending2\\\\dataset1.csv', 'C:\\\\Users\\\\Aman\\\\Downloads\\\\AReM\\\\bending2\\\\dataset2.csv', 'C:\\\\Users\\\\Aman\\\\Downloads\\\\AReM\\\\bending2\\\\dataset3.csv', 'C:\\\\Users\\\\Aman\\\\Downloads\\\\AReM\\\\bending2\\\\dataset4.csv', 'C:\\\\Users\\\\Aman\\\\Downloads\\\\AReM\\\\bending2\\\\dataset5.csv', 'C:\\\\Users\\\\Aman\\\\Downloads\\\\AReM\\\\bending2\\\\dataset6.csv', 'C:\\\\Users\\\\Aman\\\\Downloads\\\\AReM\\\\cycling\\\\dataset1.csv', 'C:\\\\Users\\\\Aman\\\\Downloads\\\\AReM\\\\cycling\\\\dataset10.csv', 'C:\\\\Users\\\\Aman\\\\Downloads\\\\AReM\\\\cycling\\\\dataset11.csv', 'C:\\\\Users\\\\Aman\\\\Downloads\\\\AReM\\\\cycling\\\\dataset12.csv', 'C:\\\\Users\\\\Aman\\\\Downloads\\\\AReM\\\\cycling\\\\dataset13.csv', 'C:\\\\Users\\\\Aman\\\\Downloads\\\\AReM\\\\cycling\\\\dataset14.csv', 'C:\\\\Users\\\\Aman\\\\Downloads\\\\AReM\\\\cycling\\\\dataset15.csv', 'C:\\\\Users\\\\Aman\\\\Downloads\\\\AReM\\\\cycling\\\\dataset2.csv', 'C:\\\\Users\\\\Aman\\\\Downloads\\\\AReM\\\\cycling\\\\dataset3.csv', 'C:\\\\Users\\\\Aman\\\\Downloads\\\\AReM\\\\cycling\\\\dataset4.csv', 'C:\\\\Users\\\\Aman\\\\Downloads\\\\AReM\\\\cycling\\\\dataset5.csv', 'C:\\\\Users\\\\Aman\\\\Downloads\\\\AReM\\\\cycling\\\\dataset6.csv', 'C:\\\\Users\\\\Aman\\\\Downloads\\\\AReM\\\\cycling\\\\dataset7.csv', 'C:\\\\Users\\\\Aman\\\\Downloads\\\\AReM\\\\cycling\\\\dataset8.csv', 'C:\\\\Users\\\\Aman\\\\Downloads\\\\AReM\\\\cycling\\\\dataset9.csv', 'C:\\\\Users\\\\Aman\\\\Downloads\\\\AReM\\\\lying\\\\dataset1.csv', 'C:\\\\Users\\\\Aman\\\\Downloads\\\\AReM\\\\lying\\\\dataset10.csv', 'C:\\\\Users\\\\Aman\\\\Downloads\\\\AReM\\\\lying\\\\dataset11.csv', 'C:\\\\Users\\\\Aman\\\\Downloads\\\\AReM\\\\lying\\\\dataset12.csv', 'C:\\\\Users\\\\Aman\\\\Downloads\\\\AReM\\\\lying\\\\dataset13.csv', 'C:\\\\Users\\\\Aman\\\\Downloads\\\\AReM\\\\lying\\\\dataset14.csv', 'C:\\\\Users\\\\Aman\\\\Downloads\\\\AReM\\\\lying\\\\dataset15.csv', 'C:\\\\Users\\\\Aman\\\\Downloads\\\\AReM\\\\lying\\\\dataset2.csv', 'C:\\\\Users\\\\Aman\\\\Downloads\\\\AReM\\\\lying\\\\dataset3.csv', 'C:\\\\Users\\\\Aman\\\\Downloads\\\\AReM\\\\lying\\\\dataset4.csv']\n",
      "['C:\\\\Users\\\\Aman\\\\Downloads\\\\AReM\\\\bending1\\\\dataset1.csv', 'C:\\\\Users\\\\Aman\\\\Downloads\\\\AReM\\\\bending1\\\\dataset2.csv', 'C:\\\\Users\\\\Aman\\\\Downloads\\\\AReM\\\\bending1\\\\dataset3.csv', 'C:\\\\Users\\\\Aman\\\\Downloads\\\\AReM\\\\bending1\\\\dataset4.csv', 'C:\\\\Users\\\\Aman\\\\Downloads\\\\AReM\\\\bending1\\\\dataset5.csv', 'C:\\\\Users\\\\Aman\\\\Downloads\\\\AReM\\\\bending1\\\\dataset6.csv', 'C:\\\\Users\\\\Aman\\\\Downloads\\\\AReM\\\\bending1\\\\dataset7.csv', 'C:\\\\Users\\\\Aman\\\\Downloads\\\\AReM\\\\bending2\\\\dataset1.csv', 'C:\\\\Users\\\\Aman\\\\Downloads\\\\AReM\\\\bending2\\\\dataset2.csv', 'C:\\\\Users\\\\Aman\\\\Downloads\\\\AReM\\\\bending2\\\\dataset3.csv', 'C:\\\\Users\\\\Aman\\\\Downloads\\\\AReM\\\\bending2\\\\dataset4.csv', 'C:\\\\Users\\\\Aman\\\\Downloads\\\\AReM\\\\bending2\\\\dataset5.csv', 'C:\\\\Users\\\\Aman\\\\Downloads\\\\AReM\\\\bending2\\\\dataset6.csv', 'C:\\\\Users\\\\Aman\\\\Downloads\\\\AReM\\\\cycling\\\\dataset1.csv', 'C:\\\\Users\\\\Aman\\\\Downloads\\\\AReM\\\\cycling\\\\dataset10.csv', 'C:\\\\Users\\\\Aman\\\\Downloads\\\\AReM\\\\cycling\\\\dataset11.csv', 'C:\\\\Users\\\\Aman\\\\Downloads\\\\AReM\\\\cycling\\\\dataset12.csv', 'C:\\\\Users\\\\Aman\\\\Downloads\\\\AReM\\\\cycling\\\\dataset13.csv', 'C:\\\\Users\\\\Aman\\\\Downloads\\\\AReM\\\\cycling\\\\dataset14.csv', 'C:\\\\Users\\\\Aman\\\\Downloads\\\\AReM\\\\cycling\\\\dataset15.csv', 'C:\\\\Users\\\\Aman\\\\Downloads\\\\AReM\\\\cycling\\\\dataset2.csv', 'C:\\\\Users\\\\Aman\\\\Downloads\\\\AReM\\\\cycling\\\\dataset3.csv', 'C:\\\\Users\\\\Aman\\\\Downloads\\\\AReM\\\\cycling\\\\dataset4.csv', 'C:\\\\Users\\\\Aman\\\\Downloads\\\\AReM\\\\cycling\\\\dataset5.csv', 'C:\\\\Users\\\\Aman\\\\Downloads\\\\AReM\\\\cycling\\\\dataset6.csv', 'C:\\\\Users\\\\Aman\\\\Downloads\\\\AReM\\\\cycling\\\\dataset7.csv', 'C:\\\\Users\\\\Aman\\\\Downloads\\\\AReM\\\\cycling\\\\dataset8.csv', 'C:\\\\Users\\\\Aman\\\\Downloads\\\\AReM\\\\cycling\\\\dataset9.csv', 'C:\\\\Users\\\\Aman\\\\Downloads\\\\AReM\\\\lying\\\\dataset1.csv', 'C:\\\\Users\\\\Aman\\\\Downloads\\\\AReM\\\\lying\\\\dataset10.csv', 'C:\\\\Users\\\\Aman\\\\Downloads\\\\AReM\\\\lying\\\\dataset11.csv', 'C:\\\\Users\\\\Aman\\\\Downloads\\\\AReM\\\\lying\\\\dataset12.csv', 'C:\\\\Users\\\\Aman\\\\Downloads\\\\AReM\\\\lying\\\\dataset13.csv', 'C:\\\\Users\\\\Aman\\\\Downloads\\\\AReM\\\\lying\\\\dataset14.csv', 'C:\\\\Users\\\\Aman\\\\Downloads\\\\AReM\\\\lying\\\\dataset15.csv', 'C:\\\\Users\\\\Aman\\\\Downloads\\\\AReM\\\\lying\\\\dataset2.csv', 'C:\\\\Users\\\\Aman\\\\Downloads\\\\AReM\\\\lying\\\\dataset3.csv', 'C:\\\\Users\\\\Aman\\\\Downloads\\\\AReM\\\\lying\\\\dataset4.csv', 'C:\\\\Users\\\\Aman\\\\Downloads\\\\AReM\\\\lying\\\\dataset5.csv']\n",
      "['C:\\\\Users\\\\Aman\\\\Downloads\\\\AReM\\\\bending1\\\\dataset1.csv', 'C:\\\\Users\\\\Aman\\\\Downloads\\\\AReM\\\\bending1\\\\dataset2.csv', 'C:\\\\Users\\\\Aman\\\\Downloads\\\\AReM\\\\bending1\\\\dataset3.csv', 'C:\\\\Users\\\\Aman\\\\Downloads\\\\AReM\\\\bending1\\\\dataset4.csv', 'C:\\\\Users\\\\Aman\\\\Downloads\\\\AReM\\\\bending1\\\\dataset5.csv', 'C:\\\\Users\\\\Aman\\\\Downloads\\\\AReM\\\\bending1\\\\dataset6.csv', 'C:\\\\Users\\\\Aman\\\\Downloads\\\\AReM\\\\bending1\\\\dataset7.csv', 'C:\\\\Users\\\\Aman\\\\Downloads\\\\AReM\\\\bending2\\\\dataset1.csv', 'C:\\\\Users\\\\Aman\\\\Downloads\\\\AReM\\\\bending2\\\\dataset2.csv', 'C:\\\\Users\\\\Aman\\\\Downloads\\\\AReM\\\\bending2\\\\dataset3.csv', 'C:\\\\Users\\\\Aman\\\\Downloads\\\\AReM\\\\bending2\\\\dataset4.csv', 'C:\\\\Users\\\\Aman\\\\Downloads\\\\AReM\\\\bending2\\\\dataset5.csv', 'C:\\\\Users\\\\Aman\\\\Downloads\\\\AReM\\\\bending2\\\\dataset6.csv', 'C:\\\\Users\\\\Aman\\\\Downloads\\\\AReM\\\\cycling\\\\dataset1.csv', 'C:\\\\Users\\\\Aman\\\\Downloads\\\\AReM\\\\cycling\\\\dataset10.csv', 'C:\\\\Users\\\\Aman\\\\Downloads\\\\AReM\\\\cycling\\\\dataset11.csv', 'C:\\\\Users\\\\Aman\\\\Downloads\\\\AReM\\\\cycling\\\\dataset12.csv', 'C:\\\\Users\\\\Aman\\\\Downloads\\\\AReM\\\\cycling\\\\dataset13.csv', 'C:\\\\Users\\\\Aman\\\\Downloads\\\\AReM\\\\cycling\\\\dataset14.csv', 'C:\\\\Users\\\\Aman\\\\Downloads\\\\AReM\\\\cycling\\\\dataset15.csv', 'C:\\\\Users\\\\Aman\\\\Downloads\\\\AReM\\\\cycling\\\\dataset2.csv', 'C:\\\\Users\\\\Aman\\\\Downloads\\\\AReM\\\\cycling\\\\dataset3.csv', 'C:\\\\Users\\\\Aman\\\\Downloads\\\\AReM\\\\cycling\\\\dataset4.csv', 'C:\\\\Users\\\\Aman\\\\Downloads\\\\AReM\\\\cycling\\\\dataset5.csv', 'C:\\\\Users\\\\Aman\\\\Downloads\\\\AReM\\\\cycling\\\\dataset6.csv', 'C:\\\\Users\\\\Aman\\\\Downloads\\\\AReM\\\\cycling\\\\dataset7.csv', 'C:\\\\Users\\\\Aman\\\\Downloads\\\\AReM\\\\cycling\\\\dataset8.csv', 'C:\\\\Users\\\\Aman\\\\Downloads\\\\AReM\\\\cycling\\\\dataset9.csv', 'C:\\\\Users\\\\Aman\\\\Downloads\\\\AReM\\\\lying\\\\dataset1.csv', 'C:\\\\Users\\\\Aman\\\\Downloads\\\\AReM\\\\lying\\\\dataset10.csv', 'C:\\\\Users\\\\Aman\\\\Downloads\\\\AReM\\\\lying\\\\dataset11.csv', 'C:\\\\Users\\\\Aman\\\\Downloads\\\\AReM\\\\lying\\\\dataset12.csv', 'C:\\\\Users\\\\Aman\\\\Downloads\\\\AReM\\\\lying\\\\dataset13.csv', 'C:\\\\Users\\\\Aman\\\\Downloads\\\\AReM\\\\lying\\\\dataset14.csv', 'C:\\\\Users\\\\Aman\\\\Downloads\\\\AReM\\\\lying\\\\dataset15.csv', 'C:\\\\Users\\\\Aman\\\\Downloads\\\\AReM\\\\lying\\\\dataset2.csv', 'C:\\\\Users\\\\Aman\\\\Downloads\\\\AReM\\\\lying\\\\dataset3.csv', 'C:\\\\Users\\\\Aman\\\\Downloads\\\\AReM\\\\lying\\\\dataset4.csv', 'C:\\\\Users\\\\Aman\\\\Downloads\\\\AReM\\\\lying\\\\dataset5.csv', 'C:\\\\Users\\\\Aman\\\\Downloads\\\\AReM\\\\lying\\\\dataset6.csv']\n",
      "['C:\\\\Users\\\\Aman\\\\Downloads\\\\AReM\\\\bending1\\\\dataset1.csv', 'C:\\\\Users\\\\Aman\\\\Downloads\\\\AReM\\\\bending1\\\\dataset2.csv', 'C:\\\\Users\\\\Aman\\\\Downloads\\\\AReM\\\\bending1\\\\dataset3.csv', 'C:\\\\Users\\\\Aman\\\\Downloads\\\\AReM\\\\bending1\\\\dataset4.csv', 'C:\\\\Users\\\\Aman\\\\Downloads\\\\AReM\\\\bending1\\\\dataset5.csv', 'C:\\\\Users\\\\Aman\\\\Downloads\\\\AReM\\\\bending1\\\\dataset6.csv', 'C:\\\\Users\\\\Aman\\\\Downloads\\\\AReM\\\\bending1\\\\dataset7.csv', 'C:\\\\Users\\\\Aman\\\\Downloads\\\\AReM\\\\bending2\\\\dataset1.csv', 'C:\\\\Users\\\\Aman\\\\Downloads\\\\AReM\\\\bending2\\\\dataset2.csv', 'C:\\\\Users\\\\Aman\\\\Downloads\\\\AReM\\\\bending2\\\\dataset3.csv', 'C:\\\\Users\\\\Aman\\\\Downloads\\\\AReM\\\\bending2\\\\dataset4.csv', 'C:\\\\Users\\\\Aman\\\\Downloads\\\\AReM\\\\bending2\\\\dataset5.csv', 'C:\\\\Users\\\\Aman\\\\Downloads\\\\AReM\\\\bending2\\\\dataset6.csv', 'C:\\\\Users\\\\Aman\\\\Downloads\\\\AReM\\\\cycling\\\\dataset1.csv', 'C:\\\\Users\\\\Aman\\\\Downloads\\\\AReM\\\\cycling\\\\dataset10.csv', 'C:\\\\Users\\\\Aman\\\\Downloads\\\\AReM\\\\cycling\\\\dataset11.csv', 'C:\\\\Users\\\\Aman\\\\Downloads\\\\AReM\\\\cycling\\\\dataset12.csv', 'C:\\\\Users\\\\Aman\\\\Downloads\\\\AReM\\\\cycling\\\\dataset13.csv', 'C:\\\\Users\\\\Aman\\\\Downloads\\\\AReM\\\\cycling\\\\dataset14.csv', 'C:\\\\Users\\\\Aman\\\\Downloads\\\\AReM\\\\cycling\\\\dataset15.csv', 'C:\\\\Users\\\\Aman\\\\Downloads\\\\AReM\\\\cycling\\\\dataset2.csv', 'C:\\\\Users\\\\Aman\\\\Downloads\\\\AReM\\\\cycling\\\\dataset3.csv', 'C:\\\\Users\\\\Aman\\\\Downloads\\\\AReM\\\\cycling\\\\dataset4.csv', 'C:\\\\Users\\\\Aman\\\\Downloads\\\\AReM\\\\cycling\\\\dataset5.csv', 'C:\\\\Users\\\\Aman\\\\Downloads\\\\AReM\\\\cycling\\\\dataset6.csv', 'C:\\\\Users\\\\Aman\\\\Downloads\\\\AReM\\\\cycling\\\\dataset7.csv', 'C:\\\\Users\\\\Aman\\\\Downloads\\\\AReM\\\\cycling\\\\dataset8.csv', 'C:\\\\Users\\\\Aman\\\\Downloads\\\\AReM\\\\cycling\\\\dataset9.csv', 'C:\\\\Users\\\\Aman\\\\Downloads\\\\AReM\\\\lying\\\\dataset1.csv', 'C:\\\\Users\\\\Aman\\\\Downloads\\\\AReM\\\\lying\\\\dataset10.csv', 'C:\\\\Users\\\\Aman\\\\Downloads\\\\AReM\\\\lying\\\\dataset11.csv', 'C:\\\\Users\\\\Aman\\\\Downloads\\\\AReM\\\\lying\\\\dataset12.csv', 'C:\\\\Users\\\\Aman\\\\Downloads\\\\AReM\\\\lying\\\\dataset13.csv', 'C:\\\\Users\\\\Aman\\\\Downloads\\\\AReM\\\\lying\\\\dataset14.csv', 'C:\\\\Users\\\\Aman\\\\Downloads\\\\AReM\\\\lying\\\\dataset15.csv', 'C:\\\\Users\\\\Aman\\\\Downloads\\\\AReM\\\\lying\\\\dataset2.csv', 'C:\\\\Users\\\\Aman\\\\Downloads\\\\AReM\\\\lying\\\\dataset3.csv', 'C:\\\\Users\\\\Aman\\\\Downloads\\\\AReM\\\\lying\\\\dataset4.csv', 'C:\\\\Users\\\\Aman\\\\Downloads\\\\AReM\\\\lying\\\\dataset5.csv', 'C:\\\\Users\\\\Aman\\\\Downloads\\\\AReM\\\\lying\\\\dataset6.csv', 'C:\\\\Users\\\\Aman\\\\Downloads\\\\AReM\\\\lying\\\\dataset7.csv']\n",
      "['C:\\\\Users\\\\Aman\\\\Downloads\\\\AReM\\\\bending1\\\\dataset1.csv', 'C:\\\\Users\\\\Aman\\\\Downloads\\\\AReM\\\\bending1\\\\dataset2.csv', 'C:\\\\Users\\\\Aman\\\\Downloads\\\\AReM\\\\bending1\\\\dataset3.csv', 'C:\\\\Users\\\\Aman\\\\Downloads\\\\AReM\\\\bending1\\\\dataset4.csv', 'C:\\\\Users\\\\Aman\\\\Downloads\\\\AReM\\\\bending1\\\\dataset5.csv', 'C:\\\\Users\\\\Aman\\\\Downloads\\\\AReM\\\\bending1\\\\dataset6.csv', 'C:\\\\Users\\\\Aman\\\\Downloads\\\\AReM\\\\bending1\\\\dataset7.csv', 'C:\\\\Users\\\\Aman\\\\Downloads\\\\AReM\\\\bending2\\\\dataset1.csv', 'C:\\\\Users\\\\Aman\\\\Downloads\\\\AReM\\\\bending2\\\\dataset2.csv', 'C:\\\\Users\\\\Aman\\\\Downloads\\\\AReM\\\\bending2\\\\dataset3.csv', 'C:\\\\Users\\\\Aman\\\\Downloads\\\\AReM\\\\bending2\\\\dataset4.csv', 'C:\\\\Users\\\\Aman\\\\Downloads\\\\AReM\\\\bending2\\\\dataset5.csv', 'C:\\\\Users\\\\Aman\\\\Downloads\\\\AReM\\\\bending2\\\\dataset6.csv', 'C:\\\\Users\\\\Aman\\\\Downloads\\\\AReM\\\\cycling\\\\dataset1.csv', 'C:\\\\Users\\\\Aman\\\\Downloads\\\\AReM\\\\cycling\\\\dataset10.csv', 'C:\\\\Users\\\\Aman\\\\Downloads\\\\AReM\\\\cycling\\\\dataset11.csv', 'C:\\\\Users\\\\Aman\\\\Downloads\\\\AReM\\\\cycling\\\\dataset12.csv', 'C:\\\\Users\\\\Aman\\\\Downloads\\\\AReM\\\\cycling\\\\dataset13.csv', 'C:\\\\Users\\\\Aman\\\\Downloads\\\\AReM\\\\cycling\\\\dataset14.csv', 'C:\\\\Users\\\\Aman\\\\Downloads\\\\AReM\\\\cycling\\\\dataset15.csv', 'C:\\\\Users\\\\Aman\\\\Downloads\\\\AReM\\\\cycling\\\\dataset2.csv', 'C:\\\\Users\\\\Aman\\\\Downloads\\\\AReM\\\\cycling\\\\dataset3.csv', 'C:\\\\Users\\\\Aman\\\\Downloads\\\\AReM\\\\cycling\\\\dataset4.csv', 'C:\\\\Users\\\\Aman\\\\Downloads\\\\AReM\\\\cycling\\\\dataset5.csv', 'C:\\\\Users\\\\Aman\\\\Downloads\\\\AReM\\\\cycling\\\\dataset6.csv', 'C:\\\\Users\\\\Aman\\\\Downloads\\\\AReM\\\\cycling\\\\dataset7.csv', 'C:\\\\Users\\\\Aman\\\\Downloads\\\\AReM\\\\cycling\\\\dataset8.csv', 'C:\\\\Users\\\\Aman\\\\Downloads\\\\AReM\\\\cycling\\\\dataset9.csv', 'C:\\\\Users\\\\Aman\\\\Downloads\\\\AReM\\\\lying\\\\dataset1.csv', 'C:\\\\Users\\\\Aman\\\\Downloads\\\\AReM\\\\lying\\\\dataset10.csv', 'C:\\\\Users\\\\Aman\\\\Downloads\\\\AReM\\\\lying\\\\dataset11.csv', 'C:\\\\Users\\\\Aman\\\\Downloads\\\\AReM\\\\lying\\\\dataset12.csv', 'C:\\\\Users\\\\Aman\\\\Downloads\\\\AReM\\\\lying\\\\dataset13.csv', 'C:\\\\Users\\\\Aman\\\\Downloads\\\\AReM\\\\lying\\\\dataset14.csv', 'C:\\\\Users\\\\Aman\\\\Downloads\\\\AReM\\\\lying\\\\dataset15.csv', 'C:\\\\Users\\\\Aman\\\\Downloads\\\\AReM\\\\lying\\\\dataset2.csv', 'C:\\\\Users\\\\Aman\\\\Downloads\\\\AReM\\\\lying\\\\dataset3.csv', 'C:\\\\Users\\\\Aman\\\\Downloads\\\\AReM\\\\lying\\\\dataset4.csv', 'C:\\\\Users\\\\Aman\\\\Downloads\\\\AReM\\\\lying\\\\dataset5.csv', 'C:\\\\Users\\\\Aman\\\\Downloads\\\\AReM\\\\lying\\\\dataset6.csv', 'C:\\\\Users\\\\Aman\\\\Downloads\\\\AReM\\\\lying\\\\dataset7.csv', 'C:\\\\Users\\\\Aman\\\\Downloads\\\\AReM\\\\lying\\\\dataset8.csv']\n",
      "['C:\\\\Users\\\\Aman\\\\Downloads\\\\AReM\\\\bending1\\\\dataset1.csv', 'C:\\\\Users\\\\Aman\\\\Downloads\\\\AReM\\\\bending1\\\\dataset2.csv', 'C:\\\\Users\\\\Aman\\\\Downloads\\\\AReM\\\\bending1\\\\dataset3.csv', 'C:\\\\Users\\\\Aman\\\\Downloads\\\\AReM\\\\bending1\\\\dataset4.csv', 'C:\\\\Users\\\\Aman\\\\Downloads\\\\AReM\\\\bending1\\\\dataset5.csv', 'C:\\\\Users\\\\Aman\\\\Downloads\\\\AReM\\\\bending1\\\\dataset6.csv', 'C:\\\\Users\\\\Aman\\\\Downloads\\\\AReM\\\\bending1\\\\dataset7.csv', 'C:\\\\Users\\\\Aman\\\\Downloads\\\\AReM\\\\bending2\\\\dataset1.csv', 'C:\\\\Users\\\\Aman\\\\Downloads\\\\AReM\\\\bending2\\\\dataset2.csv', 'C:\\\\Users\\\\Aman\\\\Downloads\\\\AReM\\\\bending2\\\\dataset3.csv', 'C:\\\\Users\\\\Aman\\\\Downloads\\\\AReM\\\\bending2\\\\dataset4.csv', 'C:\\\\Users\\\\Aman\\\\Downloads\\\\AReM\\\\bending2\\\\dataset5.csv', 'C:\\\\Users\\\\Aman\\\\Downloads\\\\AReM\\\\bending2\\\\dataset6.csv', 'C:\\\\Users\\\\Aman\\\\Downloads\\\\AReM\\\\cycling\\\\dataset1.csv', 'C:\\\\Users\\\\Aman\\\\Downloads\\\\AReM\\\\cycling\\\\dataset10.csv', 'C:\\\\Users\\\\Aman\\\\Downloads\\\\AReM\\\\cycling\\\\dataset11.csv', 'C:\\\\Users\\\\Aman\\\\Downloads\\\\AReM\\\\cycling\\\\dataset12.csv', 'C:\\\\Users\\\\Aman\\\\Downloads\\\\AReM\\\\cycling\\\\dataset13.csv', 'C:\\\\Users\\\\Aman\\\\Downloads\\\\AReM\\\\cycling\\\\dataset14.csv', 'C:\\\\Users\\\\Aman\\\\Downloads\\\\AReM\\\\cycling\\\\dataset15.csv', 'C:\\\\Users\\\\Aman\\\\Downloads\\\\AReM\\\\cycling\\\\dataset2.csv', 'C:\\\\Users\\\\Aman\\\\Downloads\\\\AReM\\\\cycling\\\\dataset3.csv', 'C:\\\\Users\\\\Aman\\\\Downloads\\\\AReM\\\\cycling\\\\dataset4.csv', 'C:\\\\Users\\\\Aman\\\\Downloads\\\\AReM\\\\cycling\\\\dataset5.csv', 'C:\\\\Users\\\\Aman\\\\Downloads\\\\AReM\\\\cycling\\\\dataset6.csv', 'C:\\\\Users\\\\Aman\\\\Downloads\\\\AReM\\\\cycling\\\\dataset7.csv', 'C:\\\\Users\\\\Aman\\\\Downloads\\\\AReM\\\\cycling\\\\dataset8.csv', 'C:\\\\Users\\\\Aman\\\\Downloads\\\\AReM\\\\cycling\\\\dataset9.csv', 'C:\\\\Users\\\\Aman\\\\Downloads\\\\AReM\\\\lying\\\\dataset1.csv', 'C:\\\\Users\\\\Aman\\\\Downloads\\\\AReM\\\\lying\\\\dataset10.csv', 'C:\\\\Users\\\\Aman\\\\Downloads\\\\AReM\\\\lying\\\\dataset11.csv', 'C:\\\\Users\\\\Aman\\\\Downloads\\\\AReM\\\\lying\\\\dataset12.csv', 'C:\\\\Users\\\\Aman\\\\Downloads\\\\AReM\\\\lying\\\\dataset13.csv', 'C:\\\\Users\\\\Aman\\\\Downloads\\\\AReM\\\\lying\\\\dataset14.csv', 'C:\\\\Users\\\\Aman\\\\Downloads\\\\AReM\\\\lying\\\\dataset15.csv', 'C:\\\\Users\\\\Aman\\\\Downloads\\\\AReM\\\\lying\\\\dataset2.csv', 'C:\\\\Users\\\\Aman\\\\Downloads\\\\AReM\\\\lying\\\\dataset3.csv', 'C:\\\\Users\\\\Aman\\\\Downloads\\\\AReM\\\\lying\\\\dataset4.csv', 'C:\\\\Users\\\\Aman\\\\Downloads\\\\AReM\\\\lying\\\\dataset5.csv', 'C:\\\\Users\\\\Aman\\\\Downloads\\\\AReM\\\\lying\\\\dataset6.csv', 'C:\\\\Users\\\\Aman\\\\Downloads\\\\AReM\\\\lying\\\\dataset7.csv', 'C:\\\\Users\\\\Aman\\\\Downloads\\\\AReM\\\\lying\\\\dataset8.csv', 'C:\\\\Users\\\\Aman\\\\Downloads\\\\AReM\\\\lying\\\\dataset9.csv']\n",
      "['C:\\\\Users\\\\Aman\\\\Downloads\\\\AReM\\\\bending1\\\\dataset1.csv', 'C:\\\\Users\\\\Aman\\\\Downloads\\\\AReM\\\\bending1\\\\dataset2.csv', 'C:\\\\Users\\\\Aman\\\\Downloads\\\\AReM\\\\bending1\\\\dataset3.csv', 'C:\\\\Users\\\\Aman\\\\Downloads\\\\AReM\\\\bending1\\\\dataset4.csv', 'C:\\\\Users\\\\Aman\\\\Downloads\\\\AReM\\\\bending1\\\\dataset5.csv', 'C:\\\\Users\\\\Aman\\\\Downloads\\\\AReM\\\\bending1\\\\dataset6.csv', 'C:\\\\Users\\\\Aman\\\\Downloads\\\\AReM\\\\bending1\\\\dataset7.csv', 'C:\\\\Users\\\\Aman\\\\Downloads\\\\AReM\\\\bending2\\\\dataset1.csv', 'C:\\\\Users\\\\Aman\\\\Downloads\\\\AReM\\\\bending2\\\\dataset2.csv', 'C:\\\\Users\\\\Aman\\\\Downloads\\\\AReM\\\\bending2\\\\dataset3.csv', 'C:\\\\Users\\\\Aman\\\\Downloads\\\\AReM\\\\bending2\\\\dataset4.csv', 'C:\\\\Users\\\\Aman\\\\Downloads\\\\AReM\\\\bending2\\\\dataset5.csv', 'C:\\\\Users\\\\Aman\\\\Downloads\\\\AReM\\\\bending2\\\\dataset6.csv', 'C:\\\\Users\\\\Aman\\\\Downloads\\\\AReM\\\\cycling\\\\dataset1.csv', 'C:\\\\Users\\\\Aman\\\\Downloads\\\\AReM\\\\cycling\\\\dataset10.csv', 'C:\\\\Users\\\\Aman\\\\Downloads\\\\AReM\\\\cycling\\\\dataset11.csv', 'C:\\\\Users\\\\Aman\\\\Downloads\\\\AReM\\\\cycling\\\\dataset12.csv', 'C:\\\\Users\\\\Aman\\\\Downloads\\\\AReM\\\\cycling\\\\dataset13.csv', 'C:\\\\Users\\\\Aman\\\\Downloads\\\\AReM\\\\cycling\\\\dataset14.csv', 'C:\\\\Users\\\\Aman\\\\Downloads\\\\AReM\\\\cycling\\\\dataset15.csv', 'C:\\\\Users\\\\Aman\\\\Downloads\\\\AReM\\\\cycling\\\\dataset2.csv', 'C:\\\\Users\\\\Aman\\\\Downloads\\\\AReM\\\\cycling\\\\dataset3.csv', 'C:\\\\Users\\\\Aman\\\\Downloads\\\\AReM\\\\cycling\\\\dataset4.csv', 'C:\\\\Users\\\\Aman\\\\Downloads\\\\AReM\\\\cycling\\\\dataset5.csv', 'C:\\\\Users\\\\Aman\\\\Downloads\\\\AReM\\\\cycling\\\\dataset6.csv', 'C:\\\\Users\\\\Aman\\\\Downloads\\\\AReM\\\\cycling\\\\dataset7.csv', 'C:\\\\Users\\\\Aman\\\\Downloads\\\\AReM\\\\cycling\\\\dataset8.csv', 'C:\\\\Users\\\\Aman\\\\Downloads\\\\AReM\\\\cycling\\\\dataset9.csv', 'C:\\\\Users\\\\Aman\\\\Downloads\\\\AReM\\\\lying\\\\dataset1.csv', 'C:\\\\Users\\\\Aman\\\\Downloads\\\\AReM\\\\lying\\\\dataset10.csv', 'C:\\\\Users\\\\Aman\\\\Downloads\\\\AReM\\\\lying\\\\dataset11.csv', 'C:\\\\Users\\\\Aman\\\\Downloads\\\\AReM\\\\lying\\\\dataset12.csv', 'C:\\\\Users\\\\Aman\\\\Downloads\\\\AReM\\\\lying\\\\dataset13.csv', 'C:\\\\Users\\\\Aman\\\\Downloads\\\\AReM\\\\lying\\\\dataset14.csv', 'C:\\\\Users\\\\Aman\\\\Downloads\\\\AReM\\\\lying\\\\dataset15.csv', 'C:\\\\Users\\\\Aman\\\\Downloads\\\\AReM\\\\lying\\\\dataset2.csv', 'C:\\\\Users\\\\Aman\\\\Downloads\\\\AReM\\\\lying\\\\dataset3.csv', 'C:\\\\Users\\\\Aman\\\\Downloads\\\\AReM\\\\lying\\\\dataset4.csv', 'C:\\\\Users\\\\Aman\\\\Downloads\\\\AReM\\\\lying\\\\dataset5.csv', 'C:\\\\Users\\\\Aman\\\\Downloads\\\\AReM\\\\lying\\\\dataset6.csv', 'C:\\\\Users\\\\Aman\\\\Downloads\\\\AReM\\\\lying\\\\dataset7.csv', 'C:\\\\Users\\\\Aman\\\\Downloads\\\\AReM\\\\lying\\\\dataset8.csv', 'C:\\\\Users\\\\Aman\\\\Downloads\\\\AReM\\\\lying\\\\dataset9.csv', 'C:\\\\Users\\\\Aman\\\\Downloads\\\\AReM\\\\sitting\\\\dataset1.csv']\n",
      "['C:\\\\Users\\\\Aman\\\\Downloads\\\\AReM\\\\bending1\\\\dataset1.csv', 'C:\\\\Users\\\\Aman\\\\Downloads\\\\AReM\\\\bending1\\\\dataset2.csv', 'C:\\\\Users\\\\Aman\\\\Downloads\\\\AReM\\\\bending1\\\\dataset3.csv', 'C:\\\\Users\\\\Aman\\\\Downloads\\\\AReM\\\\bending1\\\\dataset4.csv', 'C:\\\\Users\\\\Aman\\\\Downloads\\\\AReM\\\\bending1\\\\dataset5.csv', 'C:\\\\Users\\\\Aman\\\\Downloads\\\\AReM\\\\bending1\\\\dataset6.csv', 'C:\\\\Users\\\\Aman\\\\Downloads\\\\AReM\\\\bending1\\\\dataset7.csv', 'C:\\\\Users\\\\Aman\\\\Downloads\\\\AReM\\\\bending2\\\\dataset1.csv', 'C:\\\\Users\\\\Aman\\\\Downloads\\\\AReM\\\\bending2\\\\dataset2.csv', 'C:\\\\Users\\\\Aman\\\\Downloads\\\\AReM\\\\bending2\\\\dataset3.csv', 'C:\\\\Users\\\\Aman\\\\Downloads\\\\AReM\\\\bending2\\\\dataset4.csv', 'C:\\\\Users\\\\Aman\\\\Downloads\\\\AReM\\\\bending2\\\\dataset5.csv', 'C:\\\\Users\\\\Aman\\\\Downloads\\\\AReM\\\\bending2\\\\dataset6.csv', 'C:\\\\Users\\\\Aman\\\\Downloads\\\\AReM\\\\cycling\\\\dataset1.csv', 'C:\\\\Users\\\\Aman\\\\Downloads\\\\AReM\\\\cycling\\\\dataset10.csv', 'C:\\\\Users\\\\Aman\\\\Downloads\\\\AReM\\\\cycling\\\\dataset11.csv', 'C:\\\\Users\\\\Aman\\\\Downloads\\\\AReM\\\\cycling\\\\dataset12.csv', 'C:\\\\Users\\\\Aman\\\\Downloads\\\\AReM\\\\cycling\\\\dataset13.csv', 'C:\\\\Users\\\\Aman\\\\Downloads\\\\AReM\\\\cycling\\\\dataset14.csv', 'C:\\\\Users\\\\Aman\\\\Downloads\\\\AReM\\\\cycling\\\\dataset15.csv', 'C:\\\\Users\\\\Aman\\\\Downloads\\\\AReM\\\\cycling\\\\dataset2.csv', 'C:\\\\Users\\\\Aman\\\\Downloads\\\\AReM\\\\cycling\\\\dataset3.csv', 'C:\\\\Users\\\\Aman\\\\Downloads\\\\AReM\\\\cycling\\\\dataset4.csv', 'C:\\\\Users\\\\Aman\\\\Downloads\\\\AReM\\\\cycling\\\\dataset5.csv', 'C:\\\\Users\\\\Aman\\\\Downloads\\\\AReM\\\\cycling\\\\dataset6.csv', 'C:\\\\Users\\\\Aman\\\\Downloads\\\\AReM\\\\cycling\\\\dataset7.csv', 'C:\\\\Users\\\\Aman\\\\Downloads\\\\AReM\\\\cycling\\\\dataset8.csv', 'C:\\\\Users\\\\Aman\\\\Downloads\\\\AReM\\\\cycling\\\\dataset9.csv', 'C:\\\\Users\\\\Aman\\\\Downloads\\\\AReM\\\\lying\\\\dataset1.csv', 'C:\\\\Users\\\\Aman\\\\Downloads\\\\AReM\\\\lying\\\\dataset10.csv', 'C:\\\\Users\\\\Aman\\\\Downloads\\\\AReM\\\\lying\\\\dataset11.csv', 'C:\\\\Users\\\\Aman\\\\Downloads\\\\AReM\\\\lying\\\\dataset12.csv', 'C:\\\\Users\\\\Aman\\\\Downloads\\\\AReM\\\\lying\\\\dataset13.csv', 'C:\\\\Users\\\\Aman\\\\Downloads\\\\AReM\\\\lying\\\\dataset14.csv', 'C:\\\\Users\\\\Aman\\\\Downloads\\\\AReM\\\\lying\\\\dataset15.csv', 'C:\\\\Users\\\\Aman\\\\Downloads\\\\AReM\\\\lying\\\\dataset2.csv', 'C:\\\\Users\\\\Aman\\\\Downloads\\\\AReM\\\\lying\\\\dataset3.csv', 'C:\\\\Users\\\\Aman\\\\Downloads\\\\AReM\\\\lying\\\\dataset4.csv', 'C:\\\\Users\\\\Aman\\\\Downloads\\\\AReM\\\\lying\\\\dataset5.csv', 'C:\\\\Users\\\\Aman\\\\Downloads\\\\AReM\\\\lying\\\\dataset6.csv', 'C:\\\\Users\\\\Aman\\\\Downloads\\\\AReM\\\\lying\\\\dataset7.csv', 'C:\\\\Users\\\\Aman\\\\Downloads\\\\AReM\\\\lying\\\\dataset8.csv', 'C:\\\\Users\\\\Aman\\\\Downloads\\\\AReM\\\\lying\\\\dataset9.csv', 'C:\\\\Users\\\\Aman\\\\Downloads\\\\AReM\\\\sitting\\\\dataset1.csv', 'C:\\\\Users\\\\Aman\\\\Downloads\\\\AReM\\\\sitting\\\\dataset10.csv']\n",
      "['C:\\\\Users\\\\Aman\\\\Downloads\\\\AReM\\\\bending1\\\\dataset1.csv', 'C:\\\\Users\\\\Aman\\\\Downloads\\\\AReM\\\\bending1\\\\dataset2.csv', 'C:\\\\Users\\\\Aman\\\\Downloads\\\\AReM\\\\bending1\\\\dataset3.csv', 'C:\\\\Users\\\\Aman\\\\Downloads\\\\AReM\\\\bending1\\\\dataset4.csv', 'C:\\\\Users\\\\Aman\\\\Downloads\\\\AReM\\\\bending1\\\\dataset5.csv', 'C:\\\\Users\\\\Aman\\\\Downloads\\\\AReM\\\\bending1\\\\dataset6.csv', 'C:\\\\Users\\\\Aman\\\\Downloads\\\\AReM\\\\bending1\\\\dataset7.csv', 'C:\\\\Users\\\\Aman\\\\Downloads\\\\AReM\\\\bending2\\\\dataset1.csv', 'C:\\\\Users\\\\Aman\\\\Downloads\\\\AReM\\\\bending2\\\\dataset2.csv', 'C:\\\\Users\\\\Aman\\\\Downloads\\\\AReM\\\\bending2\\\\dataset3.csv', 'C:\\\\Users\\\\Aman\\\\Downloads\\\\AReM\\\\bending2\\\\dataset4.csv', 'C:\\\\Users\\\\Aman\\\\Downloads\\\\AReM\\\\bending2\\\\dataset5.csv', 'C:\\\\Users\\\\Aman\\\\Downloads\\\\AReM\\\\bending2\\\\dataset6.csv', 'C:\\\\Users\\\\Aman\\\\Downloads\\\\AReM\\\\cycling\\\\dataset1.csv', 'C:\\\\Users\\\\Aman\\\\Downloads\\\\AReM\\\\cycling\\\\dataset10.csv', 'C:\\\\Users\\\\Aman\\\\Downloads\\\\AReM\\\\cycling\\\\dataset11.csv', 'C:\\\\Users\\\\Aman\\\\Downloads\\\\AReM\\\\cycling\\\\dataset12.csv', 'C:\\\\Users\\\\Aman\\\\Downloads\\\\AReM\\\\cycling\\\\dataset13.csv', 'C:\\\\Users\\\\Aman\\\\Downloads\\\\AReM\\\\cycling\\\\dataset14.csv', 'C:\\\\Users\\\\Aman\\\\Downloads\\\\AReM\\\\cycling\\\\dataset15.csv', 'C:\\\\Users\\\\Aman\\\\Downloads\\\\AReM\\\\cycling\\\\dataset2.csv', 'C:\\\\Users\\\\Aman\\\\Downloads\\\\AReM\\\\cycling\\\\dataset3.csv', 'C:\\\\Users\\\\Aman\\\\Downloads\\\\AReM\\\\cycling\\\\dataset4.csv', 'C:\\\\Users\\\\Aman\\\\Downloads\\\\AReM\\\\cycling\\\\dataset5.csv', 'C:\\\\Users\\\\Aman\\\\Downloads\\\\AReM\\\\cycling\\\\dataset6.csv', 'C:\\\\Users\\\\Aman\\\\Downloads\\\\AReM\\\\cycling\\\\dataset7.csv', 'C:\\\\Users\\\\Aman\\\\Downloads\\\\AReM\\\\cycling\\\\dataset8.csv', 'C:\\\\Users\\\\Aman\\\\Downloads\\\\AReM\\\\cycling\\\\dataset9.csv', 'C:\\\\Users\\\\Aman\\\\Downloads\\\\AReM\\\\lying\\\\dataset1.csv', 'C:\\\\Users\\\\Aman\\\\Downloads\\\\AReM\\\\lying\\\\dataset10.csv', 'C:\\\\Users\\\\Aman\\\\Downloads\\\\AReM\\\\lying\\\\dataset11.csv', 'C:\\\\Users\\\\Aman\\\\Downloads\\\\AReM\\\\lying\\\\dataset12.csv', 'C:\\\\Users\\\\Aman\\\\Downloads\\\\AReM\\\\lying\\\\dataset13.csv', 'C:\\\\Users\\\\Aman\\\\Downloads\\\\AReM\\\\lying\\\\dataset14.csv', 'C:\\\\Users\\\\Aman\\\\Downloads\\\\AReM\\\\lying\\\\dataset15.csv', 'C:\\\\Users\\\\Aman\\\\Downloads\\\\AReM\\\\lying\\\\dataset2.csv', 'C:\\\\Users\\\\Aman\\\\Downloads\\\\AReM\\\\lying\\\\dataset3.csv', 'C:\\\\Users\\\\Aman\\\\Downloads\\\\AReM\\\\lying\\\\dataset4.csv', 'C:\\\\Users\\\\Aman\\\\Downloads\\\\AReM\\\\lying\\\\dataset5.csv', 'C:\\\\Users\\\\Aman\\\\Downloads\\\\AReM\\\\lying\\\\dataset6.csv', 'C:\\\\Users\\\\Aman\\\\Downloads\\\\AReM\\\\lying\\\\dataset7.csv', 'C:\\\\Users\\\\Aman\\\\Downloads\\\\AReM\\\\lying\\\\dataset8.csv', 'C:\\\\Users\\\\Aman\\\\Downloads\\\\AReM\\\\lying\\\\dataset9.csv', 'C:\\\\Users\\\\Aman\\\\Downloads\\\\AReM\\\\sitting\\\\dataset1.csv', 'C:\\\\Users\\\\Aman\\\\Downloads\\\\AReM\\\\sitting\\\\dataset10.csv', 'C:\\\\Users\\\\Aman\\\\Downloads\\\\AReM\\\\sitting\\\\dataset11.csv']\n",
      "['C:\\\\Users\\\\Aman\\\\Downloads\\\\AReM\\\\bending1\\\\dataset1.csv', 'C:\\\\Users\\\\Aman\\\\Downloads\\\\AReM\\\\bending1\\\\dataset2.csv', 'C:\\\\Users\\\\Aman\\\\Downloads\\\\AReM\\\\bending1\\\\dataset3.csv', 'C:\\\\Users\\\\Aman\\\\Downloads\\\\AReM\\\\bending1\\\\dataset4.csv', 'C:\\\\Users\\\\Aman\\\\Downloads\\\\AReM\\\\bending1\\\\dataset5.csv', 'C:\\\\Users\\\\Aman\\\\Downloads\\\\AReM\\\\bending1\\\\dataset6.csv', 'C:\\\\Users\\\\Aman\\\\Downloads\\\\AReM\\\\bending1\\\\dataset7.csv', 'C:\\\\Users\\\\Aman\\\\Downloads\\\\AReM\\\\bending2\\\\dataset1.csv', 'C:\\\\Users\\\\Aman\\\\Downloads\\\\AReM\\\\bending2\\\\dataset2.csv', 'C:\\\\Users\\\\Aman\\\\Downloads\\\\AReM\\\\bending2\\\\dataset3.csv', 'C:\\\\Users\\\\Aman\\\\Downloads\\\\AReM\\\\bending2\\\\dataset4.csv', 'C:\\\\Users\\\\Aman\\\\Downloads\\\\AReM\\\\bending2\\\\dataset5.csv', 'C:\\\\Users\\\\Aman\\\\Downloads\\\\AReM\\\\bending2\\\\dataset6.csv', 'C:\\\\Users\\\\Aman\\\\Downloads\\\\AReM\\\\cycling\\\\dataset1.csv', 'C:\\\\Users\\\\Aman\\\\Downloads\\\\AReM\\\\cycling\\\\dataset10.csv', 'C:\\\\Users\\\\Aman\\\\Downloads\\\\AReM\\\\cycling\\\\dataset11.csv', 'C:\\\\Users\\\\Aman\\\\Downloads\\\\AReM\\\\cycling\\\\dataset12.csv', 'C:\\\\Users\\\\Aman\\\\Downloads\\\\AReM\\\\cycling\\\\dataset13.csv', 'C:\\\\Users\\\\Aman\\\\Downloads\\\\AReM\\\\cycling\\\\dataset14.csv', 'C:\\\\Users\\\\Aman\\\\Downloads\\\\AReM\\\\cycling\\\\dataset15.csv', 'C:\\\\Users\\\\Aman\\\\Downloads\\\\AReM\\\\cycling\\\\dataset2.csv', 'C:\\\\Users\\\\Aman\\\\Downloads\\\\AReM\\\\cycling\\\\dataset3.csv', 'C:\\\\Users\\\\Aman\\\\Downloads\\\\AReM\\\\cycling\\\\dataset4.csv', 'C:\\\\Users\\\\Aman\\\\Downloads\\\\AReM\\\\cycling\\\\dataset5.csv', 'C:\\\\Users\\\\Aman\\\\Downloads\\\\AReM\\\\cycling\\\\dataset6.csv', 'C:\\\\Users\\\\Aman\\\\Downloads\\\\AReM\\\\cycling\\\\dataset7.csv', 'C:\\\\Users\\\\Aman\\\\Downloads\\\\AReM\\\\cycling\\\\dataset8.csv', 'C:\\\\Users\\\\Aman\\\\Downloads\\\\AReM\\\\cycling\\\\dataset9.csv', 'C:\\\\Users\\\\Aman\\\\Downloads\\\\AReM\\\\lying\\\\dataset1.csv', 'C:\\\\Users\\\\Aman\\\\Downloads\\\\AReM\\\\lying\\\\dataset10.csv', 'C:\\\\Users\\\\Aman\\\\Downloads\\\\AReM\\\\lying\\\\dataset11.csv', 'C:\\\\Users\\\\Aman\\\\Downloads\\\\AReM\\\\lying\\\\dataset12.csv', 'C:\\\\Users\\\\Aman\\\\Downloads\\\\AReM\\\\lying\\\\dataset13.csv', 'C:\\\\Users\\\\Aman\\\\Downloads\\\\AReM\\\\lying\\\\dataset14.csv', 'C:\\\\Users\\\\Aman\\\\Downloads\\\\AReM\\\\lying\\\\dataset15.csv', 'C:\\\\Users\\\\Aman\\\\Downloads\\\\AReM\\\\lying\\\\dataset2.csv', 'C:\\\\Users\\\\Aman\\\\Downloads\\\\AReM\\\\lying\\\\dataset3.csv', 'C:\\\\Users\\\\Aman\\\\Downloads\\\\AReM\\\\lying\\\\dataset4.csv', 'C:\\\\Users\\\\Aman\\\\Downloads\\\\AReM\\\\lying\\\\dataset5.csv', 'C:\\\\Users\\\\Aman\\\\Downloads\\\\AReM\\\\lying\\\\dataset6.csv', 'C:\\\\Users\\\\Aman\\\\Downloads\\\\AReM\\\\lying\\\\dataset7.csv', 'C:\\\\Users\\\\Aman\\\\Downloads\\\\AReM\\\\lying\\\\dataset8.csv', 'C:\\\\Users\\\\Aman\\\\Downloads\\\\AReM\\\\lying\\\\dataset9.csv', 'C:\\\\Users\\\\Aman\\\\Downloads\\\\AReM\\\\sitting\\\\dataset1.csv', 'C:\\\\Users\\\\Aman\\\\Downloads\\\\AReM\\\\sitting\\\\dataset10.csv', 'C:\\\\Users\\\\Aman\\\\Downloads\\\\AReM\\\\sitting\\\\dataset11.csv', 'C:\\\\Users\\\\Aman\\\\Downloads\\\\AReM\\\\sitting\\\\dataset12.csv']\n",
      "['C:\\\\Users\\\\Aman\\\\Downloads\\\\AReM\\\\bending1\\\\dataset1.csv', 'C:\\\\Users\\\\Aman\\\\Downloads\\\\AReM\\\\bending1\\\\dataset2.csv', 'C:\\\\Users\\\\Aman\\\\Downloads\\\\AReM\\\\bending1\\\\dataset3.csv', 'C:\\\\Users\\\\Aman\\\\Downloads\\\\AReM\\\\bending1\\\\dataset4.csv', 'C:\\\\Users\\\\Aman\\\\Downloads\\\\AReM\\\\bending1\\\\dataset5.csv', 'C:\\\\Users\\\\Aman\\\\Downloads\\\\AReM\\\\bending1\\\\dataset6.csv', 'C:\\\\Users\\\\Aman\\\\Downloads\\\\AReM\\\\bending1\\\\dataset7.csv', 'C:\\\\Users\\\\Aman\\\\Downloads\\\\AReM\\\\bending2\\\\dataset1.csv', 'C:\\\\Users\\\\Aman\\\\Downloads\\\\AReM\\\\bending2\\\\dataset2.csv', 'C:\\\\Users\\\\Aman\\\\Downloads\\\\AReM\\\\bending2\\\\dataset3.csv', 'C:\\\\Users\\\\Aman\\\\Downloads\\\\AReM\\\\bending2\\\\dataset4.csv', 'C:\\\\Users\\\\Aman\\\\Downloads\\\\AReM\\\\bending2\\\\dataset5.csv', 'C:\\\\Users\\\\Aman\\\\Downloads\\\\AReM\\\\bending2\\\\dataset6.csv', 'C:\\\\Users\\\\Aman\\\\Downloads\\\\AReM\\\\cycling\\\\dataset1.csv', 'C:\\\\Users\\\\Aman\\\\Downloads\\\\AReM\\\\cycling\\\\dataset10.csv', 'C:\\\\Users\\\\Aman\\\\Downloads\\\\AReM\\\\cycling\\\\dataset11.csv', 'C:\\\\Users\\\\Aman\\\\Downloads\\\\AReM\\\\cycling\\\\dataset12.csv', 'C:\\\\Users\\\\Aman\\\\Downloads\\\\AReM\\\\cycling\\\\dataset13.csv', 'C:\\\\Users\\\\Aman\\\\Downloads\\\\AReM\\\\cycling\\\\dataset14.csv', 'C:\\\\Users\\\\Aman\\\\Downloads\\\\AReM\\\\cycling\\\\dataset15.csv', 'C:\\\\Users\\\\Aman\\\\Downloads\\\\AReM\\\\cycling\\\\dataset2.csv', 'C:\\\\Users\\\\Aman\\\\Downloads\\\\AReM\\\\cycling\\\\dataset3.csv', 'C:\\\\Users\\\\Aman\\\\Downloads\\\\AReM\\\\cycling\\\\dataset4.csv', 'C:\\\\Users\\\\Aman\\\\Downloads\\\\AReM\\\\cycling\\\\dataset5.csv', 'C:\\\\Users\\\\Aman\\\\Downloads\\\\AReM\\\\cycling\\\\dataset6.csv', 'C:\\\\Users\\\\Aman\\\\Downloads\\\\AReM\\\\cycling\\\\dataset7.csv', 'C:\\\\Users\\\\Aman\\\\Downloads\\\\AReM\\\\cycling\\\\dataset8.csv', 'C:\\\\Users\\\\Aman\\\\Downloads\\\\AReM\\\\cycling\\\\dataset9.csv', 'C:\\\\Users\\\\Aman\\\\Downloads\\\\AReM\\\\lying\\\\dataset1.csv', 'C:\\\\Users\\\\Aman\\\\Downloads\\\\AReM\\\\lying\\\\dataset10.csv', 'C:\\\\Users\\\\Aman\\\\Downloads\\\\AReM\\\\lying\\\\dataset11.csv', 'C:\\\\Users\\\\Aman\\\\Downloads\\\\AReM\\\\lying\\\\dataset12.csv', 'C:\\\\Users\\\\Aman\\\\Downloads\\\\AReM\\\\lying\\\\dataset13.csv', 'C:\\\\Users\\\\Aman\\\\Downloads\\\\AReM\\\\lying\\\\dataset14.csv', 'C:\\\\Users\\\\Aman\\\\Downloads\\\\AReM\\\\lying\\\\dataset15.csv', 'C:\\\\Users\\\\Aman\\\\Downloads\\\\AReM\\\\lying\\\\dataset2.csv', 'C:\\\\Users\\\\Aman\\\\Downloads\\\\AReM\\\\lying\\\\dataset3.csv', 'C:\\\\Users\\\\Aman\\\\Downloads\\\\AReM\\\\lying\\\\dataset4.csv', 'C:\\\\Users\\\\Aman\\\\Downloads\\\\AReM\\\\lying\\\\dataset5.csv', 'C:\\\\Users\\\\Aman\\\\Downloads\\\\AReM\\\\lying\\\\dataset6.csv', 'C:\\\\Users\\\\Aman\\\\Downloads\\\\AReM\\\\lying\\\\dataset7.csv', 'C:\\\\Users\\\\Aman\\\\Downloads\\\\AReM\\\\lying\\\\dataset8.csv', 'C:\\\\Users\\\\Aman\\\\Downloads\\\\AReM\\\\lying\\\\dataset9.csv', 'C:\\\\Users\\\\Aman\\\\Downloads\\\\AReM\\\\sitting\\\\dataset1.csv', 'C:\\\\Users\\\\Aman\\\\Downloads\\\\AReM\\\\sitting\\\\dataset10.csv', 'C:\\\\Users\\\\Aman\\\\Downloads\\\\AReM\\\\sitting\\\\dataset11.csv', 'C:\\\\Users\\\\Aman\\\\Downloads\\\\AReM\\\\sitting\\\\dataset12.csv', 'C:\\\\Users\\\\Aman\\\\Downloads\\\\AReM\\\\sitting\\\\dataset13.csv']\n",
      "['C:\\\\Users\\\\Aman\\\\Downloads\\\\AReM\\\\bending1\\\\dataset1.csv', 'C:\\\\Users\\\\Aman\\\\Downloads\\\\AReM\\\\bending1\\\\dataset2.csv', 'C:\\\\Users\\\\Aman\\\\Downloads\\\\AReM\\\\bending1\\\\dataset3.csv', 'C:\\\\Users\\\\Aman\\\\Downloads\\\\AReM\\\\bending1\\\\dataset4.csv', 'C:\\\\Users\\\\Aman\\\\Downloads\\\\AReM\\\\bending1\\\\dataset5.csv', 'C:\\\\Users\\\\Aman\\\\Downloads\\\\AReM\\\\bending1\\\\dataset6.csv', 'C:\\\\Users\\\\Aman\\\\Downloads\\\\AReM\\\\bending1\\\\dataset7.csv', 'C:\\\\Users\\\\Aman\\\\Downloads\\\\AReM\\\\bending2\\\\dataset1.csv', 'C:\\\\Users\\\\Aman\\\\Downloads\\\\AReM\\\\bending2\\\\dataset2.csv', 'C:\\\\Users\\\\Aman\\\\Downloads\\\\AReM\\\\bending2\\\\dataset3.csv', 'C:\\\\Users\\\\Aman\\\\Downloads\\\\AReM\\\\bending2\\\\dataset4.csv', 'C:\\\\Users\\\\Aman\\\\Downloads\\\\AReM\\\\bending2\\\\dataset5.csv', 'C:\\\\Users\\\\Aman\\\\Downloads\\\\AReM\\\\bending2\\\\dataset6.csv', 'C:\\\\Users\\\\Aman\\\\Downloads\\\\AReM\\\\cycling\\\\dataset1.csv', 'C:\\\\Users\\\\Aman\\\\Downloads\\\\AReM\\\\cycling\\\\dataset10.csv', 'C:\\\\Users\\\\Aman\\\\Downloads\\\\AReM\\\\cycling\\\\dataset11.csv', 'C:\\\\Users\\\\Aman\\\\Downloads\\\\AReM\\\\cycling\\\\dataset12.csv', 'C:\\\\Users\\\\Aman\\\\Downloads\\\\AReM\\\\cycling\\\\dataset13.csv', 'C:\\\\Users\\\\Aman\\\\Downloads\\\\AReM\\\\cycling\\\\dataset14.csv', 'C:\\\\Users\\\\Aman\\\\Downloads\\\\AReM\\\\cycling\\\\dataset15.csv', 'C:\\\\Users\\\\Aman\\\\Downloads\\\\AReM\\\\cycling\\\\dataset2.csv', 'C:\\\\Users\\\\Aman\\\\Downloads\\\\AReM\\\\cycling\\\\dataset3.csv', 'C:\\\\Users\\\\Aman\\\\Downloads\\\\AReM\\\\cycling\\\\dataset4.csv', 'C:\\\\Users\\\\Aman\\\\Downloads\\\\AReM\\\\cycling\\\\dataset5.csv', 'C:\\\\Users\\\\Aman\\\\Downloads\\\\AReM\\\\cycling\\\\dataset6.csv', 'C:\\\\Users\\\\Aman\\\\Downloads\\\\AReM\\\\cycling\\\\dataset7.csv', 'C:\\\\Users\\\\Aman\\\\Downloads\\\\AReM\\\\cycling\\\\dataset8.csv', 'C:\\\\Users\\\\Aman\\\\Downloads\\\\AReM\\\\cycling\\\\dataset9.csv', 'C:\\\\Users\\\\Aman\\\\Downloads\\\\AReM\\\\lying\\\\dataset1.csv', 'C:\\\\Users\\\\Aman\\\\Downloads\\\\AReM\\\\lying\\\\dataset10.csv', 'C:\\\\Users\\\\Aman\\\\Downloads\\\\AReM\\\\lying\\\\dataset11.csv', 'C:\\\\Users\\\\Aman\\\\Downloads\\\\AReM\\\\lying\\\\dataset12.csv', 'C:\\\\Users\\\\Aman\\\\Downloads\\\\AReM\\\\lying\\\\dataset13.csv', 'C:\\\\Users\\\\Aman\\\\Downloads\\\\AReM\\\\lying\\\\dataset14.csv', 'C:\\\\Users\\\\Aman\\\\Downloads\\\\AReM\\\\lying\\\\dataset15.csv', 'C:\\\\Users\\\\Aman\\\\Downloads\\\\AReM\\\\lying\\\\dataset2.csv', 'C:\\\\Users\\\\Aman\\\\Downloads\\\\AReM\\\\lying\\\\dataset3.csv', 'C:\\\\Users\\\\Aman\\\\Downloads\\\\AReM\\\\lying\\\\dataset4.csv', 'C:\\\\Users\\\\Aman\\\\Downloads\\\\AReM\\\\lying\\\\dataset5.csv', 'C:\\\\Users\\\\Aman\\\\Downloads\\\\AReM\\\\lying\\\\dataset6.csv', 'C:\\\\Users\\\\Aman\\\\Downloads\\\\AReM\\\\lying\\\\dataset7.csv', 'C:\\\\Users\\\\Aman\\\\Downloads\\\\AReM\\\\lying\\\\dataset8.csv', 'C:\\\\Users\\\\Aman\\\\Downloads\\\\AReM\\\\lying\\\\dataset9.csv', 'C:\\\\Users\\\\Aman\\\\Downloads\\\\AReM\\\\sitting\\\\dataset1.csv', 'C:\\\\Users\\\\Aman\\\\Downloads\\\\AReM\\\\sitting\\\\dataset10.csv', 'C:\\\\Users\\\\Aman\\\\Downloads\\\\AReM\\\\sitting\\\\dataset11.csv', 'C:\\\\Users\\\\Aman\\\\Downloads\\\\AReM\\\\sitting\\\\dataset12.csv', 'C:\\\\Users\\\\Aman\\\\Downloads\\\\AReM\\\\sitting\\\\dataset13.csv', 'C:\\\\Users\\\\Aman\\\\Downloads\\\\AReM\\\\sitting\\\\dataset14.csv']\n",
      "['C:\\\\Users\\\\Aman\\\\Downloads\\\\AReM\\\\bending1\\\\dataset1.csv', 'C:\\\\Users\\\\Aman\\\\Downloads\\\\AReM\\\\bending1\\\\dataset2.csv', 'C:\\\\Users\\\\Aman\\\\Downloads\\\\AReM\\\\bending1\\\\dataset3.csv', 'C:\\\\Users\\\\Aman\\\\Downloads\\\\AReM\\\\bending1\\\\dataset4.csv', 'C:\\\\Users\\\\Aman\\\\Downloads\\\\AReM\\\\bending1\\\\dataset5.csv', 'C:\\\\Users\\\\Aman\\\\Downloads\\\\AReM\\\\bending1\\\\dataset6.csv', 'C:\\\\Users\\\\Aman\\\\Downloads\\\\AReM\\\\bending1\\\\dataset7.csv', 'C:\\\\Users\\\\Aman\\\\Downloads\\\\AReM\\\\bending2\\\\dataset1.csv', 'C:\\\\Users\\\\Aman\\\\Downloads\\\\AReM\\\\bending2\\\\dataset2.csv', 'C:\\\\Users\\\\Aman\\\\Downloads\\\\AReM\\\\bending2\\\\dataset3.csv', 'C:\\\\Users\\\\Aman\\\\Downloads\\\\AReM\\\\bending2\\\\dataset4.csv', 'C:\\\\Users\\\\Aman\\\\Downloads\\\\AReM\\\\bending2\\\\dataset5.csv', 'C:\\\\Users\\\\Aman\\\\Downloads\\\\AReM\\\\bending2\\\\dataset6.csv', 'C:\\\\Users\\\\Aman\\\\Downloads\\\\AReM\\\\cycling\\\\dataset1.csv', 'C:\\\\Users\\\\Aman\\\\Downloads\\\\AReM\\\\cycling\\\\dataset10.csv', 'C:\\\\Users\\\\Aman\\\\Downloads\\\\AReM\\\\cycling\\\\dataset11.csv', 'C:\\\\Users\\\\Aman\\\\Downloads\\\\AReM\\\\cycling\\\\dataset12.csv', 'C:\\\\Users\\\\Aman\\\\Downloads\\\\AReM\\\\cycling\\\\dataset13.csv', 'C:\\\\Users\\\\Aman\\\\Downloads\\\\AReM\\\\cycling\\\\dataset14.csv', 'C:\\\\Users\\\\Aman\\\\Downloads\\\\AReM\\\\cycling\\\\dataset15.csv', 'C:\\\\Users\\\\Aman\\\\Downloads\\\\AReM\\\\cycling\\\\dataset2.csv', 'C:\\\\Users\\\\Aman\\\\Downloads\\\\AReM\\\\cycling\\\\dataset3.csv', 'C:\\\\Users\\\\Aman\\\\Downloads\\\\AReM\\\\cycling\\\\dataset4.csv', 'C:\\\\Users\\\\Aman\\\\Downloads\\\\AReM\\\\cycling\\\\dataset5.csv', 'C:\\\\Users\\\\Aman\\\\Downloads\\\\AReM\\\\cycling\\\\dataset6.csv', 'C:\\\\Users\\\\Aman\\\\Downloads\\\\AReM\\\\cycling\\\\dataset7.csv', 'C:\\\\Users\\\\Aman\\\\Downloads\\\\AReM\\\\cycling\\\\dataset8.csv', 'C:\\\\Users\\\\Aman\\\\Downloads\\\\AReM\\\\cycling\\\\dataset9.csv', 'C:\\\\Users\\\\Aman\\\\Downloads\\\\AReM\\\\lying\\\\dataset1.csv', 'C:\\\\Users\\\\Aman\\\\Downloads\\\\AReM\\\\lying\\\\dataset10.csv', 'C:\\\\Users\\\\Aman\\\\Downloads\\\\AReM\\\\lying\\\\dataset11.csv', 'C:\\\\Users\\\\Aman\\\\Downloads\\\\AReM\\\\lying\\\\dataset12.csv', 'C:\\\\Users\\\\Aman\\\\Downloads\\\\AReM\\\\lying\\\\dataset13.csv', 'C:\\\\Users\\\\Aman\\\\Downloads\\\\AReM\\\\lying\\\\dataset14.csv', 'C:\\\\Users\\\\Aman\\\\Downloads\\\\AReM\\\\lying\\\\dataset15.csv', 'C:\\\\Users\\\\Aman\\\\Downloads\\\\AReM\\\\lying\\\\dataset2.csv', 'C:\\\\Users\\\\Aman\\\\Downloads\\\\AReM\\\\lying\\\\dataset3.csv', 'C:\\\\Users\\\\Aman\\\\Downloads\\\\AReM\\\\lying\\\\dataset4.csv', 'C:\\\\Users\\\\Aman\\\\Downloads\\\\AReM\\\\lying\\\\dataset5.csv', 'C:\\\\Users\\\\Aman\\\\Downloads\\\\AReM\\\\lying\\\\dataset6.csv', 'C:\\\\Users\\\\Aman\\\\Downloads\\\\AReM\\\\lying\\\\dataset7.csv', 'C:\\\\Users\\\\Aman\\\\Downloads\\\\AReM\\\\lying\\\\dataset8.csv', 'C:\\\\Users\\\\Aman\\\\Downloads\\\\AReM\\\\lying\\\\dataset9.csv', 'C:\\\\Users\\\\Aman\\\\Downloads\\\\AReM\\\\sitting\\\\dataset1.csv', 'C:\\\\Users\\\\Aman\\\\Downloads\\\\AReM\\\\sitting\\\\dataset10.csv', 'C:\\\\Users\\\\Aman\\\\Downloads\\\\AReM\\\\sitting\\\\dataset11.csv', 'C:\\\\Users\\\\Aman\\\\Downloads\\\\AReM\\\\sitting\\\\dataset12.csv', 'C:\\\\Users\\\\Aman\\\\Downloads\\\\AReM\\\\sitting\\\\dataset13.csv', 'C:\\\\Users\\\\Aman\\\\Downloads\\\\AReM\\\\sitting\\\\dataset14.csv', 'C:\\\\Users\\\\Aman\\\\Downloads\\\\AReM\\\\sitting\\\\dataset15.csv']\n",
      "['C:\\\\Users\\\\Aman\\\\Downloads\\\\AReM\\\\bending1\\\\dataset1.csv', 'C:\\\\Users\\\\Aman\\\\Downloads\\\\AReM\\\\bending1\\\\dataset2.csv', 'C:\\\\Users\\\\Aman\\\\Downloads\\\\AReM\\\\bending1\\\\dataset3.csv', 'C:\\\\Users\\\\Aman\\\\Downloads\\\\AReM\\\\bending1\\\\dataset4.csv', 'C:\\\\Users\\\\Aman\\\\Downloads\\\\AReM\\\\bending1\\\\dataset5.csv', 'C:\\\\Users\\\\Aman\\\\Downloads\\\\AReM\\\\bending1\\\\dataset6.csv', 'C:\\\\Users\\\\Aman\\\\Downloads\\\\AReM\\\\bending1\\\\dataset7.csv', 'C:\\\\Users\\\\Aman\\\\Downloads\\\\AReM\\\\bending2\\\\dataset1.csv', 'C:\\\\Users\\\\Aman\\\\Downloads\\\\AReM\\\\bending2\\\\dataset2.csv', 'C:\\\\Users\\\\Aman\\\\Downloads\\\\AReM\\\\bending2\\\\dataset3.csv', 'C:\\\\Users\\\\Aman\\\\Downloads\\\\AReM\\\\bending2\\\\dataset4.csv', 'C:\\\\Users\\\\Aman\\\\Downloads\\\\AReM\\\\bending2\\\\dataset5.csv', 'C:\\\\Users\\\\Aman\\\\Downloads\\\\AReM\\\\bending2\\\\dataset6.csv', 'C:\\\\Users\\\\Aman\\\\Downloads\\\\AReM\\\\cycling\\\\dataset1.csv', 'C:\\\\Users\\\\Aman\\\\Downloads\\\\AReM\\\\cycling\\\\dataset10.csv', 'C:\\\\Users\\\\Aman\\\\Downloads\\\\AReM\\\\cycling\\\\dataset11.csv', 'C:\\\\Users\\\\Aman\\\\Downloads\\\\AReM\\\\cycling\\\\dataset12.csv', 'C:\\\\Users\\\\Aman\\\\Downloads\\\\AReM\\\\cycling\\\\dataset13.csv', 'C:\\\\Users\\\\Aman\\\\Downloads\\\\AReM\\\\cycling\\\\dataset14.csv', 'C:\\\\Users\\\\Aman\\\\Downloads\\\\AReM\\\\cycling\\\\dataset15.csv', 'C:\\\\Users\\\\Aman\\\\Downloads\\\\AReM\\\\cycling\\\\dataset2.csv', 'C:\\\\Users\\\\Aman\\\\Downloads\\\\AReM\\\\cycling\\\\dataset3.csv', 'C:\\\\Users\\\\Aman\\\\Downloads\\\\AReM\\\\cycling\\\\dataset4.csv', 'C:\\\\Users\\\\Aman\\\\Downloads\\\\AReM\\\\cycling\\\\dataset5.csv', 'C:\\\\Users\\\\Aman\\\\Downloads\\\\AReM\\\\cycling\\\\dataset6.csv', 'C:\\\\Users\\\\Aman\\\\Downloads\\\\AReM\\\\cycling\\\\dataset7.csv', 'C:\\\\Users\\\\Aman\\\\Downloads\\\\AReM\\\\cycling\\\\dataset8.csv', 'C:\\\\Users\\\\Aman\\\\Downloads\\\\AReM\\\\cycling\\\\dataset9.csv', 'C:\\\\Users\\\\Aman\\\\Downloads\\\\AReM\\\\lying\\\\dataset1.csv', 'C:\\\\Users\\\\Aman\\\\Downloads\\\\AReM\\\\lying\\\\dataset10.csv', 'C:\\\\Users\\\\Aman\\\\Downloads\\\\AReM\\\\lying\\\\dataset11.csv', 'C:\\\\Users\\\\Aman\\\\Downloads\\\\AReM\\\\lying\\\\dataset12.csv', 'C:\\\\Users\\\\Aman\\\\Downloads\\\\AReM\\\\lying\\\\dataset13.csv', 'C:\\\\Users\\\\Aman\\\\Downloads\\\\AReM\\\\lying\\\\dataset14.csv', 'C:\\\\Users\\\\Aman\\\\Downloads\\\\AReM\\\\lying\\\\dataset15.csv', 'C:\\\\Users\\\\Aman\\\\Downloads\\\\AReM\\\\lying\\\\dataset2.csv', 'C:\\\\Users\\\\Aman\\\\Downloads\\\\AReM\\\\lying\\\\dataset3.csv', 'C:\\\\Users\\\\Aman\\\\Downloads\\\\AReM\\\\lying\\\\dataset4.csv', 'C:\\\\Users\\\\Aman\\\\Downloads\\\\AReM\\\\lying\\\\dataset5.csv', 'C:\\\\Users\\\\Aman\\\\Downloads\\\\AReM\\\\lying\\\\dataset6.csv', 'C:\\\\Users\\\\Aman\\\\Downloads\\\\AReM\\\\lying\\\\dataset7.csv', 'C:\\\\Users\\\\Aman\\\\Downloads\\\\AReM\\\\lying\\\\dataset8.csv', 'C:\\\\Users\\\\Aman\\\\Downloads\\\\AReM\\\\lying\\\\dataset9.csv', 'C:\\\\Users\\\\Aman\\\\Downloads\\\\AReM\\\\sitting\\\\dataset1.csv', 'C:\\\\Users\\\\Aman\\\\Downloads\\\\AReM\\\\sitting\\\\dataset10.csv', 'C:\\\\Users\\\\Aman\\\\Downloads\\\\AReM\\\\sitting\\\\dataset11.csv', 'C:\\\\Users\\\\Aman\\\\Downloads\\\\AReM\\\\sitting\\\\dataset12.csv', 'C:\\\\Users\\\\Aman\\\\Downloads\\\\AReM\\\\sitting\\\\dataset13.csv', 'C:\\\\Users\\\\Aman\\\\Downloads\\\\AReM\\\\sitting\\\\dataset14.csv', 'C:\\\\Users\\\\Aman\\\\Downloads\\\\AReM\\\\sitting\\\\dataset15.csv', 'C:\\\\Users\\\\Aman\\\\Downloads\\\\AReM\\\\sitting\\\\dataset2.csv']\n",
      "['C:\\\\Users\\\\Aman\\\\Downloads\\\\AReM\\\\bending1\\\\dataset1.csv', 'C:\\\\Users\\\\Aman\\\\Downloads\\\\AReM\\\\bending1\\\\dataset2.csv', 'C:\\\\Users\\\\Aman\\\\Downloads\\\\AReM\\\\bending1\\\\dataset3.csv', 'C:\\\\Users\\\\Aman\\\\Downloads\\\\AReM\\\\bending1\\\\dataset4.csv', 'C:\\\\Users\\\\Aman\\\\Downloads\\\\AReM\\\\bending1\\\\dataset5.csv', 'C:\\\\Users\\\\Aman\\\\Downloads\\\\AReM\\\\bending1\\\\dataset6.csv', 'C:\\\\Users\\\\Aman\\\\Downloads\\\\AReM\\\\bending1\\\\dataset7.csv', 'C:\\\\Users\\\\Aman\\\\Downloads\\\\AReM\\\\bending2\\\\dataset1.csv', 'C:\\\\Users\\\\Aman\\\\Downloads\\\\AReM\\\\bending2\\\\dataset2.csv', 'C:\\\\Users\\\\Aman\\\\Downloads\\\\AReM\\\\bending2\\\\dataset3.csv', 'C:\\\\Users\\\\Aman\\\\Downloads\\\\AReM\\\\bending2\\\\dataset4.csv', 'C:\\\\Users\\\\Aman\\\\Downloads\\\\AReM\\\\bending2\\\\dataset5.csv', 'C:\\\\Users\\\\Aman\\\\Downloads\\\\AReM\\\\bending2\\\\dataset6.csv', 'C:\\\\Users\\\\Aman\\\\Downloads\\\\AReM\\\\cycling\\\\dataset1.csv', 'C:\\\\Users\\\\Aman\\\\Downloads\\\\AReM\\\\cycling\\\\dataset10.csv', 'C:\\\\Users\\\\Aman\\\\Downloads\\\\AReM\\\\cycling\\\\dataset11.csv', 'C:\\\\Users\\\\Aman\\\\Downloads\\\\AReM\\\\cycling\\\\dataset12.csv', 'C:\\\\Users\\\\Aman\\\\Downloads\\\\AReM\\\\cycling\\\\dataset13.csv', 'C:\\\\Users\\\\Aman\\\\Downloads\\\\AReM\\\\cycling\\\\dataset14.csv', 'C:\\\\Users\\\\Aman\\\\Downloads\\\\AReM\\\\cycling\\\\dataset15.csv', 'C:\\\\Users\\\\Aman\\\\Downloads\\\\AReM\\\\cycling\\\\dataset2.csv', 'C:\\\\Users\\\\Aman\\\\Downloads\\\\AReM\\\\cycling\\\\dataset3.csv', 'C:\\\\Users\\\\Aman\\\\Downloads\\\\AReM\\\\cycling\\\\dataset4.csv', 'C:\\\\Users\\\\Aman\\\\Downloads\\\\AReM\\\\cycling\\\\dataset5.csv', 'C:\\\\Users\\\\Aman\\\\Downloads\\\\AReM\\\\cycling\\\\dataset6.csv', 'C:\\\\Users\\\\Aman\\\\Downloads\\\\AReM\\\\cycling\\\\dataset7.csv', 'C:\\\\Users\\\\Aman\\\\Downloads\\\\AReM\\\\cycling\\\\dataset8.csv', 'C:\\\\Users\\\\Aman\\\\Downloads\\\\AReM\\\\cycling\\\\dataset9.csv', 'C:\\\\Users\\\\Aman\\\\Downloads\\\\AReM\\\\lying\\\\dataset1.csv', 'C:\\\\Users\\\\Aman\\\\Downloads\\\\AReM\\\\lying\\\\dataset10.csv', 'C:\\\\Users\\\\Aman\\\\Downloads\\\\AReM\\\\lying\\\\dataset11.csv', 'C:\\\\Users\\\\Aman\\\\Downloads\\\\AReM\\\\lying\\\\dataset12.csv', 'C:\\\\Users\\\\Aman\\\\Downloads\\\\AReM\\\\lying\\\\dataset13.csv', 'C:\\\\Users\\\\Aman\\\\Downloads\\\\AReM\\\\lying\\\\dataset14.csv', 'C:\\\\Users\\\\Aman\\\\Downloads\\\\AReM\\\\lying\\\\dataset15.csv', 'C:\\\\Users\\\\Aman\\\\Downloads\\\\AReM\\\\lying\\\\dataset2.csv', 'C:\\\\Users\\\\Aman\\\\Downloads\\\\AReM\\\\lying\\\\dataset3.csv', 'C:\\\\Users\\\\Aman\\\\Downloads\\\\AReM\\\\lying\\\\dataset4.csv', 'C:\\\\Users\\\\Aman\\\\Downloads\\\\AReM\\\\lying\\\\dataset5.csv', 'C:\\\\Users\\\\Aman\\\\Downloads\\\\AReM\\\\lying\\\\dataset6.csv', 'C:\\\\Users\\\\Aman\\\\Downloads\\\\AReM\\\\lying\\\\dataset7.csv', 'C:\\\\Users\\\\Aman\\\\Downloads\\\\AReM\\\\lying\\\\dataset8.csv', 'C:\\\\Users\\\\Aman\\\\Downloads\\\\AReM\\\\lying\\\\dataset9.csv', 'C:\\\\Users\\\\Aman\\\\Downloads\\\\AReM\\\\sitting\\\\dataset1.csv', 'C:\\\\Users\\\\Aman\\\\Downloads\\\\AReM\\\\sitting\\\\dataset10.csv', 'C:\\\\Users\\\\Aman\\\\Downloads\\\\AReM\\\\sitting\\\\dataset11.csv', 'C:\\\\Users\\\\Aman\\\\Downloads\\\\AReM\\\\sitting\\\\dataset12.csv', 'C:\\\\Users\\\\Aman\\\\Downloads\\\\AReM\\\\sitting\\\\dataset13.csv', 'C:\\\\Users\\\\Aman\\\\Downloads\\\\AReM\\\\sitting\\\\dataset14.csv', 'C:\\\\Users\\\\Aman\\\\Downloads\\\\AReM\\\\sitting\\\\dataset15.csv', 'C:\\\\Users\\\\Aman\\\\Downloads\\\\AReM\\\\sitting\\\\dataset2.csv', 'C:\\\\Users\\\\Aman\\\\Downloads\\\\AReM\\\\sitting\\\\dataset3.csv']\n",
      "['C:\\\\Users\\\\Aman\\\\Downloads\\\\AReM\\\\bending1\\\\dataset1.csv', 'C:\\\\Users\\\\Aman\\\\Downloads\\\\AReM\\\\bending1\\\\dataset2.csv', 'C:\\\\Users\\\\Aman\\\\Downloads\\\\AReM\\\\bending1\\\\dataset3.csv', 'C:\\\\Users\\\\Aman\\\\Downloads\\\\AReM\\\\bending1\\\\dataset4.csv', 'C:\\\\Users\\\\Aman\\\\Downloads\\\\AReM\\\\bending1\\\\dataset5.csv', 'C:\\\\Users\\\\Aman\\\\Downloads\\\\AReM\\\\bending1\\\\dataset6.csv', 'C:\\\\Users\\\\Aman\\\\Downloads\\\\AReM\\\\bending1\\\\dataset7.csv', 'C:\\\\Users\\\\Aman\\\\Downloads\\\\AReM\\\\bending2\\\\dataset1.csv', 'C:\\\\Users\\\\Aman\\\\Downloads\\\\AReM\\\\bending2\\\\dataset2.csv', 'C:\\\\Users\\\\Aman\\\\Downloads\\\\AReM\\\\bending2\\\\dataset3.csv', 'C:\\\\Users\\\\Aman\\\\Downloads\\\\AReM\\\\bending2\\\\dataset4.csv', 'C:\\\\Users\\\\Aman\\\\Downloads\\\\AReM\\\\bending2\\\\dataset5.csv', 'C:\\\\Users\\\\Aman\\\\Downloads\\\\AReM\\\\bending2\\\\dataset6.csv', 'C:\\\\Users\\\\Aman\\\\Downloads\\\\AReM\\\\cycling\\\\dataset1.csv', 'C:\\\\Users\\\\Aman\\\\Downloads\\\\AReM\\\\cycling\\\\dataset10.csv', 'C:\\\\Users\\\\Aman\\\\Downloads\\\\AReM\\\\cycling\\\\dataset11.csv', 'C:\\\\Users\\\\Aman\\\\Downloads\\\\AReM\\\\cycling\\\\dataset12.csv', 'C:\\\\Users\\\\Aman\\\\Downloads\\\\AReM\\\\cycling\\\\dataset13.csv', 'C:\\\\Users\\\\Aman\\\\Downloads\\\\AReM\\\\cycling\\\\dataset14.csv', 'C:\\\\Users\\\\Aman\\\\Downloads\\\\AReM\\\\cycling\\\\dataset15.csv', 'C:\\\\Users\\\\Aman\\\\Downloads\\\\AReM\\\\cycling\\\\dataset2.csv', 'C:\\\\Users\\\\Aman\\\\Downloads\\\\AReM\\\\cycling\\\\dataset3.csv', 'C:\\\\Users\\\\Aman\\\\Downloads\\\\AReM\\\\cycling\\\\dataset4.csv', 'C:\\\\Users\\\\Aman\\\\Downloads\\\\AReM\\\\cycling\\\\dataset5.csv', 'C:\\\\Users\\\\Aman\\\\Downloads\\\\AReM\\\\cycling\\\\dataset6.csv', 'C:\\\\Users\\\\Aman\\\\Downloads\\\\AReM\\\\cycling\\\\dataset7.csv', 'C:\\\\Users\\\\Aman\\\\Downloads\\\\AReM\\\\cycling\\\\dataset8.csv', 'C:\\\\Users\\\\Aman\\\\Downloads\\\\AReM\\\\cycling\\\\dataset9.csv', 'C:\\\\Users\\\\Aman\\\\Downloads\\\\AReM\\\\lying\\\\dataset1.csv', 'C:\\\\Users\\\\Aman\\\\Downloads\\\\AReM\\\\lying\\\\dataset10.csv', 'C:\\\\Users\\\\Aman\\\\Downloads\\\\AReM\\\\lying\\\\dataset11.csv', 'C:\\\\Users\\\\Aman\\\\Downloads\\\\AReM\\\\lying\\\\dataset12.csv', 'C:\\\\Users\\\\Aman\\\\Downloads\\\\AReM\\\\lying\\\\dataset13.csv', 'C:\\\\Users\\\\Aman\\\\Downloads\\\\AReM\\\\lying\\\\dataset14.csv', 'C:\\\\Users\\\\Aman\\\\Downloads\\\\AReM\\\\lying\\\\dataset15.csv', 'C:\\\\Users\\\\Aman\\\\Downloads\\\\AReM\\\\lying\\\\dataset2.csv', 'C:\\\\Users\\\\Aman\\\\Downloads\\\\AReM\\\\lying\\\\dataset3.csv', 'C:\\\\Users\\\\Aman\\\\Downloads\\\\AReM\\\\lying\\\\dataset4.csv', 'C:\\\\Users\\\\Aman\\\\Downloads\\\\AReM\\\\lying\\\\dataset5.csv', 'C:\\\\Users\\\\Aman\\\\Downloads\\\\AReM\\\\lying\\\\dataset6.csv', 'C:\\\\Users\\\\Aman\\\\Downloads\\\\AReM\\\\lying\\\\dataset7.csv', 'C:\\\\Users\\\\Aman\\\\Downloads\\\\AReM\\\\lying\\\\dataset8.csv', 'C:\\\\Users\\\\Aman\\\\Downloads\\\\AReM\\\\lying\\\\dataset9.csv', 'C:\\\\Users\\\\Aman\\\\Downloads\\\\AReM\\\\sitting\\\\dataset1.csv', 'C:\\\\Users\\\\Aman\\\\Downloads\\\\AReM\\\\sitting\\\\dataset10.csv', 'C:\\\\Users\\\\Aman\\\\Downloads\\\\AReM\\\\sitting\\\\dataset11.csv', 'C:\\\\Users\\\\Aman\\\\Downloads\\\\AReM\\\\sitting\\\\dataset12.csv', 'C:\\\\Users\\\\Aman\\\\Downloads\\\\AReM\\\\sitting\\\\dataset13.csv', 'C:\\\\Users\\\\Aman\\\\Downloads\\\\AReM\\\\sitting\\\\dataset14.csv', 'C:\\\\Users\\\\Aman\\\\Downloads\\\\AReM\\\\sitting\\\\dataset15.csv', 'C:\\\\Users\\\\Aman\\\\Downloads\\\\AReM\\\\sitting\\\\dataset2.csv', 'C:\\\\Users\\\\Aman\\\\Downloads\\\\AReM\\\\sitting\\\\dataset3.csv', 'C:\\\\Users\\\\Aman\\\\Downloads\\\\AReM\\\\sitting\\\\dataset4.csv']\n",
      "['C:\\\\Users\\\\Aman\\\\Downloads\\\\AReM\\\\bending1\\\\dataset1.csv', 'C:\\\\Users\\\\Aman\\\\Downloads\\\\AReM\\\\bending1\\\\dataset2.csv', 'C:\\\\Users\\\\Aman\\\\Downloads\\\\AReM\\\\bending1\\\\dataset3.csv', 'C:\\\\Users\\\\Aman\\\\Downloads\\\\AReM\\\\bending1\\\\dataset4.csv', 'C:\\\\Users\\\\Aman\\\\Downloads\\\\AReM\\\\bending1\\\\dataset5.csv', 'C:\\\\Users\\\\Aman\\\\Downloads\\\\AReM\\\\bending1\\\\dataset6.csv', 'C:\\\\Users\\\\Aman\\\\Downloads\\\\AReM\\\\bending1\\\\dataset7.csv', 'C:\\\\Users\\\\Aman\\\\Downloads\\\\AReM\\\\bending2\\\\dataset1.csv', 'C:\\\\Users\\\\Aman\\\\Downloads\\\\AReM\\\\bending2\\\\dataset2.csv', 'C:\\\\Users\\\\Aman\\\\Downloads\\\\AReM\\\\bending2\\\\dataset3.csv', 'C:\\\\Users\\\\Aman\\\\Downloads\\\\AReM\\\\bending2\\\\dataset4.csv', 'C:\\\\Users\\\\Aman\\\\Downloads\\\\AReM\\\\bending2\\\\dataset5.csv', 'C:\\\\Users\\\\Aman\\\\Downloads\\\\AReM\\\\bending2\\\\dataset6.csv', 'C:\\\\Users\\\\Aman\\\\Downloads\\\\AReM\\\\cycling\\\\dataset1.csv', 'C:\\\\Users\\\\Aman\\\\Downloads\\\\AReM\\\\cycling\\\\dataset10.csv', 'C:\\\\Users\\\\Aman\\\\Downloads\\\\AReM\\\\cycling\\\\dataset11.csv', 'C:\\\\Users\\\\Aman\\\\Downloads\\\\AReM\\\\cycling\\\\dataset12.csv', 'C:\\\\Users\\\\Aman\\\\Downloads\\\\AReM\\\\cycling\\\\dataset13.csv', 'C:\\\\Users\\\\Aman\\\\Downloads\\\\AReM\\\\cycling\\\\dataset14.csv', 'C:\\\\Users\\\\Aman\\\\Downloads\\\\AReM\\\\cycling\\\\dataset15.csv', 'C:\\\\Users\\\\Aman\\\\Downloads\\\\AReM\\\\cycling\\\\dataset2.csv', 'C:\\\\Users\\\\Aman\\\\Downloads\\\\AReM\\\\cycling\\\\dataset3.csv', 'C:\\\\Users\\\\Aman\\\\Downloads\\\\AReM\\\\cycling\\\\dataset4.csv', 'C:\\\\Users\\\\Aman\\\\Downloads\\\\AReM\\\\cycling\\\\dataset5.csv', 'C:\\\\Users\\\\Aman\\\\Downloads\\\\AReM\\\\cycling\\\\dataset6.csv', 'C:\\\\Users\\\\Aman\\\\Downloads\\\\AReM\\\\cycling\\\\dataset7.csv', 'C:\\\\Users\\\\Aman\\\\Downloads\\\\AReM\\\\cycling\\\\dataset8.csv', 'C:\\\\Users\\\\Aman\\\\Downloads\\\\AReM\\\\cycling\\\\dataset9.csv', 'C:\\\\Users\\\\Aman\\\\Downloads\\\\AReM\\\\lying\\\\dataset1.csv', 'C:\\\\Users\\\\Aman\\\\Downloads\\\\AReM\\\\lying\\\\dataset10.csv', 'C:\\\\Users\\\\Aman\\\\Downloads\\\\AReM\\\\lying\\\\dataset11.csv', 'C:\\\\Users\\\\Aman\\\\Downloads\\\\AReM\\\\lying\\\\dataset12.csv', 'C:\\\\Users\\\\Aman\\\\Downloads\\\\AReM\\\\lying\\\\dataset13.csv', 'C:\\\\Users\\\\Aman\\\\Downloads\\\\AReM\\\\lying\\\\dataset14.csv', 'C:\\\\Users\\\\Aman\\\\Downloads\\\\AReM\\\\lying\\\\dataset15.csv', 'C:\\\\Users\\\\Aman\\\\Downloads\\\\AReM\\\\lying\\\\dataset2.csv', 'C:\\\\Users\\\\Aman\\\\Downloads\\\\AReM\\\\lying\\\\dataset3.csv', 'C:\\\\Users\\\\Aman\\\\Downloads\\\\AReM\\\\lying\\\\dataset4.csv', 'C:\\\\Users\\\\Aman\\\\Downloads\\\\AReM\\\\lying\\\\dataset5.csv', 'C:\\\\Users\\\\Aman\\\\Downloads\\\\AReM\\\\lying\\\\dataset6.csv', 'C:\\\\Users\\\\Aman\\\\Downloads\\\\AReM\\\\lying\\\\dataset7.csv', 'C:\\\\Users\\\\Aman\\\\Downloads\\\\AReM\\\\lying\\\\dataset8.csv', 'C:\\\\Users\\\\Aman\\\\Downloads\\\\AReM\\\\lying\\\\dataset9.csv', 'C:\\\\Users\\\\Aman\\\\Downloads\\\\AReM\\\\sitting\\\\dataset1.csv', 'C:\\\\Users\\\\Aman\\\\Downloads\\\\AReM\\\\sitting\\\\dataset10.csv', 'C:\\\\Users\\\\Aman\\\\Downloads\\\\AReM\\\\sitting\\\\dataset11.csv', 'C:\\\\Users\\\\Aman\\\\Downloads\\\\AReM\\\\sitting\\\\dataset12.csv', 'C:\\\\Users\\\\Aman\\\\Downloads\\\\AReM\\\\sitting\\\\dataset13.csv', 'C:\\\\Users\\\\Aman\\\\Downloads\\\\AReM\\\\sitting\\\\dataset14.csv', 'C:\\\\Users\\\\Aman\\\\Downloads\\\\AReM\\\\sitting\\\\dataset15.csv', 'C:\\\\Users\\\\Aman\\\\Downloads\\\\AReM\\\\sitting\\\\dataset2.csv', 'C:\\\\Users\\\\Aman\\\\Downloads\\\\AReM\\\\sitting\\\\dataset3.csv', 'C:\\\\Users\\\\Aman\\\\Downloads\\\\AReM\\\\sitting\\\\dataset4.csv', 'C:\\\\Users\\\\Aman\\\\Downloads\\\\AReM\\\\sitting\\\\dataset5.csv']\n",
      "['C:\\\\Users\\\\Aman\\\\Downloads\\\\AReM\\\\bending1\\\\dataset1.csv', 'C:\\\\Users\\\\Aman\\\\Downloads\\\\AReM\\\\bending1\\\\dataset2.csv', 'C:\\\\Users\\\\Aman\\\\Downloads\\\\AReM\\\\bending1\\\\dataset3.csv', 'C:\\\\Users\\\\Aman\\\\Downloads\\\\AReM\\\\bending1\\\\dataset4.csv', 'C:\\\\Users\\\\Aman\\\\Downloads\\\\AReM\\\\bending1\\\\dataset5.csv', 'C:\\\\Users\\\\Aman\\\\Downloads\\\\AReM\\\\bending1\\\\dataset6.csv', 'C:\\\\Users\\\\Aman\\\\Downloads\\\\AReM\\\\bending1\\\\dataset7.csv', 'C:\\\\Users\\\\Aman\\\\Downloads\\\\AReM\\\\bending2\\\\dataset1.csv', 'C:\\\\Users\\\\Aman\\\\Downloads\\\\AReM\\\\bending2\\\\dataset2.csv', 'C:\\\\Users\\\\Aman\\\\Downloads\\\\AReM\\\\bending2\\\\dataset3.csv', 'C:\\\\Users\\\\Aman\\\\Downloads\\\\AReM\\\\bending2\\\\dataset4.csv', 'C:\\\\Users\\\\Aman\\\\Downloads\\\\AReM\\\\bending2\\\\dataset5.csv', 'C:\\\\Users\\\\Aman\\\\Downloads\\\\AReM\\\\bending2\\\\dataset6.csv', 'C:\\\\Users\\\\Aman\\\\Downloads\\\\AReM\\\\cycling\\\\dataset1.csv', 'C:\\\\Users\\\\Aman\\\\Downloads\\\\AReM\\\\cycling\\\\dataset10.csv', 'C:\\\\Users\\\\Aman\\\\Downloads\\\\AReM\\\\cycling\\\\dataset11.csv', 'C:\\\\Users\\\\Aman\\\\Downloads\\\\AReM\\\\cycling\\\\dataset12.csv', 'C:\\\\Users\\\\Aman\\\\Downloads\\\\AReM\\\\cycling\\\\dataset13.csv', 'C:\\\\Users\\\\Aman\\\\Downloads\\\\AReM\\\\cycling\\\\dataset14.csv', 'C:\\\\Users\\\\Aman\\\\Downloads\\\\AReM\\\\cycling\\\\dataset15.csv', 'C:\\\\Users\\\\Aman\\\\Downloads\\\\AReM\\\\cycling\\\\dataset2.csv', 'C:\\\\Users\\\\Aman\\\\Downloads\\\\AReM\\\\cycling\\\\dataset3.csv', 'C:\\\\Users\\\\Aman\\\\Downloads\\\\AReM\\\\cycling\\\\dataset4.csv', 'C:\\\\Users\\\\Aman\\\\Downloads\\\\AReM\\\\cycling\\\\dataset5.csv', 'C:\\\\Users\\\\Aman\\\\Downloads\\\\AReM\\\\cycling\\\\dataset6.csv', 'C:\\\\Users\\\\Aman\\\\Downloads\\\\AReM\\\\cycling\\\\dataset7.csv', 'C:\\\\Users\\\\Aman\\\\Downloads\\\\AReM\\\\cycling\\\\dataset8.csv', 'C:\\\\Users\\\\Aman\\\\Downloads\\\\AReM\\\\cycling\\\\dataset9.csv', 'C:\\\\Users\\\\Aman\\\\Downloads\\\\AReM\\\\lying\\\\dataset1.csv', 'C:\\\\Users\\\\Aman\\\\Downloads\\\\AReM\\\\lying\\\\dataset10.csv', 'C:\\\\Users\\\\Aman\\\\Downloads\\\\AReM\\\\lying\\\\dataset11.csv', 'C:\\\\Users\\\\Aman\\\\Downloads\\\\AReM\\\\lying\\\\dataset12.csv', 'C:\\\\Users\\\\Aman\\\\Downloads\\\\AReM\\\\lying\\\\dataset13.csv', 'C:\\\\Users\\\\Aman\\\\Downloads\\\\AReM\\\\lying\\\\dataset14.csv', 'C:\\\\Users\\\\Aman\\\\Downloads\\\\AReM\\\\lying\\\\dataset15.csv', 'C:\\\\Users\\\\Aman\\\\Downloads\\\\AReM\\\\lying\\\\dataset2.csv', 'C:\\\\Users\\\\Aman\\\\Downloads\\\\AReM\\\\lying\\\\dataset3.csv', 'C:\\\\Users\\\\Aman\\\\Downloads\\\\AReM\\\\lying\\\\dataset4.csv', 'C:\\\\Users\\\\Aman\\\\Downloads\\\\AReM\\\\lying\\\\dataset5.csv', 'C:\\\\Users\\\\Aman\\\\Downloads\\\\AReM\\\\lying\\\\dataset6.csv', 'C:\\\\Users\\\\Aman\\\\Downloads\\\\AReM\\\\lying\\\\dataset7.csv', 'C:\\\\Users\\\\Aman\\\\Downloads\\\\AReM\\\\lying\\\\dataset8.csv', 'C:\\\\Users\\\\Aman\\\\Downloads\\\\AReM\\\\lying\\\\dataset9.csv', 'C:\\\\Users\\\\Aman\\\\Downloads\\\\AReM\\\\sitting\\\\dataset1.csv', 'C:\\\\Users\\\\Aman\\\\Downloads\\\\AReM\\\\sitting\\\\dataset10.csv', 'C:\\\\Users\\\\Aman\\\\Downloads\\\\AReM\\\\sitting\\\\dataset11.csv', 'C:\\\\Users\\\\Aman\\\\Downloads\\\\AReM\\\\sitting\\\\dataset12.csv', 'C:\\\\Users\\\\Aman\\\\Downloads\\\\AReM\\\\sitting\\\\dataset13.csv', 'C:\\\\Users\\\\Aman\\\\Downloads\\\\AReM\\\\sitting\\\\dataset14.csv', 'C:\\\\Users\\\\Aman\\\\Downloads\\\\AReM\\\\sitting\\\\dataset15.csv', 'C:\\\\Users\\\\Aman\\\\Downloads\\\\AReM\\\\sitting\\\\dataset2.csv', 'C:\\\\Users\\\\Aman\\\\Downloads\\\\AReM\\\\sitting\\\\dataset3.csv', 'C:\\\\Users\\\\Aman\\\\Downloads\\\\AReM\\\\sitting\\\\dataset4.csv', 'C:\\\\Users\\\\Aman\\\\Downloads\\\\AReM\\\\sitting\\\\dataset5.csv', 'C:\\\\Users\\\\Aman\\\\Downloads\\\\AReM\\\\sitting\\\\dataset6.csv']\n",
      "['C:\\\\Users\\\\Aman\\\\Downloads\\\\AReM\\\\bending1\\\\dataset1.csv', 'C:\\\\Users\\\\Aman\\\\Downloads\\\\AReM\\\\bending1\\\\dataset2.csv', 'C:\\\\Users\\\\Aman\\\\Downloads\\\\AReM\\\\bending1\\\\dataset3.csv', 'C:\\\\Users\\\\Aman\\\\Downloads\\\\AReM\\\\bending1\\\\dataset4.csv', 'C:\\\\Users\\\\Aman\\\\Downloads\\\\AReM\\\\bending1\\\\dataset5.csv', 'C:\\\\Users\\\\Aman\\\\Downloads\\\\AReM\\\\bending1\\\\dataset6.csv', 'C:\\\\Users\\\\Aman\\\\Downloads\\\\AReM\\\\bending1\\\\dataset7.csv', 'C:\\\\Users\\\\Aman\\\\Downloads\\\\AReM\\\\bending2\\\\dataset1.csv', 'C:\\\\Users\\\\Aman\\\\Downloads\\\\AReM\\\\bending2\\\\dataset2.csv', 'C:\\\\Users\\\\Aman\\\\Downloads\\\\AReM\\\\bending2\\\\dataset3.csv', 'C:\\\\Users\\\\Aman\\\\Downloads\\\\AReM\\\\bending2\\\\dataset4.csv', 'C:\\\\Users\\\\Aman\\\\Downloads\\\\AReM\\\\bending2\\\\dataset5.csv', 'C:\\\\Users\\\\Aman\\\\Downloads\\\\AReM\\\\bending2\\\\dataset6.csv', 'C:\\\\Users\\\\Aman\\\\Downloads\\\\AReM\\\\cycling\\\\dataset1.csv', 'C:\\\\Users\\\\Aman\\\\Downloads\\\\AReM\\\\cycling\\\\dataset10.csv', 'C:\\\\Users\\\\Aman\\\\Downloads\\\\AReM\\\\cycling\\\\dataset11.csv', 'C:\\\\Users\\\\Aman\\\\Downloads\\\\AReM\\\\cycling\\\\dataset12.csv', 'C:\\\\Users\\\\Aman\\\\Downloads\\\\AReM\\\\cycling\\\\dataset13.csv', 'C:\\\\Users\\\\Aman\\\\Downloads\\\\AReM\\\\cycling\\\\dataset14.csv', 'C:\\\\Users\\\\Aman\\\\Downloads\\\\AReM\\\\cycling\\\\dataset15.csv', 'C:\\\\Users\\\\Aman\\\\Downloads\\\\AReM\\\\cycling\\\\dataset2.csv', 'C:\\\\Users\\\\Aman\\\\Downloads\\\\AReM\\\\cycling\\\\dataset3.csv', 'C:\\\\Users\\\\Aman\\\\Downloads\\\\AReM\\\\cycling\\\\dataset4.csv', 'C:\\\\Users\\\\Aman\\\\Downloads\\\\AReM\\\\cycling\\\\dataset5.csv', 'C:\\\\Users\\\\Aman\\\\Downloads\\\\AReM\\\\cycling\\\\dataset6.csv', 'C:\\\\Users\\\\Aman\\\\Downloads\\\\AReM\\\\cycling\\\\dataset7.csv', 'C:\\\\Users\\\\Aman\\\\Downloads\\\\AReM\\\\cycling\\\\dataset8.csv', 'C:\\\\Users\\\\Aman\\\\Downloads\\\\AReM\\\\cycling\\\\dataset9.csv', 'C:\\\\Users\\\\Aman\\\\Downloads\\\\AReM\\\\lying\\\\dataset1.csv', 'C:\\\\Users\\\\Aman\\\\Downloads\\\\AReM\\\\lying\\\\dataset10.csv', 'C:\\\\Users\\\\Aman\\\\Downloads\\\\AReM\\\\lying\\\\dataset11.csv', 'C:\\\\Users\\\\Aman\\\\Downloads\\\\AReM\\\\lying\\\\dataset12.csv', 'C:\\\\Users\\\\Aman\\\\Downloads\\\\AReM\\\\lying\\\\dataset13.csv', 'C:\\\\Users\\\\Aman\\\\Downloads\\\\AReM\\\\lying\\\\dataset14.csv', 'C:\\\\Users\\\\Aman\\\\Downloads\\\\AReM\\\\lying\\\\dataset15.csv', 'C:\\\\Users\\\\Aman\\\\Downloads\\\\AReM\\\\lying\\\\dataset2.csv', 'C:\\\\Users\\\\Aman\\\\Downloads\\\\AReM\\\\lying\\\\dataset3.csv', 'C:\\\\Users\\\\Aman\\\\Downloads\\\\AReM\\\\lying\\\\dataset4.csv', 'C:\\\\Users\\\\Aman\\\\Downloads\\\\AReM\\\\lying\\\\dataset5.csv', 'C:\\\\Users\\\\Aman\\\\Downloads\\\\AReM\\\\lying\\\\dataset6.csv', 'C:\\\\Users\\\\Aman\\\\Downloads\\\\AReM\\\\lying\\\\dataset7.csv', 'C:\\\\Users\\\\Aman\\\\Downloads\\\\AReM\\\\lying\\\\dataset8.csv', 'C:\\\\Users\\\\Aman\\\\Downloads\\\\AReM\\\\lying\\\\dataset9.csv', 'C:\\\\Users\\\\Aman\\\\Downloads\\\\AReM\\\\sitting\\\\dataset1.csv', 'C:\\\\Users\\\\Aman\\\\Downloads\\\\AReM\\\\sitting\\\\dataset10.csv', 'C:\\\\Users\\\\Aman\\\\Downloads\\\\AReM\\\\sitting\\\\dataset11.csv', 'C:\\\\Users\\\\Aman\\\\Downloads\\\\AReM\\\\sitting\\\\dataset12.csv', 'C:\\\\Users\\\\Aman\\\\Downloads\\\\AReM\\\\sitting\\\\dataset13.csv', 'C:\\\\Users\\\\Aman\\\\Downloads\\\\AReM\\\\sitting\\\\dataset14.csv', 'C:\\\\Users\\\\Aman\\\\Downloads\\\\AReM\\\\sitting\\\\dataset15.csv', 'C:\\\\Users\\\\Aman\\\\Downloads\\\\AReM\\\\sitting\\\\dataset2.csv', 'C:\\\\Users\\\\Aman\\\\Downloads\\\\AReM\\\\sitting\\\\dataset3.csv', 'C:\\\\Users\\\\Aman\\\\Downloads\\\\AReM\\\\sitting\\\\dataset4.csv', 'C:\\\\Users\\\\Aman\\\\Downloads\\\\AReM\\\\sitting\\\\dataset5.csv', 'C:\\\\Users\\\\Aman\\\\Downloads\\\\AReM\\\\sitting\\\\dataset6.csv', 'C:\\\\Users\\\\Aman\\\\Downloads\\\\AReM\\\\sitting\\\\dataset7.csv']\n",
      "['C:\\\\Users\\\\Aman\\\\Downloads\\\\AReM\\\\bending1\\\\dataset1.csv', 'C:\\\\Users\\\\Aman\\\\Downloads\\\\AReM\\\\bending1\\\\dataset2.csv', 'C:\\\\Users\\\\Aman\\\\Downloads\\\\AReM\\\\bending1\\\\dataset3.csv', 'C:\\\\Users\\\\Aman\\\\Downloads\\\\AReM\\\\bending1\\\\dataset4.csv', 'C:\\\\Users\\\\Aman\\\\Downloads\\\\AReM\\\\bending1\\\\dataset5.csv', 'C:\\\\Users\\\\Aman\\\\Downloads\\\\AReM\\\\bending1\\\\dataset6.csv', 'C:\\\\Users\\\\Aman\\\\Downloads\\\\AReM\\\\bending1\\\\dataset7.csv', 'C:\\\\Users\\\\Aman\\\\Downloads\\\\AReM\\\\bending2\\\\dataset1.csv', 'C:\\\\Users\\\\Aman\\\\Downloads\\\\AReM\\\\bending2\\\\dataset2.csv', 'C:\\\\Users\\\\Aman\\\\Downloads\\\\AReM\\\\bending2\\\\dataset3.csv', 'C:\\\\Users\\\\Aman\\\\Downloads\\\\AReM\\\\bending2\\\\dataset4.csv', 'C:\\\\Users\\\\Aman\\\\Downloads\\\\AReM\\\\bending2\\\\dataset5.csv', 'C:\\\\Users\\\\Aman\\\\Downloads\\\\AReM\\\\bending2\\\\dataset6.csv', 'C:\\\\Users\\\\Aman\\\\Downloads\\\\AReM\\\\cycling\\\\dataset1.csv', 'C:\\\\Users\\\\Aman\\\\Downloads\\\\AReM\\\\cycling\\\\dataset10.csv', 'C:\\\\Users\\\\Aman\\\\Downloads\\\\AReM\\\\cycling\\\\dataset11.csv', 'C:\\\\Users\\\\Aman\\\\Downloads\\\\AReM\\\\cycling\\\\dataset12.csv', 'C:\\\\Users\\\\Aman\\\\Downloads\\\\AReM\\\\cycling\\\\dataset13.csv', 'C:\\\\Users\\\\Aman\\\\Downloads\\\\AReM\\\\cycling\\\\dataset14.csv', 'C:\\\\Users\\\\Aman\\\\Downloads\\\\AReM\\\\cycling\\\\dataset15.csv', 'C:\\\\Users\\\\Aman\\\\Downloads\\\\AReM\\\\cycling\\\\dataset2.csv', 'C:\\\\Users\\\\Aman\\\\Downloads\\\\AReM\\\\cycling\\\\dataset3.csv', 'C:\\\\Users\\\\Aman\\\\Downloads\\\\AReM\\\\cycling\\\\dataset4.csv', 'C:\\\\Users\\\\Aman\\\\Downloads\\\\AReM\\\\cycling\\\\dataset5.csv', 'C:\\\\Users\\\\Aman\\\\Downloads\\\\AReM\\\\cycling\\\\dataset6.csv', 'C:\\\\Users\\\\Aman\\\\Downloads\\\\AReM\\\\cycling\\\\dataset7.csv', 'C:\\\\Users\\\\Aman\\\\Downloads\\\\AReM\\\\cycling\\\\dataset8.csv', 'C:\\\\Users\\\\Aman\\\\Downloads\\\\AReM\\\\cycling\\\\dataset9.csv', 'C:\\\\Users\\\\Aman\\\\Downloads\\\\AReM\\\\lying\\\\dataset1.csv', 'C:\\\\Users\\\\Aman\\\\Downloads\\\\AReM\\\\lying\\\\dataset10.csv', 'C:\\\\Users\\\\Aman\\\\Downloads\\\\AReM\\\\lying\\\\dataset11.csv', 'C:\\\\Users\\\\Aman\\\\Downloads\\\\AReM\\\\lying\\\\dataset12.csv', 'C:\\\\Users\\\\Aman\\\\Downloads\\\\AReM\\\\lying\\\\dataset13.csv', 'C:\\\\Users\\\\Aman\\\\Downloads\\\\AReM\\\\lying\\\\dataset14.csv', 'C:\\\\Users\\\\Aman\\\\Downloads\\\\AReM\\\\lying\\\\dataset15.csv', 'C:\\\\Users\\\\Aman\\\\Downloads\\\\AReM\\\\lying\\\\dataset2.csv', 'C:\\\\Users\\\\Aman\\\\Downloads\\\\AReM\\\\lying\\\\dataset3.csv', 'C:\\\\Users\\\\Aman\\\\Downloads\\\\AReM\\\\lying\\\\dataset4.csv', 'C:\\\\Users\\\\Aman\\\\Downloads\\\\AReM\\\\lying\\\\dataset5.csv', 'C:\\\\Users\\\\Aman\\\\Downloads\\\\AReM\\\\lying\\\\dataset6.csv', 'C:\\\\Users\\\\Aman\\\\Downloads\\\\AReM\\\\lying\\\\dataset7.csv', 'C:\\\\Users\\\\Aman\\\\Downloads\\\\AReM\\\\lying\\\\dataset8.csv', 'C:\\\\Users\\\\Aman\\\\Downloads\\\\AReM\\\\lying\\\\dataset9.csv', 'C:\\\\Users\\\\Aman\\\\Downloads\\\\AReM\\\\sitting\\\\dataset1.csv', 'C:\\\\Users\\\\Aman\\\\Downloads\\\\AReM\\\\sitting\\\\dataset10.csv', 'C:\\\\Users\\\\Aman\\\\Downloads\\\\AReM\\\\sitting\\\\dataset11.csv', 'C:\\\\Users\\\\Aman\\\\Downloads\\\\AReM\\\\sitting\\\\dataset12.csv', 'C:\\\\Users\\\\Aman\\\\Downloads\\\\AReM\\\\sitting\\\\dataset13.csv', 'C:\\\\Users\\\\Aman\\\\Downloads\\\\AReM\\\\sitting\\\\dataset14.csv', 'C:\\\\Users\\\\Aman\\\\Downloads\\\\AReM\\\\sitting\\\\dataset15.csv', 'C:\\\\Users\\\\Aman\\\\Downloads\\\\AReM\\\\sitting\\\\dataset2.csv', 'C:\\\\Users\\\\Aman\\\\Downloads\\\\AReM\\\\sitting\\\\dataset3.csv', 'C:\\\\Users\\\\Aman\\\\Downloads\\\\AReM\\\\sitting\\\\dataset4.csv', 'C:\\\\Users\\\\Aman\\\\Downloads\\\\AReM\\\\sitting\\\\dataset5.csv', 'C:\\\\Users\\\\Aman\\\\Downloads\\\\AReM\\\\sitting\\\\dataset6.csv', 'C:\\\\Users\\\\Aman\\\\Downloads\\\\AReM\\\\sitting\\\\dataset7.csv', 'C:\\\\Users\\\\Aman\\\\Downloads\\\\AReM\\\\sitting\\\\dataset8.csv']\n",
      "['C:\\\\Users\\\\Aman\\\\Downloads\\\\AReM\\\\bending1\\\\dataset1.csv', 'C:\\\\Users\\\\Aman\\\\Downloads\\\\AReM\\\\bending1\\\\dataset2.csv', 'C:\\\\Users\\\\Aman\\\\Downloads\\\\AReM\\\\bending1\\\\dataset3.csv', 'C:\\\\Users\\\\Aman\\\\Downloads\\\\AReM\\\\bending1\\\\dataset4.csv', 'C:\\\\Users\\\\Aman\\\\Downloads\\\\AReM\\\\bending1\\\\dataset5.csv', 'C:\\\\Users\\\\Aman\\\\Downloads\\\\AReM\\\\bending1\\\\dataset6.csv', 'C:\\\\Users\\\\Aman\\\\Downloads\\\\AReM\\\\bending1\\\\dataset7.csv', 'C:\\\\Users\\\\Aman\\\\Downloads\\\\AReM\\\\bending2\\\\dataset1.csv', 'C:\\\\Users\\\\Aman\\\\Downloads\\\\AReM\\\\bending2\\\\dataset2.csv', 'C:\\\\Users\\\\Aman\\\\Downloads\\\\AReM\\\\bending2\\\\dataset3.csv', 'C:\\\\Users\\\\Aman\\\\Downloads\\\\AReM\\\\bending2\\\\dataset4.csv', 'C:\\\\Users\\\\Aman\\\\Downloads\\\\AReM\\\\bending2\\\\dataset5.csv', 'C:\\\\Users\\\\Aman\\\\Downloads\\\\AReM\\\\bending2\\\\dataset6.csv', 'C:\\\\Users\\\\Aman\\\\Downloads\\\\AReM\\\\cycling\\\\dataset1.csv', 'C:\\\\Users\\\\Aman\\\\Downloads\\\\AReM\\\\cycling\\\\dataset10.csv', 'C:\\\\Users\\\\Aman\\\\Downloads\\\\AReM\\\\cycling\\\\dataset11.csv', 'C:\\\\Users\\\\Aman\\\\Downloads\\\\AReM\\\\cycling\\\\dataset12.csv', 'C:\\\\Users\\\\Aman\\\\Downloads\\\\AReM\\\\cycling\\\\dataset13.csv', 'C:\\\\Users\\\\Aman\\\\Downloads\\\\AReM\\\\cycling\\\\dataset14.csv', 'C:\\\\Users\\\\Aman\\\\Downloads\\\\AReM\\\\cycling\\\\dataset15.csv', 'C:\\\\Users\\\\Aman\\\\Downloads\\\\AReM\\\\cycling\\\\dataset2.csv', 'C:\\\\Users\\\\Aman\\\\Downloads\\\\AReM\\\\cycling\\\\dataset3.csv', 'C:\\\\Users\\\\Aman\\\\Downloads\\\\AReM\\\\cycling\\\\dataset4.csv', 'C:\\\\Users\\\\Aman\\\\Downloads\\\\AReM\\\\cycling\\\\dataset5.csv', 'C:\\\\Users\\\\Aman\\\\Downloads\\\\AReM\\\\cycling\\\\dataset6.csv', 'C:\\\\Users\\\\Aman\\\\Downloads\\\\AReM\\\\cycling\\\\dataset7.csv', 'C:\\\\Users\\\\Aman\\\\Downloads\\\\AReM\\\\cycling\\\\dataset8.csv', 'C:\\\\Users\\\\Aman\\\\Downloads\\\\AReM\\\\cycling\\\\dataset9.csv', 'C:\\\\Users\\\\Aman\\\\Downloads\\\\AReM\\\\lying\\\\dataset1.csv', 'C:\\\\Users\\\\Aman\\\\Downloads\\\\AReM\\\\lying\\\\dataset10.csv', 'C:\\\\Users\\\\Aman\\\\Downloads\\\\AReM\\\\lying\\\\dataset11.csv', 'C:\\\\Users\\\\Aman\\\\Downloads\\\\AReM\\\\lying\\\\dataset12.csv', 'C:\\\\Users\\\\Aman\\\\Downloads\\\\AReM\\\\lying\\\\dataset13.csv', 'C:\\\\Users\\\\Aman\\\\Downloads\\\\AReM\\\\lying\\\\dataset14.csv', 'C:\\\\Users\\\\Aman\\\\Downloads\\\\AReM\\\\lying\\\\dataset15.csv', 'C:\\\\Users\\\\Aman\\\\Downloads\\\\AReM\\\\lying\\\\dataset2.csv', 'C:\\\\Users\\\\Aman\\\\Downloads\\\\AReM\\\\lying\\\\dataset3.csv', 'C:\\\\Users\\\\Aman\\\\Downloads\\\\AReM\\\\lying\\\\dataset4.csv', 'C:\\\\Users\\\\Aman\\\\Downloads\\\\AReM\\\\lying\\\\dataset5.csv', 'C:\\\\Users\\\\Aman\\\\Downloads\\\\AReM\\\\lying\\\\dataset6.csv', 'C:\\\\Users\\\\Aman\\\\Downloads\\\\AReM\\\\lying\\\\dataset7.csv', 'C:\\\\Users\\\\Aman\\\\Downloads\\\\AReM\\\\lying\\\\dataset8.csv', 'C:\\\\Users\\\\Aman\\\\Downloads\\\\AReM\\\\lying\\\\dataset9.csv', 'C:\\\\Users\\\\Aman\\\\Downloads\\\\AReM\\\\sitting\\\\dataset1.csv', 'C:\\\\Users\\\\Aman\\\\Downloads\\\\AReM\\\\sitting\\\\dataset10.csv', 'C:\\\\Users\\\\Aman\\\\Downloads\\\\AReM\\\\sitting\\\\dataset11.csv', 'C:\\\\Users\\\\Aman\\\\Downloads\\\\AReM\\\\sitting\\\\dataset12.csv', 'C:\\\\Users\\\\Aman\\\\Downloads\\\\AReM\\\\sitting\\\\dataset13.csv', 'C:\\\\Users\\\\Aman\\\\Downloads\\\\AReM\\\\sitting\\\\dataset14.csv', 'C:\\\\Users\\\\Aman\\\\Downloads\\\\AReM\\\\sitting\\\\dataset15.csv', 'C:\\\\Users\\\\Aman\\\\Downloads\\\\AReM\\\\sitting\\\\dataset2.csv', 'C:\\\\Users\\\\Aman\\\\Downloads\\\\AReM\\\\sitting\\\\dataset3.csv', 'C:\\\\Users\\\\Aman\\\\Downloads\\\\AReM\\\\sitting\\\\dataset4.csv', 'C:\\\\Users\\\\Aman\\\\Downloads\\\\AReM\\\\sitting\\\\dataset5.csv', 'C:\\\\Users\\\\Aman\\\\Downloads\\\\AReM\\\\sitting\\\\dataset6.csv', 'C:\\\\Users\\\\Aman\\\\Downloads\\\\AReM\\\\sitting\\\\dataset7.csv', 'C:\\\\Users\\\\Aman\\\\Downloads\\\\AReM\\\\sitting\\\\dataset8.csv', 'C:\\\\Users\\\\Aman\\\\Downloads\\\\AReM\\\\sitting\\\\dataset9.csv']\n",
      "['C:\\\\Users\\\\Aman\\\\Downloads\\\\AReM\\\\bending1\\\\dataset1.csv', 'C:\\\\Users\\\\Aman\\\\Downloads\\\\AReM\\\\bending1\\\\dataset2.csv', 'C:\\\\Users\\\\Aman\\\\Downloads\\\\AReM\\\\bending1\\\\dataset3.csv', 'C:\\\\Users\\\\Aman\\\\Downloads\\\\AReM\\\\bending1\\\\dataset4.csv', 'C:\\\\Users\\\\Aman\\\\Downloads\\\\AReM\\\\bending1\\\\dataset5.csv', 'C:\\\\Users\\\\Aman\\\\Downloads\\\\AReM\\\\bending1\\\\dataset6.csv', 'C:\\\\Users\\\\Aman\\\\Downloads\\\\AReM\\\\bending1\\\\dataset7.csv', 'C:\\\\Users\\\\Aman\\\\Downloads\\\\AReM\\\\bending2\\\\dataset1.csv', 'C:\\\\Users\\\\Aman\\\\Downloads\\\\AReM\\\\bending2\\\\dataset2.csv', 'C:\\\\Users\\\\Aman\\\\Downloads\\\\AReM\\\\bending2\\\\dataset3.csv', 'C:\\\\Users\\\\Aman\\\\Downloads\\\\AReM\\\\bending2\\\\dataset4.csv', 'C:\\\\Users\\\\Aman\\\\Downloads\\\\AReM\\\\bending2\\\\dataset5.csv', 'C:\\\\Users\\\\Aman\\\\Downloads\\\\AReM\\\\bending2\\\\dataset6.csv', 'C:\\\\Users\\\\Aman\\\\Downloads\\\\AReM\\\\cycling\\\\dataset1.csv', 'C:\\\\Users\\\\Aman\\\\Downloads\\\\AReM\\\\cycling\\\\dataset10.csv', 'C:\\\\Users\\\\Aman\\\\Downloads\\\\AReM\\\\cycling\\\\dataset11.csv', 'C:\\\\Users\\\\Aman\\\\Downloads\\\\AReM\\\\cycling\\\\dataset12.csv', 'C:\\\\Users\\\\Aman\\\\Downloads\\\\AReM\\\\cycling\\\\dataset13.csv', 'C:\\\\Users\\\\Aman\\\\Downloads\\\\AReM\\\\cycling\\\\dataset14.csv', 'C:\\\\Users\\\\Aman\\\\Downloads\\\\AReM\\\\cycling\\\\dataset15.csv', 'C:\\\\Users\\\\Aman\\\\Downloads\\\\AReM\\\\cycling\\\\dataset2.csv', 'C:\\\\Users\\\\Aman\\\\Downloads\\\\AReM\\\\cycling\\\\dataset3.csv', 'C:\\\\Users\\\\Aman\\\\Downloads\\\\AReM\\\\cycling\\\\dataset4.csv', 'C:\\\\Users\\\\Aman\\\\Downloads\\\\AReM\\\\cycling\\\\dataset5.csv', 'C:\\\\Users\\\\Aman\\\\Downloads\\\\AReM\\\\cycling\\\\dataset6.csv', 'C:\\\\Users\\\\Aman\\\\Downloads\\\\AReM\\\\cycling\\\\dataset7.csv', 'C:\\\\Users\\\\Aman\\\\Downloads\\\\AReM\\\\cycling\\\\dataset8.csv', 'C:\\\\Users\\\\Aman\\\\Downloads\\\\AReM\\\\cycling\\\\dataset9.csv', 'C:\\\\Users\\\\Aman\\\\Downloads\\\\AReM\\\\lying\\\\dataset1.csv', 'C:\\\\Users\\\\Aman\\\\Downloads\\\\AReM\\\\lying\\\\dataset10.csv', 'C:\\\\Users\\\\Aman\\\\Downloads\\\\AReM\\\\lying\\\\dataset11.csv', 'C:\\\\Users\\\\Aman\\\\Downloads\\\\AReM\\\\lying\\\\dataset12.csv', 'C:\\\\Users\\\\Aman\\\\Downloads\\\\AReM\\\\lying\\\\dataset13.csv', 'C:\\\\Users\\\\Aman\\\\Downloads\\\\AReM\\\\lying\\\\dataset14.csv', 'C:\\\\Users\\\\Aman\\\\Downloads\\\\AReM\\\\lying\\\\dataset15.csv', 'C:\\\\Users\\\\Aman\\\\Downloads\\\\AReM\\\\lying\\\\dataset2.csv', 'C:\\\\Users\\\\Aman\\\\Downloads\\\\AReM\\\\lying\\\\dataset3.csv', 'C:\\\\Users\\\\Aman\\\\Downloads\\\\AReM\\\\lying\\\\dataset4.csv', 'C:\\\\Users\\\\Aman\\\\Downloads\\\\AReM\\\\lying\\\\dataset5.csv', 'C:\\\\Users\\\\Aman\\\\Downloads\\\\AReM\\\\lying\\\\dataset6.csv', 'C:\\\\Users\\\\Aman\\\\Downloads\\\\AReM\\\\lying\\\\dataset7.csv', 'C:\\\\Users\\\\Aman\\\\Downloads\\\\AReM\\\\lying\\\\dataset8.csv', 'C:\\\\Users\\\\Aman\\\\Downloads\\\\AReM\\\\lying\\\\dataset9.csv', 'C:\\\\Users\\\\Aman\\\\Downloads\\\\AReM\\\\sitting\\\\dataset1.csv', 'C:\\\\Users\\\\Aman\\\\Downloads\\\\AReM\\\\sitting\\\\dataset10.csv', 'C:\\\\Users\\\\Aman\\\\Downloads\\\\AReM\\\\sitting\\\\dataset11.csv', 'C:\\\\Users\\\\Aman\\\\Downloads\\\\AReM\\\\sitting\\\\dataset12.csv', 'C:\\\\Users\\\\Aman\\\\Downloads\\\\AReM\\\\sitting\\\\dataset13.csv', 'C:\\\\Users\\\\Aman\\\\Downloads\\\\AReM\\\\sitting\\\\dataset14.csv', 'C:\\\\Users\\\\Aman\\\\Downloads\\\\AReM\\\\sitting\\\\dataset15.csv', 'C:\\\\Users\\\\Aman\\\\Downloads\\\\AReM\\\\sitting\\\\dataset2.csv', 'C:\\\\Users\\\\Aman\\\\Downloads\\\\AReM\\\\sitting\\\\dataset3.csv', 'C:\\\\Users\\\\Aman\\\\Downloads\\\\AReM\\\\sitting\\\\dataset4.csv', 'C:\\\\Users\\\\Aman\\\\Downloads\\\\AReM\\\\sitting\\\\dataset5.csv', 'C:\\\\Users\\\\Aman\\\\Downloads\\\\AReM\\\\sitting\\\\dataset6.csv', 'C:\\\\Users\\\\Aman\\\\Downloads\\\\AReM\\\\sitting\\\\dataset7.csv', 'C:\\\\Users\\\\Aman\\\\Downloads\\\\AReM\\\\sitting\\\\dataset8.csv', 'C:\\\\Users\\\\Aman\\\\Downloads\\\\AReM\\\\sitting\\\\dataset9.csv', 'C:\\\\Users\\\\Aman\\\\Downloads\\\\AReM\\\\standing\\\\dataset1.csv']\n",
      "['C:\\\\Users\\\\Aman\\\\Downloads\\\\AReM\\\\bending1\\\\dataset1.csv', 'C:\\\\Users\\\\Aman\\\\Downloads\\\\AReM\\\\bending1\\\\dataset2.csv', 'C:\\\\Users\\\\Aman\\\\Downloads\\\\AReM\\\\bending1\\\\dataset3.csv', 'C:\\\\Users\\\\Aman\\\\Downloads\\\\AReM\\\\bending1\\\\dataset4.csv', 'C:\\\\Users\\\\Aman\\\\Downloads\\\\AReM\\\\bending1\\\\dataset5.csv', 'C:\\\\Users\\\\Aman\\\\Downloads\\\\AReM\\\\bending1\\\\dataset6.csv', 'C:\\\\Users\\\\Aman\\\\Downloads\\\\AReM\\\\bending1\\\\dataset7.csv', 'C:\\\\Users\\\\Aman\\\\Downloads\\\\AReM\\\\bending2\\\\dataset1.csv', 'C:\\\\Users\\\\Aman\\\\Downloads\\\\AReM\\\\bending2\\\\dataset2.csv', 'C:\\\\Users\\\\Aman\\\\Downloads\\\\AReM\\\\bending2\\\\dataset3.csv', 'C:\\\\Users\\\\Aman\\\\Downloads\\\\AReM\\\\bending2\\\\dataset4.csv', 'C:\\\\Users\\\\Aman\\\\Downloads\\\\AReM\\\\bending2\\\\dataset5.csv', 'C:\\\\Users\\\\Aman\\\\Downloads\\\\AReM\\\\bending2\\\\dataset6.csv', 'C:\\\\Users\\\\Aman\\\\Downloads\\\\AReM\\\\cycling\\\\dataset1.csv', 'C:\\\\Users\\\\Aman\\\\Downloads\\\\AReM\\\\cycling\\\\dataset10.csv', 'C:\\\\Users\\\\Aman\\\\Downloads\\\\AReM\\\\cycling\\\\dataset11.csv', 'C:\\\\Users\\\\Aman\\\\Downloads\\\\AReM\\\\cycling\\\\dataset12.csv', 'C:\\\\Users\\\\Aman\\\\Downloads\\\\AReM\\\\cycling\\\\dataset13.csv', 'C:\\\\Users\\\\Aman\\\\Downloads\\\\AReM\\\\cycling\\\\dataset14.csv', 'C:\\\\Users\\\\Aman\\\\Downloads\\\\AReM\\\\cycling\\\\dataset15.csv', 'C:\\\\Users\\\\Aman\\\\Downloads\\\\AReM\\\\cycling\\\\dataset2.csv', 'C:\\\\Users\\\\Aman\\\\Downloads\\\\AReM\\\\cycling\\\\dataset3.csv', 'C:\\\\Users\\\\Aman\\\\Downloads\\\\AReM\\\\cycling\\\\dataset4.csv', 'C:\\\\Users\\\\Aman\\\\Downloads\\\\AReM\\\\cycling\\\\dataset5.csv', 'C:\\\\Users\\\\Aman\\\\Downloads\\\\AReM\\\\cycling\\\\dataset6.csv', 'C:\\\\Users\\\\Aman\\\\Downloads\\\\AReM\\\\cycling\\\\dataset7.csv', 'C:\\\\Users\\\\Aman\\\\Downloads\\\\AReM\\\\cycling\\\\dataset8.csv', 'C:\\\\Users\\\\Aman\\\\Downloads\\\\AReM\\\\cycling\\\\dataset9.csv', 'C:\\\\Users\\\\Aman\\\\Downloads\\\\AReM\\\\lying\\\\dataset1.csv', 'C:\\\\Users\\\\Aman\\\\Downloads\\\\AReM\\\\lying\\\\dataset10.csv', 'C:\\\\Users\\\\Aman\\\\Downloads\\\\AReM\\\\lying\\\\dataset11.csv', 'C:\\\\Users\\\\Aman\\\\Downloads\\\\AReM\\\\lying\\\\dataset12.csv', 'C:\\\\Users\\\\Aman\\\\Downloads\\\\AReM\\\\lying\\\\dataset13.csv', 'C:\\\\Users\\\\Aman\\\\Downloads\\\\AReM\\\\lying\\\\dataset14.csv', 'C:\\\\Users\\\\Aman\\\\Downloads\\\\AReM\\\\lying\\\\dataset15.csv', 'C:\\\\Users\\\\Aman\\\\Downloads\\\\AReM\\\\lying\\\\dataset2.csv', 'C:\\\\Users\\\\Aman\\\\Downloads\\\\AReM\\\\lying\\\\dataset3.csv', 'C:\\\\Users\\\\Aman\\\\Downloads\\\\AReM\\\\lying\\\\dataset4.csv', 'C:\\\\Users\\\\Aman\\\\Downloads\\\\AReM\\\\lying\\\\dataset5.csv', 'C:\\\\Users\\\\Aman\\\\Downloads\\\\AReM\\\\lying\\\\dataset6.csv', 'C:\\\\Users\\\\Aman\\\\Downloads\\\\AReM\\\\lying\\\\dataset7.csv', 'C:\\\\Users\\\\Aman\\\\Downloads\\\\AReM\\\\lying\\\\dataset8.csv', 'C:\\\\Users\\\\Aman\\\\Downloads\\\\AReM\\\\lying\\\\dataset9.csv', 'C:\\\\Users\\\\Aman\\\\Downloads\\\\AReM\\\\sitting\\\\dataset1.csv', 'C:\\\\Users\\\\Aman\\\\Downloads\\\\AReM\\\\sitting\\\\dataset10.csv', 'C:\\\\Users\\\\Aman\\\\Downloads\\\\AReM\\\\sitting\\\\dataset11.csv', 'C:\\\\Users\\\\Aman\\\\Downloads\\\\AReM\\\\sitting\\\\dataset12.csv', 'C:\\\\Users\\\\Aman\\\\Downloads\\\\AReM\\\\sitting\\\\dataset13.csv', 'C:\\\\Users\\\\Aman\\\\Downloads\\\\AReM\\\\sitting\\\\dataset14.csv', 'C:\\\\Users\\\\Aman\\\\Downloads\\\\AReM\\\\sitting\\\\dataset15.csv', 'C:\\\\Users\\\\Aman\\\\Downloads\\\\AReM\\\\sitting\\\\dataset2.csv', 'C:\\\\Users\\\\Aman\\\\Downloads\\\\AReM\\\\sitting\\\\dataset3.csv', 'C:\\\\Users\\\\Aman\\\\Downloads\\\\AReM\\\\sitting\\\\dataset4.csv', 'C:\\\\Users\\\\Aman\\\\Downloads\\\\AReM\\\\sitting\\\\dataset5.csv', 'C:\\\\Users\\\\Aman\\\\Downloads\\\\AReM\\\\sitting\\\\dataset6.csv', 'C:\\\\Users\\\\Aman\\\\Downloads\\\\AReM\\\\sitting\\\\dataset7.csv', 'C:\\\\Users\\\\Aman\\\\Downloads\\\\AReM\\\\sitting\\\\dataset8.csv', 'C:\\\\Users\\\\Aman\\\\Downloads\\\\AReM\\\\sitting\\\\dataset9.csv', 'C:\\\\Users\\\\Aman\\\\Downloads\\\\AReM\\\\standing\\\\dataset1.csv', 'C:\\\\Users\\\\Aman\\\\Downloads\\\\AReM\\\\standing\\\\dataset10.csv']\n",
      "['C:\\\\Users\\\\Aman\\\\Downloads\\\\AReM\\\\bending1\\\\dataset1.csv', 'C:\\\\Users\\\\Aman\\\\Downloads\\\\AReM\\\\bending1\\\\dataset2.csv', 'C:\\\\Users\\\\Aman\\\\Downloads\\\\AReM\\\\bending1\\\\dataset3.csv', 'C:\\\\Users\\\\Aman\\\\Downloads\\\\AReM\\\\bending1\\\\dataset4.csv', 'C:\\\\Users\\\\Aman\\\\Downloads\\\\AReM\\\\bending1\\\\dataset5.csv', 'C:\\\\Users\\\\Aman\\\\Downloads\\\\AReM\\\\bending1\\\\dataset6.csv', 'C:\\\\Users\\\\Aman\\\\Downloads\\\\AReM\\\\bending1\\\\dataset7.csv', 'C:\\\\Users\\\\Aman\\\\Downloads\\\\AReM\\\\bending2\\\\dataset1.csv', 'C:\\\\Users\\\\Aman\\\\Downloads\\\\AReM\\\\bending2\\\\dataset2.csv', 'C:\\\\Users\\\\Aman\\\\Downloads\\\\AReM\\\\bending2\\\\dataset3.csv', 'C:\\\\Users\\\\Aman\\\\Downloads\\\\AReM\\\\bending2\\\\dataset4.csv', 'C:\\\\Users\\\\Aman\\\\Downloads\\\\AReM\\\\bending2\\\\dataset5.csv', 'C:\\\\Users\\\\Aman\\\\Downloads\\\\AReM\\\\bending2\\\\dataset6.csv', 'C:\\\\Users\\\\Aman\\\\Downloads\\\\AReM\\\\cycling\\\\dataset1.csv', 'C:\\\\Users\\\\Aman\\\\Downloads\\\\AReM\\\\cycling\\\\dataset10.csv', 'C:\\\\Users\\\\Aman\\\\Downloads\\\\AReM\\\\cycling\\\\dataset11.csv', 'C:\\\\Users\\\\Aman\\\\Downloads\\\\AReM\\\\cycling\\\\dataset12.csv', 'C:\\\\Users\\\\Aman\\\\Downloads\\\\AReM\\\\cycling\\\\dataset13.csv', 'C:\\\\Users\\\\Aman\\\\Downloads\\\\AReM\\\\cycling\\\\dataset14.csv', 'C:\\\\Users\\\\Aman\\\\Downloads\\\\AReM\\\\cycling\\\\dataset15.csv', 'C:\\\\Users\\\\Aman\\\\Downloads\\\\AReM\\\\cycling\\\\dataset2.csv', 'C:\\\\Users\\\\Aman\\\\Downloads\\\\AReM\\\\cycling\\\\dataset3.csv', 'C:\\\\Users\\\\Aman\\\\Downloads\\\\AReM\\\\cycling\\\\dataset4.csv', 'C:\\\\Users\\\\Aman\\\\Downloads\\\\AReM\\\\cycling\\\\dataset5.csv', 'C:\\\\Users\\\\Aman\\\\Downloads\\\\AReM\\\\cycling\\\\dataset6.csv', 'C:\\\\Users\\\\Aman\\\\Downloads\\\\AReM\\\\cycling\\\\dataset7.csv', 'C:\\\\Users\\\\Aman\\\\Downloads\\\\AReM\\\\cycling\\\\dataset8.csv', 'C:\\\\Users\\\\Aman\\\\Downloads\\\\AReM\\\\cycling\\\\dataset9.csv', 'C:\\\\Users\\\\Aman\\\\Downloads\\\\AReM\\\\lying\\\\dataset1.csv', 'C:\\\\Users\\\\Aman\\\\Downloads\\\\AReM\\\\lying\\\\dataset10.csv', 'C:\\\\Users\\\\Aman\\\\Downloads\\\\AReM\\\\lying\\\\dataset11.csv', 'C:\\\\Users\\\\Aman\\\\Downloads\\\\AReM\\\\lying\\\\dataset12.csv', 'C:\\\\Users\\\\Aman\\\\Downloads\\\\AReM\\\\lying\\\\dataset13.csv', 'C:\\\\Users\\\\Aman\\\\Downloads\\\\AReM\\\\lying\\\\dataset14.csv', 'C:\\\\Users\\\\Aman\\\\Downloads\\\\AReM\\\\lying\\\\dataset15.csv', 'C:\\\\Users\\\\Aman\\\\Downloads\\\\AReM\\\\lying\\\\dataset2.csv', 'C:\\\\Users\\\\Aman\\\\Downloads\\\\AReM\\\\lying\\\\dataset3.csv', 'C:\\\\Users\\\\Aman\\\\Downloads\\\\AReM\\\\lying\\\\dataset4.csv', 'C:\\\\Users\\\\Aman\\\\Downloads\\\\AReM\\\\lying\\\\dataset5.csv', 'C:\\\\Users\\\\Aman\\\\Downloads\\\\AReM\\\\lying\\\\dataset6.csv', 'C:\\\\Users\\\\Aman\\\\Downloads\\\\AReM\\\\lying\\\\dataset7.csv', 'C:\\\\Users\\\\Aman\\\\Downloads\\\\AReM\\\\lying\\\\dataset8.csv', 'C:\\\\Users\\\\Aman\\\\Downloads\\\\AReM\\\\lying\\\\dataset9.csv', 'C:\\\\Users\\\\Aman\\\\Downloads\\\\AReM\\\\sitting\\\\dataset1.csv', 'C:\\\\Users\\\\Aman\\\\Downloads\\\\AReM\\\\sitting\\\\dataset10.csv', 'C:\\\\Users\\\\Aman\\\\Downloads\\\\AReM\\\\sitting\\\\dataset11.csv', 'C:\\\\Users\\\\Aman\\\\Downloads\\\\AReM\\\\sitting\\\\dataset12.csv', 'C:\\\\Users\\\\Aman\\\\Downloads\\\\AReM\\\\sitting\\\\dataset13.csv', 'C:\\\\Users\\\\Aman\\\\Downloads\\\\AReM\\\\sitting\\\\dataset14.csv', 'C:\\\\Users\\\\Aman\\\\Downloads\\\\AReM\\\\sitting\\\\dataset15.csv', 'C:\\\\Users\\\\Aman\\\\Downloads\\\\AReM\\\\sitting\\\\dataset2.csv', 'C:\\\\Users\\\\Aman\\\\Downloads\\\\AReM\\\\sitting\\\\dataset3.csv', 'C:\\\\Users\\\\Aman\\\\Downloads\\\\AReM\\\\sitting\\\\dataset4.csv', 'C:\\\\Users\\\\Aman\\\\Downloads\\\\AReM\\\\sitting\\\\dataset5.csv', 'C:\\\\Users\\\\Aman\\\\Downloads\\\\AReM\\\\sitting\\\\dataset6.csv', 'C:\\\\Users\\\\Aman\\\\Downloads\\\\AReM\\\\sitting\\\\dataset7.csv', 'C:\\\\Users\\\\Aman\\\\Downloads\\\\AReM\\\\sitting\\\\dataset8.csv', 'C:\\\\Users\\\\Aman\\\\Downloads\\\\AReM\\\\sitting\\\\dataset9.csv', 'C:\\\\Users\\\\Aman\\\\Downloads\\\\AReM\\\\standing\\\\dataset1.csv', 'C:\\\\Users\\\\Aman\\\\Downloads\\\\AReM\\\\standing\\\\dataset10.csv', 'C:\\\\Users\\\\Aman\\\\Downloads\\\\AReM\\\\standing\\\\dataset11.csv']\n",
      "['C:\\\\Users\\\\Aman\\\\Downloads\\\\AReM\\\\bending1\\\\dataset1.csv', 'C:\\\\Users\\\\Aman\\\\Downloads\\\\AReM\\\\bending1\\\\dataset2.csv', 'C:\\\\Users\\\\Aman\\\\Downloads\\\\AReM\\\\bending1\\\\dataset3.csv', 'C:\\\\Users\\\\Aman\\\\Downloads\\\\AReM\\\\bending1\\\\dataset4.csv', 'C:\\\\Users\\\\Aman\\\\Downloads\\\\AReM\\\\bending1\\\\dataset5.csv', 'C:\\\\Users\\\\Aman\\\\Downloads\\\\AReM\\\\bending1\\\\dataset6.csv', 'C:\\\\Users\\\\Aman\\\\Downloads\\\\AReM\\\\bending1\\\\dataset7.csv', 'C:\\\\Users\\\\Aman\\\\Downloads\\\\AReM\\\\bending2\\\\dataset1.csv', 'C:\\\\Users\\\\Aman\\\\Downloads\\\\AReM\\\\bending2\\\\dataset2.csv', 'C:\\\\Users\\\\Aman\\\\Downloads\\\\AReM\\\\bending2\\\\dataset3.csv', 'C:\\\\Users\\\\Aman\\\\Downloads\\\\AReM\\\\bending2\\\\dataset4.csv', 'C:\\\\Users\\\\Aman\\\\Downloads\\\\AReM\\\\bending2\\\\dataset5.csv', 'C:\\\\Users\\\\Aman\\\\Downloads\\\\AReM\\\\bending2\\\\dataset6.csv', 'C:\\\\Users\\\\Aman\\\\Downloads\\\\AReM\\\\cycling\\\\dataset1.csv', 'C:\\\\Users\\\\Aman\\\\Downloads\\\\AReM\\\\cycling\\\\dataset10.csv', 'C:\\\\Users\\\\Aman\\\\Downloads\\\\AReM\\\\cycling\\\\dataset11.csv', 'C:\\\\Users\\\\Aman\\\\Downloads\\\\AReM\\\\cycling\\\\dataset12.csv', 'C:\\\\Users\\\\Aman\\\\Downloads\\\\AReM\\\\cycling\\\\dataset13.csv', 'C:\\\\Users\\\\Aman\\\\Downloads\\\\AReM\\\\cycling\\\\dataset14.csv', 'C:\\\\Users\\\\Aman\\\\Downloads\\\\AReM\\\\cycling\\\\dataset15.csv', 'C:\\\\Users\\\\Aman\\\\Downloads\\\\AReM\\\\cycling\\\\dataset2.csv', 'C:\\\\Users\\\\Aman\\\\Downloads\\\\AReM\\\\cycling\\\\dataset3.csv', 'C:\\\\Users\\\\Aman\\\\Downloads\\\\AReM\\\\cycling\\\\dataset4.csv', 'C:\\\\Users\\\\Aman\\\\Downloads\\\\AReM\\\\cycling\\\\dataset5.csv', 'C:\\\\Users\\\\Aman\\\\Downloads\\\\AReM\\\\cycling\\\\dataset6.csv', 'C:\\\\Users\\\\Aman\\\\Downloads\\\\AReM\\\\cycling\\\\dataset7.csv', 'C:\\\\Users\\\\Aman\\\\Downloads\\\\AReM\\\\cycling\\\\dataset8.csv', 'C:\\\\Users\\\\Aman\\\\Downloads\\\\AReM\\\\cycling\\\\dataset9.csv', 'C:\\\\Users\\\\Aman\\\\Downloads\\\\AReM\\\\lying\\\\dataset1.csv', 'C:\\\\Users\\\\Aman\\\\Downloads\\\\AReM\\\\lying\\\\dataset10.csv', 'C:\\\\Users\\\\Aman\\\\Downloads\\\\AReM\\\\lying\\\\dataset11.csv', 'C:\\\\Users\\\\Aman\\\\Downloads\\\\AReM\\\\lying\\\\dataset12.csv', 'C:\\\\Users\\\\Aman\\\\Downloads\\\\AReM\\\\lying\\\\dataset13.csv', 'C:\\\\Users\\\\Aman\\\\Downloads\\\\AReM\\\\lying\\\\dataset14.csv', 'C:\\\\Users\\\\Aman\\\\Downloads\\\\AReM\\\\lying\\\\dataset15.csv', 'C:\\\\Users\\\\Aman\\\\Downloads\\\\AReM\\\\lying\\\\dataset2.csv', 'C:\\\\Users\\\\Aman\\\\Downloads\\\\AReM\\\\lying\\\\dataset3.csv', 'C:\\\\Users\\\\Aman\\\\Downloads\\\\AReM\\\\lying\\\\dataset4.csv', 'C:\\\\Users\\\\Aman\\\\Downloads\\\\AReM\\\\lying\\\\dataset5.csv', 'C:\\\\Users\\\\Aman\\\\Downloads\\\\AReM\\\\lying\\\\dataset6.csv', 'C:\\\\Users\\\\Aman\\\\Downloads\\\\AReM\\\\lying\\\\dataset7.csv', 'C:\\\\Users\\\\Aman\\\\Downloads\\\\AReM\\\\lying\\\\dataset8.csv', 'C:\\\\Users\\\\Aman\\\\Downloads\\\\AReM\\\\lying\\\\dataset9.csv', 'C:\\\\Users\\\\Aman\\\\Downloads\\\\AReM\\\\sitting\\\\dataset1.csv', 'C:\\\\Users\\\\Aman\\\\Downloads\\\\AReM\\\\sitting\\\\dataset10.csv', 'C:\\\\Users\\\\Aman\\\\Downloads\\\\AReM\\\\sitting\\\\dataset11.csv', 'C:\\\\Users\\\\Aman\\\\Downloads\\\\AReM\\\\sitting\\\\dataset12.csv', 'C:\\\\Users\\\\Aman\\\\Downloads\\\\AReM\\\\sitting\\\\dataset13.csv', 'C:\\\\Users\\\\Aman\\\\Downloads\\\\AReM\\\\sitting\\\\dataset14.csv', 'C:\\\\Users\\\\Aman\\\\Downloads\\\\AReM\\\\sitting\\\\dataset15.csv', 'C:\\\\Users\\\\Aman\\\\Downloads\\\\AReM\\\\sitting\\\\dataset2.csv', 'C:\\\\Users\\\\Aman\\\\Downloads\\\\AReM\\\\sitting\\\\dataset3.csv', 'C:\\\\Users\\\\Aman\\\\Downloads\\\\AReM\\\\sitting\\\\dataset4.csv', 'C:\\\\Users\\\\Aman\\\\Downloads\\\\AReM\\\\sitting\\\\dataset5.csv', 'C:\\\\Users\\\\Aman\\\\Downloads\\\\AReM\\\\sitting\\\\dataset6.csv', 'C:\\\\Users\\\\Aman\\\\Downloads\\\\AReM\\\\sitting\\\\dataset7.csv', 'C:\\\\Users\\\\Aman\\\\Downloads\\\\AReM\\\\sitting\\\\dataset8.csv', 'C:\\\\Users\\\\Aman\\\\Downloads\\\\AReM\\\\sitting\\\\dataset9.csv', 'C:\\\\Users\\\\Aman\\\\Downloads\\\\AReM\\\\standing\\\\dataset1.csv', 'C:\\\\Users\\\\Aman\\\\Downloads\\\\AReM\\\\standing\\\\dataset10.csv', 'C:\\\\Users\\\\Aman\\\\Downloads\\\\AReM\\\\standing\\\\dataset11.csv', 'C:\\\\Users\\\\Aman\\\\Downloads\\\\AReM\\\\standing\\\\dataset12.csv']\n",
      "['C:\\\\Users\\\\Aman\\\\Downloads\\\\AReM\\\\bending1\\\\dataset1.csv', 'C:\\\\Users\\\\Aman\\\\Downloads\\\\AReM\\\\bending1\\\\dataset2.csv', 'C:\\\\Users\\\\Aman\\\\Downloads\\\\AReM\\\\bending1\\\\dataset3.csv', 'C:\\\\Users\\\\Aman\\\\Downloads\\\\AReM\\\\bending1\\\\dataset4.csv', 'C:\\\\Users\\\\Aman\\\\Downloads\\\\AReM\\\\bending1\\\\dataset5.csv', 'C:\\\\Users\\\\Aman\\\\Downloads\\\\AReM\\\\bending1\\\\dataset6.csv', 'C:\\\\Users\\\\Aman\\\\Downloads\\\\AReM\\\\bending1\\\\dataset7.csv', 'C:\\\\Users\\\\Aman\\\\Downloads\\\\AReM\\\\bending2\\\\dataset1.csv', 'C:\\\\Users\\\\Aman\\\\Downloads\\\\AReM\\\\bending2\\\\dataset2.csv', 'C:\\\\Users\\\\Aman\\\\Downloads\\\\AReM\\\\bending2\\\\dataset3.csv', 'C:\\\\Users\\\\Aman\\\\Downloads\\\\AReM\\\\bending2\\\\dataset4.csv', 'C:\\\\Users\\\\Aman\\\\Downloads\\\\AReM\\\\bending2\\\\dataset5.csv', 'C:\\\\Users\\\\Aman\\\\Downloads\\\\AReM\\\\bending2\\\\dataset6.csv', 'C:\\\\Users\\\\Aman\\\\Downloads\\\\AReM\\\\cycling\\\\dataset1.csv', 'C:\\\\Users\\\\Aman\\\\Downloads\\\\AReM\\\\cycling\\\\dataset10.csv', 'C:\\\\Users\\\\Aman\\\\Downloads\\\\AReM\\\\cycling\\\\dataset11.csv', 'C:\\\\Users\\\\Aman\\\\Downloads\\\\AReM\\\\cycling\\\\dataset12.csv', 'C:\\\\Users\\\\Aman\\\\Downloads\\\\AReM\\\\cycling\\\\dataset13.csv', 'C:\\\\Users\\\\Aman\\\\Downloads\\\\AReM\\\\cycling\\\\dataset14.csv', 'C:\\\\Users\\\\Aman\\\\Downloads\\\\AReM\\\\cycling\\\\dataset15.csv', 'C:\\\\Users\\\\Aman\\\\Downloads\\\\AReM\\\\cycling\\\\dataset2.csv', 'C:\\\\Users\\\\Aman\\\\Downloads\\\\AReM\\\\cycling\\\\dataset3.csv', 'C:\\\\Users\\\\Aman\\\\Downloads\\\\AReM\\\\cycling\\\\dataset4.csv', 'C:\\\\Users\\\\Aman\\\\Downloads\\\\AReM\\\\cycling\\\\dataset5.csv', 'C:\\\\Users\\\\Aman\\\\Downloads\\\\AReM\\\\cycling\\\\dataset6.csv', 'C:\\\\Users\\\\Aman\\\\Downloads\\\\AReM\\\\cycling\\\\dataset7.csv', 'C:\\\\Users\\\\Aman\\\\Downloads\\\\AReM\\\\cycling\\\\dataset8.csv', 'C:\\\\Users\\\\Aman\\\\Downloads\\\\AReM\\\\cycling\\\\dataset9.csv', 'C:\\\\Users\\\\Aman\\\\Downloads\\\\AReM\\\\lying\\\\dataset1.csv', 'C:\\\\Users\\\\Aman\\\\Downloads\\\\AReM\\\\lying\\\\dataset10.csv', 'C:\\\\Users\\\\Aman\\\\Downloads\\\\AReM\\\\lying\\\\dataset11.csv', 'C:\\\\Users\\\\Aman\\\\Downloads\\\\AReM\\\\lying\\\\dataset12.csv', 'C:\\\\Users\\\\Aman\\\\Downloads\\\\AReM\\\\lying\\\\dataset13.csv', 'C:\\\\Users\\\\Aman\\\\Downloads\\\\AReM\\\\lying\\\\dataset14.csv', 'C:\\\\Users\\\\Aman\\\\Downloads\\\\AReM\\\\lying\\\\dataset15.csv', 'C:\\\\Users\\\\Aman\\\\Downloads\\\\AReM\\\\lying\\\\dataset2.csv', 'C:\\\\Users\\\\Aman\\\\Downloads\\\\AReM\\\\lying\\\\dataset3.csv', 'C:\\\\Users\\\\Aman\\\\Downloads\\\\AReM\\\\lying\\\\dataset4.csv', 'C:\\\\Users\\\\Aman\\\\Downloads\\\\AReM\\\\lying\\\\dataset5.csv', 'C:\\\\Users\\\\Aman\\\\Downloads\\\\AReM\\\\lying\\\\dataset6.csv', 'C:\\\\Users\\\\Aman\\\\Downloads\\\\AReM\\\\lying\\\\dataset7.csv', 'C:\\\\Users\\\\Aman\\\\Downloads\\\\AReM\\\\lying\\\\dataset8.csv', 'C:\\\\Users\\\\Aman\\\\Downloads\\\\AReM\\\\lying\\\\dataset9.csv', 'C:\\\\Users\\\\Aman\\\\Downloads\\\\AReM\\\\sitting\\\\dataset1.csv', 'C:\\\\Users\\\\Aman\\\\Downloads\\\\AReM\\\\sitting\\\\dataset10.csv', 'C:\\\\Users\\\\Aman\\\\Downloads\\\\AReM\\\\sitting\\\\dataset11.csv', 'C:\\\\Users\\\\Aman\\\\Downloads\\\\AReM\\\\sitting\\\\dataset12.csv', 'C:\\\\Users\\\\Aman\\\\Downloads\\\\AReM\\\\sitting\\\\dataset13.csv', 'C:\\\\Users\\\\Aman\\\\Downloads\\\\AReM\\\\sitting\\\\dataset14.csv', 'C:\\\\Users\\\\Aman\\\\Downloads\\\\AReM\\\\sitting\\\\dataset15.csv', 'C:\\\\Users\\\\Aman\\\\Downloads\\\\AReM\\\\sitting\\\\dataset2.csv', 'C:\\\\Users\\\\Aman\\\\Downloads\\\\AReM\\\\sitting\\\\dataset3.csv', 'C:\\\\Users\\\\Aman\\\\Downloads\\\\AReM\\\\sitting\\\\dataset4.csv', 'C:\\\\Users\\\\Aman\\\\Downloads\\\\AReM\\\\sitting\\\\dataset5.csv', 'C:\\\\Users\\\\Aman\\\\Downloads\\\\AReM\\\\sitting\\\\dataset6.csv', 'C:\\\\Users\\\\Aman\\\\Downloads\\\\AReM\\\\sitting\\\\dataset7.csv', 'C:\\\\Users\\\\Aman\\\\Downloads\\\\AReM\\\\sitting\\\\dataset8.csv', 'C:\\\\Users\\\\Aman\\\\Downloads\\\\AReM\\\\sitting\\\\dataset9.csv', 'C:\\\\Users\\\\Aman\\\\Downloads\\\\AReM\\\\standing\\\\dataset1.csv', 'C:\\\\Users\\\\Aman\\\\Downloads\\\\AReM\\\\standing\\\\dataset10.csv', 'C:\\\\Users\\\\Aman\\\\Downloads\\\\AReM\\\\standing\\\\dataset11.csv', 'C:\\\\Users\\\\Aman\\\\Downloads\\\\AReM\\\\standing\\\\dataset12.csv', 'C:\\\\Users\\\\Aman\\\\Downloads\\\\AReM\\\\standing\\\\dataset13.csv']\n",
      "['C:\\\\Users\\\\Aman\\\\Downloads\\\\AReM\\\\bending1\\\\dataset1.csv', 'C:\\\\Users\\\\Aman\\\\Downloads\\\\AReM\\\\bending1\\\\dataset2.csv', 'C:\\\\Users\\\\Aman\\\\Downloads\\\\AReM\\\\bending1\\\\dataset3.csv', 'C:\\\\Users\\\\Aman\\\\Downloads\\\\AReM\\\\bending1\\\\dataset4.csv', 'C:\\\\Users\\\\Aman\\\\Downloads\\\\AReM\\\\bending1\\\\dataset5.csv', 'C:\\\\Users\\\\Aman\\\\Downloads\\\\AReM\\\\bending1\\\\dataset6.csv', 'C:\\\\Users\\\\Aman\\\\Downloads\\\\AReM\\\\bending1\\\\dataset7.csv', 'C:\\\\Users\\\\Aman\\\\Downloads\\\\AReM\\\\bending2\\\\dataset1.csv', 'C:\\\\Users\\\\Aman\\\\Downloads\\\\AReM\\\\bending2\\\\dataset2.csv', 'C:\\\\Users\\\\Aman\\\\Downloads\\\\AReM\\\\bending2\\\\dataset3.csv', 'C:\\\\Users\\\\Aman\\\\Downloads\\\\AReM\\\\bending2\\\\dataset4.csv', 'C:\\\\Users\\\\Aman\\\\Downloads\\\\AReM\\\\bending2\\\\dataset5.csv', 'C:\\\\Users\\\\Aman\\\\Downloads\\\\AReM\\\\bending2\\\\dataset6.csv', 'C:\\\\Users\\\\Aman\\\\Downloads\\\\AReM\\\\cycling\\\\dataset1.csv', 'C:\\\\Users\\\\Aman\\\\Downloads\\\\AReM\\\\cycling\\\\dataset10.csv', 'C:\\\\Users\\\\Aman\\\\Downloads\\\\AReM\\\\cycling\\\\dataset11.csv', 'C:\\\\Users\\\\Aman\\\\Downloads\\\\AReM\\\\cycling\\\\dataset12.csv', 'C:\\\\Users\\\\Aman\\\\Downloads\\\\AReM\\\\cycling\\\\dataset13.csv', 'C:\\\\Users\\\\Aman\\\\Downloads\\\\AReM\\\\cycling\\\\dataset14.csv', 'C:\\\\Users\\\\Aman\\\\Downloads\\\\AReM\\\\cycling\\\\dataset15.csv', 'C:\\\\Users\\\\Aman\\\\Downloads\\\\AReM\\\\cycling\\\\dataset2.csv', 'C:\\\\Users\\\\Aman\\\\Downloads\\\\AReM\\\\cycling\\\\dataset3.csv', 'C:\\\\Users\\\\Aman\\\\Downloads\\\\AReM\\\\cycling\\\\dataset4.csv', 'C:\\\\Users\\\\Aman\\\\Downloads\\\\AReM\\\\cycling\\\\dataset5.csv', 'C:\\\\Users\\\\Aman\\\\Downloads\\\\AReM\\\\cycling\\\\dataset6.csv', 'C:\\\\Users\\\\Aman\\\\Downloads\\\\AReM\\\\cycling\\\\dataset7.csv', 'C:\\\\Users\\\\Aman\\\\Downloads\\\\AReM\\\\cycling\\\\dataset8.csv', 'C:\\\\Users\\\\Aman\\\\Downloads\\\\AReM\\\\cycling\\\\dataset9.csv', 'C:\\\\Users\\\\Aman\\\\Downloads\\\\AReM\\\\lying\\\\dataset1.csv', 'C:\\\\Users\\\\Aman\\\\Downloads\\\\AReM\\\\lying\\\\dataset10.csv', 'C:\\\\Users\\\\Aman\\\\Downloads\\\\AReM\\\\lying\\\\dataset11.csv', 'C:\\\\Users\\\\Aman\\\\Downloads\\\\AReM\\\\lying\\\\dataset12.csv', 'C:\\\\Users\\\\Aman\\\\Downloads\\\\AReM\\\\lying\\\\dataset13.csv', 'C:\\\\Users\\\\Aman\\\\Downloads\\\\AReM\\\\lying\\\\dataset14.csv', 'C:\\\\Users\\\\Aman\\\\Downloads\\\\AReM\\\\lying\\\\dataset15.csv', 'C:\\\\Users\\\\Aman\\\\Downloads\\\\AReM\\\\lying\\\\dataset2.csv', 'C:\\\\Users\\\\Aman\\\\Downloads\\\\AReM\\\\lying\\\\dataset3.csv', 'C:\\\\Users\\\\Aman\\\\Downloads\\\\AReM\\\\lying\\\\dataset4.csv', 'C:\\\\Users\\\\Aman\\\\Downloads\\\\AReM\\\\lying\\\\dataset5.csv', 'C:\\\\Users\\\\Aman\\\\Downloads\\\\AReM\\\\lying\\\\dataset6.csv', 'C:\\\\Users\\\\Aman\\\\Downloads\\\\AReM\\\\lying\\\\dataset7.csv', 'C:\\\\Users\\\\Aman\\\\Downloads\\\\AReM\\\\lying\\\\dataset8.csv', 'C:\\\\Users\\\\Aman\\\\Downloads\\\\AReM\\\\lying\\\\dataset9.csv', 'C:\\\\Users\\\\Aman\\\\Downloads\\\\AReM\\\\sitting\\\\dataset1.csv', 'C:\\\\Users\\\\Aman\\\\Downloads\\\\AReM\\\\sitting\\\\dataset10.csv', 'C:\\\\Users\\\\Aman\\\\Downloads\\\\AReM\\\\sitting\\\\dataset11.csv', 'C:\\\\Users\\\\Aman\\\\Downloads\\\\AReM\\\\sitting\\\\dataset12.csv', 'C:\\\\Users\\\\Aman\\\\Downloads\\\\AReM\\\\sitting\\\\dataset13.csv', 'C:\\\\Users\\\\Aman\\\\Downloads\\\\AReM\\\\sitting\\\\dataset14.csv', 'C:\\\\Users\\\\Aman\\\\Downloads\\\\AReM\\\\sitting\\\\dataset15.csv', 'C:\\\\Users\\\\Aman\\\\Downloads\\\\AReM\\\\sitting\\\\dataset2.csv', 'C:\\\\Users\\\\Aman\\\\Downloads\\\\AReM\\\\sitting\\\\dataset3.csv', 'C:\\\\Users\\\\Aman\\\\Downloads\\\\AReM\\\\sitting\\\\dataset4.csv', 'C:\\\\Users\\\\Aman\\\\Downloads\\\\AReM\\\\sitting\\\\dataset5.csv', 'C:\\\\Users\\\\Aman\\\\Downloads\\\\AReM\\\\sitting\\\\dataset6.csv', 'C:\\\\Users\\\\Aman\\\\Downloads\\\\AReM\\\\sitting\\\\dataset7.csv', 'C:\\\\Users\\\\Aman\\\\Downloads\\\\AReM\\\\sitting\\\\dataset8.csv', 'C:\\\\Users\\\\Aman\\\\Downloads\\\\AReM\\\\sitting\\\\dataset9.csv', 'C:\\\\Users\\\\Aman\\\\Downloads\\\\AReM\\\\standing\\\\dataset1.csv', 'C:\\\\Users\\\\Aman\\\\Downloads\\\\AReM\\\\standing\\\\dataset10.csv', 'C:\\\\Users\\\\Aman\\\\Downloads\\\\AReM\\\\standing\\\\dataset11.csv', 'C:\\\\Users\\\\Aman\\\\Downloads\\\\AReM\\\\standing\\\\dataset12.csv', 'C:\\\\Users\\\\Aman\\\\Downloads\\\\AReM\\\\standing\\\\dataset13.csv', 'C:\\\\Users\\\\Aman\\\\Downloads\\\\AReM\\\\standing\\\\dataset14.csv']\n",
      "['C:\\\\Users\\\\Aman\\\\Downloads\\\\AReM\\\\bending1\\\\dataset1.csv', 'C:\\\\Users\\\\Aman\\\\Downloads\\\\AReM\\\\bending1\\\\dataset2.csv', 'C:\\\\Users\\\\Aman\\\\Downloads\\\\AReM\\\\bending1\\\\dataset3.csv', 'C:\\\\Users\\\\Aman\\\\Downloads\\\\AReM\\\\bending1\\\\dataset4.csv', 'C:\\\\Users\\\\Aman\\\\Downloads\\\\AReM\\\\bending1\\\\dataset5.csv', 'C:\\\\Users\\\\Aman\\\\Downloads\\\\AReM\\\\bending1\\\\dataset6.csv', 'C:\\\\Users\\\\Aman\\\\Downloads\\\\AReM\\\\bending1\\\\dataset7.csv', 'C:\\\\Users\\\\Aman\\\\Downloads\\\\AReM\\\\bending2\\\\dataset1.csv', 'C:\\\\Users\\\\Aman\\\\Downloads\\\\AReM\\\\bending2\\\\dataset2.csv', 'C:\\\\Users\\\\Aman\\\\Downloads\\\\AReM\\\\bending2\\\\dataset3.csv', 'C:\\\\Users\\\\Aman\\\\Downloads\\\\AReM\\\\bending2\\\\dataset4.csv', 'C:\\\\Users\\\\Aman\\\\Downloads\\\\AReM\\\\bending2\\\\dataset5.csv', 'C:\\\\Users\\\\Aman\\\\Downloads\\\\AReM\\\\bending2\\\\dataset6.csv', 'C:\\\\Users\\\\Aman\\\\Downloads\\\\AReM\\\\cycling\\\\dataset1.csv', 'C:\\\\Users\\\\Aman\\\\Downloads\\\\AReM\\\\cycling\\\\dataset10.csv', 'C:\\\\Users\\\\Aman\\\\Downloads\\\\AReM\\\\cycling\\\\dataset11.csv', 'C:\\\\Users\\\\Aman\\\\Downloads\\\\AReM\\\\cycling\\\\dataset12.csv', 'C:\\\\Users\\\\Aman\\\\Downloads\\\\AReM\\\\cycling\\\\dataset13.csv', 'C:\\\\Users\\\\Aman\\\\Downloads\\\\AReM\\\\cycling\\\\dataset14.csv', 'C:\\\\Users\\\\Aman\\\\Downloads\\\\AReM\\\\cycling\\\\dataset15.csv', 'C:\\\\Users\\\\Aman\\\\Downloads\\\\AReM\\\\cycling\\\\dataset2.csv', 'C:\\\\Users\\\\Aman\\\\Downloads\\\\AReM\\\\cycling\\\\dataset3.csv', 'C:\\\\Users\\\\Aman\\\\Downloads\\\\AReM\\\\cycling\\\\dataset4.csv', 'C:\\\\Users\\\\Aman\\\\Downloads\\\\AReM\\\\cycling\\\\dataset5.csv', 'C:\\\\Users\\\\Aman\\\\Downloads\\\\AReM\\\\cycling\\\\dataset6.csv', 'C:\\\\Users\\\\Aman\\\\Downloads\\\\AReM\\\\cycling\\\\dataset7.csv', 'C:\\\\Users\\\\Aman\\\\Downloads\\\\AReM\\\\cycling\\\\dataset8.csv', 'C:\\\\Users\\\\Aman\\\\Downloads\\\\AReM\\\\cycling\\\\dataset9.csv', 'C:\\\\Users\\\\Aman\\\\Downloads\\\\AReM\\\\lying\\\\dataset1.csv', 'C:\\\\Users\\\\Aman\\\\Downloads\\\\AReM\\\\lying\\\\dataset10.csv', 'C:\\\\Users\\\\Aman\\\\Downloads\\\\AReM\\\\lying\\\\dataset11.csv', 'C:\\\\Users\\\\Aman\\\\Downloads\\\\AReM\\\\lying\\\\dataset12.csv', 'C:\\\\Users\\\\Aman\\\\Downloads\\\\AReM\\\\lying\\\\dataset13.csv', 'C:\\\\Users\\\\Aman\\\\Downloads\\\\AReM\\\\lying\\\\dataset14.csv', 'C:\\\\Users\\\\Aman\\\\Downloads\\\\AReM\\\\lying\\\\dataset15.csv', 'C:\\\\Users\\\\Aman\\\\Downloads\\\\AReM\\\\lying\\\\dataset2.csv', 'C:\\\\Users\\\\Aman\\\\Downloads\\\\AReM\\\\lying\\\\dataset3.csv', 'C:\\\\Users\\\\Aman\\\\Downloads\\\\AReM\\\\lying\\\\dataset4.csv', 'C:\\\\Users\\\\Aman\\\\Downloads\\\\AReM\\\\lying\\\\dataset5.csv', 'C:\\\\Users\\\\Aman\\\\Downloads\\\\AReM\\\\lying\\\\dataset6.csv', 'C:\\\\Users\\\\Aman\\\\Downloads\\\\AReM\\\\lying\\\\dataset7.csv', 'C:\\\\Users\\\\Aman\\\\Downloads\\\\AReM\\\\lying\\\\dataset8.csv', 'C:\\\\Users\\\\Aman\\\\Downloads\\\\AReM\\\\lying\\\\dataset9.csv', 'C:\\\\Users\\\\Aman\\\\Downloads\\\\AReM\\\\sitting\\\\dataset1.csv', 'C:\\\\Users\\\\Aman\\\\Downloads\\\\AReM\\\\sitting\\\\dataset10.csv', 'C:\\\\Users\\\\Aman\\\\Downloads\\\\AReM\\\\sitting\\\\dataset11.csv', 'C:\\\\Users\\\\Aman\\\\Downloads\\\\AReM\\\\sitting\\\\dataset12.csv', 'C:\\\\Users\\\\Aman\\\\Downloads\\\\AReM\\\\sitting\\\\dataset13.csv', 'C:\\\\Users\\\\Aman\\\\Downloads\\\\AReM\\\\sitting\\\\dataset14.csv', 'C:\\\\Users\\\\Aman\\\\Downloads\\\\AReM\\\\sitting\\\\dataset15.csv', 'C:\\\\Users\\\\Aman\\\\Downloads\\\\AReM\\\\sitting\\\\dataset2.csv', 'C:\\\\Users\\\\Aman\\\\Downloads\\\\AReM\\\\sitting\\\\dataset3.csv', 'C:\\\\Users\\\\Aman\\\\Downloads\\\\AReM\\\\sitting\\\\dataset4.csv', 'C:\\\\Users\\\\Aman\\\\Downloads\\\\AReM\\\\sitting\\\\dataset5.csv', 'C:\\\\Users\\\\Aman\\\\Downloads\\\\AReM\\\\sitting\\\\dataset6.csv', 'C:\\\\Users\\\\Aman\\\\Downloads\\\\AReM\\\\sitting\\\\dataset7.csv', 'C:\\\\Users\\\\Aman\\\\Downloads\\\\AReM\\\\sitting\\\\dataset8.csv', 'C:\\\\Users\\\\Aman\\\\Downloads\\\\AReM\\\\sitting\\\\dataset9.csv', 'C:\\\\Users\\\\Aman\\\\Downloads\\\\AReM\\\\standing\\\\dataset1.csv', 'C:\\\\Users\\\\Aman\\\\Downloads\\\\AReM\\\\standing\\\\dataset10.csv', 'C:\\\\Users\\\\Aman\\\\Downloads\\\\AReM\\\\standing\\\\dataset11.csv', 'C:\\\\Users\\\\Aman\\\\Downloads\\\\AReM\\\\standing\\\\dataset12.csv', 'C:\\\\Users\\\\Aman\\\\Downloads\\\\AReM\\\\standing\\\\dataset13.csv', 'C:\\\\Users\\\\Aman\\\\Downloads\\\\AReM\\\\standing\\\\dataset14.csv', 'C:\\\\Users\\\\Aman\\\\Downloads\\\\AReM\\\\standing\\\\dataset15.csv']\n",
      "['C:\\\\Users\\\\Aman\\\\Downloads\\\\AReM\\\\bending1\\\\dataset1.csv', 'C:\\\\Users\\\\Aman\\\\Downloads\\\\AReM\\\\bending1\\\\dataset2.csv', 'C:\\\\Users\\\\Aman\\\\Downloads\\\\AReM\\\\bending1\\\\dataset3.csv', 'C:\\\\Users\\\\Aman\\\\Downloads\\\\AReM\\\\bending1\\\\dataset4.csv', 'C:\\\\Users\\\\Aman\\\\Downloads\\\\AReM\\\\bending1\\\\dataset5.csv', 'C:\\\\Users\\\\Aman\\\\Downloads\\\\AReM\\\\bending1\\\\dataset6.csv', 'C:\\\\Users\\\\Aman\\\\Downloads\\\\AReM\\\\bending1\\\\dataset7.csv', 'C:\\\\Users\\\\Aman\\\\Downloads\\\\AReM\\\\bending2\\\\dataset1.csv', 'C:\\\\Users\\\\Aman\\\\Downloads\\\\AReM\\\\bending2\\\\dataset2.csv', 'C:\\\\Users\\\\Aman\\\\Downloads\\\\AReM\\\\bending2\\\\dataset3.csv', 'C:\\\\Users\\\\Aman\\\\Downloads\\\\AReM\\\\bending2\\\\dataset4.csv', 'C:\\\\Users\\\\Aman\\\\Downloads\\\\AReM\\\\bending2\\\\dataset5.csv', 'C:\\\\Users\\\\Aman\\\\Downloads\\\\AReM\\\\bending2\\\\dataset6.csv', 'C:\\\\Users\\\\Aman\\\\Downloads\\\\AReM\\\\cycling\\\\dataset1.csv', 'C:\\\\Users\\\\Aman\\\\Downloads\\\\AReM\\\\cycling\\\\dataset10.csv', 'C:\\\\Users\\\\Aman\\\\Downloads\\\\AReM\\\\cycling\\\\dataset11.csv', 'C:\\\\Users\\\\Aman\\\\Downloads\\\\AReM\\\\cycling\\\\dataset12.csv', 'C:\\\\Users\\\\Aman\\\\Downloads\\\\AReM\\\\cycling\\\\dataset13.csv', 'C:\\\\Users\\\\Aman\\\\Downloads\\\\AReM\\\\cycling\\\\dataset14.csv', 'C:\\\\Users\\\\Aman\\\\Downloads\\\\AReM\\\\cycling\\\\dataset15.csv', 'C:\\\\Users\\\\Aman\\\\Downloads\\\\AReM\\\\cycling\\\\dataset2.csv', 'C:\\\\Users\\\\Aman\\\\Downloads\\\\AReM\\\\cycling\\\\dataset3.csv', 'C:\\\\Users\\\\Aman\\\\Downloads\\\\AReM\\\\cycling\\\\dataset4.csv', 'C:\\\\Users\\\\Aman\\\\Downloads\\\\AReM\\\\cycling\\\\dataset5.csv', 'C:\\\\Users\\\\Aman\\\\Downloads\\\\AReM\\\\cycling\\\\dataset6.csv', 'C:\\\\Users\\\\Aman\\\\Downloads\\\\AReM\\\\cycling\\\\dataset7.csv', 'C:\\\\Users\\\\Aman\\\\Downloads\\\\AReM\\\\cycling\\\\dataset8.csv', 'C:\\\\Users\\\\Aman\\\\Downloads\\\\AReM\\\\cycling\\\\dataset9.csv', 'C:\\\\Users\\\\Aman\\\\Downloads\\\\AReM\\\\lying\\\\dataset1.csv', 'C:\\\\Users\\\\Aman\\\\Downloads\\\\AReM\\\\lying\\\\dataset10.csv', 'C:\\\\Users\\\\Aman\\\\Downloads\\\\AReM\\\\lying\\\\dataset11.csv', 'C:\\\\Users\\\\Aman\\\\Downloads\\\\AReM\\\\lying\\\\dataset12.csv', 'C:\\\\Users\\\\Aman\\\\Downloads\\\\AReM\\\\lying\\\\dataset13.csv', 'C:\\\\Users\\\\Aman\\\\Downloads\\\\AReM\\\\lying\\\\dataset14.csv', 'C:\\\\Users\\\\Aman\\\\Downloads\\\\AReM\\\\lying\\\\dataset15.csv', 'C:\\\\Users\\\\Aman\\\\Downloads\\\\AReM\\\\lying\\\\dataset2.csv', 'C:\\\\Users\\\\Aman\\\\Downloads\\\\AReM\\\\lying\\\\dataset3.csv', 'C:\\\\Users\\\\Aman\\\\Downloads\\\\AReM\\\\lying\\\\dataset4.csv', 'C:\\\\Users\\\\Aman\\\\Downloads\\\\AReM\\\\lying\\\\dataset5.csv', 'C:\\\\Users\\\\Aman\\\\Downloads\\\\AReM\\\\lying\\\\dataset6.csv', 'C:\\\\Users\\\\Aman\\\\Downloads\\\\AReM\\\\lying\\\\dataset7.csv', 'C:\\\\Users\\\\Aman\\\\Downloads\\\\AReM\\\\lying\\\\dataset8.csv', 'C:\\\\Users\\\\Aman\\\\Downloads\\\\AReM\\\\lying\\\\dataset9.csv', 'C:\\\\Users\\\\Aman\\\\Downloads\\\\AReM\\\\sitting\\\\dataset1.csv', 'C:\\\\Users\\\\Aman\\\\Downloads\\\\AReM\\\\sitting\\\\dataset10.csv', 'C:\\\\Users\\\\Aman\\\\Downloads\\\\AReM\\\\sitting\\\\dataset11.csv', 'C:\\\\Users\\\\Aman\\\\Downloads\\\\AReM\\\\sitting\\\\dataset12.csv', 'C:\\\\Users\\\\Aman\\\\Downloads\\\\AReM\\\\sitting\\\\dataset13.csv', 'C:\\\\Users\\\\Aman\\\\Downloads\\\\AReM\\\\sitting\\\\dataset14.csv', 'C:\\\\Users\\\\Aman\\\\Downloads\\\\AReM\\\\sitting\\\\dataset15.csv', 'C:\\\\Users\\\\Aman\\\\Downloads\\\\AReM\\\\sitting\\\\dataset2.csv', 'C:\\\\Users\\\\Aman\\\\Downloads\\\\AReM\\\\sitting\\\\dataset3.csv', 'C:\\\\Users\\\\Aman\\\\Downloads\\\\AReM\\\\sitting\\\\dataset4.csv', 'C:\\\\Users\\\\Aman\\\\Downloads\\\\AReM\\\\sitting\\\\dataset5.csv', 'C:\\\\Users\\\\Aman\\\\Downloads\\\\AReM\\\\sitting\\\\dataset6.csv', 'C:\\\\Users\\\\Aman\\\\Downloads\\\\AReM\\\\sitting\\\\dataset7.csv', 'C:\\\\Users\\\\Aman\\\\Downloads\\\\AReM\\\\sitting\\\\dataset8.csv', 'C:\\\\Users\\\\Aman\\\\Downloads\\\\AReM\\\\sitting\\\\dataset9.csv', 'C:\\\\Users\\\\Aman\\\\Downloads\\\\AReM\\\\standing\\\\dataset1.csv', 'C:\\\\Users\\\\Aman\\\\Downloads\\\\AReM\\\\standing\\\\dataset10.csv', 'C:\\\\Users\\\\Aman\\\\Downloads\\\\AReM\\\\standing\\\\dataset11.csv', 'C:\\\\Users\\\\Aman\\\\Downloads\\\\AReM\\\\standing\\\\dataset12.csv', 'C:\\\\Users\\\\Aman\\\\Downloads\\\\AReM\\\\standing\\\\dataset13.csv', 'C:\\\\Users\\\\Aman\\\\Downloads\\\\AReM\\\\standing\\\\dataset14.csv', 'C:\\\\Users\\\\Aman\\\\Downloads\\\\AReM\\\\standing\\\\dataset15.csv', 'C:\\\\Users\\\\Aman\\\\Downloads\\\\AReM\\\\standing\\\\dataset2.csv']\n",
      "['C:\\\\Users\\\\Aman\\\\Downloads\\\\AReM\\\\bending1\\\\dataset1.csv', 'C:\\\\Users\\\\Aman\\\\Downloads\\\\AReM\\\\bending1\\\\dataset2.csv', 'C:\\\\Users\\\\Aman\\\\Downloads\\\\AReM\\\\bending1\\\\dataset3.csv', 'C:\\\\Users\\\\Aman\\\\Downloads\\\\AReM\\\\bending1\\\\dataset4.csv', 'C:\\\\Users\\\\Aman\\\\Downloads\\\\AReM\\\\bending1\\\\dataset5.csv', 'C:\\\\Users\\\\Aman\\\\Downloads\\\\AReM\\\\bending1\\\\dataset6.csv', 'C:\\\\Users\\\\Aman\\\\Downloads\\\\AReM\\\\bending1\\\\dataset7.csv', 'C:\\\\Users\\\\Aman\\\\Downloads\\\\AReM\\\\bending2\\\\dataset1.csv', 'C:\\\\Users\\\\Aman\\\\Downloads\\\\AReM\\\\bending2\\\\dataset2.csv', 'C:\\\\Users\\\\Aman\\\\Downloads\\\\AReM\\\\bending2\\\\dataset3.csv', 'C:\\\\Users\\\\Aman\\\\Downloads\\\\AReM\\\\bending2\\\\dataset4.csv', 'C:\\\\Users\\\\Aman\\\\Downloads\\\\AReM\\\\bending2\\\\dataset5.csv', 'C:\\\\Users\\\\Aman\\\\Downloads\\\\AReM\\\\bending2\\\\dataset6.csv', 'C:\\\\Users\\\\Aman\\\\Downloads\\\\AReM\\\\cycling\\\\dataset1.csv', 'C:\\\\Users\\\\Aman\\\\Downloads\\\\AReM\\\\cycling\\\\dataset10.csv', 'C:\\\\Users\\\\Aman\\\\Downloads\\\\AReM\\\\cycling\\\\dataset11.csv', 'C:\\\\Users\\\\Aman\\\\Downloads\\\\AReM\\\\cycling\\\\dataset12.csv', 'C:\\\\Users\\\\Aman\\\\Downloads\\\\AReM\\\\cycling\\\\dataset13.csv', 'C:\\\\Users\\\\Aman\\\\Downloads\\\\AReM\\\\cycling\\\\dataset14.csv', 'C:\\\\Users\\\\Aman\\\\Downloads\\\\AReM\\\\cycling\\\\dataset15.csv', 'C:\\\\Users\\\\Aman\\\\Downloads\\\\AReM\\\\cycling\\\\dataset2.csv', 'C:\\\\Users\\\\Aman\\\\Downloads\\\\AReM\\\\cycling\\\\dataset3.csv', 'C:\\\\Users\\\\Aman\\\\Downloads\\\\AReM\\\\cycling\\\\dataset4.csv', 'C:\\\\Users\\\\Aman\\\\Downloads\\\\AReM\\\\cycling\\\\dataset5.csv', 'C:\\\\Users\\\\Aman\\\\Downloads\\\\AReM\\\\cycling\\\\dataset6.csv', 'C:\\\\Users\\\\Aman\\\\Downloads\\\\AReM\\\\cycling\\\\dataset7.csv', 'C:\\\\Users\\\\Aman\\\\Downloads\\\\AReM\\\\cycling\\\\dataset8.csv', 'C:\\\\Users\\\\Aman\\\\Downloads\\\\AReM\\\\cycling\\\\dataset9.csv', 'C:\\\\Users\\\\Aman\\\\Downloads\\\\AReM\\\\lying\\\\dataset1.csv', 'C:\\\\Users\\\\Aman\\\\Downloads\\\\AReM\\\\lying\\\\dataset10.csv', 'C:\\\\Users\\\\Aman\\\\Downloads\\\\AReM\\\\lying\\\\dataset11.csv', 'C:\\\\Users\\\\Aman\\\\Downloads\\\\AReM\\\\lying\\\\dataset12.csv', 'C:\\\\Users\\\\Aman\\\\Downloads\\\\AReM\\\\lying\\\\dataset13.csv', 'C:\\\\Users\\\\Aman\\\\Downloads\\\\AReM\\\\lying\\\\dataset14.csv', 'C:\\\\Users\\\\Aman\\\\Downloads\\\\AReM\\\\lying\\\\dataset15.csv', 'C:\\\\Users\\\\Aman\\\\Downloads\\\\AReM\\\\lying\\\\dataset2.csv', 'C:\\\\Users\\\\Aman\\\\Downloads\\\\AReM\\\\lying\\\\dataset3.csv', 'C:\\\\Users\\\\Aman\\\\Downloads\\\\AReM\\\\lying\\\\dataset4.csv', 'C:\\\\Users\\\\Aman\\\\Downloads\\\\AReM\\\\lying\\\\dataset5.csv', 'C:\\\\Users\\\\Aman\\\\Downloads\\\\AReM\\\\lying\\\\dataset6.csv', 'C:\\\\Users\\\\Aman\\\\Downloads\\\\AReM\\\\lying\\\\dataset7.csv', 'C:\\\\Users\\\\Aman\\\\Downloads\\\\AReM\\\\lying\\\\dataset8.csv', 'C:\\\\Users\\\\Aman\\\\Downloads\\\\AReM\\\\lying\\\\dataset9.csv', 'C:\\\\Users\\\\Aman\\\\Downloads\\\\AReM\\\\sitting\\\\dataset1.csv', 'C:\\\\Users\\\\Aman\\\\Downloads\\\\AReM\\\\sitting\\\\dataset10.csv', 'C:\\\\Users\\\\Aman\\\\Downloads\\\\AReM\\\\sitting\\\\dataset11.csv', 'C:\\\\Users\\\\Aman\\\\Downloads\\\\AReM\\\\sitting\\\\dataset12.csv', 'C:\\\\Users\\\\Aman\\\\Downloads\\\\AReM\\\\sitting\\\\dataset13.csv', 'C:\\\\Users\\\\Aman\\\\Downloads\\\\AReM\\\\sitting\\\\dataset14.csv', 'C:\\\\Users\\\\Aman\\\\Downloads\\\\AReM\\\\sitting\\\\dataset15.csv', 'C:\\\\Users\\\\Aman\\\\Downloads\\\\AReM\\\\sitting\\\\dataset2.csv', 'C:\\\\Users\\\\Aman\\\\Downloads\\\\AReM\\\\sitting\\\\dataset3.csv', 'C:\\\\Users\\\\Aman\\\\Downloads\\\\AReM\\\\sitting\\\\dataset4.csv', 'C:\\\\Users\\\\Aman\\\\Downloads\\\\AReM\\\\sitting\\\\dataset5.csv', 'C:\\\\Users\\\\Aman\\\\Downloads\\\\AReM\\\\sitting\\\\dataset6.csv', 'C:\\\\Users\\\\Aman\\\\Downloads\\\\AReM\\\\sitting\\\\dataset7.csv', 'C:\\\\Users\\\\Aman\\\\Downloads\\\\AReM\\\\sitting\\\\dataset8.csv', 'C:\\\\Users\\\\Aman\\\\Downloads\\\\AReM\\\\sitting\\\\dataset9.csv', 'C:\\\\Users\\\\Aman\\\\Downloads\\\\AReM\\\\standing\\\\dataset1.csv', 'C:\\\\Users\\\\Aman\\\\Downloads\\\\AReM\\\\standing\\\\dataset10.csv', 'C:\\\\Users\\\\Aman\\\\Downloads\\\\AReM\\\\standing\\\\dataset11.csv', 'C:\\\\Users\\\\Aman\\\\Downloads\\\\AReM\\\\standing\\\\dataset12.csv', 'C:\\\\Users\\\\Aman\\\\Downloads\\\\AReM\\\\standing\\\\dataset13.csv', 'C:\\\\Users\\\\Aman\\\\Downloads\\\\AReM\\\\standing\\\\dataset14.csv', 'C:\\\\Users\\\\Aman\\\\Downloads\\\\AReM\\\\standing\\\\dataset15.csv', 'C:\\\\Users\\\\Aman\\\\Downloads\\\\AReM\\\\standing\\\\dataset2.csv', 'C:\\\\Users\\\\Aman\\\\Downloads\\\\AReM\\\\standing\\\\dataset3.csv']\n",
      "['C:\\\\Users\\\\Aman\\\\Downloads\\\\AReM\\\\bending1\\\\dataset1.csv', 'C:\\\\Users\\\\Aman\\\\Downloads\\\\AReM\\\\bending1\\\\dataset2.csv', 'C:\\\\Users\\\\Aman\\\\Downloads\\\\AReM\\\\bending1\\\\dataset3.csv', 'C:\\\\Users\\\\Aman\\\\Downloads\\\\AReM\\\\bending1\\\\dataset4.csv', 'C:\\\\Users\\\\Aman\\\\Downloads\\\\AReM\\\\bending1\\\\dataset5.csv', 'C:\\\\Users\\\\Aman\\\\Downloads\\\\AReM\\\\bending1\\\\dataset6.csv', 'C:\\\\Users\\\\Aman\\\\Downloads\\\\AReM\\\\bending1\\\\dataset7.csv', 'C:\\\\Users\\\\Aman\\\\Downloads\\\\AReM\\\\bending2\\\\dataset1.csv', 'C:\\\\Users\\\\Aman\\\\Downloads\\\\AReM\\\\bending2\\\\dataset2.csv', 'C:\\\\Users\\\\Aman\\\\Downloads\\\\AReM\\\\bending2\\\\dataset3.csv', 'C:\\\\Users\\\\Aman\\\\Downloads\\\\AReM\\\\bending2\\\\dataset4.csv', 'C:\\\\Users\\\\Aman\\\\Downloads\\\\AReM\\\\bending2\\\\dataset5.csv', 'C:\\\\Users\\\\Aman\\\\Downloads\\\\AReM\\\\bending2\\\\dataset6.csv', 'C:\\\\Users\\\\Aman\\\\Downloads\\\\AReM\\\\cycling\\\\dataset1.csv', 'C:\\\\Users\\\\Aman\\\\Downloads\\\\AReM\\\\cycling\\\\dataset10.csv', 'C:\\\\Users\\\\Aman\\\\Downloads\\\\AReM\\\\cycling\\\\dataset11.csv', 'C:\\\\Users\\\\Aman\\\\Downloads\\\\AReM\\\\cycling\\\\dataset12.csv', 'C:\\\\Users\\\\Aman\\\\Downloads\\\\AReM\\\\cycling\\\\dataset13.csv', 'C:\\\\Users\\\\Aman\\\\Downloads\\\\AReM\\\\cycling\\\\dataset14.csv', 'C:\\\\Users\\\\Aman\\\\Downloads\\\\AReM\\\\cycling\\\\dataset15.csv', 'C:\\\\Users\\\\Aman\\\\Downloads\\\\AReM\\\\cycling\\\\dataset2.csv', 'C:\\\\Users\\\\Aman\\\\Downloads\\\\AReM\\\\cycling\\\\dataset3.csv', 'C:\\\\Users\\\\Aman\\\\Downloads\\\\AReM\\\\cycling\\\\dataset4.csv', 'C:\\\\Users\\\\Aman\\\\Downloads\\\\AReM\\\\cycling\\\\dataset5.csv', 'C:\\\\Users\\\\Aman\\\\Downloads\\\\AReM\\\\cycling\\\\dataset6.csv', 'C:\\\\Users\\\\Aman\\\\Downloads\\\\AReM\\\\cycling\\\\dataset7.csv', 'C:\\\\Users\\\\Aman\\\\Downloads\\\\AReM\\\\cycling\\\\dataset8.csv', 'C:\\\\Users\\\\Aman\\\\Downloads\\\\AReM\\\\cycling\\\\dataset9.csv', 'C:\\\\Users\\\\Aman\\\\Downloads\\\\AReM\\\\lying\\\\dataset1.csv', 'C:\\\\Users\\\\Aman\\\\Downloads\\\\AReM\\\\lying\\\\dataset10.csv', 'C:\\\\Users\\\\Aman\\\\Downloads\\\\AReM\\\\lying\\\\dataset11.csv', 'C:\\\\Users\\\\Aman\\\\Downloads\\\\AReM\\\\lying\\\\dataset12.csv', 'C:\\\\Users\\\\Aman\\\\Downloads\\\\AReM\\\\lying\\\\dataset13.csv', 'C:\\\\Users\\\\Aman\\\\Downloads\\\\AReM\\\\lying\\\\dataset14.csv', 'C:\\\\Users\\\\Aman\\\\Downloads\\\\AReM\\\\lying\\\\dataset15.csv', 'C:\\\\Users\\\\Aman\\\\Downloads\\\\AReM\\\\lying\\\\dataset2.csv', 'C:\\\\Users\\\\Aman\\\\Downloads\\\\AReM\\\\lying\\\\dataset3.csv', 'C:\\\\Users\\\\Aman\\\\Downloads\\\\AReM\\\\lying\\\\dataset4.csv', 'C:\\\\Users\\\\Aman\\\\Downloads\\\\AReM\\\\lying\\\\dataset5.csv', 'C:\\\\Users\\\\Aman\\\\Downloads\\\\AReM\\\\lying\\\\dataset6.csv', 'C:\\\\Users\\\\Aman\\\\Downloads\\\\AReM\\\\lying\\\\dataset7.csv', 'C:\\\\Users\\\\Aman\\\\Downloads\\\\AReM\\\\lying\\\\dataset8.csv', 'C:\\\\Users\\\\Aman\\\\Downloads\\\\AReM\\\\lying\\\\dataset9.csv', 'C:\\\\Users\\\\Aman\\\\Downloads\\\\AReM\\\\sitting\\\\dataset1.csv', 'C:\\\\Users\\\\Aman\\\\Downloads\\\\AReM\\\\sitting\\\\dataset10.csv', 'C:\\\\Users\\\\Aman\\\\Downloads\\\\AReM\\\\sitting\\\\dataset11.csv', 'C:\\\\Users\\\\Aman\\\\Downloads\\\\AReM\\\\sitting\\\\dataset12.csv', 'C:\\\\Users\\\\Aman\\\\Downloads\\\\AReM\\\\sitting\\\\dataset13.csv', 'C:\\\\Users\\\\Aman\\\\Downloads\\\\AReM\\\\sitting\\\\dataset14.csv', 'C:\\\\Users\\\\Aman\\\\Downloads\\\\AReM\\\\sitting\\\\dataset15.csv', 'C:\\\\Users\\\\Aman\\\\Downloads\\\\AReM\\\\sitting\\\\dataset2.csv', 'C:\\\\Users\\\\Aman\\\\Downloads\\\\AReM\\\\sitting\\\\dataset3.csv', 'C:\\\\Users\\\\Aman\\\\Downloads\\\\AReM\\\\sitting\\\\dataset4.csv', 'C:\\\\Users\\\\Aman\\\\Downloads\\\\AReM\\\\sitting\\\\dataset5.csv', 'C:\\\\Users\\\\Aman\\\\Downloads\\\\AReM\\\\sitting\\\\dataset6.csv', 'C:\\\\Users\\\\Aman\\\\Downloads\\\\AReM\\\\sitting\\\\dataset7.csv', 'C:\\\\Users\\\\Aman\\\\Downloads\\\\AReM\\\\sitting\\\\dataset8.csv', 'C:\\\\Users\\\\Aman\\\\Downloads\\\\AReM\\\\sitting\\\\dataset9.csv', 'C:\\\\Users\\\\Aman\\\\Downloads\\\\AReM\\\\standing\\\\dataset1.csv', 'C:\\\\Users\\\\Aman\\\\Downloads\\\\AReM\\\\standing\\\\dataset10.csv', 'C:\\\\Users\\\\Aman\\\\Downloads\\\\AReM\\\\standing\\\\dataset11.csv', 'C:\\\\Users\\\\Aman\\\\Downloads\\\\AReM\\\\standing\\\\dataset12.csv', 'C:\\\\Users\\\\Aman\\\\Downloads\\\\AReM\\\\standing\\\\dataset13.csv', 'C:\\\\Users\\\\Aman\\\\Downloads\\\\AReM\\\\standing\\\\dataset14.csv', 'C:\\\\Users\\\\Aman\\\\Downloads\\\\AReM\\\\standing\\\\dataset15.csv', 'C:\\\\Users\\\\Aman\\\\Downloads\\\\AReM\\\\standing\\\\dataset2.csv', 'C:\\\\Users\\\\Aman\\\\Downloads\\\\AReM\\\\standing\\\\dataset3.csv', 'C:\\\\Users\\\\Aman\\\\Downloads\\\\AReM\\\\standing\\\\dataset4.csv']\n",
      "['C:\\\\Users\\\\Aman\\\\Downloads\\\\AReM\\\\bending1\\\\dataset1.csv', 'C:\\\\Users\\\\Aman\\\\Downloads\\\\AReM\\\\bending1\\\\dataset2.csv', 'C:\\\\Users\\\\Aman\\\\Downloads\\\\AReM\\\\bending1\\\\dataset3.csv', 'C:\\\\Users\\\\Aman\\\\Downloads\\\\AReM\\\\bending1\\\\dataset4.csv', 'C:\\\\Users\\\\Aman\\\\Downloads\\\\AReM\\\\bending1\\\\dataset5.csv', 'C:\\\\Users\\\\Aman\\\\Downloads\\\\AReM\\\\bending1\\\\dataset6.csv', 'C:\\\\Users\\\\Aman\\\\Downloads\\\\AReM\\\\bending1\\\\dataset7.csv', 'C:\\\\Users\\\\Aman\\\\Downloads\\\\AReM\\\\bending2\\\\dataset1.csv', 'C:\\\\Users\\\\Aman\\\\Downloads\\\\AReM\\\\bending2\\\\dataset2.csv', 'C:\\\\Users\\\\Aman\\\\Downloads\\\\AReM\\\\bending2\\\\dataset3.csv', 'C:\\\\Users\\\\Aman\\\\Downloads\\\\AReM\\\\bending2\\\\dataset4.csv', 'C:\\\\Users\\\\Aman\\\\Downloads\\\\AReM\\\\bending2\\\\dataset5.csv', 'C:\\\\Users\\\\Aman\\\\Downloads\\\\AReM\\\\bending2\\\\dataset6.csv', 'C:\\\\Users\\\\Aman\\\\Downloads\\\\AReM\\\\cycling\\\\dataset1.csv', 'C:\\\\Users\\\\Aman\\\\Downloads\\\\AReM\\\\cycling\\\\dataset10.csv', 'C:\\\\Users\\\\Aman\\\\Downloads\\\\AReM\\\\cycling\\\\dataset11.csv', 'C:\\\\Users\\\\Aman\\\\Downloads\\\\AReM\\\\cycling\\\\dataset12.csv', 'C:\\\\Users\\\\Aman\\\\Downloads\\\\AReM\\\\cycling\\\\dataset13.csv', 'C:\\\\Users\\\\Aman\\\\Downloads\\\\AReM\\\\cycling\\\\dataset14.csv', 'C:\\\\Users\\\\Aman\\\\Downloads\\\\AReM\\\\cycling\\\\dataset15.csv', 'C:\\\\Users\\\\Aman\\\\Downloads\\\\AReM\\\\cycling\\\\dataset2.csv', 'C:\\\\Users\\\\Aman\\\\Downloads\\\\AReM\\\\cycling\\\\dataset3.csv', 'C:\\\\Users\\\\Aman\\\\Downloads\\\\AReM\\\\cycling\\\\dataset4.csv', 'C:\\\\Users\\\\Aman\\\\Downloads\\\\AReM\\\\cycling\\\\dataset5.csv', 'C:\\\\Users\\\\Aman\\\\Downloads\\\\AReM\\\\cycling\\\\dataset6.csv', 'C:\\\\Users\\\\Aman\\\\Downloads\\\\AReM\\\\cycling\\\\dataset7.csv', 'C:\\\\Users\\\\Aman\\\\Downloads\\\\AReM\\\\cycling\\\\dataset8.csv', 'C:\\\\Users\\\\Aman\\\\Downloads\\\\AReM\\\\cycling\\\\dataset9.csv', 'C:\\\\Users\\\\Aman\\\\Downloads\\\\AReM\\\\lying\\\\dataset1.csv', 'C:\\\\Users\\\\Aman\\\\Downloads\\\\AReM\\\\lying\\\\dataset10.csv', 'C:\\\\Users\\\\Aman\\\\Downloads\\\\AReM\\\\lying\\\\dataset11.csv', 'C:\\\\Users\\\\Aman\\\\Downloads\\\\AReM\\\\lying\\\\dataset12.csv', 'C:\\\\Users\\\\Aman\\\\Downloads\\\\AReM\\\\lying\\\\dataset13.csv', 'C:\\\\Users\\\\Aman\\\\Downloads\\\\AReM\\\\lying\\\\dataset14.csv', 'C:\\\\Users\\\\Aman\\\\Downloads\\\\AReM\\\\lying\\\\dataset15.csv', 'C:\\\\Users\\\\Aman\\\\Downloads\\\\AReM\\\\lying\\\\dataset2.csv', 'C:\\\\Users\\\\Aman\\\\Downloads\\\\AReM\\\\lying\\\\dataset3.csv', 'C:\\\\Users\\\\Aman\\\\Downloads\\\\AReM\\\\lying\\\\dataset4.csv', 'C:\\\\Users\\\\Aman\\\\Downloads\\\\AReM\\\\lying\\\\dataset5.csv', 'C:\\\\Users\\\\Aman\\\\Downloads\\\\AReM\\\\lying\\\\dataset6.csv', 'C:\\\\Users\\\\Aman\\\\Downloads\\\\AReM\\\\lying\\\\dataset7.csv', 'C:\\\\Users\\\\Aman\\\\Downloads\\\\AReM\\\\lying\\\\dataset8.csv', 'C:\\\\Users\\\\Aman\\\\Downloads\\\\AReM\\\\lying\\\\dataset9.csv', 'C:\\\\Users\\\\Aman\\\\Downloads\\\\AReM\\\\sitting\\\\dataset1.csv', 'C:\\\\Users\\\\Aman\\\\Downloads\\\\AReM\\\\sitting\\\\dataset10.csv', 'C:\\\\Users\\\\Aman\\\\Downloads\\\\AReM\\\\sitting\\\\dataset11.csv', 'C:\\\\Users\\\\Aman\\\\Downloads\\\\AReM\\\\sitting\\\\dataset12.csv', 'C:\\\\Users\\\\Aman\\\\Downloads\\\\AReM\\\\sitting\\\\dataset13.csv', 'C:\\\\Users\\\\Aman\\\\Downloads\\\\AReM\\\\sitting\\\\dataset14.csv', 'C:\\\\Users\\\\Aman\\\\Downloads\\\\AReM\\\\sitting\\\\dataset15.csv', 'C:\\\\Users\\\\Aman\\\\Downloads\\\\AReM\\\\sitting\\\\dataset2.csv', 'C:\\\\Users\\\\Aman\\\\Downloads\\\\AReM\\\\sitting\\\\dataset3.csv', 'C:\\\\Users\\\\Aman\\\\Downloads\\\\AReM\\\\sitting\\\\dataset4.csv', 'C:\\\\Users\\\\Aman\\\\Downloads\\\\AReM\\\\sitting\\\\dataset5.csv', 'C:\\\\Users\\\\Aman\\\\Downloads\\\\AReM\\\\sitting\\\\dataset6.csv', 'C:\\\\Users\\\\Aman\\\\Downloads\\\\AReM\\\\sitting\\\\dataset7.csv', 'C:\\\\Users\\\\Aman\\\\Downloads\\\\AReM\\\\sitting\\\\dataset8.csv', 'C:\\\\Users\\\\Aman\\\\Downloads\\\\AReM\\\\sitting\\\\dataset9.csv', 'C:\\\\Users\\\\Aman\\\\Downloads\\\\AReM\\\\standing\\\\dataset1.csv', 'C:\\\\Users\\\\Aman\\\\Downloads\\\\AReM\\\\standing\\\\dataset10.csv', 'C:\\\\Users\\\\Aman\\\\Downloads\\\\AReM\\\\standing\\\\dataset11.csv', 'C:\\\\Users\\\\Aman\\\\Downloads\\\\AReM\\\\standing\\\\dataset12.csv', 'C:\\\\Users\\\\Aman\\\\Downloads\\\\AReM\\\\standing\\\\dataset13.csv', 'C:\\\\Users\\\\Aman\\\\Downloads\\\\AReM\\\\standing\\\\dataset14.csv', 'C:\\\\Users\\\\Aman\\\\Downloads\\\\AReM\\\\standing\\\\dataset15.csv', 'C:\\\\Users\\\\Aman\\\\Downloads\\\\AReM\\\\standing\\\\dataset2.csv', 'C:\\\\Users\\\\Aman\\\\Downloads\\\\AReM\\\\standing\\\\dataset3.csv', 'C:\\\\Users\\\\Aman\\\\Downloads\\\\AReM\\\\standing\\\\dataset4.csv', 'C:\\\\Users\\\\Aman\\\\Downloads\\\\AReM\\\\standing\\\\dataset5.csv']\n",
      "['C:\\\\Users\\\\Aman\\\\Downloads\\\\AReM\\\\bending1\\\\dataset1.csv', 'C:\\\\Users\\\\Aman\\\\Downloads\\\\AReM\\\\bending1\\\\dataset2.csv', 'C:\\\\Users\\\\Aman\\\\Downloads\\\\AReM\\\\bending1\\\\dataset3.csv', 'C:\\\\Users\\\\Aman\\\\Downloads\\\\AReM\\\\bending1\\\\dataset4.csv', 'C:\\\\Users\\\\Aman\\\\Downloads\\\\AReM\\\\bending1\\\\dataset5.csv', 'C:\\\\Users\\\\Aman\\\\Downloads\\\\AReM\\\\bending1\\\\dataset6.csv', 'C:\\\\Users\\\\Aman\\\\Downloads\\\\AReM\\\\bending1\\\\dataset7.csv', 'C:\\\\Users\\\\Aman\\\\Downloads\\\\AReM\\\\bending2\\\\dataset1.csv', 'C:\\\\Users\\\\Aman\\\\Downloads\\\\AReM\\\\bending2\\\\dataset2.csv', 'C:\\\\Users\\\\Aman\\\\Downloads\\\\AReM\\\\bending2\\\\dataset3.csv', 'C:\\\\Users\\\\Aman\\\\Downloads\\\\AReM\\\\bending2\\\\dataset4.csv', 'C:\\\\Users\\\\Aman\\\\Downloads\\\\AReM\\\\bending2\\\\dataset5.csv', 'C:\\\\Users\\\\Aman\\\\Downloads\\\\AReM\\\\bending2\\\\dataset6.csv', 'C:\\\\Users\\\\Aman\\\\Downloads\\\\AReM\\\\cycling\\\\dataset1.csv', 'C:\\\\Users\\\\Aman\\\\Downloads\\\\AReM\\\\cycling\\\\dataset10.csv', 'C:\\\\Users\\\\Aman\\\\Downloads\\\\AReM\\\\cycling\\\\dataset11.csv', 'C:\\\\Users\\\\Aman\\\\Downloads\\\\AReM\\\\cycling\\\\dataset12.csv', 'C:\\\\Users\\\\Aman\\\\Downloads\\\\AReM\\\\cycling\\\\dataset13.csv', 'C:\\\\Users\\\\Aman\\\\Downloads\\\\AReM\\\\cycling\\\\dataset14.csv', 'C:\\\\Users\\\\Aman\\\\Downloads\\\\AReM\\\\cycling\\\\dataset15.csv', 'C:\\\\Users\\\\Aman\\\\Downloads\\\\AReM\\\\cycling\\\\dataset2.csv', 'C:\\\\Users\\\\Aman\\\\Downloads\\\\AReM\\\\cycling\\\\dataset3.csv', 'C:\\\\Users\\\\Aman\\\\Downloads\\\\AReM\\\\cycling\\\\dataset4.csv', 'C:\\\\Users\\\\Aman\\\\Downloads\\\\AReM\\\\cycling\\\\dataset5.csv', 'C:\\\\Users\\\\Aman\\\\Downloads\\\\AReM\\\\cycling\\\\dataset6.csv', 'C:\\\\Users\\\\Aman\\\\Downloads\\\\AReM\\\\cycling\\\\dataset7.csv', 'C:\\\\Users\\\\Aman\\\\Downloads\\\\AReM\\\\cycling\\\\dataset8.csv', 'C:\\\\Users\\\\Aman\\\\Downloads\\\\AReM\\\\cycling\\\\dataset9.csv', 'C:\\\\Users\\\\Aman\\\\Downloads\\\\AReM\\\\lying\\\\dataset1.csv', 'C:\\\\Users\\\\Aman\\\\Downloads\\\\AReM\\\\lying\\\\dataset10.csv', 'C:\\\\Users\\\\Aman\\\\Downloads\\\\AReM\\\\lying\\\\dataset11.csv', 'C:\\\\Users\\\\Aman\\\\Downloads\\\\AReM\\\\lying\\\\dataset12.csv', 'C:\\\\Users\\\\Aman\\\\Downloads\\\\AReM\\\\lying\\\\dataset13.csv', 'C:\\\\Users\\\\Aman\\\\Downloads\\\\AReM\\\\lying\\\\dataset14.csv', 'C:\\\\Users\\\\Aman\\\\Downloads\\\\AReM\\\\lying\\\\dataset15.csv', 'C:\\\\Users\\\\Aman\\\\Downloads\\\\AReM\\\\lying\\\\dataset2.csv', 'C:\\\\Users\\\\Aman\\\\Downloads\\\\AReM\\\\lying\\\\dataset3.csv', 'C:\\\\Users\\\\Aman\\\\Downloads\\\\AReM\\\\lying\\\\dataset4.csv', 'C:\\\\Users\\\\Aman\\\\Downloads\\\\AReM\\\\lying\\\\dataset5.csv', 'C:\\\\Users\\\\Aman\\\\Downloads\\\\AReM\\\\lying\\\\dataset6.csv', 'C:\\\\Users\\\\Aman\\\\Downloads\\\\AReM\\\\lying\\\\dataset7.csv', 'C:\\\\Users\\\\Aman\\\\Downloads\\\\AReM\\\\lying\\\\dataset8.csv', 'C:\\\\Users\\\\Aman\\\\Downloads\\\\AReM\\\\lying\\\\dataset9.csv', 'C:\\\\Users\\\\Aman\\\\Downloads\\\\AReM\\\\sitting\\\\dataset1.csv', 'C:\\\\Users\\\\Aman\\\\Downloads\\\\AReM\\\\sitting\\\\dataset10.csv', 'C:\\\\Users\\\\Aman\\\\Downloads\\\\AReM\\\\sitting\\\\dataset11.csv', 'C:\\\\Users\\\\Aman\\\\Downloads\\\\AReM\\\\sitting\\\\dataset12.csv', 'C:\\\\Users\\\\Aman\\\\Downloads\\\\AReM\\\\sitting\\\\dataset13.csv', 'C:\\\\Users\\\\Aman\\\\Downloads\\\\AReM\\\\sitting\\\\dataset14.csv', 'C:\\\\Users\\\\Aman\\\\Downloads\\\\AReM\\\\sitting\\\\dataset15.csv', 'C:\\\\Users\\\\Aman\\\\Downloads\\\\AReM\\\\sitting\\\\dataset2.csv', 'C:\\\\Users\\\\Aman\\\\Downloads\\\\AReM\\\\sitting\\\\dataset3.csv', 'C:\\\\Users\\\\Aman\\\\Downloads\\\\AReM\\\\sitting\\\\dataset4.csv', 'C:\\\\Users\\\\Aman\\\\Downloads\\\\AReM\\\\sitting\\\\dataset5.csv', 'C:\\\\Users\\\\Aman\\\\Downloads\\\\AReM\\\\sitting\\\\dataset6.csv', 'C:\\\\Users\\\\Aman\\\\Downloads\\\\AReM\\\\sitting\\\\dataset7.csv', 'C:\\\\Users\\\\Aman\\\\Downloads\\\\AReM\\\\sitting\\\\dataset8.csv', 'C:\\\\Users\\\\Aman\\\\Downloads\\\\AReM\\\\sitting\\\\dataset9.csv', 'C:\\\\Users\\\\Aman\\\\Downloads\\\\AReM\\\\standing\\\\dataset1.csv', 'C:\\\\Users\\\\Aman\\\\Downloads\\\\AReM\\\\standing\\\\dataset10.csv', 'C:\\\\Users\\\\Aman\\\\Downloads\\\\AReM\\\\standing\\\\dataset11.csv', 'C:\\\\Users\\\\Aman\\\\Downloads\\\\AReM\\\\standing\\\\dataset12.csv', 'C:\\\\Users\\\\Aman\\\\Downloads\\\\AReM\\\\standing\\\\dataset13.csv', 'C:\\\\Users\\\\Aman\\\\Downloads\\\\AReM\\\\standing\\\\dataset14.csv', 'C:\\\\Users\\\\Aman\\\\Downloads\\\\AReM\\\\standing\\\\dataset15.csv', 'C:\\\\Users\\\\Aman\\\\Downloads\\\\AReM\\\\standing\\\\dataset2.csv', 'C:\\\\Users\\\\Aman\\\\Downloads\\\\AReM\\\\standing\\\\dataset3.csv', 'C:\\\\Users\\\\Aman\\\\Downloads\\\\AReM\\\\standing\\\\dataset4.csv', 'C:\\\\Users\\\\Aman\\\\Downloads\\\\AReM\\\\standing\\\\dataset5.csv', 'C:\\\\Users\\\\Aman\\\\Downloads\\\\AReM\\\\standing\\\\dataset6.csv']\n",
      "['C:\\\\Users\\\\Aman\\\\Downloads\\\\AReM\\\\bending1\\\\dataset1.csv', 'C:\\\\Users\\\\Aman\\\\Downloads\\\\AReM\\\\bending1\\\\dataset2.csv', 'C:\\\\Users\\\\Aman\\\\Downloads\\\\AReM\\\\bending1\\\\dataset3.csv', 'C:\\\\Users\\\\Aman\\\\Downloads\\\\AReM\\\\bending1\\\\dataset4.csv', 'C:\\\\Users\\\\Aman\\\\Downloads\\\\AReM\\\\bending1\\\\dataset5.csv', 'C:\\\\Users\\\\Aman\\\\Downloads\\\\AReM\\\\bending1\\\\dataset6.csv', 'C:\\\\Users\\\\Aman\\\\Downloads\\\\AReM\\\\bending1\\\\dataset7.csv', 'C:\\\\Users\\\\Aman\\\\Downloads\\\\AReM\\\\bending2\\\\dataset1.csv', 'C:\\\\Users\\\\Aman\\\\Downloads\\\\AReM\\\\bending2\\\\dataset2.csv', 'C:\\\\Users\\\\Aman\\\\Downloads\\\\AReM\\\\bending2\\\\dataset3.csv', 'C:\\\\Users\\\\Aman\\\\Downloads\\\\AReM\\\\bending2\\\\dataset4.csv', 'C:\\\\Users\\\\Aman\\\\Downloads\\\\AReM\\\\bending2\\\\dataset5.csv', 'C:\\\\Users\\\\Aman\\\\Downloads\\\\AReM\\\\bending2\\\\dataset6.csv', 'C:\\\\Users\\\\Aman\\\\Downloads\\\\AReM\\\\cycling\\\\dataset1.csv', 'C:\\\\Users\\\\Aman\\\\Downloads\\\\AReM\\\\cycling\\\\dataset10.csv', 'C:\\\\Users\\\\Aman\\\\Downloads\\\\AReM\\\\cycling\\\\dataset11.csv', 'C:\\\\Users\\\\Aman\\\\Downloads\\\\AReM\\\\cycling\\\\dataset12.csv', 'C:\\\\Users\\\\Aman\\\\Downloads\\\\AReM\\\\cycling\\\\dataset13.csv', 'C:\\\\Users\\\\Aman\\\\Downloads\\\\AReM\\\\cycling\\\\dataset14.csv', 'C:\\\\Users\\\\Aman\\\\Downloads\\\\AReM\\\\cycling\\\\dataset15.csv', 'C:\\\\Users\\\\Aman\\\\Downloads\\\\AReM\\\\cycling\\\\dataset2.csv', 'C:\\\\Users\\\\Aman\\\\Downloads\\\\AReM\\\\cycling\\\\dataset3.csv', 'C:\\\\Users\\\\Aman\\\\Downloads\\\\AReM\\\\cycling\\\\dataset4.csv', 'C:\\\\Users\\\\Aman\\\\Downloads\\\\AReM\\\\cycling\\\\dataset5.csv', 'C:\\\\Users\\\\Aman\\\\Downloads\\\\AReM\\\\cycling\\\\dataset6.csv', 'C:\\\\Users\\\\Aman\\\\Downloads\\\\AReM\\\\cycling\\\\dataset7.csv', 'C:\\\\Users\\\\Aman\\\\Downloads\\\\AReM\\\\cycling\\\\dataset8.csv', 'C:\\\\Users\\\\Aman\\\\Downloads\\\\AReM\\\\cycling\\\\dataset9.csv', 'C:\\\\Users\\\\Aman\\\\Downloads\\\\AReM\\\\lying\\\\dataset1.csv', 'C:\\\\Users\\\\Aman\\\\Downloads\\\\AReM\\\\lying\\\\dataset10.csv', 'C:\\\\Users\\\\Aman\\\\Downloads\\\\AReM\\\\lying\\\\dataset11.csv', 'C:\\\\Users\\\\Aman\\\\Downloads\\\\AReM\\\\lying\\\\dataset12.csv', 'C:\\\\Users\\\\Aman\\\\Downloads\\\\AReM\\\\lying\\\\dataset13.csv', 'C:\\\\Users\\\\Aman\\\\Downloads\\\\AReM\\\\lying\\\\dataset14.csv', 'C:\\\\Users\\\\Aman\\\\Downloads\\\\AReM\\\\lying\\\\dataset15.csv', 'C:\\\\Users\\\\Aman\\\\Downloads\\\\AReM\\\\lying\\\\dataset2.csv', 'C:\\\\Users\\\\Aman\\\\Downloads\\\\AReM\\\\lying\\\\dataset3.csv', 'C:\\\\Users\\\\Aman\\\\Downloads\\\\AReM\\\\lying\\\\dataset4.csv', 'C:\\\\Users\\\\Aman\\\\Downloads\\\\AReM\\\\lying\\\\dataset5.csv', 'C:\\\\Users\\\\Aman\\\\Downloads\\\\AReM\\\\lying\\\\dataset6.csv', 'C:\\\\Users\\\\Aman\\\\Downloads\\\\AReM\\\\lying\\\\dataset7.csv', 'C:\\\\Users\\\\Aman\\\\Downloads\\\\AReM\\\\lying\\\\dataset8.csv', 'C:\\\\Users\\\\Aman\\\\Downloads\\\\AReM\\\\lying\\\\dataset9.csv', 'C:\\\\Users\\\\Aman\\\\Downloads\\\\AReM\\\\sitting\\\\dataset1.csv', 'C:\\\\Users\\\\Aman\\\\Downloads\\\\AReM\\\\sitting\\\\dataset10.csv', 'C:\\\\Users\\\\Aman\\\\Downloads\\\\AReM\\\\sitting\\\\dataset11.csv', 'C:\\\\Users\\\\Aman\\\\Downloads\\\\AReM\\\\sitting\\\\dataset12.csv', 'C:\\\\Users\\\\Aman\\\\Downloads\\\\AReM\\\\sitting\\\\dataset13.csv', 'C:\\\\Users\\\\Aman\\\\Downloads\\\\AReM\\\\sitting\\\\dataset14.csv', 'C:\\\\Users\\\\Aman\\\\Downloads\\\\AReM\\\\sitting\\\\dataset15.csv', 'C:\\\\Users\\\\Aman\\\\Downloads\\\\AReM\\\\sitting\\\\dataset2.csv', 'C:\\\\Users\\\\Aman\\\\Downloads\\\\AReM\\\\sitting\\\\dataset3.csv', 'C:\\\\Users\\\\Aman\\\\Downloads\\\\AReM\\\\sitting\\\\dataset4.csv', 'C:\\\\Users\\\\Aman\\\\Downloads\\\\AReM\\\\sitting\\\\dataset5.csv', 'C:\\\\Users\\\\Aman\\\\Downloads\\\\AReM\\\\sitting\\\\dataset6.csv', 'C:\\\\Users\\\\Aman\\\\Downloads\\\\AReM\\\\sitting\\\\dataset7.csv', 'C:\\\\Users\\\\Aman\\\\Downloads\\\\AReM\\\\sitting\\\\dataset8.csv', 'C:\\\\Users\\\\Aman\\\\Downloads\\\\AReM\\\\sitting\\\\dataset9.csv', 'C:\\\\Users\\\\Aman\\\\Downloads\\\\AReM\\\\standing\\\\dataset1.csv', 'C:\\\\Users\\\\Aman\\\\Downloads\\\\AReM\\\\standing\\\\dataset10.csv', 'C:\\\\Users\\\\Aman\\\\Downloads\\\\AReM\\\\standing\\\\dataset11.csv', 'C:\\\\Users\\\\Aman\\\\Downloads\\\\AReM\\\\standing\\\\dataset12.csv', 'C:\\\\Users\\\\Aman\\\\Downloads\\\\AReM\\\\standing\\\\dataset13.csv', 'C:\\\\Users\\\\Aman\\\\Downloads\\\\AReM\\\\standing\\\\dataset14.csv', 'C:\\\\Users\\\\Aman\\\\Downloads\\\\AReM\\\\standing\\\\dataset15.csv', 'C:\\\\Users\\\\Aman\\\\Downloads\\\\AReM\\\\standing\\\\dataset2.csv', 'C:\\\\Users\\\\Aman\\\\Downloads\\\\AReM\\\\standing\\\\dataset3.csv', 'C:\\\\Users\\\\Aman\\\\Downloads\\\\AReM\\\\standing\\\\dataset4.csv', 'C:\\\\Users\\\\Aman\\\\Downloads\\\\AReM\\\\standing\\\\dataset5.csv', 'C:\\\\Users\\\\Aman\\\\Downloads\\\\AReM\\\\standing\\\\dataset6.csv', 'C:\\\\Users\\\\Aman\\\\Downloads\\\\AReM\\\\standing\\\\dataset7.csv']\n",
      "['C:\\\\Users\\\\Aman\\\\Downloads\\\\AReM\\\\bending1\\\\dataset1.csv', 'C:\\\\Users\\\\Aman\\\\Downloads\\\\AReM\\\\bending1\\\\dataset2.csv', 'C:\\\\Users\\\\Aman\\\\Downloads\\\\AReM\\\\bending1\\\\dataset3.csv', 'C:\\\\Users\\\\Aman\\\\Downloads\\\\AReM\\\\bending1\\\\dataset4.csv', 'C:\\\\Users\\\\Aman\\\\Downloads\\\\AReM\\\\bending1\\\\dataset5.csv', 'C:\\\\Users\\\\Aman\\\\Downloads\\\\AReM\\\\bending1\\\\dataset6.csv', 'C:\\\\Users\\\\Aman\\\\Downloads\\\\AReM\\\\bending1\\\\dataset7.csv', 'C:\\\\Users\\\\Aman\\\\Downloads\\\\AReM\\\\bending2\\\\dataset1.csv', 'C:\\\\Users\\\\Aman\\\\Downloads\\\\AReM\\\\bending2\\\\dataset2.csv', 'C:\\\\Users\\\\Aman\\\\Downloads\\\\AReM\\\\bending2\\\\dataset3.csv', 'C:\\\\Users\\\\Aman\\\\Downloads\\\\AReM\\\\bending2\\\\dataset4.csv', 'C:\\\\Users\\\\Aman\\\\Downloads\\\\AReM\\\\bending2\\\\dataset5.csv', 'C:\\\\Users\\\\Aman\\\\Downloads\\\\AReM\\\\bending2\\\\dataset6.csv', 'C:\\\\Users\\\\Aman\\\\Downloads\\\\AReM\\\\cycling\\\\dataset1.csv', 'C:\\\\Users\\\\Aman\\\\Downloads\\\\AReM\\\\cycling\\\\dataset10.csv', 'C:\\\\Users\\\\Aman\\\\Downloads\\\\AReM\\\\cycling\\\\dataset11.csv', 'C:\\\\Users\\\\Aman\\\\Downloads\\\\AReM\\\\cycling\\\\dataset12.csv', 'C:\\\\Users\\\\Aman\\\\Downloads\\\\AReM\\\\cycling\\\\dataset13.csv', 'C:\\\\Users\\\\Aman\\\\Downloads\\\\AReM\\\\cycling\\\\dataset14.csv', 'C:\\\\Users\\\\Aman\\\\Downloads\\\\AReM\\\\cycling\\\\dataset15.csv', 'C:\\\\Users\\\\Aman\\\\Downloads\\\\AReM\\\\cycling\\\\dataset2.csv', 'C:\\\\Users\\\\Aman\\\\Downloads\\\\AReM\\\\cycling\\\\dataset3.csv', 'C:\\\\Users\\\\Aman\\\\Downloads\\\\AReM\\\\cycling\\\\dataset4.csv', 'C:\\\\Users\\\\Aman\\\\Downloads\\\\AReM\\\\cycling\\\\dataset5.csv', 'C:\\\\Users\\\\Aman\\\\Downloads\\\\AReM\\\\cycling\\\\dataset6.csv', 'C:\\\\Users\\\\Aman\\\\Downloads\\\\AReM\\\\cycling\\\\dataset7.csv', 'C:\\\\Users\\\\Aman\\\\Downloads\\\\AReM\\\\cycling\\\\dataset8.csv', 'C:\\\\Users\\\\Aman\\\\Downloads\\\\AReM\\\\cycling\\\\dataset9.csv', 'C:\\\\Users\\\\Aman\\\\Downloads\\\\AReM\\\\lying\\\\dataset1.csv', 'C:\\\\Users\\\\Aman\\\\Downloads\\\\AReM\\\\lying\\\\dataset10.csv', 'C:\\\\Users\\\\Aman\\\\Downloads\\\\AReM\\\\lying\\\\dataset11.csv', 'C:\\\\Users\\\\Aman\\\\Downloads\\\\AReM\\\\lying\\\\dataset12.csv', 'C:\\\\Users\\\\Aman\\\\Downloads\\\\AReM\\\\lying\\\\dataset13.csv', 'C:\\\\Users\\\\Aman\\\\Downloads\\\\AReM\\\\lying\\\\dataset14.csv', 'C:\\\\Users\\\\Aman\\\\Downloads\\\\AReM\\\\lying\\\\dataset15.csv', 'C:\\\\Users\\\\Aman\\\\Downloads\\\\AReM\\\\lying\\\\dataset2.csv', 'C:\\\\Users\\\\Aman\\\\Downloads\\\\AReM\\\\lying\\\\dataset3.csv', 'C:\\\\Users\\\\Aman\\\\Downloads\\\\AReM\\\\lying\\\\dataset4.csv', 'C:\\\\Users\\\\Aman\\\\Downloads\\\\AReM\\\\lying\\\\dataset5.csv', 'C:\\\\Users\\\\Aman\\\\Downloads\\\\AReM\\\\lying\\\\dataset6.csv', 'C:\\\\Users\\\\Aman\\\\Downloads\\\\AReM\\\\lying\\\\dataset7.csv', 'C:\\\\Users\\\\Aman\\\\Downloads\\\\AReM\\\\lying\\\\dataset8.csv', 'C:\\\\Users\\\\Aman\\\\Downloads\\\\AReM\\\\lying\\\\dataset9.csv', 'C:\\\\Users\\\\Aman\\\\Downloads\\\\AReM\\\\sitting\\\\dataset1.csv', 'C:\\\\Users\\\\Aman\\\\Downloads\\\\AReM\\\\sitting\\\\dataset10.csv', 'C:\\\\Users\\\\Aman\\\\Downloads\\\\AReM\\\\sitting\\\\dataset11.csv', 'C:\\\\Users\\\\Aman\\\\Downloads\\\\AReM\\\\sitting\\\\dataset12.csv', 'C:\\\\Users\\\\Aman\\\\Downloads\\\\AReM\\\\sitting\\\\dataset13.csv', 'C:\\\\Users\\\\Aman\\\\Downloads\\\\AReM\\\\sitting\\\\dataset14.csv', 'C:\\\\Users\\\\Aman\\\\Downloads\\\\AReM\\\\sitting\\\\dataset15.csv', 'C:\\\\Users\\\\Aman\\\\Downloads\\\\AReM\\\\sitting\\\\dataset2.csv', 'C:\\\\Users\\\\Aman\\\\Downloads\\\\AReM\\\\sitting\\\\dataset3.csv', 'C:\\\\Users\\\\Aman\\\\Downloads\\\\AReM\\\\sitting\\\\dataset4.csv', 'C:\\\\Users\\\\Aman\\\\Downloads\\\\AReM\\\\sitting\\\\dataset5.csv', 'C:\\\\Users\\\\Aman\\\\Downloads\\\\AReM\\\\sitting\\\\dataset6.csv', 'C:\\\\Users\\\\Aman\\\\Downloads\\\\AReM\\\\sitting\\\\dataset7.csv', 'C:\\\\Users\\\\Aman\\\\Downloads\\\\AReM\\\\sitting\\\\dataset8.csv', 'C:\\\\Users\\\\Aman\\\\Downloads\\\\AReM\\\\sitting\\\\dataset9.csv', 'C:\\\\Users\\\\Aman\\\\Downloads\\\\AReM\\\\standing\\\\dataset1.csv', 'C:\\\\Users\\\\Aman\\\\Downloads\\\\AReM\\\\standing\\\\dataset10.csv', 'C:\\\\Users\\\\Aman\\\\Downloads\\\\AReM\\\\standing\\\\dataset11.csv', 'C:\\\\Users\\\\Aman\\\\Downloads\\\\AReM\\\\standing\\\\dataset12.csv', 'C:\\\\Users\\\\Aman\\\\Downloads\\\\AReM\\\\standing\\\\dataset13.csv', 'C:\\\\Users\\\\Aman\\\\Downloads\\\\AReM\\\\standing\\\\dataset14.csv', 'C:\\\\Users\\\\Aman\\\\Downloads\\\\AReM\\\\standing\\\\dataset15.csv', 'C:\\\\Users\\\\Aman\\\\Downloads\\\\AReM\\\\standing\\\\dataset2.csv', 'C:\\\\Users\\\\Aman\\\\Downloads\\\\AReM\\\\standing\\\\dataset3.csv', 'C:\\\\Users\\\\Aman\\\\Downloads\\\\AReM\\\\standing\\\\dataset4.csv', 'C:\\\\Users\\\\Aman\\\\Downloads\\\\AReM\\\\standing\\\\dataset5.csv', 'C:\\\\Users\\\\Aman\\\\Downloads\\\\AReM\\\\standing\\\\dataset6.csv', 'C:\\\\Users\\\\Aman\\\\Downloads\\\\AReM\\\\standing\\\\dataset7.csv', 'C:\\\\Users\\\\Aman\\\\Downloads\\\\AReM\\\\standing\\\\dataset8.csv']\n",
      "['C:\\\\Users\\\\Aman\\\\Downloads\\\\AReM\\\\bending1\\\\dataset1.csv', 'C:\\\\Users\\\\Aman\\\\Downloads\\\\AReM\\\\bending1\\\\dataset2.csv', 'C:\\\\Users\\\\Aman\\\\Downloads\\\\AReM\\\\bending1\\\\dataset3.csv', 'C:\\\\Users\\\\Aman\\\\Downloads\\\\AReM\\\\bending1\\\\dataset4.csv', 'C:\\\\Users\\\\Aman\\\\Downloads\\\\AReM\\\\bending1\\\\dataset5.csv', 'C:\\\\Users\\\\Aman\\\\Downloads\\\\AReM\\\\bending1\\\\dataset6.csv', 'C:\\\\Users\\\\Aman\\\\Downloads\\\\AReM\\\\bending1\\\\dataset7.csv', 'C:\\\\Users\\\\Aman\\\\Downloads\\\\AReM\\\\bending2\\\\dataset1.csv', 'C:\\\\Users\\\\Aman\\\\Downloads\\\\AReM\\\\bending2\\\\dataset2.csv', 'C:\\\\Users\\\\Aman\\\\Downloads\\\\AReM\\\\bending2\\\\dataset3.csv', 'C:\\\\Users\\\\Aman\\\\Downloads\\\\AReM\\\\bending2\\\\dataset4.csv', 'C:\\\\Users\\\\Aman\\\\Downloads\\\\AReM\\\\bending2\\\\dataset5.csv', 'C:\\\\Users\\\\Aman\\\\Downloads\\\\AReM\\\\bending2\\\\dataset6.csv', 'C:\\\\Users\\\\Aman\\\\Downloads\\\\AReM\\\\cycling\\\\dataset1.csv', 'C:\\\\Users\\\\Aman\\\\Downloads\\\\AReM\\\\cycling\\\\dataset10.csv', 'C:\\\\Users\\\\Aman\\\\Downloads\\\\AReM\\\\cycling\\\\dataset11.csv', 'C:\\\\Users\\\\Aman\\\\Downloads\\\\AReM\\\\cycling\\\\dataset12.csv', 'C:\\\\Users\\\\Aman\\\\Downloads\\\\AReM\\\\cycling\\\\dataset13.csv', 'C:\\\\Users\\\\Aman\\\\Downloads\\\\AReM\\\\cycling\\\\dataset14.csv', 'C:\\\\Users\\\\Aman\\\\Downloads\\\\AReM\\\\cycling\\\\dataset15.csv', 'C:\\\\Users\\\\Aman\\\\Downloads\\\\AReM\\\\cycling\\\\dataset2.csv', 'C:\\\\Users\\\\Aman\\\\Downloads\\\\AReM\\\\cycling\\\\dataset3.csv', 'C:\\\\Users\\\\Aman\\\\Downloads\\\\AReM\\\\cycling\\\\dataset4.csv', 'C:\\\\Users\\\\Aman\\\\Downloads\\\\AReM\\\\cycling\\\\dataset5.csv', 'C:\\\\Users\\\\Aman\\\\Downloads\\\\AReM\\\\cycling\\\\dataset6.csv', 'C:\\\\Users\\\\Aman\\\\Downloads\\\\AReM\\\\cycling\\\\dataset7.csv', 'C:\\\\Users\\\\Aman\\\\Downloads\\\\AReM\\\\cycling\\\\dataset8.csv', 'C:\\\\Users\\\\Aman\\\\Downloads\\\\AReM\\\\cycling\\\\dataset9.csv', 'C:\\\\Users\\\\Aman\\\\Downloads\\\\AReM\\\\lying\\\\dataset1.csv', 'C:\\\\Users\\\\Aman\\\\Downloads\\\\AReM\\\\lying\\\\dataset10.csv', 'C:\\\\Users\\\\Aman\\\\Downloads\\\\AReM\\\\lying\\\\dataset11.csv', 'C:\\\\Users\\\\Aman\\\\Downloads\\\\AReM\\\\lying\\\\dataset12.csv', 'C:\\\\Users\\\\Aman\\\\Downloads\\\\AReM\\\\lying\\\\dataset13.csv', 'C:\\\\Users\\\\Aman\\\\Downloads\\\\AReM\\\\lying\\\\dataset14.csv', 'C:\\\\Users\\\\Aman\\\\Downloads\\\\AReM\\\\lying\\\\dataset15.csv', 'C:\\\\Users\\\\Aman\\\\Downloads\\\\AReM\\\\lying\\\\dataset2.csv', 'C:\\\\Users\\\\Aman\\\\Downloads\\\\AReM\\\\lying\\\\dataset3.csv', 'C:\\\\Users\\\\Aman\\\\Downloads\\\\AReM\\\\lying\\\\dataset4.csv', 'C:\\\\Users\\\\Aman\\\\Downloads\\\\AReM\\\\lying\\\\dataset5.csv', 'C:\\\\Users\\\\Aman\\\\Downloads\\\\AReM\\\\lying\\\\dataset6.csv', 'C:\\\\Users\\\\Aman\\\\Downloads\\\\AReM\\\\lying\\\\dataset7.csv', 'C:\\\\Users\\\\Aman\\\\Downloads\\\\AReM\\\\lying\\\\dataset8.csv', 'C:\\\\Users\\\\Aman\\\\Downloads\\\\AReM\\\\lying\\\\dataset9.csv', 'C:\\\\Users\\\\Aman\\\\Downloads\\\\AReM\\\\sitting\\\\dataset1.csv', 'C:\\\\Users\\\\Aman\\\\Downloads\\\\AReM\\\\sitting\\\\dataset10.csv', 'C:\\\\Users\\\\Aman\\\\Downloads\\\\AReM\\\\sitting\\\\dataset11.csv', 'C:\\\\Users\\\\Aman\\\\Downloads\\\\AReM\\\\sitting\\\\dataset12.csv', 'C:\\\\Users\\\\Aman\\\\Downloads\\\\AReM\\\\sitting\\\\dataset13.csv', 'C:\\\\Users\\\\Aman\\\\Downloads\\\\AReM\\\\sitting\\\\dataset14.csv', 'C:\\\\Users\\\\Aman\\\\Downloads\\\\AReM\\\\sitting\\\\dataset15.csv', 'C:\\\\Users\\\\Aman\\\\Downloads\\\\AReM\\\\sitting\\\\dataset2.csv', 'C:\\\\Users\\\\Aman\\\\Downloads\\\\AReM\\\\sitting\\\\dataset3.csv', 'C:\\\\Users\\\\Aman\\\\Downloads\\\\AReM\\\\sitting\\\\dataset4.csv', 'C:\\\\Users\\\\Aman\\\\Downloads\\\\AReM\\\\sitting\\\\dataset5.csv', 'C:\\\\Users\\\\Aman\\\\Downloads\\\\AReM\\\\sitting\\\\dataset6.csv', 'C:\\\\Users\\\\Aman\\\\Downloads\\\\AReM\\\\sitting\\\\dataset7.csv', 'C:\\\\Users\\\\Aman\\\\Downloads\\\\AReM\\\\sitting\\\\dataset8.csv', 'C:\\\\Users\\\\Aman\\\\Downloads\\\\AReM\\\\sitting\\\\dataset9.csv', 'C:\\\\Users\\\\Aman\\\\Downloads\\\\AReM\\\\standing\\\\dataset1.csv', 'C:\\\\Users\\\\Aman\\\\Downloads\\\\AReM\\\\standing\\\\dataset10.csv', 'C:\\\\Users\\\\Aman\\\\Downloads\\\\AReM\\\\standing\\\\dataset11.csv', 'C:\\\\Users\\\\Aman\\\\Downloads\\\\AReM\\\\standing\\\\dataset12.csv', 'C:\\\\Users\\\\Aman\\\\Downloads\\\\AReM\\\\standing\\\\dataset13.csv', 'C:\\\\Users\\\\Aman\\\\Downloads\\\\AReM\\\\standing\\\\dataset14.csv', 'C:\\\\Users\\\\Aman\\\\Downloads\\\\AReM\\\\standing\\\\dataset15.csv', 'C:\\\\Users\\\\Aman\\\\Downloads\\\\AReM\\\\standing\\\\dataset2.csv', 'C:\\\\Users\\\\Aman\\\\Downloads\\\\AReM\\\\standing\\\\dataset3.csv', 'C:\\\\Users\\\\Aman\\\\Downloads\\\\AReM\\\\standing\\\\dataset4.csv', 'C:\\\\Users\\\\Aman\\\\Downloads\\\\AReM\\\\standing\\\\dataset5.csv', 'C:\\\\Users\\\\Aman\\\\Downloads\\\\AReM\\\\standing\\\\dataset6.csv', 'C:\\\\Users\\\\Aman\\\\Downloads\\\\AReM\\\\standing\\\\dataset7.csv', 'C:\\\\Users\\\\Aman\\\\Downloads\\\\AReM\\\\standing\\\\dataset8.csv', 'C:\\\\Users\\\\Aman\\\\Downloads\\\\AReM\\\\standing\\\\dataset9.csv']\n",
      "['C:\\\\Users\\\\Aman\\\\Downloads\\\\AReM\\\\bending1\\\\dataset1.csv', 'C:\\\\Users\\\\Aman\\\\Downloads\\\\AReM\\\\bending1\\\\dataset2.csv', 'C:\\\\Users\\\\Aman\\\\Downloads\\\\AReM\\\\bending1\\\\dataset3.csv', 'C:\\\\Users\\\\Aman\\\\Downloads\\\\AReM\\\\bending1\\\\dataset4.csv', 'C:\\\\Users\\\\Aman\\\\Downloads\\\\AReM\\\\bending1\\\\dataset5.csv', 'C:\\\\Users\\\\Aman\\\\Downloads\\\\AReM\\\\bending1\\\\dataset6.csv', 'C:\\\\Users\\\\Aman\\\\Downloads\\\\AReM\\\\bending1\\\\dataset7.csv', 'C:\\\\Users\\\\Aman\\\\Downloads\\\\AReM\\\\bending2\\\\dataset1.csv', 'C:\\\\Users\\\\Aman\\\\Downloads\\\\AReM\\\\bending2\\\\dataset2.csv', 'C:\\\\Users\\\\Aman\\\\Downloads\\\\AReM\\\\bending2\\\\dataset3.csv', 'C:\\\\Users\\\\Aman\\\\Downloads\\\\AReM\\\\bending2\\\\dataset4.csv', 'C:\\\\Users\\\\Aman\\\\Downloads\\\\AReM\\\\bending2\\\\dataset5.csv', 'C:\\\\Users\\\\Aman\\\\Downloads\\\\AReM\\\\bending2\\\\dataset6.csv', 'C:\\\\Users\\\\Aman\\\\Downloads\\\\AReM\\\\cycling\\\\dataset1.csv', 'C:\\\\Users\\\\Aman\\\\Downloads\\\\AReM\\\\cycling\\\\dataset10.csv', 'C:\\\\Users\\\\Aman\\\\Downloads\\\\AReM\\\\cycling\\\\dataset11.csv', 'C:\\\\Users\\\\Aman\\\\Downloads\\\\AReM\\\\cycling\\\\dataset12.csv', 'C:\\\\Users\\\\Aman\\\\Downloads\\\\AReM\\\\cycling\\\\dataset13.csv', 'C:\\\\Users\\\\Aman\\\\Downloads\\\\AReM\\\\cycling\\\\dataset14.csv', 'C:\\\\Users\\\\Aman\\\\Downloads\\\\AReM\\\\cycling\\\\dataset15.csv', 'C:\\\\Users\\\\Aman\\\\Downloads\\\\AReM\\\\cycling\\\\dataset2.csv', 'C:\\\\Users\\\\Aman\\\\Downloads\\\\AReM\\\\cycling\\\\dataset3.csv', 'C:\\\\Users\\\\Aman\\\\Downloads\\\\AReM\\\\cycling\\\\dataset4.csv', 'C:\\\\Users\\\\Aman\\\\Downloads\\\\AReM\\\\cycling\\\\dataset5.csv', 'C:\\\\Users\\\\Aman\\\\Downloads\\\\AReM\\\\cycling\\\\dataset6.csv', 'C:\\\\Users\\\\Aman\\\\Downloads\\\\AReM\\\\cycling\\\\dataset7.csv', 'C:\\\\Users\\\\Aman\\\\Downloads\\\\AReM\\\\cycling\\\\dataset8.csv', 'C:\\\\Users\\\\Aman\\\\Downloads\\\\AReM\\\\cycling\\\\dataset9.csv', 'C:\\\\Users\\\\Aman\\\\Downloads\\\\AReM\\\\lying\\\\dataset1.csv', 'C:\\\\Users\\\\Aman\\\\Downloads\\\\AReM\\\\lying\\\\dataset10.csv', 'C:\\\\Users\\\\Aman\\\\Downloads\\\\AReM\\\\lying\\\\dataset11.csv', 'C:\\\\Users\\\\Aman\\\\Downloads\\\\AReM\\\\lying\\\\dataset12.csv', 'C:\\\\Users\\\\Aman\\\\Downloads\\\\AReM\\\\lying\\\\dataset13.csv', 'C:\\\\Users\\\\Aman\\\\Downloads\\\\AReM\\\\lying\\\\dataset14.csv', 'C:\\\\Users\\\\Aman\\\\Downloads\\\\AReM\\\\lying\\\\dataset15.csv', 'C:\\\\Users\\\\Aman\\\\Downloads\\\\AReM\\\\lying\\\\dataset2.csv', 'C:\\\\Users\\\\Aman\\\\Downloads\\\\AReM\\\\lying\\\\dataset3.csv', 'C:\\\\Users\\\\Aman\\\\Downloads\\\\AReM\\\\lying\\\\dataset4.csv', 'C:\\\\Users\\\\Aman\\\\Downloads\\\\AReM\\\\lying\\\\dataset5.csv', 'C:\\\\Users\\\\Aman\\\\Downloads\\\\AReM\\\\lying\\\\dataset6.csv', 'C:\\\\Users\\\\Aman\\\\Downloads\\\\AReM\\\\lying\\\\dataset7.csv', 'C:\\\\Users\\\\Aman\\\\Downloads\\\\AReM\\\\lying\\\\dataset8.csv', 'C:\\\\Users\\\\Aman\\\\Downloads\\\\AReM\\\\lying\\\\dataset9.csv', 'C:\\\\Users\\\\Aman\\\\Downloads\\\\AReM\\\\sitting\\\\dataset1.csv', 'C:\\\\Users\\\\Aman\\\\Downloads\\\\AReM\\\\sitting\\\\dataset10.csv', 'C:\\\\Users\\\\Aman\\\\Downloads\\\\AReM\\\\sitting\\\\dataset11.csv', 'C:\\\\Users\\\\Aman\\\\Downloads\\\\AReM\\\\sitting\\\\dataset12.csv', 'C:\\\\Users\\\\Aman\\\\Downloads\\\\AReM\\\\sitting\\\\dataset13.csv', 'C:\\\\Users\\\\Aman\\\\Downloads\\\\AReM\\\\sitting\\\\dataset14.csv', 'C:\\\\Users\\\\Aman\\\\Downloads\\\\AReM\\\\sitting\\\\dataset15.csv', 'C:\\\\Users\\\\Aman\\\\Downloads\\\\AReM\\\\sitting\\\\dataset2.csv', 'C:\\\\Users\\\\Aman\\\\Downloads\\\\AReM\\\\sitting\\\\dataset3.csv', 'C:\\\\Users\\\\Aman\\\\Downloads\\\\AReM\\\\sitting\\\\dataset4.csv', 'C:\\\\Users\\\\Aman\\\\Downloads\\\\AReM\\\\sitting\\\\dataset5.csv', 'C:\\\\Users\\\\Aman\\\\Downloads\\\\AReM\\\\sitting\\\\dataset6.csv', 'C:\\\\Users\\\\Aman\\\\Downloads\\\\AReM\\\\sitting\\\\dataset7.csv', 'C:\\\\Users\\\\Aman\\\\Downloads\\\\AReM\\\\sitting\\\\dataset8.csv', 'C:\\\\Users\\\\Aman\\\\Downloads\\\\AReM\\\\sitting\\\\dataset9.csv', 'C:\\\\Users\\\\Aman\\\\Downloads\\\\AReM\\\\standing\\\\dataset1.csv', 'C:\\\\Users\\\\Aman\\\\Downloads\\\\AReM\\\\standing\\\\dataset10.csv', 'C:\\\\Users\\\\Aman\\\\Downloads\\\\AReM\\\\standing\\\\dataset11.csv', 'C:\\\\Users\\\\Aman\\\\Downloads\\\\AReM\\\\standing\\\\dataset12.csv', 'C:\\\\Users\\\\Aman\\\\Downloads\\\\AReM\\\\standing\\\\dataset13.csv', 'C:\\\\Users\\\\Aman\\\\Downloads\\\\AReM\\\\standing\\\\dataset14.csv', 'C:\\\\Users\\\\Aman\\\\Downloads\\\\AReM\\\\standing\\\\dataset15.csv', 'C:\\\\Users\\\\Aman\\\\Downloads\\\\AReM\\\\standing\\\\dataset2.csv', 'C:\\\\Users\\\\Aman\\\\Downloads\\\\AReM\\\\standing\\\\dataset3.csv', 'C:\\\\Users\\\\Aman\\\\Downloads\\\\AReM\\\\standing\\\\dataset4.csv', 'C:\\\\Users\\\\Aman\\\\Downloads\\\\AReM\\\\standing\\\\dataset5.csv', 'C:\\\\Users\\\\Aman\\\\Downloads\\\\AReM\\\\standing\\\\dataset6.csv', 'C:\\\\Users\\\\Aman\\\\Downloads\\\\AReM\\\\standing\\\\dataset7.csv', 'C:\\\\Users\\\\Aman\\\\Downloads\\\\AReM\\\\standing\\\\dataset8.csv', 'C:\\\\Users\\\\Aman\\\\Downloads\\\\AReM\\\\standing\\\\dataset9.csv', 'C:\\\\Users\\\\Aman\\\\Downloads\\\\AReM\\\\walking\\\\dataset1.csv']\n",
      "['C:\\\\Users\\\\Aman\\\\Downloads\\\\AReM\\\\bending1\\\\dataset1.csv', 'C:\\\\Users\\\\Aman\\\\Downloads\\\\AReM\\\\bending1\\\\dataset2.csv', 'C:\\\\Users\\\\Aman\\\\Downloads\\\\AReM\\\\bending1\\\\dataset3.csv', 'C:\\\\Users\\\\Aman\\\\Downloads\\\\AReM\\\\bending1\\\\dataset4.csv', 'C:\\\\Users\\\\Aman\\\\Downloads\\\\AReM\\\\bending1\\\\dataset5.csv', 'C:\\\\Users\\\\Aman\\\\Downloads\\\\AReM\\\\bending1\\\\dataset6.csv', 'C:\\\\Users\\\\Aman\\\\Downloads\\\\AReM\\\\bending1\\\\dataset7.csv', 'C:\\\\Users\\\\Aman\\\\Downloads\\\\AReM\\\\bending2\\\\dataset1.csv', 'C:\\\\Users\\\\Aman\\\\Downloads\\\\AReM\\\\bending2\\\\dataset2.csv', 'C:\\\\Users\\\\Aman\\\\Downloads\\\\AReM\\\\bending2\\\\dataset3.csv', 'C:\\\\Users\\\\Aman\\\\Downloads\\\\AReM\\\\bending2\\\\dataset4.csv', 'C:\\\\Users\\\\Aman\\\\Downloads\\\\AReM\\\\bending2\\\\dataset5.csv', 'C:\\\\Users\\\\Aman\\\\Downloads\\\\AReM\\\\bending2\\\\dataset6.csv', 'C:\\\\Users\\\\Aman\\\\Downloads\\\\AReM\\\\cycling\\\\dataset1.csv', 'C:\\\\Users\\\\Aman\\\\Downloads\\\\AReM\\\\cycling\\\\dataset10.csv', 'C:\\\\Users\\\\Aman\\\\Downloads\\\\AReM\\\\cycling\\\\dataset11.csv', 'C:\\\\Users\\\\Aman\\\\Downloads\\\\AReM\\\\cycling\\\\dataset12.csv', 'C:\\\\Users\\\\Aman\\\\Downloads\\\\AReM\\\\cycling\\\\dataset13.csv', 'C:\\\\Users\\\\Aman\\\\Downloads\\\\AReM\\\\cycling\\\\dataset14.csv', 'C:\\\\Users\\\\Aman\\\\Downloads\\\\AReM\\\\cycling\\\\dataset15.csv', 'C:\\\\Users\\\\Aman\\\\Downloads\\\\AReM\\\\cycling\\\\dataset2.csv', 'C:\\\\Users\\\\Aman\\\\Downloads\\\\AReM\\\\cycling\\\\dataset3.csv', 'C:\\\\Users\\\\Aman\\\\Downloads\\\\AReM\\\\cycling\\\\dataset4.csv', 'C:\\\\Users\\\\Aman\\\\Downloads\\\\AReM\\\\cycling\\\\dataset5.csv', 'C:\\\\Users\\\\Aman\\\\Downloads\\\\AReM\\\\cycling\\\\dataset6.csv', 'C:\\\\Users\\\\Aman\\\\Downloads\\\\AReM\\\\cycling\\\\dataset7.csv', 'C:\\\\Users\\\\Aman\\\\Downloads\\\\AReM\\\\cycling\\\\dataset8.csv', 'C:\\\\Users\\\\Aman\\\\Downloads\\\\AReM\\\\cycling\\\\dataset9.csv', 'C:\\\\Users\\\\Aman\\\\Downloads\\\\AReM\\\\lying\\\\dataset1.csv', 'C:\\\\Users\\\\Aman\\\\Downloads\\\\AReM\\\\lying\\\\dataset10.csv', 'C:\\\\Users\\\\Aman\\\\Downloads\\\\AReM\\\\lying\\\\dataset11.csv', 'C:\\\\Users\\\\Aman\\\\Downloads\\\\AReM\\\\lying\\\\dataset12.csv', 'C:\\\\Users\\\\Aman\\\\Downloads\\\\AReM\\\\lying\\\\dataset13.csv', 'C:\\\\Users\\\\Aman\\\\Downloads\\\\AReM\\\\lying\\\\dataset14.csv', 'C:\\\\Users\\\\Aman\\\\Downloads\\\\AReM\\\\lying\\\\dataset15.csv', 'C:\\\\Users\\\\Aman\\\\Downloads\\\\AReM\\\\lying\\\\dataset2.csv', 'C:\\\\Users\\\\Aman\\\\Downloads\\\\AReM\\\\lying\\\\dataset3.csv', 'C:\\\\Users\\\\Aman\\\\Downloads\\\\AReM\\\\lying\\\\dataset4.csv', 'C:\\\\Users\\\\Aman\\\\Downloads\\\\AReM\\\\lying\\\\dataset5.csv', 'C:\\\\Users\\\\Aman\\\\Downloads\\\\AReM\\\\lying\\\\dataset6.csv', 'C:\\\\Users\\\\Aman\\\\Downloads\\\\AReM\\\\lying\\\\dataset7.csv', 'C:\\\\Users\\\\Aman\\\\Downloads\\\\AReM\\\\lying\\\\dataset8.csv', 'C:\\\\Users\\\\Aman\\\\Downloads\\\\AReM\\\\lying\\\\dataset9.csv', 'C:\\\\Users\\\\Aman\\\\Downloads\\\\AReM\\\\sitting\\\\dataset1.csv', 'C:\\\\Users\\\\Aman\\\\Downloads\\\\AReM\\\\sitting\\\\dataset10.csv', 'C:\\\\Users\\\\Aman\\\\Downloads\\\\AReM\\\\sitting\\\\dataset11.csv', 'C:\\\\Users\\\\Aman\\\\Downloads\\\\AReM\\\\sitting\\\\dataset12.csv', 'C:\\\\Users\\\\Aman\\\\Downloads\\\\AReM\\\\sitting\\\\dataset13.csv', 'C:\\\\Users\\\\Aman\\\\Downloads\\\\AReM\\\\sitting\\\\dataset14.csv', 'C:\\\\Users\\\\Aman\\\\Downloads\\\\AReM\\\\sitting\\\\dataset15.csv', 'C:\\\\Users\\\\Aman\\\\Downloads\\\\AReM\\\\sitting\\\\dataset2.csv', 'C:\\\\Users\\\\Aman\\\\Downloads\\\\AReM\\\\sitting\\\\dataset3.csv', 'C:\\\\Users\\\\Aman\\\\Downloads\\\\AReM\\\\sitting\\\\dataset4.csv', 'C:\\\\Users\\\\Aman\\\\Downloads\\\\AReM\\\\sitting\\\\dataset5.csv', 'C:\\\\Users\\\\Aman\\\\Downloads\\\\AReM\\\\sitting\\\\dataset6.csv', 'C:\\\\Users\\\\Aman\\\\Downloads\\\\AReM\\\\sitting\\\\dataset7.csv', 'C:\\\\Users\\\\Aman\\\\Downloads\\\\AReM\\\\sitting\\\\dataset8.csv', 'C:\\\\Users\\\\Aman\\\\Downloads\\\\AReM\\\\sitting\\\\dataset9.csv', 'C:\\\\Users\\\\Aman\\\\Downloads\\\\AReM\\\\standing\\\\dataset1.csv', 'C:\\\\Users\\\\Aman\\\\Downloads\\\\AReM\\\\standing\\\\dataset10.csv', 'C:\\\\Users\\\\Aman\\\\Downloads\\\\AReM\\\\standing\\\\dataset11.csv', 'C:\\\\Users\\\\Aman\\\\Downloads\\\\AReM\\\\standing\\\\dataset12.csv', 'C:\\\\Users\\\\Aman\\\\Downloads\\\\AReM\\\\standing\\\\dataset13.csv', 'C:\\\\Users\\\\Aman\\\\Downloads\\\\AReM\\\\standing\\\\dataset14.csv', 'C:\\\\Users\\\\Aman\\\\Downloads\\\\AReM\\\\standing\\\\dataset15.csv', 'C:\\\\Users\\\\Aman\\\\Downloads\\\\AReM\\\\standing\\\\dataset2.csv', 'C:\\\\Users\\\\Aman\\\\Downloads\\\\AReM\\\\standing\\\\dataset3.csv', 'C:\\\\Users\\\\Aman\\\\Downloads\\\\AReM\\\\standing\\\\dataset4.csv', 'C:\\\\Users\\\\Aman\\\\Downloads\\\\AReM\\\\standing\\\\dataset5.csv', 'C:\\\\Users\\\\Aman\\\\Downloads\\\\AReM\\\\standing\\\\dataset6.csv', 'C:\\\\Users\\\\Aman\\\\Downloads\\\\AReM\\\\standing\\\\dataset7.csv', 'C:\\\\Users\\\\Aman\\\\Downloads\\\\AReM\\\\standing\\\\dataset8.csv', 'C:\\\\Users\\\\Aman\\\\Downloads\\\\AReM\\\\standing\\\\dataset9.csv', 'C:\\\\Users\\\\Aman\\\\Downloads\\\\AReM\\\\walking\\\\dataset1.csv', 'C:\\\\Users\\\\Aman\\\\Downloads\\\\AReM\\\\walking\\\\dataset10.csv']\n",
      "['C:\\\\Users\\\\Aman\\\\Downloads\\\\AReM\\\\bending1\\\\dataset1.csv', 'C:\\\\Users\\\\Aman\\\\Downloads\\\\AReM\\\\bending1\\\\dataset2.csv', 'C:\\\\Users\\\\Aman\\\\Downloads\\\\AReM\\\\bending1\\\\dataset3.csv', 'C:\\\\Users\\\\Aman\\\\Downloads\\\\AReM\\\\bending1\\\\dataset4.csv', 'C:\\\\Users\\\\Aman\\\\Downloads\\\\AReM\\\\bending1\\\\dataset5.csv', 'C:\\\\Users\\\\Aman\\\\Downloads\\\\AReM\\\\bending1\\\\dataset6.csv', 'C:\\\\Users\\\\Aman\\\\Downloads\\\\AReM\\\\bending1\\\\dataset7.csv', 'C:\\\\Users\\\\Aman\\\\Downloads\\\\AReM\\\\bending2\\\\dataset1.csv', 'C:\\\\Users\\\\Aman\\\\Downloads\\\\AReM\\\\bending2\\\\dataset2.csv', 'C:\\\\Users\\\\Aman\\\\Downloads\\\\AReM\\\\bending2\\\\dataset3.csv', 'C:\\\\Users\\\\Aman\\\\Downloads\\\\AReM\\\\bending2\\\\dataset4.csv', 'C:\\\\Users\\\\Aman\\\\Downloads\\\\AReM\\\\bending2\\\\dataset5.csv', 'C:\\\\Users\\\\Aman\\\\Downloads\\\\AReM\\\\bending2\\\\dataset6.csv', 'C:\\\\Users\\\\Aman\\\\Downloads\\\\AReM\\\\cycling\\\\dataset1.csv', 'C:\\\\Users\\\\Aman\\\\Downloads\\\\AReM\\\\cycling\\\\dataset10.csv', 'C:\\\\Users\\\\Aman\\\\Downloads\\\\AReM\\\\cycling\\\\dataset11.csv', 'C:\\\\Users\\\\Aman\\\\Downloads\\\\AReM\\\\cycling\\\\dataset12.csv', 'C:\\\\Users\\\\Aman\\\\Downloads\\\\AReM\\\\cycling\\\\dataset13.csv', 'C:\\\\Users\\\\Aman\\\\Downloads\\\\AReM\\\\cycling\\\\dataset14.csv', 'C:\\\\Users\\\\Aman\\\\Downloads\\\\AReM\\\\cycling\\\\dataset15.csv', 'C:\\\\Users\\\\Aman\\\\Downloads\\\\AReM\\\\cycling\\\\dataset2.csv', 'C:\\\\Users\\\\Aman\\\\Downloads\\\\AReM\\\\cycling\\\\dataset3.csv', 'C:\\\\Users\\\\Aman\\\\Downloads\\\\AReM\\\\cycling\\\\dataset4.csv', 'C:\\\\Users\\\\Aman\\\\Downloads\\\\AReM\\\\cycling\\\\dataset5.csv', 'C:\\\\Users\\\\Aman\\\\Downloads\\\\AReM\\\\cycling\\\\dataset6.csv', 'C:\\\\Users\\\\Aman\\\\Downloads\\\\AReM\\\\cycling\\\\dataset7.csv', 'C:\\\\Users\\\\Aman\\\\Downloads\\\\AReM\\\\cycling\\\\dataset8.csv', 'C:\\\\Users\\\\Aman\\\\Downloads\\\\AReM\\\\cycling\\\\dataset9.csv', 'C:\\\\Users\\\\Aman\\\\Downloads\\\\AReM\\\\lying\\\\dataset1.csv', 'C:\\\\Users\\\\Aman\\\\Downloads\\\\AReM\\\\lying\\\\dataset10.csv', 'C:\\\\Users\\\\Aman\\\\Downloads\\\\AReM\\\\lying\\\\dataset11.csv', 'C:\\\\Users\\\\Aman\\\\Downloads\\\\AReM\\\\lying\\\\dataset12.csv', 'C:\\\\Users\\\\Aman\\\\Downloads\\\\AReM\\\\lying\\\\dataset13.csv', 'C:\\\\Users\\\\Aman\\\\Downloads\\\\AReM\\\\lying\\\\dataset14.csv', 'C:\\\\Users\\\\Aman\\\\Downloads\\\\AReM\\\\lying\\\\dataset15.csv', 'C:\\\\Users\\\\Aman\\\\Downloads\\\\AReM\\\\lying\\\\dataset2.csv', 'C:\\\\Users\\\\Aman\\\\Downloads\\\\AReM\\\\lying\\\\dataset3.csv', 'C:\\\\Users\\\\Aman\\\\Downloads\\\\AReM\\\\lying\\\\dataset4.csv', 'C:\\\\Users\\\\Aman\\\\Downloads\\\\AReM\\\\lying\\\\dataset5.csv', 'C:\\\\Users\\\\Aman\\\\Downloads\\\\AReM\\\\lying\\\\dataset6.csv', 'C:\\\\Users\\\\Aman\\\\Downloads\\\\AReM\\\\lying\\\\dataset7.csv', 'C:\\\\Users\\\\Aman\\\\Downloads\\\\AReM\\\\lying\\\\dataset8.csv', 'C:\\\\Users\\\\Aman\\\\Downloads\\\\AReM\\\\lying\\\\dataset9.csv', 'C:\\\\Users\\\\Aman\\\\Downloads\\\\AReM\\\\sitting\\\\dataset1.csv', 'C:\\\\Users\\\\Aman\\\\Downloads\\\\AReM\\\\sitting\\\\dataset10.csv', 'C:\\\\Users\\\\Aman\\\\Downloads\\\\AReM\\\\sitting\\\\dataset11.csv', 'C:\\\\Users\\\\Aman\\\\Downloads\\\\AReM\\\\sitting\\\\dataset12.csv', 'C:\\\\Users\\\\Aman\\\\Downloads\\\\AReM\\\\sitting\\\\dataset13.csv', 'C:\\\\Users\\\\Aman\\\\Downloads\\\\AReM\\\\sitting\\\\dataset14.csv', 'C:\\\\Users\\\\Aman\\\\Downloads\\\\AReM\\\\sitting\\\\dataset15.csv', 'C:\\\\Users\\\\Aman\\\\Downloads\\\\AReM\\\\sitting\\\\dataset2.csv', 'C:\\\\Users\\\\Aman\\\\Downloads\\\\AReM\\\\sitting\\\\dataset3.csv', 'C:\\\\Users\\\\Aman\\\\Downloads\\\\AReM\\\\sitting\\\\dataset4.csv', 'C:\\\\Users\\\\Aman\\\\Downloads\\\\AReM\\\\sitting\\\\dataset5.csv', 'C:\\\\Users\\\\Aman\\\\Downloads\\\\AReM\\\\sitting\\\\dataset6.csv', 'C:\\\\Users\\\\Aman\\\\Downloads\\\\AReM\\\\sitting\\\\dataset7.csv', 'C:\\\\Users\\\\Aman\\\\Downloads\\\\AReM\\\\sitting\\\\dataset8.csv', 'C:\\\\Users\\\\Aman\\\\Downloads\\\\AReM\\\\sitting\\\\dataset9.csv', 'C:\\\\Users\\\\Aman\\\\Downloads\\\\AReM\\\\standing\\\\dataset1.csv', 'C:\\\\Users\\\\Aman\\\\Downloads\\\\AReM\\\\standing\\\\dataset10.csv', 'C:\\\\Users\\\\Aman\\\\Downloads\\\\AReM\\\\standing\\\\dataset11.csv', 'C:\\\\Users\\\\Aman\\\\Downloads\\\\AReM\\\\standing\\\\dataset12.csv', 'C:\\\\Users\\\\Aman\\\\Downloads\\\\AReM\\\\standing\\\\dataset13.csv', 'C:\\\\Users\\\\Aman\\\\Downloads\\\\AReM\\\\standing\\\\dataset14.csv', 'C:\\\\Users\\\\Aman\\\\Downloads\\\\AReM\\\\standing\\\\dataset15.csv', 'C:\\\\Users\\\\Aman\\\\Downloads\\\\AReM\\\\standing\\\\dataset2.csv', 'C:\\\\Users\\\\Aman\\\\Downloads\\\\AReM\\\\standing\\\\dataset3.csv', 'C:\\\\Users\\\\Aman\\\\Downloads\\\\AReM\\\\standing\\\\dataset4.csv', 'C:\\\\Users\\\\Aman\\\\Downloads\\\\AReM\\\\standing\\\\dataset5.csv', 'C:\\\\Users\\\\Aman\\\\Downloads\\\\AReM\\\\standing\\\\dataset6.csv', 'C:\\\\Users\\\\Aman\\\\Downloads\\\\AReM\\\\standing\\\\dataset7.csv', 'C:\\\\Users\\\\Aman\\\\Downloads\\\\AReM\\\\standing\\\\dataset8.csv', 'C:\\\\Users\\\\Aman\\\\Downloads\\\\AReM\\\\standing\\\\dataset9.csv', 'C:\\\\Users\\\\Aman\\\\Downloads\\\\AReM\\\\walking\\\\dataset1.csv', 'C:\\\\Users\\\\Aman\\\\Downloads\\\\AReM\\\\walking\\\\dataset10.csv', 'C:\\\\Users\\\\Aman\\\\Downloads\\\\AReM\\\\walking\\\\dataset11.csv']\n",
      "['C:\\\\Users\\\\Aman\\\\Downloads\\\\AReM\\\\bending1\\\\dataset1.csv', 'C:\\\\Users\\\\Aman\\\\Downloads\\\\AReM\\\\bending1\\\\dataset2.csv', 'C:\\\\Users\\\\Aman\\\\Downloads\\\\AReM\\\\bending1\\\\dataset3.csv', 'C:\\\\Users\\\\Aman\\\\Downloads\\\\AReM\\\\bending1\\\\dataset4.csv', 'C:\\\\Users\\\\Aman\\\\Downloads\\\\AReM\\\\bending1\\\\dataset5.csv', 'C:\\\\Users\\\\Aman\\\\Downloads\\\\AReM\\\\bending1\\\\dataset6.csv', 'C:\\\\Users\\\\Aman\\\\Downloads\\\\AReM\\\\bending1\\\\dataset7.csv', 'C:\\\\Users\\\\Aman\\\\Downloads\\\\AReM\\\\bending2\\\\dataset1.csv', 'C:\\\\Users\\\\Aman\\\\Downloads\\\\AReM\\\\bending2\\\\dataset2.csv', 'C:\\\\Users\\\\Aman\\\\Downloads\\\\AReM\\\\bending2\\\\dataset3.csv', 'C:\\\\Users\\\\Aman\\\\Downloads\\\\AReM\\\\bending2\\\\dataset4.csv', 'C:\\\\Users\\\\Aman\\\\Downloads\\\\AReM\\\\bending2\\\\dataset5.csv', 'C:\\\\Users\\\\Aman\\\\Downloads\\\\AReM\\\\bending2\\\\dataset6.csv', 'C:\\\\Users\\\\Aman\\\\Downloads\\\\AReM\\\\cycling\\\\dataset1.csv', 'C:\\\\Users\\\\Aman\\\\Downloads\\\\AReM\\\\cycling\\\\dataset10.csv', 'C:\\\\Users\\\\Aman\\\\Downloads\\\\AReM\\\\cycling\\\\dataset11.csv', 'C:\\\\Users\\\\Aman\\\\Downloads\\\\AReM\\\\cycling\\\\dataset12.csv', 'C:\\\\Users\\\\Aman\\\\Downloads\\\\AReM\\\\cycling\\\\dataset13.csv', 'C:\\\\Users\\\\Aman\\\\Downloads\\\\AReM\\\\cycling\\\\dataset14.csv', 'C:\\\\Users\\\\Aman\\\\Downloads\\\\AReM\\\\cycling\\\\dataset15.csv', 'C:\\\\Users\\\\Aman\\\\Downloads\\\\AReM\\\\cycling\\\\dataset2.csv', 'C:\\\\Users\\\\Aman\\\\Downloads\\\\AReM\\\\cycling\\\\dataset3.csv', 'C:\\\\Users\\\\Aman\\\\Downloads\\\\AReM\\\\cycling\\\\dataset4.csv', 'C:\\\\Users\\\\Aman\\\\Downloads\\\\AReM\\\\cycling\\\\dataset5.csv', 'C:\\\\Users\\\\Aman\\\\Downloads\\\\AReM\\\\cycling\\\\dataset6.csv', 'C:\\\\Users\\\\Aman\\\\Downloads\\\\AReM\\\\cycling\\\\dataset7.csv', 'C:\\\\Users\\\\Aman\\\\Downloads\\\\AReM\\\\cycling\\\\dataset8.csv', 'C:\\\\Users\\\\Aman\\\\Downloads\\\\AReM\\\\cycling\\\\dataset9.csv', 'C:\\\\Users\\\\Aman\\\\Downloads\\\\AReM\\\\lying\\\\dataset1.csv', 'C:\\\\Users\\\\Aman\\\\Downloads\\\\AReM\\\\lying\\\\dataset10.csv', 'C:\\\\Users\\\\Aman\\\\Downloads\\\\AReM\\\\lying\\\\dataset11.csv', 'C:\\\\Users\\\\Aman\\\\Downloads\\\\AReM\\\\lying\\\\dataset12.csv', 'C:\\\\Users\\\\Aman\\\\Downloads\\\\AReM\\\\lying\\\\dataset13.csv', 'C:\\\\Users\\\\Aman\\\\Downloads\\\\AReM\\\\lying\\\\dataset14.csv', 'C:\\\\Users\\\\Aman\\\\Downloads\\\\AReM\\\\lying\\\\dataset15.csv', 'C:\\\\Users\\\\Aman\\\\Downloads\\\\AReM\\\\lying\\\\dataset2.csv', 'C:\\\\Users\\\\Aman\\\\Downloads\\\\AReM\\\\lying\\\\dataset3.csv', 'C:\\\\Users\\\\Aman\\\\Downloads\\\\AReM\\\\lying\\\\dataset4.csv', 'C:\\\\Users\\\\Aman\\\\Downloads\\\\AReM\\\\lying\\\\dataset5.csv', 'C:\\\\Users\\\\Aman\\\\Downloads\\\\AReM\\\\lying\\\\dataset6.csv', 'C:\\\\Users\\\\Aman\\\\Downloads\\\\AReM\\\\lying\\\\dataset7.csv', 'C:\\\\Users\\\\Aman\\\\Downloads\\\\AReM\\\\lying\\\\dataset8.csv', 'C:\\\\Users\\\\Aman\\\\Downloads\\\\AReM\\\\lying\\\\dataset9.csv', 'C:\\\\Users\\\\Aman\\\\Downloads\\\\AReM\\\\sitting\\\\dataset1.csv', 'C:\\\\Users\\\\Aman\\\\Downloads\\\\AReM\\\\sitting\\\\dataset10.csv', 'C:\\\\Users\\\\Aman\\\\Downloads\\\\AReM\\\\sitting\\\\dataset11.csv', 'C:\\\\Users\\\\Aman\\\\Downloads\\\\AReM\\\\sitting\\\\dataset12.csv', 'C:\\\\Users\\\\Aman\\\\Downloads\\\\AReM\\\\sitting\\\\dataset13.csv', 'C:\\\\Users\\\\Aman\\\\Downloads\\\\AReM\\\\sitting\\\\dataset14.csv', 'C:\\\\Users\\\\Aman\\\\Downloads\\\\AReM\\\\sitting\\\\dataset15.csv', 'C:\\\\Users\\\\Aman\\\\Downloads\\\\AReM\\\\sitting\\\\dataset2.csv', 'C:\\\\Users\\\\Aman\\\\Downloads\\\\AReM\\\\sitting\\\\dataset3.csv', 'C:\\\\Users\\\\Aman\\\\Downloads\\\\AReM\\\\sitting\\\\dataset4.csv', 'C:\\\\Users\\\\Aman\\\\Downloads\\\\AReM\\\\sitting\\\\dataset5.csv', 'C:\\\\Users\\\\Aman\\\\Downloads\\\\AReM\\\\sitting\\\\dataset6.csv', 'C:\\\\Users\\\\Aman\\\\Downloads\\\\AReM\\\\sitting\\\\dataset7.csv', 'C:\\\\Users\\\\Aman\\\\Downloads\\\\AReM\\\\sitting\\\\dataset8.csv', 'C:\\\\Users\\\\Aman\\\\Downloads\\\\AReM\\\\sitting\\\\dataset9.csv', 'C:\\\\Users\\\\Aman\\\\Downloads\\\\AReM\\\\standing\\\\dataset1.csv', 'C:\\\\Users\\\\Aman\\\\Downloads\\\\AReM\\\\standing\\\\dataset10.csv', 'C:\\\\Users\\\\Aman\\\\Downloads\\\\AReM\\\\standing\\\\dataset11.csv', 'C:\\\\Users\\\\Aman\\\\Downloads\\\\AReM\\\\standing\\\\dataset12.csv', 'C:\\\\Users\\\\Aman\\\\Downloads\\\\AReM\\\\standing\\\\dataset13.csv', 'C:\\\\Users\\\\Aman\\\\Downloads\\\\AReM\\\\standing\\\\dataset14.csv', 'C:\\\\Users\\\\Aman\\\\Downloads\\\\AReM\\\\standing\\\\dataset15.csv', 'C:\\\\Users\\\\Aman\\\\Downloads\\\\AReM\\\\standing\\\\dataset2.csv', 'C:\\\\Users\\\\Aman\\\\Downloads\\\\AReM\\\\standing\\\\dataset3.csv', 'C:\\\\Users\\\\Aman\\\\Downloads\\\\AReM\\\\standing\\\\dataset4.csv', 'C:\\\\Users\\\\Aman\\\\Downloads\\\\AReM\\\\standing\\\\dataset5.csv', 'C:\\\\Users\\\\Aman\\\\Downloads\\\\AReM\\\\standing\\\\dataset6.csv', 'C:\\\\Users\\\\Aman\\\\Downloads\\\\AReM\\\\standing\\\\dataset7.csv', 'C:\\\\Users\\\\Aman\\\\Downloads\\\\AReM\\\\standing\\\\dataset8.csv', 'C:\\\\Users\\\\Aman\\\\Downloads\\\\AReM\\\\standing\\\\dataset9.csv', 'C:\\\\Users\\\\Aman\\\\Downloads\\\\AReM\\\\walking\\\\dataset1.csv', 'C:\\\\Users\\\\Aman\\\\Downloads\\\\AReM\\\\walking\\\\dataset10.csv', 'C:\\\\Users\\\\Aman\\\\Downloads\\\\AReM\\\\walking\\\\dataset11.csv', 'C:\\\\Users\\\\Aman\\\\Downloads\\\\AReM\\\\walking\\\\dataset12.csv']\n",
      "['C:\\\\Users\\\\Aman\\\\Downloads\\\\AReM\\\\bending1\\\\dataset1.csv', 'C:\\\\Users\\\\Aman\\\\Downloads\\\\AReM\\\\bending1\\\\dataset2.csv', 'C:\\\\Users\\\\Aman\\\\Downloads\\\\AReM\\\\bending1\\\\dataset3.csv', 'C:\\\\Users\\\\Aman\\\\Downloads\\\\AReM\\\\bending1\\\\dataset4.csv', 'C:\\\\Users\\\\Aman\\\\Downloads\\\\AReM\\\\bending1\\\\dataset5.csv', 'C:\\\\Users\\\\Aman\\\\Downloads\\\\AReM\\\\bending1\\\\dataset6.csv', 'C:\\\\Users\\\\Aman\\\\Downloads\\\\AReM\\\\bending1\\\\dataset7.csv', 'C:\\\\Users\\\\Aman\\\\Downloads\\\\AReM\\\\bending2\\\\dataset1.csv', 'C:\\\\Users\\\\Aman\\\\Downloads\\\\AReM\\\\bending2\\\\dataset2.csv', 'C:\\\\Users\\\\Aman\\\\Downloads\\\\AReM\\\\bending2\\\\dataset3.csv', 'C:\\\\Users\\\\Aman\\\\Downloads\\\\AReM\\\\bending2\\\\dataset4.csv', 'C:\\\\Users\\\\Aman\\\\Downloads\\\\AReM\\\\bending2\\\\dataset5.csv', 'C:\\\\Users\\\\Aman\\\\Downloads\\\\AReM\\\\bending2\\\\dataset6.csv', 'C:\\\\Users\\\\Aman\\\\Downloads\\\\AReM\\\\cycling\\\\dataset1.csv', 'C:\\\\Users\\\\Aman\\\\Downloads\\\\AReM\\\\cycling\\\\dataset10.csv', 'C:\\\\Users\\\\Aman\\\\Downloads\\\\AReM\\\\cycling\\\\dataset11.csv', 'C:\\\\Users\\\\Aman\\\\Downloads\\\\AReM\\\\cycling\\\\dataset12.csv', 'C:\\\\Users\\\\Aman\\\\Downloads\\\\AReM\\\\cycling\\\\dataset13.csv', 'C:\\\\Users\\\\Aman\\\\Downloads\\\\AReM\\\\cycling\\\\dataset14.csv', 'C:\\\\Users\\\\Aman\\\\Downloads\\\\AReM\\\\cycling\\\\dataset15.csv', 'C:\\\\Users\\\\Aman\\\\Downloads\\\\AReM\\\\cycling\\\\dataset2.csv', 'C:\\\\Users\\\\Aman\\\\Downloads\\\\AReM\\\\cycling\\\\dataset3.csv', 'C:\\\\Users\\\\Aman\\\\Downloads\\\\AReM\\\\cycling\\\\dataset4.csv', 'C:\\\\Users\\\\Aman\\\\Downloads\\\\AReM\\\\cycling\\\\dataset5.csv', 'C:\\\\Users\\\\Aman\\\\Downloads\\\\AReM\\\\cycling\\\\dataset6.csv', 'C:\\\\Users\\\\Aman\\\\Downloads\\\\AReM\\\\cycling\\\\dataset7.csv', 'C:\\\\Users\\\\Aman\\\\Downloads\\\\AReM\\\\cycling\\\\dataset8.csv', 'C:\\\\Users\\\\Aman\\\\Downloads\\\\AReM\\\\cycling\\\\dataset9.csv', 'C:\\\\Users\\\\Aman\\\\Downloads\\\\AReM\\\\lying\\\\dataset1.csv', 'C:\\\\Users\\\\Aman\\\\Downloads\\\\AReM\\\\lying\\\\dataset10.csv', 'C:\\\\Users\\\\Aman\\\\Downloads\\\\AReM\\\\lying\\\\dataset11.csv', 'C:\\\\Users\\\\Aman\\\\Downloads\\\\AReM\\\\lying\\\\dataset12.csv', 'C:\\\\Users\\\\Aman\\\\Downloads\\\\AReM\\\\lying\\\\dataset13.csv', 'C:\\\\Users\\\\Aman\\\\Downloads\\\\AReM\\\\lying\\\\dataset14.csv', 'C:\\\\Users\\\\Aman\\\\Downloads\\\\AReM\\\\lying\\\\dataset15.csv', 'C:\\\\Users\\\\Aman\\\\Downloads\\\\AReM\\\\lying\\\\dataset2.csv', 'C:\\\\Users\\\\Aman\\\\Downloads\\\\AReM\\\\lying\\\\dataset3.csv', 'C:\\\\Users\\\\Aman\\\\Downloads\\\\AReM\\\\lying\\\\dataset4.csv', 'C:\\\\Users\\\\Aman\\\\Downloads\\\\AReM\\\\lying\\\\dataset5.csv', 'C:\\\\Users\\\\Aman\\\\Downloads\\\\AReM\\\\lying\\\\dataset6.csv', 'C:\\\\Users\\\\Aman\\\\Downloads\\\\AReM\\\\lying\\\\dataset7.csv', 'C:\\\\Users\\\\Aman\\\\Downloads\\\\AReM\\\\lying\\\\dataset8.csv', 'C:\\\\Users\\\\Aman\\\\Downloads\\\\AReM\\\\lying\\\\dataset9.csv', 'C:\\\\Users\\\\Aman\\\\Downloads\\\\AReM\\\\sitting\\\\dataset1.csv', 'C:\\\\Users\\\\Aman\\\\Downloads\\\\AReM\\\\sitting\\\\dataset10.csv', 'C:\\\\Users\\\\Aman\\\\Downloads\\\\AReM\\\\sitting\\\\dataset11.csv', 'C:\\\\Users\\\\Aman\\\\Downloads\\\\AReM\\\\sitting\\\\dataset12.csv', 'C:\\\\Users\\\\Aman\\\\Downloads\\\\AReM\\\\sitting\\\\dataset13.csv', 'C:\\\\Users\\\\Aman\\\\Downloads\\\\AReM\\\\sitting\\\\dataset14.csv', 'C:\\\\Users\\\\Aman\\\\Downloads\\\\AReM\\\\sitting\\\\dataset15.csv', 'C:\\\\Users\\\\Aman\\\\Downloads\\\\AReM\\\\sitting\\\\dataset2.csv', 'C:\\\\Users\\\\Aman\\\\Downloads\\\\AReM\\\\sitting\\\\dataset3.csv', 'C:\\\\Users\\\\Aman\\\\Downloads\\\\AReM\\\\sitting\\\\dataset4.csv', 'C:\\\\Users\\\\Aman\\\\Downloads\\\\AReM\\\\sitting\\\\dataset5.csv', 'C:\\\\Users\\\\Aman\\\\Downloads\\\\AReM\\\\sitting\\\\dataset6.csv', 'C:\\\\Users\\\\Aman\\\\Downloads\\\\AReM\\\\sitting\\\\dataset7.csv', 'C:\\\\Users\\\\Aman\\\\Downloads\\\\AReM\\\\sitting\\\\dataset8.csv', 'C:\\\\Users\\\\Aman\\\\Downloads\\\\AReM\\\\sitting\\\\dataset9.csv', 'C:\\\\Users\\\\Aman\\\\Downloads\\\\AReM\\\\standing\\\\dataset1.csv', 'C:\\\\Users\\\\Aman\\\\Downloads\\\\AReM\\\\standing\\\\dataset10.csv', 'C:\\\\Users\\\\Aman\\\\Downloads\\\\AReM\\\\standing\\\\dataset11.csv', 'C:\\\\Users\\\\Aman\\\\Downloads\\\\AReM\\\\standing\\\\dataset12.csv', 'C:\\\\Users\\\\Aman\\\\Downloads\\\\AReM\\\\standing\\\\dataset13.csv', 'C:\\\\Users\\\\Aman\\\\Downloads\\\\AReM\\\\standing\\\\dataset14.csv', 'C:\\\\Users\\\\Aman\\\\Downloads\\\\AReM\\\\standing\\\\dataset15.csv', 'C:\\\\Users\\\\Aman\\\\Downloads\\\\AReM\\\\standing\\\\dataset2.csv', 'C:\\\\Users\\\\Aman\\\\Downloads\\\\AReM\\\\standing\\\\dataset3.csv', 'C:\\\\Users\\\\Aman\\\\Downloads\\\\AReM\\\\standing\\\\dataset4.csv', 'C:\\\\Users\\\\Aman\\\\Downloads\\\\AReM\\\\standing\\\\dataset5.csv', 'C:\\\\Users\\\\Aman\\\\Downloads\\\\AReM\\\\standing\\\\dataset6.csv', 'C:\\\\Users\\\\Aman\\\\Downloads\\\\AReM\\\\standing\\\\dataset7.csv', 'C:\\\\Users\\\\Aman\\\\Downloads\\\\AReM\\\\standing\\\\dataset8.csv', 'C:\\\\Users\\\\Aman\\\\Downloads\\\\AReM\\\\standing\\\\dataset9.csv', 'C:\\\\Users\\\\Aman\\\\Downloads\\\\AReM\\\\walking\\\\dataset1.csv', 'C:\\\\Users\\\\Aman\\\\Downloads\\\\AReM\\\\walking\\\\dataset10.csv', 'C:\\\\Users\\\\Aman\\\\Downloads\\\\AReM\\\\walking\\\\dataset11.csv', 'C:\\\\Users\\\\Aman\\\\Downloads\\\\AReM\\\\walking\\\\dataset12.csv', 'C:\\\\Users\\\\Aman\\\\Downloads\\\\AReM\\\\walking\\\\dataset13.csv']\n",
      "['C:\\\\Users\\\\Aman\\\\Downloads\\\\AReM\\\\bending1\\\\dataset1.csv', 'C:\\\\Users\\\\Aman\\\\Downloads\\\\AReM\\\\bending1\\\\dataset2.csv', 'C:\\\\Users\\\\Aman\\\\Downloads\\\\AReM\\\\bending1\\\\dataset3.csv', 'C:\\\\Users\\\\Aman\\\\Downloads\\\\AReM\\\\bending1\\\\dataset4.csv', 'C:\\\\Users\\\\Aman\\\\Downloads\\\\AReM\\\\bending1\\\\dataset5.csv', 'C:\\\\Users\\\\Aman\\\\Downloads\\\\AReM\\\\bending1\\\\dataset6.csv', 'C:\\\\Users\\\\Aman\\\\Downloads\\\\AReM\\\\bending1\\\\dataset7.csv', 'C:\\\\Users\\\\Aman\\\\Downloads\\\\AReM\\\\bending2\\\\dataset1.csv', 'C:\\\\Users\\\\Aman\\\\Downloads\\\\AReM\\\\bending2\\\\dataset2.csv', 'C:\\\\Users\\\\Aman\\\\Downloads\\\\AReM\\\\bending2\\\\dataset3.csv', 'C:\\\\Users\\\\Aman\\\\Downloads\\\\AReM\\\\bending2\\\\dataset4.csv', 'C:\\\\Users\\\\Aman\\\\Downloads\\\\AReM\\\\bending2\\\\dataset5.csv', 'C:\\\\Users\\\\Aman\\\\Downloads\\\\AReM\\\\bending2\\\\dataset6.csv', 'C:\\\\Users\\\\Aman\\\\Downloads\\\\AReM\\\\cycling\\\\dataset1.csv', 'C:\\\\Users\\\\Aman\\\\Downloads\\\\AReM\\\\cycling\\\\dataset10.csv', 'C:\\\\Users\\\\Aman\\\\Downloads\\\\AReM\\\\cycling\\\\dataset11.csv', 'C:\\\\Users\\\\Aman\\\\Downloads\\\\AReM\\\\cycling\\\\dataset12.csv', 'C:\\\\Users\\\\Aman\\\\Downloads\\\\AReM\\\\cycling\\\\dataset13.csv', 'C:\\\\Users\\\\Aman\\\\Downloads\\\\AReM\\\\cycling\\\\dataset14.csv', 'C:\\\\Users\\\\Aman\\\\Downloads\\\\AReM\\\\cycling\\\\dataset15.csv', 'C:\\\\Users\\\\Aman\\\\Downloads\\\\AReM\\\\cycling\\\\dataset2.csv', 'C:\\\\Users\\\\Aman\\\\Downloads\\\\AReM\\\\cycling\\\\dataset3.csv', 'C:\\\\Users\\\\Aman\\\\Downloads\\\\AReM\\\\cycling\\\\dataset4.csv', 'C:\\\\Users\\\\Aman\\\\Downloads\\\\AReM\\\\cycling\\\\dataset5.csv', 'C:\\\\Users\\\\Aman\\\\Downloads\\\\AReM\\\\cycling\\\\dataset6.csv', 'C:\\\\Users\\\\Aman\\\\Downloads\\\\AReM\\\\cycling\\\\dataset7.csv', 'C:\\\\Users\\\\Aman\\\\Downloads\\\\AReM\\\\cycling\\\\dataset8.csv', 'C:\\\\Users\\\\Aman\\\\Downloads\\\\AReM\\\\cycling\\\\dataset9.csv', 'C:\\\\Users\\\\Aman\\\\Downloads\\\\AReM\\\\lying\\\\dataset1.csv', 'C:\\\\Users\\\\Aman\\\\Downloads\\\\AReM\\\\lying\\\\dataset10.csv', 'C:\\\\Users\\\\Aman\\\\Downloads\\\\AReM\\\\lying\\\\dataset11.csv', 'C:\\\\Users\\\\Aman\\\\Downloads\\\\AReM\\\\lying\\\\dataset12.csv', 'C:\\\\Users\\\\Aman\\\\Downloads\\\\AReM\\\\lying\\\\dataset13.csv', 'C:\\\\Users\\\\Aman\\\\Downloads\\\\AReM\\\\lying\\\\dataset14.csv', 'C:\\\\Users\\\\Aman\\\\Downloads\\\\AReM\\\\lying\\\\dataset15.csv', 'C:\\\\Users\\\\Aman\\\\Downloads\\\\AReM\\\\lying\\\\dataset2.csv', 'C:\\\\Users\\\\Aman\\\\Downloads\\\\AReM\\\\lying\\\\dataset3.csv', 'C:\\\\Users\\\\Aman\\\\Downloads\\\\AReM\\\\lying\\\\dataset4.csv', 'C:\\\\Users\\\\Aman\\\\Downloads\\\\AReM\\\\lying\\\\dataset5.csv', 'C:\\\\Users\\\\Aman\\\\Downloads\\\\AReM\\\\lying\\\\dataset6.csv', 'C:\\\\Users\\\\Aman\\\\Downloads\\\\AReM\\\\lying\\\\dataset7.csv', 'C:\\\\Users\\\\Aman\\\\Downloads\\\\AReM\\\\lying\\\\dataset8.csv', 'C:\\\\Users\\\\Aman\\\\Downloads\\\\AReM\\\\lying\\\\dataset9.csv', 'C:\\\\Users\\\\Aman\\\\Downloads\\\\AReM\\\\sitting\\\\dataset1.csv', 'C:\\\\Users\\\\Aman\\\\Downloads\\\\AReM\\\\sitting\\\\dataset10.csv', 'C:\\\\Users\\\\Aman\\\\Downloads\\\\AReM\\\\sitting\\\\dataset11.csv', 'C:\\\\Users\\\\Aman\\\\Downloads\\\\AReM\\\\sitting\\\\dataset12.csv', 'C:\\\\Users\\\\Aman\\\\Downloads\\\\AReM\\\\sitting\\\\dataset13.csv', 'C:\\\\Users\\\\Aman\\\\Downloads\\\\AReM\\\\sitting\\\\dataset14.csv', 'C:\\\\Users\\\\Aman\\\\Downloads\\\\AReM\\\\sitting\\\\dataset15.csv', 'C:\\\\Users\\\\Aman\\\\Downloads\\\\AReM\\\\sitting\\\\dataset2.csv', 'C:\\\\Users\\\\Aman\\\\Downloads\\\\AReM\\\\sitting\\\\dataset3.csv', 'C:\\\\Users\\\\Aman\\\\Downloads\\\\AReM\\\\sitting\\\\dataset4.csv', 'C:\\\\Users\\\\Aman\\\\Downloads\\\\AReM\\\\sitting\\\\dataset5.csv', 'C:\\\\Users\\\\Aman\\\\Downloads\\\\AReM\\\\sitting\\\\dataset6.csv', 'C:\\\\Users\\\\Aman\\\\Downloads\\\\AReM\\\\sitting\\\\dataset7.csv', 'C:\\\\Users\\\\Aman\\\\Downloads\\\\AReM\\\\sitting\\\\dataset8.csv', 'C:\\\\Users\\\\Aman\\\\Downloads\\\\AReM\\\\sitting\\\\dataset9.csv', 'C:\\\\Users\\\\Aman\\\\Downloads\\\\AReM\\\\standing\\\\dataset1.csv', 'C:\\\\Users\\\\Aman\\\\Downloads\\\\AReM\\\\standing\\\\dataset10.csv', 'C:\\\\Users\\\\Aman\\\\Downloads\\\\AReM\\\\standing\\\\dataset11.csv', 'C:\\\\Users\\\\Aman\\\\Downloads\\\\AReM\\\\standing\\\\dataset12.csv', 'C:\\\\Users\\\\Aman\\\\Downloads\\\\AReM\\\\standing\\\\dataset13.csv', 'C:\\\\Users\\\\Aman\\\\Downloads\\\\AReM\\\\standing\\\\dataset14.csv', 'C:\\\\Users\\\\Aman\\\\Downloads\\\\AReM\\\\standing\\\\dataset15.csv', 'C:\\\\Users\\\\Aman\\\\Downloads\\\\AReM\\\\standing\\\\dataset2.csv', 'C:\\\\Users\\\\Aman\\\\Downloads\\\\AReM\\\\standing\\\\dataset3.csv', 'C:\\\\Users\\\\Aman\\\\Downloads\\\\AReM\\\\standing\\\\dataset4.csv', 'C:\\\\Users\\\\Aman\\\\Downloads\\\\AReM\\\\standing\\\\dataset5.csv', 'C:\\\\Users\\\\Aman\\\\Downloads\\\\AReM\\\\standing\\\\dataset6.csv', 'C:\\\\Users\\\\Aman\\\\Downloads\\\\AReM\\\\standing\\\\dataset7.csv', 'C:\\\\Users\\\\Aman\\\\Downloads\\\\AReM\\\\standing\\\\dataset8.csv', 'C:\\\\Users\\\\Aman\\\\Downloads\\\\AReM\\\\standing\\\\dataset9.csv', 'C:\\\\Users\\\\Aman\\\\Downloads\\\\AReM\\\\walking\\\\dataset1.csv', 'C:\\\\Users\\\\Aman\\\\Downloads\\\\AReM\\\\walking\\\\dataset10.csv', 'C:\\\\Users\\\\Aman\\\\Downloads\\\\AReM\\\\walking\\\\dataset11.csv', 'C:\\\\Users\\\\Aman\\\\Downloads\\\\AReM\\\\walking\\\\dataset12.csv', 'C:\\\\Users\\\\Aman\\\\Downloads\\\\AReM\\\\walking\\\\dataset13.csv', 'C:\\\\Users\\\\Aman\\\\Downloads\\\\AReM\\\\walking\\\\dataset14.csv']\n",
      "['C:\\\\Users\\\\Aman\\\\Downloads\\\\AReM\\\\bending1\\\\dataset1.csv', 'C:\\\\Users\\\\Aman\\\\Downloads\\\\AReM\\\\bending1\\\\dataset2.csv', 'C:\\\\Users\\\\Aman\\\\Downloads\\\\AReM\\\\bending1\\\\dataset3.csv', 'C:\\\\Users\\\\Aman\\\\Downloads\\\\AReM\\\\bending1\\\\dataset4.csv', 'C:\\\\Users\\\\Aman\\\\Downloads\\\\AReM\\\\bending1\\\\dataset5.csv', 'C:\\\\Users\\\\Aman\\\\Downloads\\\\AReM\\\\bending1\\\\dataset6.csv', 'C:\\\\Users\\\\Aman\\\\Downloads\\\\AReM\\\\bending1\\\\dataset7.csv', 'C:\\\\Users\\\\Aman\\\\Downloads\\\\AReM\\\\bending2\\\\dataset1.csv', 'C:\\\\Users\\\\Aman\\\\Downloads\\\\AReM\\\\bending2\\\\dataset2.csv', 'C:\\\\Users\\\\Aman\\\\Downloads\\\\AReM\\\\bending2\\\\dataset3.csv', 'C:\\\\Users\\\\Aman\\\\Downloads\\\\AReM\\\\bending2\\\\dataset4.csv', 'C:\\\\Users\\\\Aman\\\\Downloads\\\\AReM\\\\bending2\\\\dataset5.csv', 'C:\\\\Users\\\\Aman\\\\Downloads\\\\AReM\\\\bending2\\\\dataset6.csv', 'C:\\\\Users\\\\Aman\\\\Downloads\\\\AReM\\\\cycling\\\\dataset1.csv', 'C:\\\\Users\\\\Aman\\\\Downloads\\\\AReM\\\\cycling\\\\dataset10.csv', 'C:\\\\Users\\\\Aman\\\\Downloads\\\\AReM\\\\cycling\\\\dataset11.csv', 'C:\\\\Users\\\\Aman\\\\Downloads\\\\AReM\\\\cycling\\\\dataset12.csv', 'C:\\\\Users\\\\Aman\\\\Downloads\\\\AReM\\\\cycling\\\\dataset13.csv', 'C:\\\\Users\\\\Aman\\\\Downloads\\\\AReM\\\\cycling\\\\dataset14.csv', 'C:\\\\Users\\\\Aman\\\\Downloads\\\\AReM\\\\cycling\\\\dataset15.csv', 'C:\\\\Users\\\\Aman\\\\Downloads\\\\AReM\\\\cycling\\\\dataset2.csv', 'C:\\\\Users\\\\Aman\\\\Downloads\\\\AReM\\\\cycling\\\\dataset3.csv', 'C:\\\\Users\\\\Aman\\\\Downloads\\\\AReM\\\\cycling\\\\dataset4.csv', 'C:\\\\Users\\\\Aman\\\\Downloads\\\\AReM\\\\cycling\\\\dataset5.csv', 'C:\\\\Users\\\\Aman\\\\Downloads\\\\AReM\\\\cycling\\\\dataset6.csv', 'C:\\\\Users\\\\Aman\\\\Downloads\\\\AReM\\\\cycling\\\\dataset7.csv', 'C:\\\\Users\\\\Aman\\\\Downloads\\\\AReM\\\\cycling\\\\dataset8.csv', 'C:\\\\Users\\\\Aman\\\\Downloads\\\\AReM\\\\cycling\\\\dataset9.csv', 'C:\\\\Users\\\\Aman\\\\Downloads\\\\AReM\\\\lying\\\\dataset1.csv', 'C:\\\\Users\\\\Aman\\\\Downloads\\\\AReM\\\\lying\\\\dataset10.csv', 'C:\\\\Users\\\\Aman\\\\Downloads\\\\AReM\\\\lying\\\\dataset11.csv', 'C:\\\\Users\\\\Aman\\\\Downloads\\\\AReM\\\\lying\\\\dataset12.csv', 'C:\\\\Users\\\\Aman\\\\Downloads\\\\AReM\\\\lying\\\\dataset13.csv', 'C:\\\\Users\\\\Aman\\\\Downloads\\\\AReM\\\\lying\\\\dataset14.csv', 'C:\\\\Users\\\\Aman\\\\Downloads\\\\AReM\\\\lying\\\\dataset15.csv', 'C:\\\\Users\\\\Aman\\\\Downloads\\\\AReM\\\\lying\\\\dataset2.csv', 'C:\\\\Users\\\\Aman\\\\Downloads\\\\AReM\\\\lying\\\\dataset3.csv', 'C:\\\\Users\\\\Aman\\\\Downloads\\\\AReM\\\\lying\\\\dataset4.csv', 'C:\\\\Users\\\\Aman\\\\Downloads\\\\AReM\\\\lying\\\\dataset5.csv', 'C:\\\\Users\\\\Aman\\\\Downloads\\\\AReM\\\\lying\\\\dataset6.csv', 'C:\\\\Users\\\\Aman\\\\Downloads\\\\AReM\\\\lying\\\\dataset7.csv', 'C:\\\\Users\\\\Aman\\\\Downloads\\\\AReM\\\\lying\\\\dataset8.csv', 'C:\\\\Users\\\\Aman\\\\Downloads\\\\AReM\\\\lying\\\\dataset9.csv', 'C:\\\\Users\\\\Aman\\\\Downloads\\\\AReM\\\\sitting\\\\dataset1.csv', 'C:\\\\Users\\\\Aman\\\\Downloads\\\\AReM\\\\sitting\\\\dataset10.csv', 'C:\\\\Users\\\\Aman\\\\Downloads\\\\AReM\\\\sitting\\\\dataset11.csv', 'C:\\\\Users\\\\Aman\\\\Downloads\\\\AReM\\\\sitting\\\\dataset12.csv', 'C:\\\\Users\\\\Aman\\\\Downloads\\\\AReM\\\\sitting\\\\dataset13.csv', 'C:\\\\Users\\\\Aman\\\\Downloads\\\\AReM\\\\sitting\\\\dataset14.csv', 'C:\\\\Users\\\\Aman\\\\Downloads\\\\AReM\\\\sitting\\\\dataset15.csv', 'C:\\\\Users\\\\Aman\\\\Downloads\\\\AReM\\\\sitting\\\\dataset2.csv', 'C:\\\\Users\\\\Aman\\\\Downloads\\\\AReM\\\\sitting\\\\dataset3.csv', 'C:\\\\Users\\\\Aman\\\\Downloads\\\\AReM\\\\sitting\\\\dataset4.csv', 'C:\\\\Users\\\\Aman\\\\Downloads\\\\AReM\\\\sitting\\\\dataset5.csv', 'C:\\\\Users\\\\Aman\\\\Downloads\\\\AReM\\\\sitting\\\\dataset6.csv', 'C:\\\\Users\\\\Aman\\\\Downloads\\\\AReM\\\\sitting\\\\dataset7.csv', 'C:\\\\Users\\\\Aman\\\\Downloads\\\\AReM\\\\sitting\\\\dataset8.csv', 'C:\\\\Users\\\\Aman\\\\Downloads\\\\AReM\\\\sitting\\\\dataset9.csv', 'C:\\\\Users\\\\Aman\\\\Downloads\\\\AReM\\\\standing\\\\dataset1.csv', 'C:\\\\Users\\\\Aman\\\\Downloads\\\\AReM\\\\standing\\\\dataset10.csv', 'C:\\\\Users\\\\Aman\\\\Downloads\\\\AReM\\\\standing\\\\dataset11.csv', 'C:\\\\Users\\\\Aman\\\\Downloads\\\\AReM\\\\standing\\\\dataset12.csv', 'C:\\\\Users\\\\Aman\\\\Downloads\\\\AReM\\\\standing\\\\dataset13.csv', 'C:\\\\Users\\\\Aman\\\\Downloads\\\\AReM\\\\standing\\\\dataset14.csv', 'C:\\\\Users\\\\Aman\\\\Downloads\\\\AReM\\\\standing\\\\dataset15.csv', 'C:\\\\Users\\\\Aman\\\\Downloads\\\\AReM\\\\standing\\\\dataset2.csv', 'C:\\\\Users\\\\Aman\\\\Downloads\\\\AReM\\\\standing\\\\dataset3.csv', 'C:\\\\Users\\\\Aman\\\\Downloads\\\\AReM\\\\standing\\\\dataset4.csv', 'C:\\\\Users\\\\Aman\\\\Downloads\\\\AReM\\\\standing\\\\dataset5.csv', 'C:\\\\Users\\\\Aman\\\\Downloads\\\\AReM\\\\standing\\\\dataset6.csv', 'C:\\\\Users\\\\Aman\\\\Downloads\\\\AReM\\\\standing\\\\dataset7.csv', 'C:\\\\Users\\\\Aman\\\\Downloads\\\\AReM\\\\standing\\\\dataset8.csv', 'C:\\\\Users\\\\Aman\\\\Downloads\\\\AReM\\\\standing\\\\dataset9.csv', 'C:\\\\Users\\\\Aman\\\\Downloads\\\\AReM\\\\walking\\\\dataset1.csv', 'C:\\\\Users\\\\Aman\\\\Downloads\\\\AReM\\\\walking\\\\dataset10.csv', 'C:\\\\Users\\\\Aman\\\\Downloads\\\\AReM\\\\walking\\\\dataset11.csv', 'C:\\\\Users\\\\Aman\\\\Downloads\\\\AReM\\\\walking\\\\dataset12.csv', 'C:\\\\Users\\\\Aman\\\\Downloads\\\\AReM\\\\walking\\\\dataset13.csv', 'C:\\\\Users\\\\Aman\\\\Downloads\\\\AReM\\\\walking\\\\dataset14.csv', 'C:\\\\Users\\\\Aman\\\\Downloads\\\\AReM\\\\walking\\\\dataset15.csv']\n",
      "['C:\\\\Users\\\\Aman\\\\Downloads\\\\AReM\\\\bending1\\\\dataset1.csv', 'C:\\\\Users\\\\Aman\\\\Downloads\\\\AReM\\\\bending1\\\\dataset2.csv', 'C:\\\\Users\\\\Aman\\\\Downloads\\\\AReM\\\\bending1\\\\dataset3.csv', 'C:\\\\Users\\\\Aman\\\\Downloads\\\\AReM\\\\bending1\\\\dataset4.csv', 'C:\\\\Users\\\\Aman\\\\Downloads\\\\AReM\\\\bending1\\\\dataset5.csv', 'C:\\\\Users\\\\Aman\\\\Downloads\\\\AReM\\\\bending1\\\\dataset6.csv', 'C:\\\\Users\\\\Aman\\\\Downloads\\\\AReM\\\\bending1\\\\dataset7.csv', 'C:\\\\Users\\\\Aman\\\\Downloads\\\\AReM\\\\bending2\\\\dataset1.csv', 'C:\\\\Users\\\\Aman\\\\Downloads\\\\AReM\\\\bending2\\\\dataset2.csv', 'C:\\\\Users\\\\Aman\\\\Downloads\\\\AReM\\\\bending2\\\\dataset3.csv', 'C:\\\\Users\\\\Aman\\\\Downloads\\\\AReM\\\\bending2\\\\dataset4.csv', 'C:\\\\Users\\\\Aman\\\\Downloads\\\\AReM\\\\bending2\\\\dataset5.csv', 'C:\\\\Users\\\\Aman\\\\Downloads\\\\AReM\\\\bending2\\\\dataset6.csv', 'C:\\\\Users\\\\Aman\\\\Downloads\\\\AReM\\\\cycling\\\\dataset1.csv', 'C:\\\\Users\\\\Aman\\\\Downloads\\\\AReM\\\\cycling\\\\dataset10.csv', 'C:\\\\Users\\\\Aman\\\\Downloads\\\\AReM\\\\cycling\\\\dataset11.csv', 'C:\\\\Users\\\\Aman\\\\Downloads\\\\AReM\\\\cycling\\\\dataset12.csv', 'C:\\\\Users\\\\Aman\\\\Downloads\\\\AReM\\\\cycling\\\\dataset13.csv', 'C:\\\\Users\\\\Aman\\\\Downloads\\\\AReM\\\\cycling\\\\dataset14.csv', 'C:\\\\Users\\\\Aman\\\\Downloads\\\\AReM\\\\cycling\\\\dataset15.csv', 'C:\\\\Users\\\\Aman\\\\Downloads\\\\AReM\\\\cycling\\\\dataset2.csv', 'C:\\\\Users\\\\Aman\\\\Downloads\\\\AReM\\\\cycling\\\\dataset3.csv', 'C:\\\\Users\\\\Aman\\\\Downloads\\\\AReM\\\\cycling\\\\dataset4.csv', 'C:\\\\Users\\\\Aman\\\\Downloads\\\\AReM\\\\cycling\\\\dataset5.csv', 'C:\\\\Users\\\\Aman\\\\Downloads\\\\AReM\\\\cycling\\\\dataset6.csv', 'C:\\\\Users\\\\Aman\\\\Downloads\\\\AReM\\\\cycling\\\\dataset7.csv', 'C:\\\\Users\\\\Aman\\\\Downloads\\\\AReM\\\\cycling\\\\dataset8.csv', 'C:\\\\Users\\\\Aman\\\\Downloads\\\\AReM\\\\cycling\\\\dataset9.csv', 'C:\\\\Users\\\\Aman\\\\Downloads\\\\AReM\\\\lying\\\\dataset1.csv', 'C:\\\\Users\\\\Aman\\\\Downloads\\\\AReM\\\\lying\\\\dataset10.csv', 'C:\\\\Users\\\\Aman\\\\Downloads\\\\AReM\\\\lying\\\\dataset11.csv', 'C:\\\\Users\\\\Aman\\\\Downloads\\\\AReM\\\\lying\\\\dataset12.csv', 'C:\\\\Users\\\\Aman\\\\Downloads\\\\AReM\\\\lying\\\\dataset13.csv', 'C:\\\\Users\\\\Aman\\\\Downloads\\\\AReM\\\\lying\\\\dataset14.csv', 'C:\\\\Users\\\\Aman\\\\Downloads\\\\AReM\\\\lying\\\\dataset15.csv', 'C:\\\\Users\\\\Aman\\\\Downloads\\\\AReM\\\\lying\\\\dataset2.csv', 'C:\\\\Users\\\\Aman\\\\Downloads\\\\AReM\\\\lying\\\\dataset3.csv', 'C:\\\\Users\\\\Aman\\\\Downloads\\\\AReM\\\\lying\\\\dataset4.csv', 'C:\\\\Users\\\\Aman\\\\Downloads\\\\AReM\\\\lying\\\\dataset5.csv', 'C:\\\\Users\\\\Aman\\\\Downloads\\\\AReM\\\\lying\\\\dataset6.csv', 'C:\\\\Users\\\\Aman\\\\Downloads\\\\AReM\\\\lying\\\\dataset7.csv', 'C:\\\\Users\\\\Aman\\\\Downloads\\\\AReM\\\\lying\\\\dataset8.csv', 'C:\\\\Users\\\\Aman\\\\Downloads\\\\AReM\\\\lying\\\\dataset9.csv', 'C:\\\\Users\\\\Aman\\\\Downloads\\\\AReM\\\\sitting\\\\dataset1.csv', 'C:\\\\Users\\\\Aman\\\\Downloads\\\\AReM\\\\sitting\\\\dataset10.csv', 'C:\\\\Users\\\\Aman\\\\Downloads\\\\AReM\\\\sitting\\\\dataset11.csv', 'C:\\\\Users\\\\Aman\\\\Downloads\\\\AReM\\\\sitting\\\\dataset12.csv', 'C:\\\\Users\\\\Aman\\\\Downloads\\\\AReM\\\\sitting\\\\dataset13.csv', 'C:\\\\Users\\\\Aman\\\\Downloads\\\\AReM\\\\sitting\\\\dataset14.csv', 'C:\\\\Users\\\\Aman\\\\Downloads\\\\AReM\\\\sitting\\\\dataset15.csv', 'C:\\\\Users\\\\Aman\\\\Downloads\\\\AReM\\\\sitting\\\\dataset2.csv', 'C:\\\\Users\\\\Aman\\\\Downloads\\\\AReM\\\\sitting\\\\dataset3.csv', 'C:\\\\Users\\\\Aman\\\\Downloads\\\\AReM\\\\sitting\\\\dataset4.csv', 'C:\\\\Users\\\\Aman\\\\Downloads\\\\AReM\\\\sitting\\\\dataset5.csv', 'C:\\\\Users\\\\Aman\\\\Downloads\\\\AReM\\\\sitting\\\\dataset6.csv', 'C:\\\\Users\\\\Aman\\\\Downloads\\\\AReM\\\\sitting\\\\dataset7.csv', 'C:\\\\Users\\\\Aman\\\\Downloads\\\\AReM\\\\sitting\\\\dataset8.csv', 'C:\\\\Users\\\\Aman\\\\Downloads\\\\AReM\\\\sitting\\\\dataset9.csv', 'C:\\\\Users\\\\Aman\\\\Downloads\\\\AReM\\\\standing\\\\dataset1.csv', 'C:\\\\Users\\\\Aman\\\\Downloads\\\\AReM\\\\standing\\\\dataset10.csv', 'C:\\\\Users\\\\Aman\\\\Downloads\\\\AReM\\\\standing\\\\dataset11.csv', 'C:\\\\Users\\\\Aman\\\\Downloads\\\\AReM\\\\standing\\\\dataset12.csv', 'C:\\\\Users\\\\Aman\\\\Downloads\\\\AReM\\\\standing\\\\dataset13.csv', 'C:\\\\Users\\\\Aman\\\\Downloads\\\\AReM\\\\standing\\\\dataset14.csv', 'C:\\\\Users\\\\Aman\\\\Downloads\\\\AReM\\\\standing\\\\dataset15.csv', 'C:\\\\Users\\\\Aman\\\\Downloads\\\\AReM\\\\standing\\\\dataset2.csv', 'C:\\\\Users\\\\Aman\\\\Downloads\\\\AReM\\\\standing\\\\dataset3.csv', 'C:\\\\Users\\\\Aman\\\\Downloads\\\\AReM\\\\standing\\\\dataset4.csv', 'C:\\\\Users\\\\Aman\\\\Downloads\\\\AReM\\\\standing\\\\dataset5.csv', 'C:\\\\Users\\\\Aman\\\\Downloads\\\\AReM\\\\standing\\\\dataset6.csv', 'C:\\\\Users\\\\Aman\\\\Downloads\\\\AReM\\\\standing\\\\dataset7.csv', 'C:\\\\Users\\\\Aman\\\\Downloads\\\\AReM\\\\standing\\\\dataset8.csv', 'C:\\\\Users\\\\Aman\\\\Downloads\\\\AReM\\\\standing\\\\dataset9.csv', 'C:\\\\Users\\\\Aman\\\\Downloads\\\\AReM\\\\walking\\\\dataset1.csv', 'C:\\\\Users\\\\Aman\\\\Downloads\\\\AReM\\\\walking\\\\dataset10.csv', 'C:\\\\Users\\\\Aman\\\\Downloads\\\\AReM\\\\walking\\\\dataset11.csv', 'C:\\\\Users\\\\Aman\\\\Downloads\\\\AReM\\\\walking\\\\dataset12.csv', 'C:\\\\Users\\\\Aman\\\\Downloads\\\\AReM\\\\walking\\\\dataset13.csv', 'C:\\\\Users\\\\Aman\\\\Downloads\\\\AReM\\\\walking\\\\dataset14.csv', 'C:\\\\Users\\\\Aman\\\\Downloads\\\\AReM\\\\walking\\\\dataset15.csv', 'C:\\\\Users\\\\Aman\\\\Downloads\\\\AReM\\\\walking\\\\dataset2.csv']\n",
      "['C:\\\\Users\\\\Aman\\\\Downloads\\\\AReM\\\\bending1\\\\dataset1.csv', 'C:\\\\Users\\\\Aman\\\\Downloads\\\\AReM\\\\bending1\\\\dataset2.csv', 'C:\\\\Users\\\\Aman\\\\Downloads\\\\AReM\\\\bending1\\\\dataset3.csv', 'C:\\\\Users\\\\Aman\\\\Downloads\\\\AReM\\\\bending1\\\\dataset4.csv', 'C:\\\\Users\\\\Aman\\\\Downloads\\\\AReM\\\\bending1\\\\dataset5.csv', 'C:\\\\Users\\\\Aman\\\\Downloads\\\\AReM\\\\bending1\\\\dataset6.csv', 'C:\\\\Users\\\\Aman\\\\Downloads\\\\AReM\\\\bending1\\\\dataset7.csv', 'C:\\\\Users\\\\Aman\\\\Downloads\\\\AReM\\\\bending2\\\\dataset1.csv', 'C:\\\\Users\\\\Aman\\\\Downloads\\\\AReM\\\\bending2\\\\dataset2.csv', 'C:\\\\Users\\\\Aman\\\\Downloads\\\\AReM\\\\bending2\\\\dataset3.csv', 'C:\\\\Users\\\\Aman\\\\Downloads\\\\AReM\\\\bending2\\\\dataset4.csv', 'C:\\\\Users\\\\Aman\\\\Downloads\\\\AReM\\\\bending2\\\\dataset5.csv', 'C:\\\\Users\\\\Aman\\\\Downloads\\\\AReM\\\\bending2\\\\dataset6.csv', 'C:\\\\Users\\\\Aman\\\\Downloads\\\\AReM\\\\cycling\\\\dataset1.csv', 'C:\\\\Users\\\\Aman\\\\Downloads\\\\AReM\\\\cycling\\\\dataset10.csv', 'C:\\\\Users\\\\Aman\\\\Downloads\\\\AReM\\\\cycling\\\\dataset11.csv', 'C:\\\\Users\\\\Aman\\\\Downloads\\\\AReM\\\\cycling\\\\dataset12.csv', 'C:\\\\Users\\\\Aman\\\\Downloads\\\\AReM\\\\cycling\\\\dataset13.csv', 'C:\\\\Users\\\\Aman\\\\Downloads\\\\AReM\\\\cycling\\\\dataset14.csv', 'C:\\\\Users\\\\Aman\\\\Downloads\\\\AReM\\\\cycling\\\\dataset15.csv', 'C:\\\\Users\\\\Aman\\\\Downloads\\\\AReM\\\\cycling\\\\dataset2.csv', 'C:\\\\Users\\\\Aman\\\\Downloads\\\\AReM\\\\cycling\\\\dataset3.csv', 'C:\\\\Users\\\\Aman\\\\Downloads\\\\AReM\\\\cycling\\\\dataset4.csv', 'C:\\\\Users\\\\Aman\\\\Downloads\\\\AReM\\\\cycling\\\\dataset5.csv', 'C:\\\\Users\\\\Aman\\\\Downloads\\\\AReM\\\\cycling\\\\dataset6.csv', 'C:\\\\Users\\\\Aman\\\\Downloads\\\\AReM\\\\cycling\\\\dataset7.csv', 'C:\\\\Users\\\\Aman\\\\Downloads\\\\AReM\\\\cycling\\\\dataset8.csv', 'C:\\\\Users\\\\Aman\\\\Downloads\\\\AReM\\\\cycling\\\\dataset9.csv', 'C:\\\\Users\\\\Aman\\\\Downloads\\\\AReM\\\\lying\\\\dataset1.csv', 'C:\\\\Users\\\\Aman\\\\Downloads\\\\AReM\\\\lying\\\\dataset10.csv', 'C:\\\\Users\\\\Aman\\\\Downloads\\\\AReM\\\\lying\\\\dataset11.csv', 'C:\\\\Users\\\\Aman\\\\Downloads\\\\AReM\\\\lying\\\\dataset12.csv', 'C:\\\\Users\\\\Aman\\\\Downloads\\\\AReM\\\\lying\\\\dataset13.csv', 'C:\\\\Users\\\\Aman\\\\Downloads\\\\AReM\\\\lying\\\\dataset14.csv', 'C:\\\\Users\\\\Aman\\\\Downloads\\\\AReM\\\\lying\\\\dataset15.csv', 'C:\\\\Users\\\\Aman\\\\Downloads\\\\AReM\\\\lying\\\\dataset2.csv', 'C:\\\\Users\\\\Aman\\\\Downloads\\\\AReM\\\\lying\\\\dataset3.csv', 'C:\\\\Users\\\\Aman\\\\Downloads\\\\AReM\\\\lying\\\\dataset4.csv', 'C:\\\\Users\\\\Aman\\\\Downloads\\\\AReM\\\\lying\\\\dataset5.csv', 'C:\\\\Users\\\\Aman\\\\Downloads\\\\AReM\\\\lying\\\\dataset6.csv', 'C:\\\\Users\\\\Aman\\\\Downloads\\\\AReM\\\\lying\\\\dataset7.csv', 'C:\\\\Users\\\\Aman\\\\Downloads\\\\AReM\\\\lying\\\\dataset8.csv', 'C:\\\\Users\\\\Aman\\\\Downloads\\\\AReM\\\\lying\\\\dataset9.csv', 'C:\\\\Users\\\\Aman\\\\Downloads\\\\AReM\\\\sitting\\\\dataset1.csv', 'C:\\\\Users\\\\Aman\\\\Downloads\\\\AReM\\\\sitting\\\\dataset10.csv', 'C:\\\\Users\\\\Aman\\\\Downloads\\\\AReM\\\\sitting\\\\dataset11.csv', 'C:\\\\Users\\\\Aman\\\\Downloads\\\\AReM\\\\sitting\\\\dataset12.csv', 'C:\\\\Users\\\\Aman\\\\Downloads\\\\AReM\\\\sitting\\\\dataset13.csv', 'C:\\\\Users\\\\Aman\\\\Downloads\\\\AReM\\\\sitting\\\\dataset14.csv', 'C:\\\\Users\\\\Aman\\\\Downloads\\\\AReM\\\\sitting\\\\dataset15.csv', 'C:\\\\Users\\\\Aman\\\\Downloads\\\\AReM\\\\sitting\\\\dataset2.csv', 'C:\\\\Users\\\\Aman\\\\Downloads\\\\AReM\\\\sitting\\\\dataset3.csv', 'C:\\\\Users\\\\Aman\\\\Downloads\\\\AReM\\\\sitting\\\\dataset4.csv', 'C:\\\\Users\\\\Aman\\\\Downloads\\\\AReM\\\\sitting\\\\dataset5.csv', 'C:\\\\Users\\\\Aman\\\\Downloads\\\\AReM\\\\sitting\\\\dataset6.csv', 'C:\\\\Users\\\\Aman\\\\Downloads\\\\AReM\\\\sitting\\\\dataset7.csv', 'C:\\\\Users\\\\Aman\\\\Downloads\\\\AReM\\\\sitting\\\\dataset8.csv', 'C:\\\\Users\\\\Aman\\\\Downloads\\\\AReM\\\\sitting\\\\dataset9.csv', 'C:\\\\Users\\\\Aman\\\\Downloads\\\\AReM\\\\standing\\\\dataset1.csv', 'C:\\\\Users\\\\Aman\\\\Downloads\\\\AReM\\\\standing\\\\dataset10.csv', 'C:\\\\Users\\\\Aman\\\\Downloads\\\\AReM\\\\standing\\\\dataset11.csv', 'C:\\\\Users\\\\Aman\\\\Downloads\\\\AReM\\\\standing\\\\dataset12.csv', 'C:\\\\Users\\\\Aman\\\\Downloads\\\\AReM\\\\standing\\\\dataset13.csv', 'C:\\\\Users\\\\Aman\\\\Downloads\\\\AReM\\\\standing\\\\dataset14.csv', 'C:\\\\Users\\\\Aman\\\\Downloads\\\\AReM\\\\standing\\\\dataset15.csv', 'C:\\\\Users\\\\Aman\\\\Downloads\\\\AReM\\\\standing\\\\dataset2.csv', 'C:\\\\Users\\\\Aman\\\\Downloads\\\\AReM\\\\standing\\\\dataset3.csv', 'C:\\\\Users\\\\Aman\\\\Downloads\\\\AReM\\\\standing\\\\dataset4.csv', 'C:\\\\Users\\\\Aman\\\\Downloads\\\\AReM\\\\standing\\\\dataset5.csv', 'C:\\\\Users\\\\Aman\\\\Downloads\\\\AReM\\\\standing\\\\dataset6.csv', 'C:\\\\Users\\\\Aman\\\\Downloads\\\\AReM\\\\standing\\\\dataset7.csv', 'C:\\\\Users\\\\Aman\\\\Downloads\\\\AReM\\\\standing\\\\dataset8.csv', 'C:\\\\Users\\\\Aman\\\\Downloads\\\\AReM\\\\standing\\\\dataset9.csv', 'C:\\\\Users\\\\Aman\\\\Downloads\\\\AReM\\\\walking\\\\dataset1.csv', 'C:\\\\Users\\\\Aman\\\\Downloads\\\\AReM\\\\walking\\\\dataset10.csv', 'C:\\\\Users\\\\Aman\\\\Downloads\\\\AReM\\\\walking\\\\dataset11.csv', 'C:\\\\Users\\\\Aman\\\\Downloads\\\\AReM\\\\walking\\\\dataset12.csv', 'C:\\\\Users\\\\Aman\\\\Downloads\\\\AReM\\\\walking\\\\dataset13.csv', 'C:\\\\Users\\\\Aman\\\\Downloads\\\\AReM\\\\walking\\\\dataset14.csv', 'C:\\\\Users\\\\Aman\\\\Downloads\\\\AReM\\\\walking\\\\dataset15.csv', 'C:\\\\Users\\\\Aman\\\\Downloads\\\\AReM\\\\walking\\\\dataset2.csv', 'C:\\\\Users\\\\Aman\\\\Downloads\\\\AReM\\\\walking\\\\dataset3.csv']\n",
      "['C:\\\\Users\\\\Aman\\\\Downloads\\\\AReM\\\\bending1\\\\dataset1.csv', 'C:\\\\Users\\\\Aman\\\\Downloads\\\\AReM\\\\bending1\\\\dataset2.csv', 'C:\\\\Users\\\\Aman\\\\Downloads\\\\AReM\\\\bending1\\\\dataset3.csv', 'C:\\\\Users\\\\Aman\\\\Downloads\\\\AReM\\\\bending1\\\\dataset4.csv', 'C:\\\\Users\\\\Aman\\\\Downloads\\\\AReM\\\\bending1\\\\dataset5.csv', 'C:\\\\Users\\\\Aman\\\\Downloads\\\\AReM\\\\bending1\\\\dataset6.csv', 'C:\\\\Users\\\\Aman\\\\Downloads\\\\AReM\\\\bending1\\\\dataset7.csv', 'C:\\\\Users\\\\Aman\\\\Downloads\\\\AReM\\\\bending2\\\\dataset1.csv', 'C:\\\\Users\\\\Aman\\\\Downloads\\\\AReM\\\\bending2\\\\dataset2.csv', 'C:\\\\Users\\\\Aman\\\\Downloads\\\\AReM\\\\bending2\\\\dataset3.csv', 'C:\\\\Users\\\\Aman\\\\Downloads\\\\AReM\\\\bending2\\\\dataset4.csv', 'C:\\\\Users\\\\Aman\\\\Downloads\\\\AReM\\\\bending2\\\\dataset5.csv', 'C:\\\\Users\\\\Aman\\\\Downloads\\\\AReM\\\\bending2\\\\dataset6.csv', 'C:\\\\Users\\\\Aman\\\\Downloads\\\\AReM\\\\cycling\\\\dataset1.csv', 'C:\\\\Users\\\\Aman\\\\Downloads\\\\AReM\\\\cycling\\\\dataset10.csv', 'C:\\\\Users\\\\Aman\\\\Downloads\\\\AReM\\\\cycling\\\\dataset11.csv', 'C:\\\\Users\\\\Aman\\\\Downloads\\\\AReM\\\\cycling\\\\dataset12.csv', 'C:\\\\Users\\\\Aman\\\\Downloads\\\\AReM\\\\cycling\\\\dataset13.csv', 'C:\\\\Users\\\\Aman\\\\Downloads\\\\AReM\\\\cycling\\\\dataset14.csv', 'C:\\\\Users\\\\Aman\\\\Downloads\\\\AReM\\\\cycling\\\\dataset15.csv', 'C:\\\\Users\\\\Aman\\\\Downloads\\\\AReM\\\\cycling\\\\dataset2.csv', 'C:\\\\Users\\\\Aman\\\\Downloads\\\\AReM\\\\cycling\\\\dataset3.csv', 'C:\\\\Users\\\\Aman\\\\Downloads\\\\AReM\\\\cycling\\\\dataset4.csv', 'C:\\\\Users\\\\Aman\\\\Downloads\\\\AReM\\\\cycling\\\\dataset5.csv', 'C:\\\\Users\\\\Aman\\\\Downloads\\\\AReM\\\\cycling\\\\dataset6.csv', 'C:\\\\Users\\\\Aman\\\\Downloads\\\\AReM\\\\cycling\\\\dataset7.csv', 'C:\\\\Users\\\\Aman\\\\Downloads\\\\AReM\\\\cycling\\\\dataset8.csv', 'C:\\\\Users\\\\Aman\\\\Downloads\\\\AReM\\\\cycling\\\\dataset9.csv', 'C:\\\\Users\\\\Aman\\\\Downloads\\\\AReM\\\\lying\\\\dataset1.csv', 'C:\\\\Users\\\\Aman\\\\Downloads\\\\AReM\\\\lying\\\\dataset10.csv', 'C:\\\\Users\\\\Aman\\\\Downloads\\\\AReM\\\\lying\\\\dataset11.csv', 'C:\\\\Users\\\\Aman\\\\Downloads\\\\AReM\\\\lying\\\\dataset12.csv', 'C:\\\\Users\\\\Aman\\\\Downloads\\\\AReM\\\\lying\\\\dataset13.csv', 'C:\\\\Users\\\\Aman\\\\Downloads\\\\AReM\\\\lying\\\\dataset14.csv', 'C:\\\\Users\\\\Aman\\\\Downloads\\\\AReM\\\\lying\\\\dataset15.csv', 'C:\\\\Users\\\\Aman\\\\Downloads\\\\AReM\\\\lying\\\\dataset2.csv', 'C:\\\\Users\\\\Aman\\\\Downloads\\\\AReM\\\\lying\\\\dataset3.csv', 'C:\\\\Users\\\\Aman\\\\Downloads\\\\AReM\\\\lying\\\\dataset4.csv', 'C:\\\\Users\\\\Aman\\\\Downloads\\\\AReM\\\\lying\\\\dataset5.csv', 'C:\\\\Users\\\\Aman\\\\Downloads\\\\AReM\\\\lying\\\\dataset6.csv', 'C:\\\\Users\\\\Aman\\\\Downloads\\\\AReM\\\\lying\\\\dataset7.csv', 'C:\\\\Users\\\\Aman\\\\Downloads\\\\AReM\\\\lying\\\\dataset8.csv', 'C:\\\\Users\\\\Aman\\\\Downloads\\\\AReM\\\\lying\\\\dataset9.csv', 'C:\\\\Users\\\\Aman\\\\Downloads\\\\AReM\\\\sitting\\\\dataset1.csv', 'C:\\\\Users\\\\Aman\\\\Downloads\\\\AReM\\\\sitting\\\\dataset10.csv', 'C:\\\\Users\\\\Aman\\\\Downloads\\\\AReM\\\\sitting\\\\dataset11.csv', 'C:\\\\Users\\\\Aman\\\\Downloads\\\\AReM\\\\sitting\\\\dataset12.csv', 'C:\\\\Users\\\\Aman\\\\Downloads\\\\AReM\\\\sitting\\\\dataset13.csv', 'C:\\\\Users\\\\Aman\\\\Downloads\\\\AReM\\\\sitting\\\\dataset14.csv', 'C:\\\\Users\\\\Aman\\\\Downloads\\\\AReM\\\\sitting\\\\dataset15.csv', 'C:\\\\Users\\\\Aman\\\\Downloads\\\\AReM\\\\sitting\\\\dataset2.csv', 'C:\\\\Users\\\\Aman\\\\Downloads\\\\AReM\\\\sitting\\\\dataset3.csv', 'C:\\\\Users\\\\Aman\\\\Downloads\\\\AReM\\\\sitting\\\\dataset4.csv', 'C:\\\\Users\\\\Aman\\\\Downloads\\\\AReM\\\\sitting\\\\dataset5.csv', 'C:\\\\Users\\\\Aman\\\\Downloads\\\\AReM\\\\sitting\\\\dataset6.csv', 'C:\\\\Users\\\\Aman\\\\Downloads\\\\AReM\\\\sitting\\\\dataset7.csv', 'C:\\\\Users\\\\Aman\\\\Downloads\\\\AReM\\\\sitting\\\\dataset8.csv', 'C:\\\\Users\\\\Aman\\\\Downloads\\\\AReM\\\\sitting\\\\dataset9.csv', 'C:\\\\Users\\\\Aman\\\\Downloads\\\\AReM\\\\standing\\\\dataset1.csv', 'C:\\\\Users\\\\Aman\\\\Downloads\\\\AReM\\\\standing\\\\dataset10.csv', 'C:\\\\Users\\\\Aman\\\\Downloads\\\\AReM\\\\standing\\\\dataset11.csv', 'C:\\\\Users\\\\Aman\\\\Downloads\\\\AReM\\\\standing\\\\dataset12.csv', 'C:\\\\Users\\\\Aman\\\\Downloads\\\\AReM\\\\standing\\\\dataset13.csv', 'C:\\\\Users\\\\Aman\\\\Downloads\\\\AReM\\\\standing\\\\dataset14.csv', 'C:\\\\Users\\\\Aman\\\\Downloads\\\\AReM\\\\standing\\\\dataset15.csv', 'C:\\\\Users\\\\Aman\\\\Downloads\\\\AReM\\\\standing\\\\dataset2.csv', 'C:\\\\Users\\\\Aman\\\\Downloads\\\\AReM\\\\standing\\\\dataset3.csv', 'C:\\\\Users\\\\Aman\\\\Downloads\\\\AReM\\\\standing\\\\dataset4.csv', 'C:\\\\Users\\\\Aman\\\\Downloads\\\\AReM\\\\standing\\\\dataset5.csv', 'C:\\\\Users\\\\Aman\\\\Downloads\\\\AReM\\\\standing\\\\dataset6.csv', 'C:\\\\Users\\\\Aman\\\\Downloads\\\\AReM\\\\standing\\\\dataset7.csv', 'C:\\\\Users\\\\Aman\\\\Downloads\\\\AReM\\\\standing\\\\dataset8.csv', 'C:\\\\Users\\\\Aman\\\\Downloads\\\\AReM\\\\standing\\\\dataset9.csv', 'C:\\\\Users\\\\Aman\\\\Downloads\\\\AReM\\\\walking\\\\dataset1.csv', 'C:\\\\Users\\\\Aman\\\\Downloads\\\\AReM\\\\walking\\\\dataset10.csv', 'C:\\\\Users\\\\Aman\\\\Downloads\\\\AReM\\\\walking\\\\dataset11.csv', 'C:\\\\Users\\\\Aman\\\\Downloads\\\\AReM\\\\walking\\\\dataset12.csv', 'C:\\\\Users\\\\Aman\\\\Downloads\\\\AReM\\\\walking\\\\dataset13.csv', 'C:\\\\Users\\\\Aman\\\\Downloads\\\\AReM\\\\walking\\\\dataset14.csv', 'C:\\\\Users\\\\Aman\\\\Downloads\\\\AReM\\\\walking\\\\dataset15.csv', 'C:\\\\Users\\\\Aman\\\\Downloads\\\\AReM\\\\walking\\\\dataset2.csv', 'C:\\\\Users\\\\Aman\\\\Downloads\\\\AReM\\\\walking\\\\dataset3.csv', 'C:\\\\Users\\\\Aman\\\\Downloads\\\\AReM\\\\walking\\\\dataset4.csv']\n",
      "['C:\\\\Users\\\\Aman\\\\Downloads\\\\AReM\\\\bending1\\\\dataset1.csv', 'C:\\\\Users\\\\Aman\\\\Downloads\\\\AReM\\\\bending1\\\\dataset2.csv', 'C:\\\\Users\\\\Aman\\\\Downloads\\\\AReM\\\\bending1\\\\dataset3.csv', 'C:\\\\Users\\\\Aman\\\\Downloads\\\\AReM\\\\bending1\\\\dataset4.csv', 'C:\\\\Users\\\\Aman\\\\Downloads\\\\AReM\\\\bending1\\\\dataset5.csv', 'C:\\\\Users\\\\Aman\\\\Downloads\\\\AReM\\\\bending1\\\\dataset6.csv', 'C:\\\\Users\\\\Aman\\\\Downloads\\\\AReM\\\\bending1\\\\dataset7.csv', 'C:\\\\Users\\\\Aman\\\\Downloads\\\\AReM\\\\bending2\\\\dataset1.csv', 'C:\\\\Users\\\\Aman\\\\Downloads\\\\AReM\\\\bending2\\\\dataset2.csv', 'C:\\\\Users\\\\Aman\\\\Downloads\\\\AReM\\\\bending2\\\\dataset3.csv', 'C:\\\\Users\\\\Aman\\\\Downloads\\\\AReM\\\\bending2\\\\dataset4.csv', 'C:\\\\Users\\\\Aman\\\\Downloads\\\\AReM\\\\bending2\\\\dataset5.csv', 'C:\\\\Users\\\\Aman\\\\Downloads\\\\AReM\\\\bending2\\\\dataset6.csv', 'C:\\\\Users\\\\Aman\\\\Downloads\\\\AReM\\\\cycling\\\\dataset1.csv', 'C:\\\\Users\\\\Aman\\\\Downloads\\\\AReM\\\\cycling\\\\dataset10.csv', 'C:\\\\Users\\\\Aman\\\\Downloads\\\\AReM\\\\cycling\\\\dataset11.csv', 'C:\\\\Users\\\\Aman\\\\Downloads\\\\AReM\\\\cycling\\\\dataset12.csv', 'C:\\\\Users\\\\Aman\\\\Downloads\\\\AReM\\\\cycling\\\\dataset13.csv', 'C:\\\\Users\\\\Aman\\\\Downloads\\\\AReM\\\\cycling\\\\dataset14.csv', 'C:\\\\Users\\\\Aman\\\\Downloads\\\\AReM\\\\cycling\\\\dataset15.csv', 'C:\\\\Users\\\\Aman\\\\Downloads\\\\AReM\\\\cycling\\\\dataset2.csv', 'C:\\\\Users\\\\Aman\\\\Downloads\\\\AReM\\\\cycling\\\\dataset3.csv', 'C:\\\\Users\\\\Aman\\\\Downloads\\\\AReM\\\\cycling\\\\dataset4.csv', 'C:\\\\Users\\\\Aman\\\\Downloads\\\\AReM\\\\cycling\\\\dataset5.csv', 'C:\\\\Users\\\\Aman\\\\Downloads\\\\AReM\\\\cycling\\\\dataset6.csv', 'C:\\\\Users\\\\Aman\\\\Downloads\\\\AReM\\\\cycling\\\\dataset7.csv', 'C:\\\\Users\\\\Aman\\\\Downloads\\\\AReM\\\\cycling\\\\dataset8.csv', 'C:\\\\Users\\\\Aman\\\\Downloads\\\\AReM\\\\cycling\\\\dataset9.csv', 'C:\\\\Users\\\\Aman\\\\Downloads\\\\AReM\\\\lying\\\\dataset1.csv', 'C:\\\\Users\\\\Aman\\\\Downloads\\\\AReM\\\\lying\\\\dataset10.csv', 'C:\\\\Users\\\\Aman\\\\Downloads\\\\AReM\\\\lying\\\\dataset11.csv', 'C:\\\\Users\\\\Aman\\\\Downloads\\\\AReM\\\\lying\\\\dataset12.csv', 'C:\\\\Users\\\\Aman\\\\Downloads\\\\AReM\\\\lying\\\\dataset13.csv', 'C:\\\\Users\\\\Aman\\\\Downloads\\\\AReM\\\\lying\\\\dataset14.csv', 'C:\\\\Users\\\\Aman\\\\Downloads\\\\AReM\\\\lying\\\\dataset15.csv', 'C:\\\\Users\\\\Aman\\\\Downloads\\\\AReM\\\\lying\\\\dataset2.csv', 'C:\\\\Users\\\\Aman\\\\Downloads\\\\AReM\\\\lying\\\\dataset3.csv', 'C:\\\\Users\\\\Aman\\\\Downloads\\\\AReM\\\\lying\\\\dataset4.csv', 'C:\\\\Users\\\\Aman\\\\Downloads\\\\AReM\\\\lying\\\\dataset5.csv', 'C:\\\\Users\\\\Aman\\\\Downloads\\\\AReM\\\\lying\\\\dataset6.csv', 'C:\\\\Users\\\\Aman\\\\Downloads\\\\AReM\\\\lying\\\\dataset7.csv', 'C:\\\\Users\\\\Aman\\\\Downloads\\\\AReM\\\\lying\\\\dataset8.csv', 'C:\\\\Users\\\\Aman\\\\Downloads\\\\AReM\\\\lying\\\\dataset9.csv', 'C:\\\\Users\\\\Aman\\\\Downloads\\\\AReM\\\\sitting\\\\dataset1.csv', 'C:\\\\Users\\\\Aman\\\\Downloads\\\\AReM\\\\sitting\\\\dataset10.csv', 'C:\\\\Users\\\\Aman\\\\Downloads\\\\AReM\\\\sitting\\\\dataset11.csv', 'C:\\\\Users\\\\Aman\\\\Downloads\\\\AReM\\\\sitting\\\\dataset12.csv', 'C:\\\\Users\\\\Aman\\\\Downloads\\\\AReM\\\\sitting\\\\dataset13.csv', 'C:\\\\Users\\\\Aman\\\\Downloads\\\\AReM\\\\sitting\\\\dataset14.csv', 'C:\\\\Users\\\\Aman\\\\Downloads\\\\AReM\\\\sitting\\\\dataset15.csv', 'C:\\\\Users\\\\Aman\\\\Downloads\\\\AReM\\\\sitting\\\\dataset2.csv', 'C:\\\\Users\\\\Aman\\\\Downloads\\\\AReM\\\\sitting\\\\dataset3.csv', 'C:\\\\Users\\\\Aman\\\\Downloads\\\\AReM\\\\sitting\\\\dataset4.csv', 'C:\\\\Users\\\\Aman\\\\Downloads\\\\AReM\\\\sitting\\\\dataset5.csv', 'C:\\\\Users\\\\Aman\\\\Downloads\\\\AReM\\\\sitting\\\\dataset6.csv', 'C:\\\\Users\\\\Aman\\\\Downloads\\\\AReM\\\\sitting\\\\dataset7.csv', 'C:\\\\Users\\\\Aman\\\\Downloads\\\\AReM\\\\sitting\\\\dataset8.csv', 'C:\\\\Users\\\\Aman\\\\Downloads\\\\AReM\\\\sitting\\\\dataset9.csv', 'C:\\\\Users\\\\Aman\\\\Downloads\\\\AReM\\\\standing\\\\dataset1.csv', 'C:\\\\Users\\\\Aman\\\\Downloads\\\\AReM\\\\standing\\\\dataset10.csv', 'C:\\\\Users\\\\Aman\\\\Downloads\\\\AReM\\\\standing\\\\dataset11.csv', 'C:\\\\Users\\\\Aman\\\\Downloads\\\\AReM\\\\standing\\\\dataset12.csv', 'C:\\\\Users\\\\Aman\\\\Downloads\\\\AReM\\\\standing\\\\dataset13.csv', 'C:\\\\Users\\\\Aman\\\\Downloads\\\\AReM\\\\standing\\\\dataset14.csv', 'C:\\\\Users\\\\Aman\\\\Downloads\\\\AReM\\\\standing\\\\dataset15.csv', 'C:\\\\Users\\\\Aman\\\\Downloads\\\\AReM\\\\standing\\\\dataset2.csv', 'C:\\\\Users\\\\Aman\\\\Downloads\\\\AReM\\\\standing\\\\dataset3.csv', 'C:\\\\Users\\\\Aman\\\\Downloads\\\\AReM\\\\standing\\\\dataset4.csv', 'C:\\\\Users\\\\Aman\\\\Downloads\\\\AReM\\\\standing\\\\dataset5.csv', 'C:\\\\Users\\\\Aman\\\\Downloads\\\\AReM\\\\standing\\\\dataset6.csv', 'C:\\\\Users\\\\Aman\\\\Downloads\\\\AReM\\\\standing\\\\dataset7.csv', 'C:\\\\Users\\\\Aman\\\\Downloads\\\\AReM\\\\standing\\\\dataset8.csv', 'C:\\\\Users\\\\Aman\\\\Downloads\\\\AReM\\\\standing\\\\dataset9.csv', 'C:\\\\Users\\\\Aman\\\\Downloads\\\\AReM\\\\walking\\\\dataset1.csv', 'C:\\\\Users\\\\Aman\\\\Downloads\\\\AReM\\\\walking\\\\dataset10.csv', 'C:\\\\Users\\\\Aman\\\\Downloads\\\\AReM\\\\walking\\\\dataset11.csv', 'C:\\\\Users\\\\Aman\\\\Downloads\\\\AReM\\\\walking\\\\dataset12.csv', 'C:\\\\Users\\\\Aman\\\\Downloads\\\\AReM\\\\walking\\\\dataset13.csv', 'C:\\\\Users\\\\Aman\\\\Downloads\\\\AReM\\\\walking\\\\dataset14.csv', 'C:\\\\Users\\\\Aman\\\\Downloads\\\\AReM\\\\walking\\\\dataset15.csv', 'C:\\\\Users\\\\Aman\\\\Downloads\\\\AReM\\\\walking\\\\dataset2.csv', 'C:\\\\Users\\\\Aman\\\\Downloads\\\\AReM\\\\walking\\\\dataset3.csv', 'C:\\\\Users\\\\Aman\\\\Downloads\\\\AReM\\\\walking\\\\dataset4.csv', 'C:\\\\Users\\\\Aman\\\\Downloads\\\\AReM\\\\walking\\\\dataset5.csv']\n",
      "['C:\\\\Users\\\\Aman\\\\Downloads\\\\AReM\\\\bending1\\\\dataset1.csv', 'C:\\\\Users\\\\Aman\\\\Downloads\\\\AReM\\\\bending1\\\\dataset2.csv', 'C:\\\\Users\\\\Aman\\\\Downloads\\\\AReM\\\\bending1\\\\dataset3.csv', 'C:\\\\Users\\\\Aman\\\\Downloads\\\\AReM\\\\bending1\\\\dataset4.csv', 'C:\\\\Users\\\\Aman\\\\Downloads\\\\AReM\\\\bending1\\\\dataset5.csv', 'C:\\\\Users\\\\Aman\\\\Downloads\\\\AReM\\\\bending1\\\\dataset6.csv', 'C:\\\\Users\\\\Aman\\\\Downloads\\\\AReM\\\\bending1\\\\dataset7.csv', 'C:\\\\Users\\\\Aman\\\\Downloads\\\\AReM\\\\bending2\\\\dataset1.csv', 'C:\\\\Users\\\\Aman\\\\Downloads\\\\AReM\\\\bending2\\\\dataset2.csv', 'C:\\\\Users\\\\Aman\\\\Downloads\\\\AReM\\\\bending2\\\\dataset3.csv', 'C:\\\\Users\\\\Aman\\\\Downloads\\\\AReM\\\\bending2\\\\dataset4.csv', 'C:\\\\Users\\\\Aman\\\\Downloads\\\\AReM\\\\bending2\\\\dataset5.csv', 'C:\\\\Users\\\\Aman\\\\Downloads\\\\AReM\\\\bending2\\\\dataset6.csv', 'C:\\\\Users\\\\Aman\\\\Downloads\\\\AReM\\\\cycling\\\\dataset1.csv', 'C:\\\\Users\\\\Aman\\\\Downloads\\\\AReM\\\\cycling\\\\dataset10.csv', 'C:\\\\Users\\\\Aman\\\\Downloads\\\\AReM\\\\cycling\\\\dataset11.csv', 'C:\\\\Users\\\\Aman\\\\Downloads\\\\AReM\\\\cycling\\\\dataset12.csv', 'C:\\\\Users\\\\Aman\\\\Downloads\\\\AReM\\\\cycling\\\\dataset13.csv', 'C:\\\\Users\\\\Aman\\\\Downloads\\\\AReM\\\\cycling\\\\dataset14.csv', 'C:\\\\Users\\\\Aman\\\\Downloads\\\\AReM\\\\cycling\\\\dataset15.csv', 'C:\\\\Users\\\\Aman\\\\Downloads\\\\AReM\\\\cycling\\\\dataset2.csv', 'C:\\\\Users\\\\Aman\\\\Downloads\\\\AReM\\\\cycling\\\\dataset3.csv', 'C:\\\\Users\\\\Aman\\\\Downloads\\\\AReM\\\\cycling\\\\dataset4.csv', 'C:\\\\Users\\\\Aman\\\\Downloads\\\\AReM\\\\cycling\\\\dataset5.csv', 'C:\\\\Users\\\\Aman\\\\Downloads\\\\AReM\\\\cycling\\\\dataset6.csv', 'C:\\\\Users\\\\Aman\\\\Downloads\\\\AReM\\\\cycling\\\\dataset7.csv', 'C:\\\\Users\\\\Aman\\\\Downloads\\\\AReM\\\\cycling\\\\dataset8.csv', 'C:\\\\Users\\\\Aman\\\\Downloads\\\\AReM\\\\cycling\\\\dataset9.csv', 'C:\\\\Users\\\\Aman\\\\Downloads\\\\AReM\\\\lying\\\\dataset1.csv', 'C:\\\\Users\\\\Aman\\\\Downloads\\\\AReM\\\\lying\\\\dataset10.csv', 'C:\\\\Users\\\\Aman\\\\Downloads\\\\AReM\\\\lying\\\\dataset11.csv', 'C:\\\\Users\\\\Aman\\\\Downloads\\\\AReM\\\\lying\\\\dataset12.csv', 'C:\\\\Users\\\\Aman\\\\Downloads\\\\AReM\\\\lying\\\\dataset13.csv', 'C:\\\\Users\\\\Aman\\\\Downloads\\\\AReM\\\\lying\\\\dataset14.csv', 'C:\\\\Users\\\\Aman\\\\Downloads\\\\AReM\\\\lying\\\\dataset15.csv', 'C:\\\\Users\\\\Aman\\\\Downloads\\\\AReM\\\\lying\\\\dataset2.csv', 'C:\\\\Users\\\\Aman\\\\Downloads\\\\AReM\\\\lying\\\\dataset3.csv', 'C:\\\\Users\\\\Aman\\\\Downloads\\\\AReM\\\\lying\\\\dataset4.csv', 'C:\\\\Users\\\\Aman\\\\Downloads\\\\AReM\\\\lying\\\\dataset5.csv', 'C:\\\\Users\\\\Aman\\\\Downloads\\\\AReM\\\\lying\\\\dataset6.csv', 'C:\\\\Users\\\\Aman\\\\Downloads\\\\AReM\\\\lying\\\\dataset7.csv', 'C:\\\\Users\\\\Aman\\\\Downloads\\\\AReM\\\\lying\\\\dataset8.csv', 'C:\\\\Users\\\\Aman\\\\Downloads\\\\AReM\\\\lying\\\\dataset9.csv', 'C:\\\\Users\\\\Aman\\\\Downloads\\\\AReM\\\\sitting\\\\dataset1.csv', 'C:\\\\Users\\\\Aman\\\\Downloads\\\\AReM\\\\sitting\\\\dataset10.csv', 'C:\\\\Users\\\\Aman\\\\Downloads\\\\AReM\\\\sitting\\\\dataset11.csv', 'C:\\\\Users\\\\Aman\\\\Downloads\\\\AReM\\\\sitting\\\\dataset12.csv', 'C:\\\\Users\\\\Aman\\\\Downloads\\\\AReM\\\\sitting\\\\dataset13.csv', 'C:\\\\Users\\\\Aman\\\\Downloads\\\\AReM\\\\sitting\\\\dataset14.csv', 'C:\\\\Users\\\\Aman\\\\Downloads\\\\AReM\\\\sitting\\\\dataset15.csv', 'C:\\\\Users\\\\Aman\\\\Downloads\\\\AReM\\\\sitting\\\\dataset2.csv', 'C:\\\\Users\\\\Aman\\\\Downloads\\\\AReM\\\\sitting\\\\dataset3.csv', 'C:\\\\Users\\\\Aman\\\\Downloads\\\\AReM\\\\sitting\\\\dataset4.csv', 'C:\\\\Users\\\\Aman\\\\Downloads\\\\AReM\\\\sitting\\\\dataset5.csv', 'C:\\\\Users\\\\Aman\\\\Downloads\\\\AReM\\\\sitting\\\\dataset6.csv', 'C:\\\\Users\\\\Aman\\\\Downloads\\\\AReM\\\\sitting\\\\dataset7.csv', 'C:\\\\Users\\\\Aman\\\\Downloads\\\\AReM\\\\sitting\\\\dataset8.csv', 'C:\\\\Users\\\\Aman\\\\Downloads\\\\AReM\\\\sitting\\\\dataset9.csv', 'C:\\\\Users\\\\Aman\\\\Downloads\\\\AReM\\\\standing\\\\dataset1.csv', 'C:\\\\Users\\\\Aman\\\\Downloads\\\\AReM\\\\standing\\\\dataset10.csv', 'C:\\\\Users\\\\Aman\\\\Downloads\\\\AReM\\\\standing\\\\dataset11.csv', 'C:\\\\Users\\\\Aman\\\\Downloads\\\\AReM\\\\standing\\\\dataset12.csv', 'C:\\\\Users\\\\Aman\\\\Downloads\\\\AReM\\\\standing\\\\dataset13.csv', 'C:\\\\Users\\\\Aman\\\\Downloads\\\\AReM\\\\standing\\\\dataset14.csv', 'C:\\\\Users\\\\Aman\\\\Downloads\\\\AReM\\\\standing\\\\dataset15.csv', 'C:\\\\Users\\\\Aman\\\\Downloads\\\\AReM\\\\standing\\\\dataset2.csv', 'C:\\\\Users\\\\Aman\\\\Downloads\\\\AReM\\\\standing\\\\dataset3.csv', 'C:\\\\Users\\\\Aman\\\\Downloads\\\\AReM\\\\standing\\\\dataset4.csv', 'C:\\\\Users\\\\Aman\\\\Downloads\\\\AReM\\\\standing\\\\dataset5.csv', 'C:\\\\Users\\\\Aman\\\\Downloads\\\\AReM\\\\standing\\\\dataset6.csv', 'C:\\\\Users\\\\Aman\\\\Downloads\\\\AReM\\\\standing\\\\dataset7.csv', 'C:\\\\Users\\\\Aman\\\\Downloads\\\\AReM\\\\standing\\\\dataset8.csv', 'C:\\\\Users\\\\Aman\\\\Downloads\\\\AReM\\\\standing\\\\dataset9.csv', 'C:\\\\Users\\\\Aman\\\\Downloads\\\\AReM\\\\walking\\\\dataset1.csv', 'C:\\\\Users\\\\Aman\\\\Downloads\\\\AReM\\\\walking\\\\dataset10.csv', 'C:\\\\Users\\\\Aman\\\\Downloads\\\\AReM\\\\walking\\\\dataset11.csv', 'C:\\\\Users\\\\Aman\\\\Downloads\\\\AReM\\\\walking\\\\dataset12.csv', 'C:\\\\Users\\\\Aman\\\\Downloads\\\\AReM\\\\walking\\\\dataset13.csv', 'C:\\\\Users\\\\Aman\\\\Downloads\\\\AReM\\\\walking\\\\dataset14.csv', 'C:\\\\Users\\\\Aman\\\\Downloads\\\\AReM\\\\walking\\\\dataset15.csv', 'C:\\\\Users\\\\Aman\\\\Downloads\\\\AReM\\\\walking\\\\dataset2.csv', 'C:\\\\Users\\\\Aman\\\\Downloads\\\\AReM\\\\walking\\\\dataset3.csv', 'C:\\\\Users\\\\Aman\\\\Downloads\\\\AReM\\\\walking\\\\dataset4.csv', 'C:\\\\Users\\\\Aman\\\\Downloads\\\\AReM\\\\walking\\\\dataset5.csv', 'C:\\\\Users\\\\Aman\\\\Downloads\\\\AReM\\\\walking\\\\dataset6.csv']\n",
      "['C:\\\\Users\\\\Aman\\\\Downloads\\\\AReM\\\\bending1\\\\dataset1.csv', 'C:\\\\Users\\\\Aman\\\\Downloads\\\\AReM\\\\bending1\\\\dataset2.csv', 'C:\\\\Users\\\\Aman\\\\Downloads\\\\AReM\\\\bending1\\\\dataset3.csv', 'C:\\\\Users\\\\Aman\\\\Downloads\\\\AReM\\\\bending1\\\\dataset4.csv', 'C:\\\\Users\\\\Aman\\\\Downloads\\\\AReM\\\\bending1\\\\dataset5.csv', 'C:\\\\Users\\\\Aman\\\\Downloads\\\\AReM\\\\bending1\\\\dataset6.csv', 'C:\\\\Users\\\\Aman\\\\Downloads\\\\AReM\\\\bending1\\\\dataset7.csv', 'C:\\\\Users\\\\Aman\\\\Downloads\\\\AReM\\\\bending2\\\\dataset1.csv', 'C:\\\\Users\\\\Aman\\\\Downloads\\\\AReM\\\\bending2\\\\dataset2.csv', 'C:\\\\Users\\\\Aman\\\\Downloads\\\\AReM\\\\bending2\\\\dataset3.csv', 'C:\\\\Users\\\\Aman\\\\Downloads\\\\AReM\\\\bending2\\\\dataset4.csv', 'C:\\\\Users\\\\Aman\\\\Downloads\\\\AReM\\\\bending2\\\\dataset5.csv', 'C:\\\\Users\\\\Aman\\\\Downloads\\\\AReM\\\\bending2\\\\dataset6.csv', 'C:\\\\Users\\\\Aman\\\\Downloads\\\\AReM\\\\cycling\\\\dataset1.csv', 'C:\\\\Users\\\\Aman\\\\Downloads\\\\AReM\\\\cycling\\\\dataset10.csv', 'C:\\\\Users\\\\Aman\\\\Downloads\\\\AReM\\\\cycling\\\\dataset11.csv', 'C:\\\\Users\\\\Aman\\\\Downloads\\\\AReM\\\\cycling\\\\dataset12.csv', 'C:\\\\Users\\\\Aman\\\\Downloads\\\\AReM\\\\cycling\\\\dataset13.csv', 'C:\\\\Users\\\\Aman\\\\Downloads\\\\AReM\\\\cycling\\\\dataset14.csv', 'C:\\\\Users\\\\Aman\\\\Downloads\\\\AReM\\\\cycling\\\\dataset15.csv', 'C:\\\\Users\\\\Aman\\\\Downloads\\\\AReM\\\\cycling\\\\dataset2.csv', 'C:\\\\Users\\\\Aman\\\\Downloads\\\\AReM\\\\cycling\\\\dataset3.csv', 'C:\\\\Users\\\\Aman\\\\Downloads\\\\AReM\\\\cycling\\\\dataset4.csv', 'C:\\\\Users\\\\Aman\\\\Downloads\\\\AReM\\\\cycling\\\\dataset5.csv', 'C:\\\\Users\\\\Aman\\\\Downloads\\\\AReM\\\\cycling\\\\dataset6.csv', 'C:\\\\Users\\\\Aman\\\\Downloads\\\\AReM\\\\cycling\\\\dataset7.csv', 'C:\\\\Users\\\\Aman\\\\Downloads\\\\AReM\\\\cycling\\\\dataset8.csv', 'C:\\\\Users\\\\Aman\\\\Downloads\\\\AReM\\\\cycling\\\\dataset9.csv', 'C:\\\\Users\\\\Aman\\\\Downloads\\\\AReM\\\\lying\\\\dataset1.csv', 'C:\\\\Users\\\\Aman\\\\Downloads\\\\AReM\\\\lying\\\\dataset10.csv', 'C:\\\\Users\\\\Aman\\\\Downloads\\\\AReM\\\\lying\\\\dataset11.csv', 'C:\\\\Users\\\\Aman\\\\Downloads\\\\AReM\\\\lying\\\\dataset12.csv', 'C:\\\\Users\\\\Aman\\\\Downloads\\\\AReM\\\\lying\\\\dataset13.csv', 'C:\\\\Users\\\\Aman\\\\Downloads\\\\AReM\\\\lying\\\\dataset14.csv', 'C:\\\\Users\\\\Aman\\\\Downloads\\\\AReM\\\\lying\\\\dataset15.csv', 'C:\\\\Users\\\\Aman\\\\Downloads\\\\AReM\\\\lying\\\\dataset2.csv', 'C:\\\\Users\\\\Aman\\\\Downloads\\\\AReM\\\\lying\\\\dataset3.csv', 'C:\\\\Users\\\\Aman\\\\Downloads\\\\AReM\\\\lying\\\\dataset4.csv', 'C:\\\\Users\\\\Aman\\\\Downloads\\\\AReM\\\\lying\\\\dataset5.csv', 'C:\\\\Users\\\\Aman\\\\Downloads\\\\AReM\\\\lying\\\\dataset6.csv', 'C:\\\\Users\\\\Aman\\\\Downloads\\\\AReM\\\\lying\\\\dataset7.csv', 'C:\\\\Users\\\\Aman\\\\Downloads\\\\AReM\\\\lying\\\\dataset8.csv', 'C:\\\\Users\\\\Aman\\\\Downloads\\\\AReM\\\\lying\\\\dataset9.csv', 'C:\\\\Users\\\\Aman\\\\Downloads\\\\AReM\\\\sitting\\\\dataset1.csv', 'C:\\\\Users\\\\Aman\\\\Downloads\\\\AReM\\\\sitting\\\\dataset10.csv', 'C:\\\\Users\\\\Aman\\\\Downloads\\\\AReM\\\\sitting\\\\dataset11.csv', 'C:\\\\Users\\\\Aman\\\\Downloads\\\\AReM\\\\sitting\\\\dataset12.csv', 'C:\\\\Users\\\\Aman\\\\Downloads\\\\AReM\\\\sitting\\\\dataset13.csv', 'C:\\\\Users\\\\Aman\\\\Downloads\\\\AReM\\\\sitting\\\\dataset14.csv', 'C:\\\\Users\\\\Aman\\\\Downloads\\\\AReM\\\\sitting\\\\dataset15.csv', 'C:\\\\Users\\\\Aman\\\\Downloads\\\\AReM\\\\sitting\\\\dataset2.csv', 'C:\\\\Users\\\\Aman\\\\Downloads\\\\AReM\\\\sitting\\\\dataset3.csv', 'C:\\\\Users\\\\Aman\\\\Downloads\\\\AReM\\\\sitting\\\\dataset4.csv', 'C:\\\\Users\\\\Aman\\\\Downloads\\\\AReM\\\\sitting\\\\dataset5.csv', 'C:\\\\Users\\\\Aman\\\\Downloads\\\\AReM\\\\sitting\\\\dataset6.csv', 'C:\\\\Users\\\\Aman\\\\Downloads\\\\AReM\\\\sitting\\\\dataset7.csv', 'C:\\\\Users\\\\Aman\\\\Downloads\\\\AReM\\\\sitting\\\\dataset8.csv', 'C:\\\\Users\\\\Aman\\\\Downloads\\\\AReM\\\\sitting\\\\dataset9.csv', 'C:\\\\Users\\\\Aman\\\\Downloads\\\\AReM\\\\standing\\\\dataset1.csv', 'C:\\\\Users\\\\Aman\\\\Downloads\\\\AReM\\\\standing\\\\dataset10.csv', 'C:\\\\Users\\\\Aman\\\\Downloads\\\\AReM\\\\standing\\\\dataset11.csv', 'C:\\\\Users\\\\Aman\\\\Downloads\\\\AReM\\\\standing\\\\dataset12.csv', 'C:\\\\Users\\\\Aman\\\\Downloads\\\\AReM\\\\standing\\\\dataset13.csv', 'C:\\\\Users\\\\Aman\\\\Downloads\\\\AReM\\\\standing\\\\dataset14.csv', 'C:\\\\Users\\\\Aman\\\\Downloads\\\\AReM\\\\standing\\\\dataset15.csv', 'C:\\\\Users\\\\Aman\\\\Downloads\\\\AReM\\\\standing\\\\dataset2.csv', 'C:\\\\Users\\\\Aman\\\\Downloads\\\\AReM\\\\standing\\\\dataset3.csv', 'C:\\\\Users\\\\Aman\\\\Downloads\\\\AReM\\\\standing\\\\dataset4.csv', 'C:\\\\Users\\\\Aman\\\\Downloads\\\\AReM\\\\standing\\\\dataset5.csv', 'C:\\\\Users\\\\Aman\\\\Downloads\\\\AReM\\\\standing\\\\dataset6.csv', 'C:\\\\Users\\\\Aman\\\\Downloads\\\\AReM\\\\standing\\\\dataset7.csv', 'C:\\\\Users\\\\Aman\\\\Downloads\\\\AReM\\\\standing\\\\dataset8.csv', 'C:\\\\Users\\\\Aman\\\\Downloads\\\\AReM\\\\standing\\\\dataset9.csv', 'C:\\\\Users\\\\Aman\\\\Downloads\\\\AReM\\\\walking\\\\dataset1.csv', 'C:\\\\Users\\\\Aman\\\\Downloads\\\\AReM\\\\walking\\\\dataset10.csv', 'C:\\\\Users\\\\Aman\\\\Downloads\\\\AReM\\\\walking\\\\dataset11.csv', 'C:\\\\Users\\\\Aman\\\\Downloads\\\\AReM\\\\walking\\\\dataset12.csv', 'C:\\\\Users\\\\Aman\\\\Downloads\\\\AReM\\\\walking\\\\dataset13.csv', 'C:\\\\Users\\\\Aman\\\\Downloads\\\\AReM\\\\walking\\\\dataset14.csv', 'C:\\\\Users\\\\Aman\\\\Downloads\\\\AReM\\\\walking\\\\dataset15.csv', 'C:\\\\Users\\\\Aman\\\\Downloads\\\\AReM\\\\walking\\\\dataset2.csv', 'C:\\\\Users\\\\Aman\\\\Downloads\\\\AReM\\\\walking\\\\dataset3.csv', 'C:\\\\Users\\\\Aman\\\\Downloads\\\\AReM\\\\walking\\\\dataset4.csv', 'C:\\\\Users\\\\Aman\\\\Downloads\\\\AReM\\\\walking\\\\dataset5.csv', 'C:\\\\Users\\\\Aman\\\\Downloads\\\\AReM\\\\walking\\\\dataset6.csv', 'C:\\\\Users\\\\Aman\\\\Downloads\\\\AReM\\\\walking\\\\dataset7.csv']\n",
      "['C:\\\\Users\\\\Aman\\\\Downloads\\\\AReM\\\\bending1\\\\dataset1.csv', 'C:\\\\Users\\\\Aman\\\\Downloads\\\\AReM\\\\bending1\\\\dataset2.csv', 'C:\\\\Users\\\\Aman\\\\Downloads\\\\AReM\\\\bending1\\\\dataset3.csv', 'C:\\\\Users\\\\Aman\\\\Downloads\\\\AReM\\\\bending1\\\\dataset4.csv', 'C:\\\\Users\\\\Aman\\\\Downloads\\\\AReM\\\\bending1\\\\dataset5.csv', 'C:\\\\Users\\\\Aman\\\\Downloads\\\\AReM\\\\bending1\\\\dataset6.csv', 'C:\\\\Users\\\\Aman\\\\Downloads\\\\AReM\\\\bending1\\\\dataset7.csv', 'C:\\\\Users\\\\Aman\\\\Downloads\\\\AReM\\\\bending2\\\\dataset1.csv', 'C:\\\\Users\\\\Aman\\\\Downloads\\\\AReM\\\\bending2\\\\dataset2.csv', 'C:\\\\Users\\\\Aman\\\\Downloads\\\\AReM\\\\bending2\\\\dataset3.csv', 'C:\\\\Users\\\\Aman\\\\Downloads\\\\AReM\\\\bending2\\\\dataset4.csv', 'C:\\\\Users\\\\Aman\\\\Downloads\\\\AReM\\\\bending2\\\\dataset5.csv', 'C:\\\\Users\\\\Aman\\\\Downloads\\\\AReM\\\\bending2\\\\dataset6.csv', 'C:\\\\Users\\\\Aman\\\\Downloads\\\\AReM\\\\cycling\\\\dataset1.csv', 'C:\\\\Users\\\\Aman\\\\Downloads\\\\AReM\\\\cycling\\\\dataset10.csv', 'C:\\\\Users\\\\Aman\\\\Downloads\\\\AReM\\\\cycling\\\\dataset11.csv', 'C:\\\\Users\\\\Aman\\\\Downloads\\\\AReM\\\\cycling\\\\dataset12.csv', 'C:\\\\Users\\\\Aman\\\\Downloads\\\\AReM\\\\cycling\\\\dataset13.csv', 'C:\\\\Users\\\\Aman\\\\Downloads\\\\AReM\\\\cycling\\\\dataset14.csv', 'C:\\\\Users\\\\Aman\\\\Downloads\\\\AReM\\\\cycling\\\\dataset15.csv', 'C:\\\\Users\\\\Aman\\\\Downloads\\\\AReM\\\\cycling\\\\dataset2.csv', 'C:\\\\Users\\\\Aman\\\\Downloads\\\\AReM\\\\cycling\\\\dataset3.csv', 'C:\\\\Users\\\\Aman\\\\Downloads\\\\AReM\\\\cycling\\\\dataset4.csv', 'C:\\\\Users\\\\Aman\\\\Downloads\\\\AReM\\\\cycling\\\\dataset5.csv', 'C:\\\\Users\\\\Aman\\\\Downloads\\\\AReM\\\\cycling\\\\dataset6.csv', 'C:\\\\Users\\\\Aman\\\\Downloads\\\\AReM\\\\cycling\\\\dataset7.csv', 'C:\\\\Users\\\\Aman\\\\Downloads\\\\AReM\\\\cycling\\\\dataset8.csv', 'C:\\\\Users\\\\Aman\\\\Downloads\\\\AReM\\\\cycling\\\\dataset9.csv', 'C:\\\\Users\\\\Aman\\\\Downloads\\\\AReM\\\\lying\\\\dataset1.csv', 'C:\\\\Users\\\\Aman\\\\Downloads\\\\AReM\\\\lying\\\\dataset10.csv', 'C:\\\\Users\\\\Aman\\\\Downloads\\\\AReM\\\\lying\\\\dataset11.csv', 'C:\\\\Users\\\\Aman\\\\Downloads\\\\AReM\\\\lying\\\\dataset12.csv', 'C:\\\\Users\\\\Aman\\\\Downloads\\\\AReM\\\\lying\\\\dataset13.csv', 'C:\\\\Users\\\\Aman\\\\Downloads\\\\AReM\\\\lying\\\\dataset14.csv', 'C:\\\\Users\\\\Aman\\\\Downloads\\\\AReM\\\\lying\\\\dataset15.csv', 'C:\\\\Users\\\\Aman\\\\Downloads\\\\AReM\\\\lying\\\\dataset2.csv', 'C:\\\\Users\\\\Aman\\\\Downloads\\\\AReM\\\\lying\\\\dataset3.csv', 'C:\\\\Users\\\\Aman\\\\Downloads\\\\AReM\\\\lying\\\\dataset4.csv', 'C:\\\\Users\\\\Aman\\\\Downloads\\\\AReM\\\\lying\\\\dataset5.csv', 'C:\\\\Users\\\\Aman\\\\Downloads\\\\AReM\\\\lying\\\\dataset6.csv', 'C:\\\\Users\\\\Aman\\\\Downloads\\\\AReM\\\\lying\\\\dataset7.csv', 'C:\\\\Users\\\\Aman\\\\Downloads\\\\AReM\\\\lying\\\\dataset8.csv', 'C:\\\\Users\\\\Aman\\\\Downloads\\\\AReM\\\\lying\\\\dataset9.csv', 'C:\\\\Users\\\\Aman\\\\Downloads\\\\AReM\\\\sitting\\\\dataset1.csv', 'C:\\\\Users\\\\Aman\\\\Downloads\\\\AReM\\\\sitting\\\\dataset10.csv', 'C:\\\\Users\\\\Aman\\\\Downloads\\\\AReM\\\\sitting\\\\dataset11.csv', 'C:\\\\Users\\\\Aman\\\\Downloads\\\\AReM\\\\sitting\\\\dataset12.csv', 'C:\\\\Users\\\\Aman\\\\Downloads\\\\AReM\\\\sitting\\\\dataset13.csv', 'C:\\\\Users\\\\Aman\\\\Downloads\\\\AReM\\\\sitting\\\\dataset14.csv', 'C:\\\\Users\\\\Aman\\\\Downloads\\\\AReM\\\\sitting\\\\dataset15.csv', 'C:\\\\Users\\\\Aman\\\\Downloads\\\\AReM\\\\sitting\\\\dataset2.csv', 'C:\\\\Users\\\\Aman\\\\Downloads\\\\AReM\\\\sitting\\\\dataset3.csv', 'C:\\\\Users\\\\Aman\\\\Downloads\\\\AReM\\\\sitting\\\\dataset4.csv', 'C:\\\\Users\\\\Aman\\\\Downloads\\\\AReM\\\\sitting\\\\dataset5.csv', 'C:\\\\Users\\\\Aman\\\\Downloads\\\\AReM\\\\sitting\\\\dataset6.csv', 'C:\\\\Users\\\\Aman\\\\Downloads\\\\AReM\\\\sitting\\\\dataset7.csv', 'C:\\\\Users\\\\Aman\\\\Downloads\\\\AReM\\\\sitting\\\\dataset8.csv', 'C:\\\\Users\\\\Aman\\\\Downloads\\\\AReM\\\\sitting\\\\dataset9.csv', 'C:\\\\Users\\\\Aman\\\\Downloads\\\\AReM\\\\standing\\\\dataset1.csv', 'C:\\\\Users\\\\Aman\\\\Downloads\\\\AReM\\\\standing\\\\dataset10.csv', 'C:\\\\Users\\\\Aman\\\\Downloads\\\\AReM\\\\standing\\\\dataset11.csv', 'C:\\\\Users\\\\Aman\\\\Downloads\\\\AReM\\\\standing\\\\dataset12.csv', 'C:\\\\Users\\\\Aman\\\\Downloads\\\\AReM\\\\standing\\\\dataset13.csv', 'C:\\\\Users\\\\Aman\\\\Downloads\\\\AReM\\\\standing\\\\dataset14.csv', 'C:\\\\Users\\\\Aman\\\\Downloads\\\\AReM\\\\standing\\\\dataset15.csv', 'C:\\\\Users\\\\Aman\\\\Downloads\\\\AReM\\\\standing\\\\dataset2.csv', 'C:\\\\Users\\\\Aman\\\\Downloads\\\\AReM\\\\standing\\\\dataset3.csv', 'C:\\\\Users\\\\Aman\\\\Downloads\\\\AReM\\\\standing\\\\dataset4.csv', 'C:\\\\Users\\\\Aman\\\\Downloads\\\\AReM\\\\standing\\\\dataset5.csv', 'C:\\\\Users\\\\Aman\\\\Downloads\\\\AReM\\\\standing\\\\dataset6.csv', 'C:\\\\Users\\\\Aman\\\\Downloads\\\\AReM\\\\standing\\\\dataset7.csv', 'C:\\\\Users\\\\Aman\\\\Downloads\\\\AReM\\\\standing\\\\dataset8.csv', 'C:\\\\Users\\\\Aman\\\\Downloads\\\\AReM\\\\standing\\\\dataset9.csv', 'C:\\\\Users\\\\Aman\\\\Downloads\\\\AReM\\\\walking\\\\dataset1.csv', 'C:\\\\Users\\\\Aman\\\\Downloads\\\\AReM\\\\walking\\\\dataset10.csv', 'C:\\\\Users\\\\Aman\\\\Downloads\\\\AReM\\\\walking\\\\dataset11.csv', 'C:\\\\Users\\\\Aman\\\\Downloads\\\\AReM\\\\walking\\\\dataset12.csv', 'C:\\\\Users\\\\Aman\\\\Downloads\\\\AReM\\\\walking\\\\dataset13.csv', 'C:\\\\Users\\\\Aman\\\\Downloads\\\\AReM\\\\walking\\\\dataset14.csv', 'C:\\\\Users\\\\Aman\\\\Downloads\\\\AReM\\\\walking\\\\dataset15.csv', 'C:\\\\Users\\\\Aman\\\\Downloads\\\\AReM\\\\walking\\\\dataset2.csv', 'C:\\\\Users\\\\Aman\\\\Downloads\\\\AReM\\\\walking\\\\dataset3.csv', 'C:\\\\Users\\\\Aman\\\\Downloads\\\\AReM\\\\walking\\\\dataset4.csv', 'C:\\\\Users\\\\Aman\\\\Downloads\\\\AReM\\\\walking\\\\dataset5.csv', 'C:\\\\Users\\\\Aman\\\\Downloads\\\\AReM\\\\walking\\\\dataset6.csv', 'C:\\\\Users\\\\Aman\\\\Downloads\\\\AReM\\\\walking\\\\dataset7.csv', 'C:\\\\Users\\\\Aman\\\\Downloads\\\\AReM\\\\walking\\\\dataset8.csv']\n",
      "['C:\\\\Users\\\\Aman\\\\Downloads\\\\AReM\\\\bending1\\\\dataset1.csv', 'C:\\\\Users\\\\Aman\\\\Downloads\\\\AReM\\\\bending1\\\\dataset2.csv', 'C:\\\\Users\\\\Aman\\\\Downloads\\\\AReM\\\\bending1\\\\dataset3.csv', 'C:\\\\Users\\\\Aman\\\\Downloads\\\\AReM\\\\bending1\\\\dataset4.csv', 'C:\\\\Users\\\\Aman\\\\Downloads\\\\AReM\\\\bending1\\\\dataset5.csv', 'C:\\\\Users\\\\Aman\\\\Downloads\\\\AReM\\\\bending1\\\\dataset6.csv', 'C:\\\\Users\\\\Aman\\\\Downloads\\\\AReM\\\\bending1\\\\dataset7.csv', 'C:\\\\Users\\\\Aman\\\\Downloads\\\\AReM\\\\bending2\\\\dataset1.csv', 'C:\\\\Users\\\\Aman\\\\Downloads\\\\AReM\\\\bending2\\\\dataset2.csv', 'C:\\\\Users\\\\Aman\\\\Downloads\\\\AReM\\\\bending2\\\\dataset3.csv', 'C:\\\\Users\\\\Aman\\\\Downloads\\\\AReM\\\\bending2\\\\dataset4.csv', 'C:\\\\Users\\\\Aman\\\\Downloads\\\\AReM\\\\bending2\\\\dataset5.csv', 'C:\\\\Users\\\\Aman\\\\Downloads\\\\AReM\\\\bending2\\\\dataset6.csv', 'C:\\\\Users\\\\Aman\\\\Downloads\\\\AReM\\\\cycling\\\\dataset1.csv', 'C:\\\\Users\\\\Aman\\\\Downloads\\\\AReM\\\\cycling\\\\dataset10.csv', 'C:\\\\Users\\\\Aman\\\\Downloads\\\\AReM\\\\cycling\\\\dataset11.csv', 'C:\\\\Users\\\\Aman\\\\Downloads\\\\AReM\\\\cycling\\\\dataset12.csv', 'C:\\\\Users\\\\Aman\\\\Downloads\\\\AReM\\\\cycling\\\\dataset13.csv', 'C:\\\\Users\\\\Aman\\\\Downloads\\\\AReM\\\\cycling\\\\dataset14.csv', 'C:\\\\Users\\\\Aman\\\\Downloads\\\\AReM\\\\cycling\\\\dataset15.csv', 'C:\\\\Users\\\\Aman\\\\Downloads\\\\AReM\\\\cycling\\\\dataset2.csv', 'C:\\\\Users\\\\Aman\\\\Downloads\\\\AReM\\\\cycling\\\\dataset3.csv', 'C:\\\\Users\\\\Aman\\\\Downloads\\\\AReM\\\\cycling\\\\dataset4.csv', 'C:\\\\Users\\\\Aman\\\\Downloads\\\\AReM\\\\cycling\\\\dataset5.csv', 'C:\\\\Users\\\\Aman\\\\Downloads\\\\AReM\\\\cycling\\\\dataset6.csv', 'C:\\\\Users\\\\Aman\\\\Downloads\\\\AReM\\\\cycling\\\\dataset7.csv', 'C:\\\\Users\\\\Aman\\\\Downloads\\\\AReM\\\\cycling\\\\dataset8.csv', 'C:\\\\Users\\\\Aman\\\\Downloads\\\\AReM\\\\cycling\\\\dataset9.csv', 'C:\\\\Users\\\\Aman\\\\Downloads\\\\AReM\\\\lying\\\\dataset1.csv', 'C:\\\\Users\\\\Aman\\\\Downloads\\\\AReM\\\\lying\\\\dataset10.csv', 'C:\\\\Users\\\\Aman\\\\Downloads\\\\AReM\\\\lying\\\\dataset11.csv', 'C:\\\\Users\\\\Aman\\\\Downloads\\\\AReM\\\\lying\\\\dataset12.csv', 'C:\\\\Users\\\\Aman\\\\Downloads\\\\AReM\\\\lying\\\\dataset13.csv', 'C:\\\\Users\\\\Aman\\\\Downloads\\\\AReM\\\\lying\\\\dataset14.csv', 'C:\\\\Users\\\\Aman\\\\Downloads\\\\AReM\\\\lying\\\\dataset15.csv', 'C:\\\\Users\\\\Aman\\\\Downloads\\\\AReM\\\\lying\\\\dataset2.csv', 'C:\\\\Users\\\\Aman\\\\Downloads\\\\AReM\\\\lying\\\\dataset3.csv', 'C:\\\\Users\\\\Aman\\\\Downloads\\\\AReM\\\\lying\\\\dataset4.csv', 'C:\\\\Users\\\\Aman\\\\Downloads\\\\AReM\\\\lying\\\\dataset5.csv', 'C:\\\\Users\\\\Aman\\\\Downloads\\\\AReM\\\\lying\\\\dataset6.csv', 'C:\\\\Users\\\\Aman\\\\Downloads\\\\AReM\\\\lying\\\\dataset7.csv', 'C:\\\\Users\\\\Aman\\\\Downloads\\\\AReM\\\\lying\\\\dataset8.csv', 'C:\\\\Users\\\\Aman\\\\Downloads\\\\AReM\\\\lying\\\\dataset9.csv', 'C:\\\\Users\\\\Aman\\\\Downloads\\\\AReM\\\\sitting\\\\dataset1.csv', 'C:\\\\Users\\\\Aman\\\\Downloads\\\\AReM\\\\sitting\\\\dataset10.csv', 'C:\\\\Users\\\\Aman\\\\Downloads\\\\AReM\\\\sitting\\\\dataset11.csv', 'C:\\\\Users\\\\Aman\\\\Downloads\\\\AReM\\\\sitting\\\\dataset12.csv', 'C:\\\\Users\\\\Aman\\\\Downloads\\\\AReM\\\\sitting\\\\dataset13.csv', 'C:\\\\Users\\\\Aman\\\\Downloads\\\\AReM\\\\sitting\\\\dataset14.csv', 'C:\\\\Users\\\\Aman\\\\Downloads\\\\AReM\\\\sitting\\\\dataset15.csv', 'C:\\\\Users\\\\Aman\\\\Downloads\\\\AReM\\\\sitting\\\\dataset2.csv', 'C:\\\\Users\\\\Aman\\\\Downloads\\\\AReM\\\\sitting\\\\dataset3.csv', 'C:\\\\Users\\\\Aman\\\\Downloads\\\\AReM\\\\sitting\\\\dataset4.csv', 'C:\\\\Users\\\\Aman\\\\Downloads\\\\AReM\\\\sitting\\\\dataset5.csv', 'C:\\\\Users\\\\Aman\\\\Downloads\\\\AReM\\\\sitting\\\\dataset6.csv', 'C:\\\\Users\\\\Aman\\\\Downloads\\\\AReM\\\\sitting\\\\dataset7.csv', 'C:\\\\Users\\\\Aman\\\\Downloads\\\\AReM\\\\sitting\\\\dataset8.csv', 'C:\\\\Users\\\\Aman\\\\Downloads\\\\AReM\\\\sitting\\\\dataset9.csv', 'C:\\\\Users\\\\Aman\\\\Downloads\\\\AReM\\\\standing\\\\dataset1.csv', 'C:\\\\Users\\\\Aman\\\\Downloads\\\\AReM\\\\standing\\\\dataset10.csv', 'C:\\\\Users\\\\Aman\\\\Downloads\\\\AReM\\\\standing\\\\dataset11.csv', 'C:\\\\Users\\\\Aman\\\\Downloads\\\\AReM\\\\standing\\\\dataset12.csv', 'C:\\\\Users\\\\Aman\\\\Downloads\\\\AReM\\\\standing\\\\dataset13.csv', 'C:\\\\Users\\\\Aman\\\\Downloads\\\\AReM\\\\standing\\\\dataset14.csv', 'C:\\\\Users\\\\Aman\\\\Downloads\\\\AReM\\\\standing\\\\dataset15.csv', 'C:\\\\Users\\\\Aman\\\\Downloads\\\\AReM\\\\standing\\\\dataset2.csv', 'C:\\\\Users\\\\Aman\\\\Downloads\\\\AReM\\\\standing\\\\dataset3.csv', 'C:\\\\Users\\\\Aman\\\\Downloads\\\\AReM\\\\standing\\\\dataset4.csv', 'C:\\\\Users\\\\Aman\\\\Downloads\\\\AReM\\\\standing\\\\dataset5.csv', 'C:\\\\Users\\\\Aman\\\\Downloads\\\\AReM\\\\standing\\\\dataset6.csv', 'C:\\\\Users\\\\Aman\\\\Downloads\\\\AReM\\\\standing\\\\dataset7.csv', 'C:\\\\Users\\\\Aman\\\\Downloads\\\\AReM\\\\standing\\\\dataset8.csv', 'C:\\\\Users\\\\Aman\\\\Downloads\\\\AReM\\\\standing\\\\dataset9.csv', 'C:\\\\Users\\\\Aman\\\\Downloads\\\\AReM\\\\walking\\\\dataset1.csv', 'C:\\\\Users\\\\Aman\\\\Downloads\\\\AReM\\\\walking\\\\dataset10.csv', 'C:\\\\Users\\\\Aman\\\\Downloads\\\\AReM\\\\walking\\\\dataset11.csv', 'C:\\\\Users\\\\Aman\\\\Downloads\\\\AReM\\\\walking\\\\dataset12.csv', 'C:\\\\Users\\\\Aman\\\\Downloads\\\\AReM\\\\walking\\\\dataset13.csv', 'C:\\\\Users\\\\Aman\\\\Downloads\\\\AReM\\\\walking\\\\dataset14.csv', 'C:\\\\Users\\\\Aman\\\\Downloads\\\\AReM\\\\walking\\\\dataset15.csv', 'C:\\\\Users\\\\Aman\\\\Downloads\\\\AReM\\\\walking\\\\dataset2.csv', 'C:\\\\Users\\\\Aman\\\\Downloads\\\\AReM\\\\walking\\\\dataset3.csv', 'C:\\\\Users\\\\Aman\\\\Downloads\\\\AReM\\\\walking\\\\dataset4.csv', 'C:\\\\Users\\\\Aman\\\\Downloads\\\\AReM\\\\walking\\\\dataset5.csv', 'C:\\\\Users\\\\Aman\\\\Downloads\\\\AReM\\\\walking\\\\dataset6.csv', 'C:\\\\Users\\\\Aman\\\\Downloads\\\\AReM\\\\walking\\\\dataset7.csv', 'C:\\\\Users\\\\Aman\\\\Downloads\\\\AReM\\\\walking\\\\dataset8.csv', 'C:\\\\Users\\\\Aman\\\\Downloads\\\\AReM\\\\walking\\\\dataset9.csv']\n"
     ]
    }
   ],
   "source": [
    "from pathlib import Path\n",
    "p=Path(r\"C:\\Users\\Aman\\Downloads\\AReM\")\n",
    "folders=[f for f in p.iterdir() if f.is_dir()]\n",
    "print(folders)\n",
    "mylist=[]\n",
    "import os\n",
    "for i in folders:\n",
    "    for files in os.listdir(i):\n",
    "        if files.endswith('.csv'):\n",
    "            filenames=files\n",
    "            mylist.append(os.path.join(i, filenames))\n",
    "            mylist=sorted(mylist)\n",
    "            print(mylist)"
   ]
  },
  {
   "cell_type": "code",
   "execution_count": 140,
   "id": "efe66203",
   "metadata": {},
   "outputs": [
    {
     "name": "stdout",
     "output_type": "stream",
     "text": [
      "bending1\n",
      "bending1\n",
      "bending1\n",
      "bending1\n",
      "bending1\n",
      "bending1\n",
      "bending1\n",
      "bending2\n",
      "bending2\n",
      "bending2\n",
      "bending2\n",
      "bending2\n",
      "bending2\n",
      "cycling\n",
      "cycling\n",
      "cycling\n",
      "cycling\n",
      "cycling\n",
      "cycling\n",
      "cycling\n",
      "cycling\n",
      "cycling\n",
      "cycling\n",
      "cycling\n",
      "cycling\n",
      "cycling\n",
      "cycling\n",
      "cycling\n",
      "lying\n",
      "lying\n",
      "lying\n",
      "lying\n",
      "lying\n",
      "lying\n",
      "lying\n",
      "lying\n",
      "lying\n",
      "lying\n",
      "lying\n",
      "lying\n",
      "lying\n",
      "lying\n",
      "lying\n",
      "sitting\n",
      "sitting\n",
      "sitting\n",
      "sitting\n",
      "sitting\n",
      "sitting\n",
      "sitting\n",
      "sitting\n",
      "sitting\n",
      "sitting\n",
      "sitting\n",
      "sitting\n",
      "sitting\n",
      "sitting\n",
      "sitting\n",
      "standing\n",
      "standing\n",
      "standing\n",
      "standing\n",
      "standing\n",
      "standing\n",
      "standing\n",
      "standing\n",
      "standing\n",
      "standing\n",
      "standing\n",
      "standing\n",
      "standing\n",
      "standing\n",
      "standing\n",
      "walking\n",
      "walking\n",
      "walking\n",
      "walking\n",
      "walking\n",
      "walking\n",
      "walking\n",
      "walking\n",
      "walking\n",
      "walking\n",
      "walking\n",
      "walking\n",
      "walking\n",
      "walking\n",
      "walking\n"
     ]
    }
   ],
   "source": [
    "for i in mylist:\n",
    "    f=i.split('\\\\')\n",
    "    print(f[-2])\n",
    "    try:\n",
    "        df=pd.read_csv(i,skiprows=4,on_bad_lines='skip')\n",
    "#         print(df)\n",
    "        df['Label']=f[-2]\n",
    "    except Exception as e:\n",
    "        df=pd.read_csv(i,encoding = \"UTF-8\",skiprows=4,on_bad_lines='skip')\n",
    "        df['Label']=str(f[-2])"
   ]
  },
  {
   "cell_type": "code",
   "execution_count": 149,
   "id": "c9015d98",
   "metadata": {},
   "outputs": [
    {
     "data": {
      "text/plain": [
       "'C:\\\\Users\\\\Aman\\\\Downloads\\\\AReM\\\\bending1\\\\dataset1.csv'"
      ]
     },
     "execution_count": 149,
     "metadata": {},
     "output_type": "execute_result"
    }
   ],
   "source": [
    "location[0]"
   ]
  },
  {
   "cell_type": "code",
   "execution_count": 2,
   "id": "6d263b4b",
   "metadata": {},
   "outputs": [],
   "source": [
    "path=r\"C:\\Users\\Aman\\Downloads\\AReM\"\n",
    "folders=os.listdir(path)\n",
    "location=[]\n",
    "for i in folders:\n",
    "    new_path=f\"{path}\\\\{i}\"\n",
    "    for j in os.listdir(new_path):\n",
    "        x=f\"{new_path}\\\\{j}\"\n",
    "        location.append(x)\n",
    "        \n",
    "for i in location:\n",
    "    f=i.split('\\\\')\n",
    "#   print(f[-2])\n",
    "    df=pd.read_csv(i,skiprows=4,on_bad_lines='skip')\n",
    "#   print(df)\n",
    "    df['Label']=f[-2]\n",
    "    os.chdir(r'C:\\Users\\Aman\\Data science course\\Machine Learning\\CSV')\n",
    "    df.to_csv(f[-2]+f[-1])"
   ]
  },
  {
   "cell_type": "code",
   "execution_count": 127,
   "id": "fe419c4f",
   "metadata": {
    "scrolled": true
   },
   "outputs": [],
   "source": [
    "path=r\"C:\\Users\\Aman\\Downloads\\AReM\"\n",
    "folders=os.listdir(path)\n",
    "location=[]\n",
    "for i in folders:\n",
    "    new_path=f\"{path}\\\\{i}\"\n",
    "    for j in os.listdir(new_path):\n",
    "        x=f\"{new_path}\\\\{j}\"\n",
    "        location.append(x)\n",
    "df_all=pd.DataFrame()        \n",
    "for i in location:\n",
    "    f=i.split('\\\\')\n",
    "#   print(f[-2])\n",
    "    df=pd.read_csv(i,skiprows=4,on_bad_lines='skip')\n",
    "#   print(df)\n",
    "    df['Label']=f[-2]\n",
    "    df_all=pd.concat([df_all,df],ignore_index=True)"
   ]
  },
  {
   "cell_type": "code",
   "execution_count": 128,
   "id": "aa460f2d",
   "metadata": {},
   "outputs": [],
   "source": [
    "df_all.to_csv(\"Classification_task.csv\")"
   ]
  },
  {
   "cell_type": "code",
   "execution_count": 129,
   "id": "bc22db7e",
   "metadata": {},
   "outputs": [
    {
     "data": {
      "text/plain": [
       "# Columns: time      0\n",
       "avg_rss12          480\n",
       "var_rss12          480\n",
       "avg_rss13          480\n",
       "var_rss13          480\n",
       "avg_rss23          480\n",
       "var_rss23          480\n",
       "Label                0\n",
       "dtype: int64"
      ]
     },
     "execution_count": 129,
     "metadata": {},
     "output_type": "execute_result"
    }
   ],
   "source": [
    "df_all.isnull().sum()"
   ]
  },
  {
   "cell_type": "code",
   "execution_count": 130,
   "id": "575fd999",
   "metadata": {},
   "outputs": [],
   "source": [
    "from pandas_profiling import profile_report"
   ]
  },
  {
   "cell_type": "code",
   "execution_count": 131,
   "id": "3b170ca5",
   "metadata": {
    "scrolled": true
   },
   "outputs": [],
   "source": [
    "# pf=df_all.profile_report()\n",
    "# cf=pf.to_widgets()"
   ]
  },
  {
   "cell_type": "code",
   "execution_count": 132,
   "id": "9cafb4cd",
   "metadata": {},
   "outputs": [
    {
     "data": {
      "text/plain": [
       "# Columns: time      int64\n",
       "avg_rss12          float64\n",
       "var_rss12          float64\n",
       "avg_rss13          float64\n",
       "var_rss13          float64\n",
       "avg_rss23          float64\n",
       "var_rss23          float64\n",
       "Label               object\n",
       "dtype: object"
      ]
     },
     "execution_count": 132,
     "metadata": {},
     "output_type": "execute_result"
    }
   ],
   "source": [
    "df.dtypes"
   ]
  },
  {
   "cell_type": "code",
   "execution_count": 133,
   "id": "df2602b8",
   "metadata": {},
   "outputs": [],
   "source": [
    "def median_imputation(df):\n",
    "    columns=df_all.columns[df_all.isna().any()]\n",
    "    print(columns)\n",
    "    for i in columns:\n",
    "        df[i]=df[i].fillna(df[i].median())\n",
    "    return df"
   ]
  },
  {
   "cell_type": "code",
   "execution_count": 134,
   "id": "d3fdb7e1",
   "metadata": {},
   "outputs": [
    {
     "name": "stdout",
     "output_type": "stream",
     "text": [
      "Index(['avg_rss12', 'var_rss12', 'avg_rss13', 'var_rss13', 'avg_rss23',\n",
      "       'var_rss23'],\n",
      "      dtype='object')\n"
     ]
    }
   ],
   "source": [
    "df=median_imputation(df_all)"
   ]
  },
  {
   "cell_type": "code",
   "execution_count": 135,
   "id": "3202525e",
   "metadata": {
    "scrolled": true
   },
   "outputs": [
    {
     "data": {
      "text/plain": [
       "# Columns: time    0\n",
       "avg_rss12          0\n",
       "var_rss12          0\n",
       "avg_rss13          0\n",
       "var_rss13          0\n",
       "avg_rss23          0\n",
       "var_rss23          0\n",
       "Label              0\n",
       "dtype: int64"
      ]
     },
     "execution_count": 135,
     "metadata": {},
     "output_type": "execute_result"
    }
   ],
   "source": [
    "df.isnull().sum()"
   ]
  },
  {
   "cell_type": "code",
   "execution_count": 136,
   "id": "b3317dc5",
   "metadata": {
    "scrolled": true
   },
   "outputs": [],
   "source": [
    "# pf1=df.profile_report()\n",
    "# cf=pf1.to_widgets()"
   ]
  },
  {
   "cell_type": "code",
   "execution_count": 137,
   "id": "8433ab04",
   "metadata": {},
   "outputs": [
    {
     "data": {
      "text/plain": [
       "# Columns: time     object\n",
       "avg_rss12          float64\n",
       "var_rss12          float64\n",
       "avg_rss13          float64\n",
       "var_rss13          float64\n",
       "avg_rss23          float64\n",
       "var_rss23          float64\n",
       "Label               object\n",
       "dtype: object"
      ]
     },
     "execution_count": 137,
     "metadata": {},
     "output_type": "execute_result"
    }
   ],
   "source": [
    "df.dtypes"
   ]
  },
  {
   "cell_type": "code",
   "execution_count": 138,
   "id": "d2797a47",
   "metadata": {},
   "outputs": [],
   "source": [
    "df.rename(columns={\"# Columns: time\":\"time\"},inplace=True)"
   ]
  },
  {
   "cell_type": "code",
   "execution_count": 139,
   "id": "e3fb7d3e",
   "metadata": {},
   "outputs": [],
   "source": [
    "# data_types_dict = {'time': }\n",
    "# df = df.astype(data_types_dict)\n"
   ]
  },
  {
   "cell_type": "code",
   "execution_count": 140,
   "id": "8425b5d8",
   "metadata": {},
   "outputs": [],
   "source": [
    "df.drop(columns='time',inplace=True)"
   ]
  },
  {
   "cell_type": "code",
   "execution_count": 141,
   "id": "57f80892",
   "metadata": {},
   "outputs": [
    {
     "data": {
      "text/html": [
       "<div>\n",
       "<style scoped>\n",
       "    .dataframe tbody tr th:only-of-type {\n",
       "        vertical-align: middle;\n",
       "    }\n",
       "\n",
       "    .dataframe tbody tr th {\n",
       "        vertical-align: top;\n",
       "    }\n",
       "\n",
       "    .dataframe thead th {\n",
       "        text-align: right;\n",
       "    }\n",
       "</style>\n",
       "<table border=\"1\" class=\"dataframe\">\n",
       "  <thead>\n",
       "    <tr style=\"text-align: right;\">\n",
       "      <th></th>\n",
       "      <th>avg_rss12</th>\n",
       "      <th>var_rss12</th>\n",
       "      <th>avg_rss13</th>\n",
       "      <th>var_rss13</th>\n",
       "      <th>avg_rss23</th>\n",
       "      <th>var_rss23</th>\n",
       "      <th>Label</th>\n",
       "    </tr>\n",
       "  </thead>\n",
       "  <tbody>\n",
       "    <tr>\n",
       "      <th>0</th>\n",
       "      <td>39.25</td>\n",
       "      <td>0.43</td>\n",
       "      <td>22.75</td>\n",
       "      <td>0.43</td>\n",
       "      <td>33.75</td>\n",
       "      <td>1.30</td>\n",
       "      <td>bending1</td>\n",
       "    </tr>\n",
       "    <tr>\n",
       "      <th>1</th>\n",
       "      <td>39.25</td>\n",
       "      <td>0.43</td>\n",
       "      <td>23.00</td>\n",
       "      <td>0.00</td>\n",
       "      <td>33.00</td>\n",
       "      <td>0.00</td>\n",
       "      <td>bending1</td>\n",
       "    </tr>\n",
       "    <tr>\n",
       "      <th>2</th>\n",
       "      <td>39.25</td>\n",
       "      <td>0.43</td>\n",
       "      <td>23.25</td>\n",
       "      <td>0.43</td>\n",
       "      <td>33.00</td>\n",
       "      <td>0.00</td>\n",
       "      <td>bending1</td>\n",
       "    </tr>\n",
       "    <tr>\n",
       "      <th>3</th>\n",
       "      <td>39.50</td>\n",
       "      <td>0.50</td>\n",
       "      <td>23.00</td>\n",
       "      <td>0.71</td>\n",
       "      <td>33.00</td>\n",
       "      <td>0.00</td>\n",
       "      <td>bending1</td>\n",
       "    </tr>\n",
       "    <tr>\n",
       "      <th>4</th>\n",
       "      <td>39.50</td>\n",
       "      <td>0.50</td>\n",
       "      <td>24.00</td>\n",
       "      <td>0.00</td>\n",
       "      <td>33.00</td>\n",
       "      <td>0.00</td>\n",
       "      <td>bending1</td>\n",
       "    </tr>\n",
       "    <tr>\n",
       "      <th>...</th>\n",
       "      <td>...</td>\n",
       "      <td>...</td>\n",
       "      <td>...</td>\n",
       "      <td>...</td>\n",
       "      <td>...</td>\n",
       "      <td>...</td>\n",
       "      <td>...</td>\n",
       "    </tr>\n",
       "    <tr>\n",
       "      <th>42232</th>\n",
       "      <td>31.50</td>\n",
       "      <td>1.66</td>\n",
       "      <td>12.50</td>\n",
       "      <td>3.20</td>\n",
       "      <td>14.25</td>\n",
       "      <td>4.44</td>\n",
       "      <td>walking</td>\n",
       "    </tr>\n",
       "    <tr>\n",
       "      <th>42233</th>\n",
       "      <td>27.33</td>\n",
       "      <td>1.25</td>\n",
       "      <td>11.33</td>\n",
       "      <td>0.94</td>\n",
       "      <td>20.00</td>\n",
       "      <td>4.00</td>\n",
       "      <td>walking</td>\n",
       "    </tr>\n",
       "    <tr>\n",
       "      <th>42234</th>\n",
       "      <td>37.80</td>\n",
       "      <td>7.68</td>\n",
       "      <td>14.20</td>\n",
       "      <td>2.48</td>\n",
       "      <td>17.25</td>\n",
       "      <td>0.83</td>\n",
       "      <td>walking</td>\n",
       "    </tr>\n",
       "    <tr>\n",
       "      <th>42235</th>\n",
       "      <td>33.75</td>\n",
       "      <td>1.30</td>\n",
       "      <td>15.75</td>\n",
       "      <td>5.21</td>\n",
       "      <td>16.50</td>\n",
       "      <td>2.69</td>\n",
       "      <td>walking</td>\n",
       "    </tr>\n",
       "    <tr>\n",
       "      <th>42236</th>\n",
       "      <td>32.67</td>\n",
       "      <td>3.09</td>\n",
       "      <td>18.67</td>\n",
       "      <td>0.47</td>\n",
       "      <td>14.00</td>\n",
       "      <td>3.16</td>\n",
       "      <td>walking</td>\n",
       "    </tr>\n",
       "  </tbody>\n",
       "</table>\n",
       "<p>42237 rows × 7 columns</p>\n",
       "</div>"
      ],
      "text/plain": [
       "       avg_rss12  var_rss12  avg_rss13  var_rss13  avg_rss23  var_rss23  \\\n",
       "0          39.25       0.43      22.75       0.43      33.75       1.30   \n",
       "1          39.25       0.43      23.00       0.00      33.00       0.00   \n",
       "2          39.25       0.43      23.25       0.43      33.00       0.00   \n",
       "3          39.50       0.50      23.00       0.71      33.00       0.00   \n",
       "4          39.50       0.50      24.00       0.00      33.00       0.00   \n",
       "...          ...        ...        ...        ...        ...        ...   \n",
       "42232      31.50       1.66      12.50       3.20      14.25       4.44   \n",
       "42233      27.33       1.25      11.33       0.94      20.00       4.00   \n",
       "42234      37.80       7.68      14.20       2.48      17.25       0.83   \n",
       "42235      33.75       1.30      15.75       5.21      16.50       2.69   \n",
       "42236      32.67       3.09      18.67       0.47      14.00       3.16   \n",
       "\n",
       "          Label  \n",
       "0      bending1  \n",
       "1      bending1  \n",
       "2      bending1  \n",
       "3      bending1  \n",
       "4      bending1  \n",
       "...         ...  \n",
       "42232   walking  \n",
       "42233   walking  \n",
       "42234   walking  \n",
       "42235   walking  \n",
       "42236   walking  \n",
       "\n",
       "[42237 rows x 7 columns]"
      ]
     },
     "execution_count": 141,
     "metadata": {},
     "output_type": "execute_result"
    }
   ],
   "source": [
    "df"
   ]
  },
  {
   "cell_type": "code",
   "execution_count": 142,
   "id": "3947c08c",
   "metadata": {},
   "outputs": [],
   "source": [
    "# pf1=df.profile_report()\n",
    "# cf=pf1.to_widgets()"
   ]
  },
  {
   "cell_type": "code",
   "execution_count": 143,
   "id": "26b2b7ef",
   "metadata": {},
   "outputs": [
    {
     "data": {
      "text/html": [
       "<div>\n",
       "<style scoped>\n",
       "    .dataframe tbody tr th:only-of-type {\n",
       "        vertical-align: middle;\n",
       "    }\n",
       "\n",
       "    .dataframe tbody tr th {\n",
       "        vertical-align: top;\n",
       "    }\n",
       "\n",
       "    .dataframe thead th {\n",
       "        text-align: right;\n",
       "    }\n",
       "</style>\n",
       "<table border=\"1\" class=\"dataframe\">\n",
       "  <thead>\n",
       "    <tr style=\"text-align: right;\">\n",
       "      <th></th>\n",
       "      <th>avg_rss12</th>\n",
       "      <th>var_rss12</th>\n",
       "      <th>avg_rss13</th>\n",
       "      <th>var_rss13</th>\n",
       "      <th>avg_rss23</th>\n",
       "      <th>var_rss23</th>\n",
       "      <th>Label</th>\n",
       "    </tr>\n",
       "  </thead>\n",
       "  <tbody>\n",
       "    <tr>\n",
       "      <th>0</th>\n",
       "      <td>39.25</td>\n",
       "      <td>0.43</td>\n",
       "      <td>22.75</td>\n",
       "      <td>0.43</td>\n",
       "      <td>33.75</td>\n",
       "      <td>1.30</td>\n",
       "      <td>bending1</td>\n",
       "    </tr>\n",
       "    <tr>\n",
       "      <th>1</th>\n",
       "      <td>39.25</td>\n",
       "      <td>0.43</td>\n",
       "      <td>23.00</td>\n",
       "      <td>0.00</td>\n",
       "      <td>33.00</td>\n",
       "      <td>0.00</td>\n",
       "      <td>bending1</td>\n",
       "    </tr>\n",
       "    <tr>\n",
       "      <th>2</th>\n",
       "      <td>39.25</td>\n",
       "      <td>0.43</td>\n",
       "      <td>23.25</td>\n",
       "      <td>0.43</td>\n",
       "      <td>33.00</td>\n",
       "      <td>0.00</td>\n",
       "      <td>bending1</td>\n",
       "    </tr>\n",
       "    <tr>\n",
       "      <th>3</th>\n",
       "      <td>39.50</td>\n",
       "      <td>0.50</td>\n",
       "      <td>23.00</td>\n",
       "      <td>0.71</td>\n",
       "      <td>33.00</td>\n",
       "      <td>0.00</td>\n",
       "      <td>bending1</td>\n",
       "    </tr>\n",
       "    <tr>\n",
       "      <th>4</th>\n",
       "      <td>39.50</td>\n",
       "      <td>0.50</td>\n",
       "      <td>24.00</td>\n",
       "      <td>0.00</td>\n",
       "      <td>33.00</td>\n",
       "      <td>0.00</td>\n",
       "      <td>bending1</td>\n",
       "    </tr>\n",
       "    <tr>\n",
       "      <th>...</th>\n",
       "      <td>...</td>\n",
       "      <td>...</td>\n",
       "      <td>...</td>\n",
       "      <td>...</td>\n",
       "      <td>...</td>\n",
       "      <td>...</td>\n",
       "      <td>...</td>\n",
       "    </tr>\n",
       "    <tr>\n",
       "      <th>42232</th>\n",
       "      <td>31.50</td>\n",
       "      <td>1.66</td>\n",
       "      <td>12.50</td>\n",
       "      <td>3.20</td>\n",
       "      <td>14.25</td>\n",
       "      <td>4.44</td>\n",
       "      <td>walking</td>\n",
       "    </tr>\n",
       "    <tr>\n",
       "      <th>42233</th>\n",
       "      <td>27.33</td>\n",
       "      <td>1.25</td>\n",
       "      <td>11.33</td>\n",
       "      <td>0.94</td>\n",
       "      <td>20.00</td>\n",
       "      <td>4.00</td>\n",
       "      <td>walking</td>\n",
       "    </tr>\n",
       "    <tr>\n",
       "      <th>42234</th>\n",
       "      <td>37.80</td>\n",
       "      <td>7.68</td>\n",
       "      <td>14.20</td>\n",
       "      <td>2.48</td>\n",
       "      <td>17.25</td>\n",
       "      <td>0.83</td>\n",
       "      <td>walking</td>\n",
       "    </tr>\n",
       "    <tr>\n",
       "      <th>42235</th>\n",
       "      <td>33.75</td>\n",
       "      <td>1.30</td>\n",
       "      <td>15.75</td>\n",
       "      <td>5.21</td>\n",
       "      <td>16.50</td>\n",
       "      <td>2.69</td>\n",
       "      <td>walking</td>\n",
       "    </tr>\n",
       "    <tr>\n",
       "      <th>42236</th>\n",
       "      <td>32.67</td>\n",
       "      <td>3.09</td>\n",
       "      <td>18.67</td>\n",
       "      <td>0.47</td>\n",
       "      <td>14.00</td>\n",
       "      <td>3.16</td>\n",
       "      <td>walking</td>\n",
       "    </tr>\n",
       "  </tbody>\n",
       "</table>\n",
       "<p>36615 rows × 7 columns</p>\n",
       "</div>"
      ],
      "text/plain": [
       "       avg_rss12  var_rss12  avg_rss13  var_rss13  avg_rss23  var_rss23  \\\n",
       "0          39.25       0.43      22.75       0.43      33.75       1.30   \n",
       "1          39.25       0.43      23.00       0.00      33.00       0.00   \n",
       "2          39.25       0.43      23.25       0.43      33.00       0.00   \n",
       "3          39.50       0.50      23.00       0.71      33.00       0.00   \n",
       "4          39.50       0.50      24.00       0.00      33.00       0.00   \n",
       "...          ...        ...        ...        ...        ...        ...   \n",
       "42232      31.50       1.66      12.50       3.20      14.25       4.44   \n",
       "42233      27.33       1.25      11.33       0.94      20.00       4.00   \n",
       "42234      37.80       7.68      14.20       2.48      17.25       0.83   \n",
       "42235      33.75       1.30      15.75       5.21      16.50       2.69   \n",
       "42236      32.67       3.09      18.67       0.47      14.00       3.16   \n",
       "\n",
       "          Label  \n",
       "0      bending1  \n",
       "1      bending1  \n",
       "2      bending1  \n",
       "3      bending1  \n",
       "4      bending1  \n",
       "...         ...  \n",
       "42232   walking  \n",
       "42233   walking  \n",
       "42234   walking  \n",
       "42235   walking  \n",
       "42236   walking  \n",
       "\n",
       "[36615 rows x 7 columns]"
      ]
     },
     "execution_count": 143,
     "metadata": {},
     "output_type": "execute_result"
    }
   ],
   "source": [
    "df.drop_duplicates()"
   ]
  },
  {
   "cell_type": "code",
   "execution_count": 144,
   "id": "918dbba9",
   "metadata": {},
   "outputs": [
    {
     "data": {
      "text/html": [
       "<div>\n",
       "<style scoped>\n",
       "    .dataframe tbody tr th:only-of-type {\n",
       "        vertical-align: middle;\n",
       "    }\n",
       "\n",
       "    .dataframe tbody tr th {\n",
       "        vertical-align: top;\n",
       "    }\n",
       "\n",
       "    .dataframe thead th {\n",
       "        text-align: right;\n",
       "    }\n",
       "</style>\n",
       "<table border=\"1\" class=\"dataframe\">\n",
       "  <thead>\n",
       "    <tr style=\"text-align: right;\">\n",
       "      <th></th>\n",
       "      <th>avg_rss12</th>\n",
       "      <th>var_rss12</th>\n",
       "      <th>avg_rss13</th>\n",
       "      <th>var_rss13</th>\n",
       "      <th>avg_rss23</th>\n",
       "      <th>var_rss23</th>\n",
       "      <th>Label</th>\n",
       "    </tr>\n",
       "  </thead>\n",
       "  <tbody>\n",
       "    <tr>\n",
       "      <th>0</th>\n",
       "      <td>39.25</td>\n",
       "      <td>0.43</td>\n",
       "      <td>22.75</td>\n",
       "      <td>0.43</td>\n",
       "      <td>33.75</td>\n",
       "      <td>1.30</td>\n",
       "      <td>bending1</td>\n",
       "    </tr>\n",
       "    <tr>\n",
       "      <th>1</th>\n",
       "      <td>39.25</td>\n",
       "      <td>0.43</td>\n",
       "      <td>23.00</td>\n",
       "      <td>0.00</td>\n",
       "      <td>33.00</td>\n",
       "      <td>0.00</td>\n",
       "      <td>bending1</td>\n",
       "    </tr>\n",
       "    <tr>\n",
       "      <th>2</th>\n",
       "      <td>39.25</td>\n",
       "      <td>0.43</td>\n",
       "      <td>23.25</td>\n",
       "      <td>0.43</td>\n",
       "      <td>33.00</td>\n",
       "      <td>0.00</td>\n",
       "      <td>bending1</td>\n",
       "    </tr>\n",
       "    <tr>\n",
       "      <th>3</th>\n",
       "      <td>39.50</td>\n",
       "      <td>0.50</td>\n",
       "      <td>23.00</td>\n",
       "      <td>0.71</td>\n",
       "      <td>33.00</td>\n",
       "      <td>0.00</td>\n",
       "      <td>bending1</td>\n",
       "    </tr>\n",
       "    <tr>\n",
       "      <th>4</th>\n",
       "      <td>39.50</td>\n",
       "      <td>0.50</td>\n",
       "      <td>24.00</td>\n",
       "      <td>0.00</td>\n",
       "      <td>33.00</td>\n",
       "      <td>0.00</td>\n",
       "      <td>bending1</td>\n",
       "    </tr>\n",
       "    <tr>\n",
       "      <th>...</th>\n",
       "      <td>...</td>\n",
       "      <td>...</td>\n",
       "      <td>...</td>\n",
       "      <td>...</td>\n",
       "      <td>...</td>\n",
       "      <td>...</td>\n",
       "      <td>...</td>\n",
       "    </tr>\n",
       "    <tr>\n",
       "      <th>42232</th>\n",
       "      <td>31.50</td>\n",
       "      <td>1.66</td>\n",
       "      <td>12.50</td>\n",
       "      <td>3.20</td>\n",
       "      <td>14.25</td>\n",
       "      <td>4.44</td>\n",
       "      <td>walking</td>\n",
       "    </tr>\n",
       "    <tr>\n",
       "      <th>42233</th>\n",
       "      <td>27.33</td>\n",
       "      <td>1.25</td>\n",
       "      <td>11.33</td>\n",
       "      <td>0.94</td>\n",
       "      <td>20.00</td>\n",
       "      <td>4.00</td>\n",
       "      <td>walking</td>\n",
       "    </tr>\n",
       "    <tr>\n",
       "      <th>42234</th>\n",
       "      <td>37.80</td>\n",
       "      <td>7.68</td>\n",
       "      <td>14.20</td>\n",
       "      <td>2.48</td>\n",
       "      <td>17.25</td>\n",
       "      <td>0.83</td>\n",
       "      <td>walking</td>\n",
       "    </tr>\n",
       "    <tr>\n",
       "      <th>42235</th>\n",
       "      <td>33.75</td>\n",
       "      <td>1.30</td>\n",
       "      <td>15.75</td>\n",
       "      <td>5.21</td>\n",
       "      <td>16.50</td>\n",
       "      <td>2.69</td>\n",
       "      <td>walking</td>\n",
       "    </tr>\n",
       "    <tr>\n",
       "      <th>42236</th>\n",
       "      <td>32.67</td>\n",
       "      <td>3.09</td>\n",
       "      <td>18.67</td>\n",
       "      <td>0.47</td>\n",
       "      <td>14.00</td>\n",
       "      <td>3.16</td>\n",
       "      <td>walking</td>\n",
       "    </tr>\n",
       "  </tbody>\n",
       "</table>\n",
       "<p>42237 rows × 7 columns</p>\n",
       "</div>"
      ],
      "text/plain": [
       "       avg_rss12  var_rss12  avg_rss13  var_rss13  avg_rss23  var_rss23  \\\n",
       "0          39.25       0.43      22.75       0.43      33.75       1.30   \n",
       "1          39.25       0.43      23.00       0.00      33.00       0.00   \n",
       "2          39.25       0.43      23.25       0.43      33.00       0.00   \n",
       "3          39.50       0.50      23.00       0.71      33.00       0.00   \n",
       "4          39.50       0.50      24.00       0.00      33.00       0.00   \n",
       "...          ...        ...        ...        ...        ...        ...   \n",
       "42232      31.50       1.66      12.50       3.20      14.25       4.44   \n",
       "42233      27.33       1.25      11.33       0.94      20.00       4.00   \n",
       "42234      37.80       7.68      14.20       2.48      17.25       0.83   \n",
       "42235      33.75       1.30      15.75       5.21      16.50       2.69   \n",
       "42236      32.67       3.09      18.67       0.47      14.00       3.16   \n",
       "\n",
       "          Label  \n",
       "0      bending1  \n",
       "1      bending1  \n",
       "2      bending1  \n",
       "3      bending1  \n",
       "4      bending1  \n",
       "...         ...  \n",
       "42232   walking  \n",
       "42233   walking  \n",
       "42234   walking  \n",
       "42235   walking  \n",
       "42236   walking  \n",
       "\n",
       "[42237 rows x 7 columns]"
      ]
     },
     "execution_count": 144,
     "metadata": {},
     "output_type": "execute_result"
    }
   ],
   "source": [
    "df"
   ]
  },
  {
   "cell_type": "code",
   "execution_count": 145,
   "id": "e14b5727",
   "metadata": {},
   "outputs": [
    {
     "data": {
      "text/plain": [
       "array(['bending1', 'bending2', 'cycling', 'lying', 'sitting', 'standing',\n",
       "       'walking'], dtype=object)"
      ]
     },
     "execution_count": 145,
     "metadata": {},
     "output_type": "execute_result"
    }
   ],
   "source": [
    "df['Label'].unique()"
   ]
  },
  {
   "cell_type": "code",
   "execution_count": null,
   "id": "d368fbc8",
   "metadata": {},
   "outputs": [],
   "source": []
  },
  {
   "cell_type": "code",
   "execution_count": 146,
   "id": "f13cb650",
   "metadata": {},
   "outputs": [],
   "source": [
    "dt={'bending1':1, 'bending2':0, 'cycling':0, 'lying':0, 'sitting':0, 'standing':0,\n",
    "       'walking':0}"
   ]
  },
  {
   "cell_type": "code",
   "execution_count": 147,
   "id": "00edf767",
   "metadata": {},
   "outputs": [],
   "source": [
    "df['Label']=df.Label.map(dt)"
   ]
  },
  {
   "cell_type": "code",
   "execution_count": 148,
   "id": "89cd5315",
   "metadata": {},
   "outputs": [
    {
     "data": {
      "text/html": [
       "<div>\n",
       "<style scoped>\n",
       "    .dataframe tbody tr th:only-of-type {\n",
       "        vertical-align: middle;\n",
       "    }\n",
       "\n",
       "    .dataframe tbody tr th {\n",
       "        vertical-align: top;\n",
       "    }\n",
       "\n",
       "    .dataframe thead th {\n",
       "        text-align: right;\n",
       "    }\n",
       "</style>\n",
       "<table border=\"1\" class=\"dataframe\">\n",
       "  <thead>\n",
       "    <tr style=\"text-align: right;\">\n",
       "      <th></th>\n",
       "      <th>avg_rss12</th>\n",
       "      <th>var_rss12</th>\n",
       "      <th>avg_rss13</th>\n",
       "      <th>var_rss13</th>\n",
       "      <th>avg_rss23</th>\n",
       "      <th>var_rss23</th>\n",
       "      <th>Label</th>\n",
       "    </tr>\n",
       "  </thead>\n",
       "  <tbody>\n",
       "    <tr>\n",
       "      <th>0</th>\n",
       "      <td>39.25</td>\n",
       "      <td>0.43</td>\n",
       "      <td>22.75</td>\n",
       "      <td>0.43</td>\n",
       "      <td>33.75</td>\n",
       "      <td>1.30</td>\n",
       "      <td>1</td>\n",
       "    </tr>\n",
       "    <tr>\n",
       "      <th>1</th>\n",
       "      <td>39.25</td>\n",
       "      <td>0.43</td>\n",
       "      <td>23.00</td>\n",
       "      <td>0.00</td>\n",
       "      <td>33.00</td>\n",
       "      <td>0.00</td>\n",
       "      <td>1</td>\n",
       "    </tr>\n",
       "    <tr>\n",
       "      <th>2</th>\n",
       "      <td>39.25</td>\n",
       "      <td>0.43</td>\n",
       "      <td>23.25</td>\n",
       "      <td>0.43</td>\n",
       "      <td>33.00</td>\n",
       "      <td>0.00</td>\n",
       "      <td>1</td>\n",
       "    </tr>\n",
       "    <tr>\n",
       "      <th>3</th>\n",
       "      <td>39.50</td>\n",
       "      <td>0.50</td>\n",
       "      <td>23.00</td>\n",
       "      <td>0.71</td>\n",
       "      <td>33.00</td>\n",
       "      <td>0.00</td>\n",
       "      <td>1</td>\n",
       "    </tr>\n",
       "    <tr>\n",
       "      <th>4</th>\n",
       "      <td>39.50</td>\n",
       "      <td>0.50</td>\n",
       "      <td>24.00</td>\n",
       "      <td>0.00</td>\n",
       "      <td>33.00</td>\n",
       "      <td>0.00</td>\n",
       "      <td>1</td>\n",
       "    </tr>\n",
       "    <tr>\n",
       "      <th>...</th>\n",
       "      <td>...</td>\n",
       "      <td>...</td>\n",
       "      <td>...</td>\n",
       "      <td>...</td>\n",
       "      <td>...</td>\n",
       "      <td>...</td>\n",
       "      <td>...</td>\n",
       "    </tr>\n",
       "    <tr>\n",
       "      <th>42232</th>\n",
       "      <td>31.50</td>\n",
       "      <td>1.66</td>\n",
       "      <td>12.50</td>\n",
       "      <td>3.20</td>\n",
       "      <td>14.25</td>\n",
       "      <td>4.44</td>\n",
       "      <td>0</td>\n",
       "    </tr>\n",
       "    <tr>\n",
       "      <th>42233</th>\n",
       "      <td>27.33</td>\n",
       "      <td>1.25</td>\n",
       "      <td>11.33</td>\n",
       "      <td>0.94</td>\n",
       "      <td>20.00</td>\n",
       "      <td>4.00</td>\n",
       "      <td>0</td>\n",
       "    </tr>\n",
       "    <tr>\n",
       "      <th>42234</th>\n",
       "      <td>37.80</td>\n",
       "      <td>7.68</td>\n",
       "      <td>14.20</td>\n",
       "      <td>2.48</td>\n",
       "      <td>17.25</td>\n",
       "      <td>0.83</td>\n",
       "      <td>0</td>\n",
       "    </tr>\n",
       "    <tr>\n",
       "      <th>42235</th>\n",
       "      <td>33.75</td>\n",
       "      <td>1.30</td>\n",
       "      <td>15.75</td>\n",
       "      <td>5.21</td>\n",
       "      <td>16.50</td>\n",
       "      <td>2.69</td>\n",
       "      <td>0</td>\n",
       "    </tr>\n",
       "    <tr>\n",
       "      <th>42236</th>\n",
       "      <td>32.67</td>\n",
       "      <td>3.09</td>\n",
       "      <td>18.67</td>\n",
       "      <td>0.47</td>\n",
       "      <td>14.00</td>\n",
       "      <td>3.16</td>\n",
       "      <td>0</td>\n",
       "    </tr>\n",
       "  </tbody>\n",
       "</table>\n",
       "<p>42237 rows × 7 columns</p>\n",
       "</div>"
      ],
      "text/plain": [
       "       avg_rss12  var_rss12  avg_rss13  var_rss13  avg_rss23  var_rss23  Label\n",
       "0          39.25       0.43      22.75       0.43      33.75       1.30      1\n",
       "1          39.25       0.43      23.00       0.00      33.00       0.00      1\n",
       "2          39.25       0.43      23.25       0.43      33.00       0.00      1\n",
       "3          39.50       0.50      23.00       0.71      33.00       0.00      1\n",
       "4          39.50       0.50      24.00       0.00      33.00       0.00      1\n",
       "...          ...        ...        ...        ...        ...        ...    ...\n",
       "42232      31.50       1.66      12.50       3.20      14.25       4.44      0\n",
       "42233      27.33       1.25      11.33       0.94      20.00       4.00      0\n",
       "42234      37.80       7.68      14.20       2.48      17.25       0.83      0\n",
       "42235      33.75       1.30      15.75       5.21      16.50       2.69      0\n",
       "42236      32.67       3.09      18.67       0.47      14.00       3.16      0\n",
       "\n",
       "[42237 rows x 7 columns]"
      ]
     },
     "execution_count": 148,
     "metadata": {},
     "output_type": "execute_result"
    }
   ],
   "source": [
    "df"
   ]
  },
  {
   "cell_type": "code",
   "execution_count": 149,
   "id": "194ad2c5",
   "metadata": {
    "scrolled": true
   },
   "outputs": [
    {
     "data": {
      "text/plain": [
       "<AxesSubplot:>"
      ]
     },
     "execution_count": 149,
     "metadata": {},
     "output_type": "execute_result"
    },
    {
     "data": {
      "image/png": "[encoded data removed]",
      "text/plain": [
       "<Figure size 1440x1440 with 1 Axes>"
      ]
     },
     "metadata": {
      "needs_background": "light"
     },
     "output_type": "display_data"
    }
   ],
   "source": [
    "import matplotlib.pyplot as plt\n",
    "import seaborn as sns\n",
    "fig, ax=plt.subplots(figsize=(20,20))\n",
    "sns.boxplot(data=df,ax=ax)"
   ]
  },
  {
   "cell_type": "code",
   "execution_count": 2,
   "id": "746fc9fc",
   "metadata": {},
   "outputs": [],
   "source": [
    "import numpy as np\n",
    "import pandas as pd\n",
    "df=pd.read_csv(\"https://raw.githubusercontent.com/Vaibhav-Mehta-19/linear-regression-weather-dataset/master/weather.csv\")"
   ]
  },
  {
   "cell_type": "code",
   "execution_count": 3,
   "id": "a816540e",
   "metadata": {},
   "outputs": [],
   "source": [
    "def outliers_imputation_mild(df,column):\n",
    "    IQR=df[column].quantile(0.75)-df[column].quantile(0.25)\n",
    "    lower_fence=df[column].quantile(0.25)-(IQR*1.5)\n",
    "    upper_fence=df[column].quantile(0.75)+(IQR*1.5)\n",
    "    print(\"IQR:\",IQR)\n",
    "    print(f\"Lower Fence {column}:\",lower_fence)\n",
    "    print(f\"Upper Fence {column}:\",upper_fence)\n",
    "    print(\"____________________________________________\")    \n",
    "\n",
    "def outliers_imputation_extreme(df,column):\n",
    "    IQR=df[column].quantile(0.75)-df[column].quantile(0.25)\n",
    "    lower_fence=df[column].quantile(0.25)-(IQR*3)\n",
    "    upper_fence=df[column].quantile(0.75)+(IQR*3)\n",
    "    print(\"IQR:\",IQR)\n",
    "    print(f\"Lower Fence for {column}:\",lower_fence)\n",
    "    print(f\"Upper Fence {column}:\",upper_fence)\n",
    "    print(\"____________________________________________\")"
   ]
  },
  {
   "cell_type": "code",
   "execution_count": null,
   "id": "bded933e",
   "metadata": {},
   "outputs": [],
   "source": [
    "def outliers_imputation_mild(df,column):\n",
    "    IQR=df[column].quantile(0.75)-df[column].quantile(0.25)\n",
    "    lower_fence=df[column].quantile(0.25)-(IQR*1.5)\n",
    "    upper_fence=df[column].quantile(0.75)+(IQR*1.5)\n",
    "    print(\"IQR:\",IQR)\n",
    "    print(f\"Lower Fence {column}:\",lower_fence)\n",
    "    print(f\"Upper Fence {column}:\",upper_fence)\n",
    "    print(\"____________________________________________\")\n",
    "    df.loc[df[column]<=lower_fence,column]=lower_fence\n",
    "    df.loc[df[column]>=upper_fence,column]=upper_fence    "
   ]
  },
  {
   "cell_type": "code",
   "execution_count": 4,
   "id": "1b8fd468",
   "metadata": {},
   "outputs": [
    {
     "data": {
      "text/plain": [
       "Index(['MinTemp', 'MaxTemp', 'Rainfall', 'Evaporation', 'Sunshine',\n",
       "       'WindGustDir', 'WindGustSpeed', 'WindDir9am', 'WindDir3pm',\n",
       "       'WindSpeed9am', 'WindSpeed3pm', 'Humidity9am', 'Humidity3pm',\n",
       "       'Pressure9am', 'Pressure3pm', 'Cloud9am', 'Cloud3pm', 'Temp9am',\n",
       "       'Temp3pm', 'RainToday', 'RISK_MM', 'RainTomorrow'],\n",
       "      dtype='object')"
      ]
     },
     "execution_count": 4,
     "metadata": {},
     "output_type": "execute_result"
    }
   ],
   "source": [
    "df.columns"
   ]
  },
  {
   "cell_type": "code",
   "execution_count": 5,
   "id": "a57dbe73",
   "metadata": {},
   "outputs": [
    {
     "name": "stdout",
     "output_type": "stream",
     "text": [
      "IQR: 10.2\n",
      "Lower Fence MinTemp: -13.0\n",
      "Upper Fence MinTemp: 27.799999999999997\n",
      "____________________________________________\n",
      "IQR: 10.475\n",
      "Lower Fence MaxTemp: -0.6874999999999982\n",
      "Upper Fence MaxTemp: 41.2125\n",
      "____________________________________________\n",
      "IQR: 0.2\n",
      "Lower Fence Rainfall: -0.30000000000000004\n",
      "Upper Fence Rainfall: 0.5\n",
      "____________________________________________\n",
      "IQR: 4.2\n",
      "Lower Fence Evaporation: -4.1000000000000005\n",
      "Upper Fence Evaporation: 12.700000000000001\n",
      "____________________________________________\n",
      "IQR: 4.55\n",
      "Lower Fence Sunshine: -0.8749999999999991\n",
      "Upper Fence Sunshine: 17.325\n",
      "____________________________________________\n"
     ]
    },
    {
     "ename": "TypeError",
     "evalue": "unsupported operand type(s) for -: 'str' and 'str'",
     "output_type": "error",
     "traceback": [
      "\u001b[1;31m---------------------------------------------------------------------------\u001b[0m",
      "\u001b[1;31mTypeError\u001b[0m                                 Traceback (most recent call last)",
      "Input \u001b[1;32mIn [5]\u001b[0m, in \u001b[0;36m<cell line: 1>\u001b[1;34m()\u001b[0m\n\u001b[0;32m      1\u001b[0m \u001b[38;5;28;01mfor\u001b[39;00m i \u001b[38;5;129;01min\u001b[39;00m df\u001b[38;5;241m.\u001b[39mcolumns:\n\u001b[1;32m----> 2\u001b[0m     \u001b[43moutliers_imputation_mild\u001b[49m\u001b[43m(\u001b[49m\u001b[43mdf\u001b[49m\u001b[43m,\u001b[49m\u001b[43mi\u001b[49m\u001b[43m)\u001b[49m\n",
      "Input \u001b[1;32mIn [3]\u001b[0m, in \u001b[0;36moutliers_imputation_mild\u001b[1;34m(df, column)\u001b[0m\n\u001b[0;32m      1\u001b[0m \u001b[38;5;28;01mdef\u001b[39;00m \u001b[38;5;21moutliers_imputation_mild\u001b[39m(df,column):\n\u001b[1;32m----> 2\u001b[0m     IQR\u001b[38;5;241m=\u001b[39m\u001b[43mdf\u001b[49m\u001b[43m[\u001b[49m\u001b[43mcolumn\u001b[49m\u001b[43m]\u001b[49m\u001b[38;5;241;43m.\u001b[39;49m\u001b[43mquantile\u001b[49m\u001b[43m(\u001b[49m\u001b[38;5;241;43m0.75\u001b[39;49m\u001b[43m)\u001b[49m\u001b[38;5;241m-\u001b[39mdf[column]\u001b[38;5;241m.\u001b[39mquantile(\u001b[38;5;241m0.25\u001b[39m)\n\u001b[0;32m      3\u001b[0m     lower_fence\u001b[38;5;241m=\u001b[39mdf[column]\u001b[38;5;241m.\u001b[39mquantile(\u001b[38;5;241m0.25\u001b[39m)\u001b[38;5;241m-\u001b[39m(IQR\u001b[38;5;241m*\u001b[39m\u001b[38;5;241m1.5\u001b[39m)\n\u001b[0;32m      4\u001b[0m     upper_fence\u001b[38;5;241m=\u001b[39mdf[column]\u001b[38;5;241m.\u001b[39mquantile(\u001b[38;5;241m0.75\u001b[39m)\u001b[38;5;241m+\u001b[39m(IQR\u001b[38;5;241m*\u001b[39m\u001b[38;5;241m1.5\u001b[39m)\n",
      "File \u001b[1;32m~\\anaconda3\\lib\\site-packages\\pandas\\core\\series.py:2497\u001b[0m, in \u001b[0;36mSeries.quantile\u001b[1;34m(self, q, interpolation)\u001b[0m\n\u001b[0;32m   2493\u001b[0m \u001b[38;5;66;03m# We dispatch to DataFrame so that core.internals only has to worry\u001b[39;00m\n\u001b[0;32m   2494\u001b[0m \u001b[38;5;66;03m#  about 2D cases.\u001b[39;00m\n\u001b[0;32m   2495\u001b[0m df \u001b[38;5;241m=\u001b[39m \u001b[38;5;28mself\u001b[39m\u001b[38;5;241m.\u001b[39mto_frame()\n\u001b[1;32m-> 2497\u001b[0m result \u001b[38;5;241m=\u001b[39m \u001b[43mdf\u001b[49m\u001b[38;5;241;43m.\u001b[39;49m\u001b[43mquantile\u001b[49m\u001b[43m(\u001b[49m\u001b[43mq\u001b[49m\u001b[38;5;241;43m=\u001b[39;49m\u001b[43mq\u001b[49m\u001b[43m,\u001b[49m\u001b[43m \u001b[49m\u001b[43minterpolation\u001b[49m\u001b[38;5;241;43m=\u001b[39;49m\u001b[43minterpolation\u001b[49m\u001b[43m,\u001b[49m\u001b[43m \u001b[49m\u001b[43mnumeric_only\u001b[49m\u001b[38;5;241;43m=\u001b[39;49m\u001b[38;5;28;43;01mFalse\u001b[39;49;00m\u001b[43m)\u001b[49m\n\u001b[0;32m   2498\u001b[0m \u001b[38;5;28;01mif\u001b[39;00m result\u001b[38;5;241m.\u001b[39mndim \u001b[38;5;241m==\u001b[39m \u001b[38;5;241m2\u001b[39m:\n\u001b[0;32m   2499\u001b[0m     result \u001b[38;5;241m=\u001b[39m result\u001b[38;5;241m.\u001b[39miloc[:, \u001b[38;5;241m0\u001b[39m]\n",
      "File \u001b[1;32m~\\anaconda3\\lib\\site-packages\\pandas\\core\\frame.py:10484\u001b[0m, in \u001b[0;36mDataFrame.quantile\u001b[1;34m(self, q, axis, numeric_only, interpolation)\u001b[0m\n\u001b[0;32m  10480\u001b[0m validate_percentile(q)\n\u001b[0;32m  10482\u001b[0m \u001b[38;5;28;01mif\u001b[39;00m \u001b[38;5;129;01mnot\u001b[39;00m is_list_like(q):\n\u001b[0;32m  10483\u001b[0m     \u001b[38;5;66;03m# BlockManager.quantile expects listlike, so we wrap and unwrap here\u001b[39;00m\n\u001b[1;32m> 10484\u001b[0m     res \u001b[38;5;241m=\u001b[39m \u001b[38;5;28;43mself\u001b[39;49m\u001b[38;5;241;43m.\u001b[39;49m\u001b[43mquantile\u001b[49m\u001b[43m(\u001b[49m\n\u001b[0;32m  10485\u001b[0m \u001b[43m        \u001b[49m\u001b[43m[\u001b[49m\u001b[43mq\u001b[49m\u001b[43m]\u001b[49m\u001b[43m,\u001b[49m\u001b[43m \u001b[49m\u001b[43maxis\u001b[49m\u001b[38;5;241;43m=\u001b[39;49m\u001b[43maxis\u001b[49m\u001b[43m,\u001b[49m\u001b[43m \u001b[49m\u001b[43mnumeric_only\u001b[49m\u001b[38;5;241;43m=\u001b[39;49m\u001b[43mnumeric_only\u001b[49m\u001b[43m,\u001b[49m\u001b[43m \u001b[49m\u001b[43minterpolation\u001b[49m\u001b[38;5;241;43m=\u001b[39;49m\u001b[43minterpolation\u001b[49m\n\u001b[0;32m  10486\u001b[0m \u001b[43m    \u001b[49m\u001b[43m)\u001b[49m\n\u001b[0;32m  10487\u001b[0m     \u001b[38;5;28;01mreturn\u001b[39;00m res\u001b[38;5;241m.\u001b[39miloc[\u001b[38;5;241m0\u001b[39m]\n\u001b[0;32m  10489\u001b[0m q \u001b[38;5;241m=\u001b[39m Index(q, dtype\u001b[38;5;241m=\u001b[39mnp\u001b[38;5;241m.\u001b[39mfloat64)\n",
      "File \u001b[1;32m~\\anaconda3\\lib\\site-packages\\pandas\\core\\frame.py:10503\u001b[0m, in \u001b[0;36mDataFrame.quantile\u001b[1;34m(self, q, axis, numeric_only, interpolation)\u001b[0m\n\u001b[0;32m  10500\u001b[0m         \u001b[38;5;28;01mreturn\u001b[39;00m \u001b[38;5;28mself\u001b[39m\u001b[38;5;241m.\u001b[39m_constructor([], index\u001b[38;5;241m=\u001b[39mq, columns\u001b[38;5;241m=\u001b[39mcols)\n\u001b[0;32m  10501\u001b[0m     \u001b[38;5;28;01mreturn\u001b[39;00m \u001b[38;5;28mself\u001b[39m\u001b[38;5;241m.\u001b[39m_constructor_sliced([], index\u001b[38;5;241m=\u001b[39mcols, name\u001b[38;5;241m=\u001b[39mq, dtype\u001b[38;5;241m=\u001b[39mnp\u001b[38;5;241m.\u001b[39mfloat64)\n\u001b[1;32m> 10503\u001b[0m res \u001b[38;5;241m=\u001b[39m \u001b[43mdata\u001b[49m\u001b[38;5;241;43m.\u001b[39;49m\u001b[43m_mgr\u001b[49m\u001b[38;5;241;43m.\u001b[39;49m\u001b[43mquantile\u001b[49m\u001b[43m(\u001b[49m\u001b[43mqs\u001b[49m\u001b[38;5;241;43m=\u001b[39;49m\u001b[43mq\u001b[49m\u001b[43m,\u001b[49m\u001b[43m \u001b[49m\u001b[43maxis\u001b[49m\u001b[38;5;241;43m=\u001b[39;49m\u001b[38;5;241;43m1\u001b[39;49m\u001b[43m,\u001b[49m\u001b[43m \u001b[49m\u001b[43minterpolation\u001b[49m\u001b[38;5;241;43m=\u001b[39;49m\u001b[43minterpolation\u001b[49m\u001b[43m)\u001b[49m\n\u001b[0;32m  10505\u001b[0m result \u001b[38;5;241m=\u001b[39m \u001b[38;5;28mself\u001b[39m\u001b[38;5;241m.\u001b[39m_constructor(res)\n\u001b[0;32m  10506\u001b[0m \u001b[38;5;28;01mreturn\u001b[39;00m result\n",
      "File \u001b[1;32m~\\anaconda3\\lib\\site-packages\\pandas\\core\\internals\\managers.py:1451\u001b[0m, in \u001b[0;36mBlockManager.quantile\u001b[1;34m(self, qs, axis, interpolation)\u001b[0m\n\u001b[0;32m   1448\u001b[0m new_axes \u001b[38;5;241m=\u001b[39m \u001b[38;5;28mlist\u001b[39m(\u001b[38;5;28mself\u001b[39m\u001b[38;5;241m.\u001b[39maxes)\n\u001b[0;32m   1449\u001b[0m new_axes[\u001b[38;5;241m1\u001b[39m] \u001b[38;5;241m=\u001b[39m Float64Index(qs)\n\u001b[1;32m-> 1451\u001b[0m blocks \u001b[38;5;241m=\u001b[39m [\n\u001b[0;32m   1452\u001b[0m     blk\u001b[38;5;241m.\u001b[39mquantile(axis\u001b[38;5;241m=\u001b[39maxis, qs\u001b[38;5;241m=\u001b[39mqs, interpolation\u001b[38;5;241m=\u001b[39minterpolation)\n\u001b[0;32m   1453\u001b[0m     \u001b[38;5;28;01mfor\u001b[39;00m blk \u001b[38;5;129;01min\u001b[39;00m \u001b[38;5;28mself\u001b[39m\u001b[38;5;241m.\u001b[39mblocks\n\u001b[0;32m   1454\u001b[0m ]\n\u001b[0;32m   1456\u001b[0m \u001b[38;5;28;01mreturn\u001b[39;00m \u001b[38;5;28mtype\u001b[39m(\u001b[38;5;28mself\u001b[39m)(blocks, new_axes)\n",
      "File \u001b[1;32m~\\anaconda3\\lib\\site-packages\\pandas\\core\\internals\\managers.py:1452\u001b[0m, in \u001b[0;36m<listcomp>\u001b[1;34m(.0)\u001b[0m\n\u001b[0;32m   1448\u001b[0m new_axes \u001b[38;5;241m=\u001b[39m \u001b[38;5;28mlist\u001b[39m(\u001b[38;5;28mself\u001b[39m\u001b[38;5;241m.\u001b[39maxes)\n\u001b[0;32m   1449\u001b[0m new_axes[\u001b[38;5;241m1\u001b[39m] \u001b[38;5;241m=\u001b[39m Float64Index(qs)\n\u001b[0;32m   1451\u001b[0m blocks \u001b[38;5;241m=\u001b[39m [\n\u001b[1;32m-> 1452\u001b[0m     \u001b[43mblk\u001b[49m\u001b[38;5;241;43m.\u001b[39;49m\u001b[43mquantile\u001b[49m\u001b[43m(\u001b[49m\u001b[43maxis\u001b[49m\u001b[38;5;241;43m=\u001b[39;49m\u001b[43maxis\u001b[49m\u001b[43m,\u001b[49m\u001b[43m \u001b[49m\u001b[43mqs\u001b[49m\u001b[38;5;241;43m=\u001b[39;49m\u001b[43mqs\u001b[49m\u001b[43m,\u001b[49m\u001b[43m \u001b[49m\u001b[43minterpolation\u001b[49m\u001b[38;5;241;43m=\u001b[39;49m\u001b[43minterpolation\u001b[49m\u001b[43m)\u001b[49m\n\u001b[0;32m   1453\u001b[0m     \u001b[38;5;28;01mfor\u001b[39;00m blk \u001b[38;5;129;01min\u001b[39;00m \u001b[38;5;28mself\u001b[39m\u001b[38;5;241m.\u001b[39mblocks\n\u001b[0;32m   1454\u001b[0m ]\n\u001b[0;32m   1456\u001b[0m \u001b[38;5;28;01mreturn\u001b[39;00m \u001b[38;5;28mtype\u001b[39m(\u001b[38;5;28mself\u001b[39m)(blocks, new_axes)\n",
      "File \u001b[1;32m~\\anaconda3\\lib\\site-packages\\pandas\\core\\internals\\blocks.py:1343\u001b[0m, in \u001b[0;36mBlock.quantile\u001b[1;34m(self, qs, interpolation, axis)\u001b[0m\n\u001b[0;32m   1340\u001b[0m \u001b[38;5;28;01massert\u001b[39;00m axis \u001b[38;5;241m==\u001b[39m \u001b[38;5;241m1\u001b[39m  \u001b[38;5;66;03m# only ever called this way\u001b[39;00m\n\u001b[0;32m   1341\u001b[0m \u001b[38;5;28;01massert\u001b[39;00m is_list_like(qs)  \u001b[38;5;66;03m# caller is responsible for this\u001b[39;00m\n\u001b[1;32m-> 1343\u001b[0m result \u001b[38;5;241m=\u001b[39m \u001b[43mquantile_compat\u001b[49m\u001b[43m(\u001b[49m\u001b[38;5;28;43mself\u001b[39;49m\u001b[38;5;241;43m.\u001b[39;49m\u001b[43mvalues\u001b[49m\u001b[43m,\u001b[49m\u001b[43m \u001b[49m\u001b[43mnp\u001b[49m\u001b[38;5;241;43m.\u001b[39;49m\u001b[43masarray\u001b[49m\u001b[43m(\u001b[49m\u001b[43mqs\u001b[49m\u001b[38;5;241;43m.\u001b[39;49m\u001b[43m_values\u001b[49m\u001b[43m)\u001b[49m\u001b[43m,\u001b[49m\u001b[43m \u001b[49m\u001b[43minterpolation\u001b[49m\u001b[43m)\u001b[49m\n\u001b[0;32m   1344\u001b[0m \u001b[38;5;66;03m# ensure_block_shape needed for cases where we start with EA and result\u001b[39;00m\n\u001b[0;32m   1345\u001b[0m \u001b[38;5;66;03m#  is ndarray, e.g. IntegerArray, SparseArray\u001b[39;00m\n\u001b[0;32m   1346\u001b[0m result \u001b[38;5;241m=\u001b[39m ensure_block_shape(result, ndim\u001b[38;5;241m=\u001b[39m\u001b[38;5;241m2\u001b[39m)\n",
      "File \u001b[1;32m~\\anaconda3\\lib\\site-packages\\pandas\\core\\array_algos\\quantile.py:38\u001b[0m, in \u001b[0;36mquantile_compat\u001b[1;34m(values, qs, interpolation)\u001b[0m\n\u001b[0;32m     36\u001b[0m     fill_value \u001b[38;5;241m=\u001b[39m na_value_for_dtype(values\u001b[38;5;241m.\u001b[39mdtype, compat\u001b[38;5;241m=\u001b[39m\u001b[38;5;28;01mFalse\u001b[39;00m)\n\u001b[0;32m     37\u001b[0m     mask \u001b[38;5;241m=\u001b[39m isna(values)\n\u001b[1;32m---> 38\u001b[0m     \u001b[38;5;28;01mreturn\u001b[39;00m \u001b[43mquantile_with_mask\u001b[49m\u001b[43m(\u001b[49m\u001b[43mvalues\u001b[49m\u001b[43m,\u001b[49m\u001b[43m \u001b[49m\u001b[43mmask\u001b[49m\u001b[43m,\u001b[49m\u001b[43m \u001b[49m\u001b[43mfill_value\u001b[49m\u001b[43m,\u001b[49m\u001b[43m \u001b[49m\u001b[43mqs\u001b[49m\u001b[43m,\u001b[49m\u001b[43m \u001b[49m\u001b[43minterpolation\u001b[49m\u001b[43m)\u001b[49m\n\u001b[0;32m     39\u001b[0m \u001b[38;5;28;01melse\u001b[39;00m:\n\u001b[0;32m     40\u001b[0m     \u001b[38;5;28;01mreturn\u001b[39;00m values\u001b[38;5;241m.\u001b[39m_quantile(qs, interpolation)\n",
      "File \u001b[1;32m~\\anaconda3\\lib\\site-packages\\pandas\\core\\array_algos\\quantile.py:88\u001b[0m, in \u001b[0;36mquantile_with_mask\u001b[1;34m(values, mask, fill_value, qs, interpolation)\u001b[0m\n\u001b[0;32m     86\u001b[0m     result \u001b[38;5;241m=\u001b[39m np\u001b[38;5;241m.\u001b[39mrepeat(flat, \u001b[38;5;28mlen\u001b[39m(values))\u001b[38;5;241m.\u001b[39mreshape(\u001b[38;5;28mlen\u001b[39m(values), \u001b[38;5;28mlen\u001b[39m(qs))\n\u001b[0;32m     87\u001b[0m \u001b[38;5;28;01melse\u001b[39;00m:\n\u001b[1;32m---> 88\u001b[0m     result \u001b[38;5;241m=\u001b[39m \u001b[43m_nanpercentile\u001b[49m\u001b[43m(\u001b[49m\n\u001b[0;32m     89\u001b[0m \u001b[43m        \u001b[49m\u001b[43mvalues\u001b[49m\u001b[43m,\u001b[49m\n\u001b[0;32m     90\u001b[0m \u001b[43m        \u001b[49m\u001b[43mqs\u001b[49m\u001b[43m \u001b[49m\u001b[38;5;241;43m*\u001b[39;49m\u001b[43m \u001b[49m\u001b[38;5;241;43m100.0\u001b[39;49m\u001b[43m,\u001b[49m\n\u001b[0;32m     91\u001b[0m \u001b[43m        \u001b[49m\u001b[43mna_value\u001b[49m\u001b[38;5;241;43m=\u001b[39;49m\u001b[43mfill_value\u001b[49m\u001b[43m,\u001b[49m\n\u001b[0;32m     92\u001b[0m \u001b[43m        \u001b[49m\u001b[43mmask\u001b[49m\u001b[38;5;241;43m=\u001b[39;49m\u001b[43mmask\u001b[49m\u001b[43m,\u001b[49m\n\u001b[0;32m     93\u001b[0m \u001b[43m        \u001b[49m\u001b[43minterpolation\u001b[49m\u001b[38;5;241;43m=\u001b[39;49m\u001b[43minterpolation\u001b[49m\u001b[43m,\u001b[49m\n\u001b[0;32m     94\u001b[0m \u001b[43m    \u001b[49m\u001b[43m)\u001b[49m\n\u001b[0;32m     96\u001b[0m     result \u001b[38;5;241m=\u001b[39m np\u001b[38;5;241m.\u001b[39marray(result, copy\u001b[38;5;241m=\u001b[39m\u001b[38;5;28;01mFalse\u001b[39;00m)\n\u001b[0;32m     97\u001b[0m     result \u001b[38;5;241m=\u001b[39m result\u001b[38;5;241m.\u001b[39mT\n",
      "File \u001b[1;32m~\\anaconda3\\lib\\site-packages\\pandas\\core\\array_algos\\quantile.py:179\u001b[0m, in \u001b[0;36m_nanpercentile\u001b[1;34m(values, qs, na_value, mask, interpolation)\u001b[0m\n\u001b[0;32m    176\u001b[0m \u001b[38;5;28;01mif\u001b[39;00m \u001b[38;5;129;01mnot\u001b[39;00m lib\u001b[38;5;241m.\u001b[39mis_scalar(mask) \u001b[38;5;129;01mand\u001b[39;00m mask\u001b[38;5;241m.\u001b[39many():\n\u001b[0;32m    177\u001b[0m     \u001b[38;5;66;03m# Caller is responsible for ensuring mask shape match\u001b[39;00m\n\u001b[0;32m    178\u001b[0m     \u001b[38;5;28;01massert\u001b[39;00m mask\u001b[38;5;241m.\u001b[39mshape \u001b[38;5;241m==\u001b[39m values\u001b[38;5;241m.\u001b[39mshape\n\u001b[1;32m--> 179\u001b[0m     result \u001b[38;5;241m=\u001b[39m [\n\u001b[0;32m    180\u001b[0m         _nanpercentile_1d(val, m, qs, na_value, interpolation\u001b[38;5;241m=\u001b[39minterpolation)\n\u001b[0;32m    181\u001b[0m         \u001b[38;5;28;01mfor\u001b[39;00m (val, m) \u001b[38;5;129;01min\u001b[39;00m \u001b[38;5;28mzip\u001b[39m(\u001b[38;5;28mlist\u001b[39m(values), \u001b[38;5;28mlist\u001b[39m(mask))\n\u001b[0;32m    182\u001b[0m     ]\n\u001b[0;32m    183\u001b[0m     result \u001b[38;5;241m=\u001b[39m np\u001b[38;5;241m.\u001b[39marray(result, dtype\u001b[38;5;241m=\u001b[39mvalues\u001b[38;5;241m.\u001b[39mdtype, copy\u001b[38;5;241m=\u001b[39m\u001b[38;5;28;01mFalse\u001b[39;00m)\u001b[38;5;241m.\u001b[39mT\n\u001b[0;32m    184\u001b[0m     \u001b[38;5;28;01mreturn\u001b[39;00m result\n",
      "File \u001b[1;32m~\\anaconda3\\lib\\site-packages\\pandas\\core\\array_algos\\quantile.py:180\u001b[0m, in \u001b[0;36m<listcomp>\u001b[1;34m(.0)\u001b[0m\n\u001b[0;32m    176\u001b[0m \u001b[38;5;28;01mif\u001b[39;00m \u001b[38;5;129;01mnot\u001b[39;00m lib\u001b[38;5;241m.\u001b[39mis_scalar(mask) \u001b[38;5;129;01mand\u001b[39;00m mask\u001b[38;5;241m.\u001b[39many():\n\u001b[0;32m    177\u001b[0m     \u001b[38;5;66;03m# Caller is responsible for ensuring mask shape match\u001b[39;00m\n\u001b[0;32m    178\u001b[0m     \u001b[38;5;28;01massert\u001b[39;00m mask\u001b[38;5;241m.\u001b[39mshape \u001b[38;5;241m==\u001b[39m values\u001b[38;5;241m.\u001b[39mshape\n\u001b[0;32m    179\u001b[0m     result \u001b[38;5;241m=\u001b[39m [\n\u001b[1;32m--> 180\u001b[0m         \u001b[43m_nanpercentile_1d\u001b[49m\u001b[43m(\u001b[49m\u001b[43mval\u001b[49m\u001b[43m,\u001b[49m\u001b[43m \u001b[49m\u001b[43mm\u001b[49m\u001b[43m,\u001b[49m\u001b[43m \u001b[49m\u001b[43mqs\u001b[49m\u001b[43m,\u001b[49m\u001b[43m \u001b[49m\u001b[43mna_value\u001b[49m\u001b[43m,\u001b[49m\u001b[43m \u001b[49m\u001b[43minterpolation\u001b[49m\u001b[38;5;241;43m=\u001b[39;49m\u001b[43minterpolation\u001b[49m\u001b[43m)\u001b[49m\n\u001b[0;32m    181\u001b[0m         \u001b[38;5;28;01mfor\u001b[39;00m (val, m) \u001b[38;5;129;01min\u001b[39;00m \u001b[38;5;28mzip\u001b[39m(\u001b[38;5;28mlist\u001b[39m(values), \u001b[38;5;28mlist\u001b[39m(mask))\n\u001b[0;32m    182\u001b[0m     ]\n\u001b[0;32m    183\u001b[0m     result \u001b[38;5;241m=\u001b[39m np\u001b[38;5;241m.\u001b[39marray(result, dtype\u001b[38;5;241m=\u001b[39mvalues\u001b[38;5;241m.\u001b[39mdtype, copy\u001b[38;5;241m=\u001b[39m\u001b[38;5;28;01mFalse\u001b[39;00m)\u001b[38;5;241m.\u001b[39mT\n\u001b[0;32m    184\u001b[0m     \u001b[38;5;28;01mreturn\u001b[39;00m result\n",
      "File \u001b[1;32m~\\anaconda3\\lib\\site-packages\\pandas\\core\\array_algos\\quantile.py:133\u001b[0m, in \u001b[0;36m_nanpercentile_1d\u001b[1;34m(values, mask, qs, na_value, interpolation)\u001b[0m\n\u001b[0;32m    130\u001b[0m \u001b[38;5;28;01mif\u001b[39;00m \u001b[38;5;28mlen\u001b[39m(values) \u001b[38;5;241m==\u001b[39m \u001b[38;5;241m0\u001b[39m:\n\u001b[0;32m    131\u001b[0m     \u001b[38;5;28;01mreturn\u001b[39;00m np\u001b[38;5;241m.\u001b[39marray([na_value] \u001b[38;5;241m*\u001b[39m \u001b[38;5;28mlen\u001b[39m(qs), dtype\u001b[38;5;241m=\u001b[39mvalues\u001b[38;5;241m.\u001b[39mdtype)\n\u001b[1;32m--> 133\u001b[0m \u001b[38;5;28;01mreturn\u001b[39;00m np\u001b[38;5;241m.\u001b[39mpercentile(values, qs, \u001b[38;5;241m*\u001b[39m\u001b[38;5;241m*\u001b[39m{np_percentile_argname: interpolation})\n",
      "File \u001b[1;32m<__array_function__ internals>:5\u001b[0m, in \u001b[0;36mpercentile\u001b[1;34m(*args, **kwargs)\u001b[0m\n",
      "File \u001b[1;32m~\\anaconda3\\lib\\site-packages\\numpy\\lib\\function_base.py:3867\u001b[0m, in \u001b[0;36mpercentile\u001b[1;34m(a, q, axis, out, overwrite_input, interpolation, keepdims)\u001b[0m\n\u001b[0;32m   3865\u001b[0m \u001b[38;5;28;01mif\u001b[39;00m \u001b[38;5;129;01mnot\u001b[39;00m _quantile_is_valid(q):\n\u001b[0;32m   3866\u001b[0m     \u001b[38;5;28;01mraise\u001b[39;00m \u001b[38;5;167;01mValueError\u001b[39;00m(\u001b[38;5;124m\"\u001b[39m\u001b[38;5;124mPercentiles must be in the range [0, 100]\u001b[39m\u001b[38;5;124m\"\u001b[39m)\n\u001b[1;32m-> 3867\u001b[0m \u001b[38;5;28;01mreturn\u001b[39;00m \u001b[43m_quantile_unchecked\u001b[49m\u001b[43m(\u001b[49m\n\u001b[0;32m   3868\u001b[0m \u001b[43m    \u001b[49m\u001b[43ma\u001b[49m\u001b[43m,\u001b[49m\u001b[43m \u001b[49m\u001b[43mq\u001b[49m\u001b[43m,\u001b[49m\u001b[43m \u001b[49m\u001b[43maxis\u001b[49m\u001b[43m,\u001b[49m\u001b[43m \u001b[49m\u001b[43mout\u001b[49m\u001b[43m,\u001b[49m\u001b[43m \u001b[49m\u001b[43moverwrite_input\u001b[49m\u001b[43m,\u001b[49m\u001b[43m \u001b[49m\u001b[43minterpolation\u001b[49m\u001b[43m,\u001b[49m\u001b[43m \u001b[49m\u001b[43mkeepdims\u001b[49m\u001b[43m)\u001b[49m\n",
      "File \u001b[1;32m~\\anaconda3\\lib\\site-packages\\numpy\\lib\\function_base.py:3986\u001b[0m, in \u001b[0;36m_quantile_unchecked\u001b[1;34m(a, q, axis, out, overwrite_input, interpolation, keepdims)\u001b[0m\n\u001b[0;32m   3983\u001b[0m \u001b[38;5;28;01mdef\u001b[39;00m \u001b[38;5;21m_quantile_unchecked\u001b[39m(a, q, axis\u001b[38;5;241m=\u001b[39m\u001b[38;5;28;01mNone\u001b[39;00m, out\u001b[38;5;241m=\u001b[39m\u001b[38;5;28;01mNone\u001b[39;00m, overwrite_input\u001b[38;5;241m=\u001b[39m\u001b[38;5;28;01mFalse\u001b[39;00m,\n\u001b[0;32m   3984\u001b[0m                         interpolation\u001b[38;5;241m=\u001b[39m\u001b[38;5;124m'\u001b[39m\u001b[38;5;124mlinear\u001b[39m\u001b[38;5;124m'\u001b[39m, keepdims\u001b[38;5;241m=\u001b[39m\u001b[38;5;28;01mFalse\u001b[39;00m):\n\u001b[0;32m   3985\u001b[0m     \u001b[38;5;124;03m\"\"\"Assumes that q is in [0, 1], and is an ndarray\"\"\"\u001b[39;00m\n\u001b[1;32m-> 3986\u001b[0m     r, k \u001b[38;5;241m=\u001b[39m \u001b[43m_ureduce\u001b[49m\u001b[43m(\u001b[49m\u001b[43ma\u001b[49m\u001b[43m,\u001b[49m\u001b[43m \u001b[49m\u001b[43mfunc\u001b[49m\u001b[38;5;241;43m=\u001b[39;49m\u001b[43m_quantile_ureduce_func\u001b[49m\u001b[43m,\u001b[49m\u001b[43m \u001b[49m\u001b[43mq\u001b[49m\u001b[38;5;241;43m=\u001b[39;49m\u001b[43mq\u001b[49m\u001b[43m,\u001b[49m\u001b[43m \u001b[49m\u001b[43maxis\u001b[49m\u001b[38;5;241;43m=\u001b[39;49m\u001b[43maxis\u001b[49m\u001b[43m,\u001b[49m\u001b[43m \u001b[49m\u001b[43mout\u001b[49m\u001b[38;5;241;43m=\u001b[39;49m\u001b[43mout\u001b[49m\u001b[43m,\u001b[49m\n\u001b[0;32m   3987\u001b[0m \u001b[43m                    \u001b[49m\u001b[43moverwrite_input\u001b[49m\u001b[38;5;241;43m=\u001b[39;49m\u001b[43moverwrite_input\u001b[49m\u001b[43m,\u001b[49m\n\u001b[0;32m   3988\u001b[0m \u001b[43m                    \u001b[49m\u001b[43minterpolation\u001b[49m\u001b[38;5;241;43m=\u001b[39;49m\u001b[43minterpolation\u001b[49m\u001b[43m)\u001b[49m\n\u001b[0;32m   3989\u001b[0m     \u001b[38;5;28;01mif\u001b[39;00m keepdims:\n\u001b[0;32m   3990\u001b[0m         \u001b[38;5;28;01mreturn\u001b[39;00m r\u001b[38;5;241m.\u001b[39mreshape(q\u001b[38;5;241m.\u001b[39mshape \u001b[38;5;241m+\u001b[39m k)\n",
      "File \u001b[1;32m~\\anaconda3\\lib\\site-packages\\numpy\\lib\\function_base.py:3564\u001b[0m, in \u001b[0;36m_ureduce\u001b[1;34m(a, func, **kwargs)\u001b[0m\n\u001b[0;32m   3561\u001b[0m \u001b[38;5;28;01melse\u001b[39;00m:\n\u001b[0;32m   3562\u001b[0m     keepdim \u001b[38;5;241m=\u001b[39m (\u001b[38;5;241m1\u001b[39m,) \u001b[38;5;241m*\u001b[39m a\u001b[38;5;241m.\u001b[39mndim\n\u001b[1;32m-> 3564\u001b[0m r \u001b[38;5;241m=\u001b[39m func(a, \u001b[38;5;241m*\u001b[39m\u001b[38;5;241m*\u001b[39mkwargs)\n\u001b[0;32m   3565\u001b[0m \u001b[38;5;28;01mreturn\u001b[39;00m r, keepdim\n",
      "File \u001b[1;32m~\\anaconda3\\lib\\site-packages\\numpy\\lib\\function_base.py:4112\u001b[0m, in \u001b[0;36m_quantile_ureduce_func\u001b[1;34m(***failed resolving arguments***)\u001b[0m\n\u001b[0;32m   4109\u001b[0m     x_below \u001b[38;5;241m=\u001b[39m take(ap, indices_below, axis\u001b[38;5;241m=\u001b[39m\u001b[38;5;241m0\u001b[39m)\n\u001b[0;32m   4110\u001b[0m     x_above \u001b[38;5;241m=\u001b[39m take(ap, indices_above, axis\u001b[38;5;241m=\u001b[39m\u001b[38;5;241m0\u001b[39m)\n\u001b[1;32m-> 4112\u001b[0m     r \u001b[38;5;241m=\u001b[39m \u001b[43m_lerp\u001b[49m\u001b[43m(\u001b[49m\u001b[43mx_below\u001b[49m\u001b[43m,\u001b[49m\u001b[43m \u001b[49m\u001b[43mx_above\u001b[49m\u001b[43m,\u001b[49m\u001b[43m \u001b[49m\u001b[43mweights_above\u001b[49m\u001b[43m,\u001b[49m\u001b[43m \u001b[49m\u001b[43mout\u001b[49m\u001b[38;5;241;43m=\u001b[39;49m\u001b[43mout\u001b[49m\u001b[43m)\u001b[49m\n\u001b[0;32m   4114\u001b[0m \u001b[38;5;66;03m# if any slice contained a nan, then all results on that slice are also nan\u001b[39;00m\n\u001b[0;32m   4115\u001b[0m \u001b[38;5;28;01mif\u001b[39;00m np\u001b[38;5;241m.\u001b[39many(n):\n",
      "File \u001b[1;32m~\\anaconda3\\lib\\site-packages\\numpy\\lib\\function_base.py:4009\u001b[0m, in \u001b[0;36m_lerp\u001b[1;34m(a, b, t, out)\u001b[0m\n\u001b[0;32m   4007\u001b[0m \u001b[38;5;28;01mdef\u001b[39;00m \u001b[38;5;21m_lerp\u001b[39m(a, b, t, out\u001b[38;5;241m=\u001b[39m\u001b[38;5;28;01mNone\u001b[39;00m):\n\u001b[0;32m   4008\u001b[0m     \u001b[38;5;124;03m\"\"\" Linearly interpolate from a to b by a factor of t \"\"\"\u001b[39;00m\n\u001b[1;32m-> 4009\u001b[0m     diff_b_a \u001b[38;5;241m=\u001b[39m \u001b[43msubtract\u001b[49m\u001b[43m(\u001b[49m\u001b[43mb\u001b[49m\u001b[43m,\u001b[49m\u001b[43m \u001b[49m\u001b[43ma\u001b[49m\u001b[43m)\u001b[49m\n\u001b[0;32m   4010\u001b[0m     \u001b[38;5;66;03m# asanyarray is a stop-gap until gh-13105\u001b[39;00m\n\u001b[0;32m   4011\u001b[0m     lerp_interpolation \u001b[38;5;241m=\u001b[39m asanyarray(add(a, diff_b_a\u001b[38;5;241m*\u001b[39mt, out\u001b[38;5;241m=\u001b[39mout))\n",
      "\u001b[1;31mTypeError\u001b[0m: unsupported operand type(s) for -: 'str' and 'str'"
     ]
    }
   ],
   "source": [
    "for i in df.columns:\n",
    "    outliers_imputation_mild(df,i)"
   ]
  },
  {
   "cell_type": "code",
   "execution_count": 155,
   "id": "4e1d3810",
   "metadata": {},
   "outputs": [],
   "source": [
    "df.loc[df[\"avg_rss12\"]<=22.5,\"avg_rss12\"]=22.5\n",
    "df.loc[df[\"var_rss12\"]>=3.83,\"var_rss12\"]=3.83\n",
    "df.loc[df[\"avg_rss13\"]<=1.75,\"avg_rss13\"]=1.75\n",
    "df.loc[df[\"avg_rss13\"]>=27.75,\"avg_rss13\"]=27.75\n",
    "df.loc[df[\"var_rss13\"]>=5.08,\"var_rss13\"]=5.08"
   ]
  },
  {
   "cell_type": "code",
   "execution_count": 163,
   "id": "0a24e6be",
   "metadata": {},
   "outputs": [],
   "source": [
    "df.loc[df[\"var_rss23\"]>=5.02,\"var_rss23\"]=5.02\n",
    "df.loc[df[\"avg_rss23\"]>=30.125,\"avg_rss23\"]=30.125\n",
    "df.loc[df[\"avg_rss23\"]<=1.125,\"avg_rss23\"]=1.125"
   ]
  },
  {
   "cell_type": "code",
   "execution_count": 164,
   "id": "0f05f4b1",
   "metadata": {},
   "outputs": [
    {
     "data": {
      "text/plain": [
       "<AxesSubplot:>"
      ]
     },
     "execution_count": 164,
     "metadata": {},
     "output_type": "execute_result"
    },
    {
     "data": {
      "image/png": "[encoded data removed]",
      "text/plain": [
       "<Figure size 1440x1440 with 1 Axes>"
      ]
     },
     "metadata": {
      "needs_background": "light"
     },
     "output_type": "display_data"
    }
   ],
   "source": [
    "fig, ax=plt.subplots(figsize=(20,20))\n",
    "sns.boxplot(data=df,ax=ax)"
   ]
  },
  {
   "cell_type": "code",
   "execution_count": 165,
   "id": "be7dc0e8",
   "metadata": {},
   "outputs": [],
   "source": [
    "from sklearn.preprocessing import StandardScaler\n",
    "from sklearn.model_selection import train_test_split"
   ]
  },
  {
   "cell_type": "code",
   "execution_count": 166,
   "id": "319559a4",
   "metadata": {},
   "outputs": [
    {
     "data": {
      "text/plain": [
       "0        1\n",
       "1        1\n",
       "2        1\n",
       "3        1\n",
       "4        1\n",
       "        ..\n",
       "42232    0\n",
       "42233    0\n",
       "42234    0\n",
       "42235    0\n",
       "42236    0\n",
       "Name: Label, Length: 42237, dtype: int64"
      ]
     },
     "execution_count": 166,
     "metadata": {},
     "output_type": "execute_result"
    }
   ],
   "source": [
    "# dependent variable or traget\n",
    "y=df['Label']\n",
    "y"
   ]
  },
  {
   "cell_type": "code",
   "execution_count": 167,
   "id": "116643fa",
   "metadata": {},
   "outputs": [
    {
     "data": {
      "text/html": [
       "<div>\n",
       "<style scoped>\n",
       "    .dataframe tbody tr th:only-of-type {\n",
       "        vertical-align: middle;\n",
       "    }\n",
       "\n",
       "    .dataframe tbody tr th {\n",
       "        vertical-align: top;\n",
       "    }\n",
       "\n",
       "    .dataframe thead th {\n",
       "        text-align: right;\n",
       "    }\n",
       "</style>\n",
       "<table border=\"1\" class=\"dataframe\">\n",
       "  <thead>\n",
       "    <tr style=\"text-align: right;\">\n",
       "      <th></th>\n",
       "      <th>avg_rss12</th>\n",
       "      <th>var_rss12</th>\n",
       "      <th>avg_rss13</th>\n",
       "      <th>var_rss13</th>\n",
       "      <th>avg_rss23</th>\n",
       "      <th>var_rss23</th>\n",
       "    </tr>\n",
       "  </thead>\n",
       "  <tbody>\n",
       "    <tr>\n",
       "      <th>0</th>\n",
       "      <td>39.25</td>\n",
       "      <td>0.43</td>\n",
       "      <td>22.75</td>\n",
       "      <td>0.43</td>\n",
       "      <td>30.125</td>\n",
       "      <td>1.30</td>\n",
       "    </tr>\n",
       "    <tr>\n",
       "      <th>1</th>\n",
       "      <td>39.25</td>\n",
       "      <td>0.43</td>\n",
       "      <td>23.00</td>\n",
       "      <td>0.00</td>\n",
       "      <td>30.125</td>\n",
       "      <td>0.00</td>\n",
       "    </tr>\n",
       "    <tr>\n",
       "      <th>2</th>\n",
       "      <td>39.25</td>\n",
       "      <td>0.43</td>\n",
       "      <td>23.25</td>\n",
       "      <td>0.43</td>\n",
       "      <td>30.125</td>\n",
       "      <td>0.00</td>\n",
       "    </tr>\n",
       "    <tr>\n",
       "      <th>3</th>\n",
       "      <td>39.50</td>\n",
       "      <td>0.50</td>\n",
       "      <td>23.00</td>\n",
       "      <td>0.71</td>\n",
       "      <td>30.125</td>\n",
       "      <td>0.00</td>\n",
       "    </tr>\n",
       "    <tr>\n",
       "      <th>4</th>\n",
       "      <td>39.50</td>\n",
       "      <td>0.50</td>\n",
       "      <td>24.00</td>\n",
       "      <td>0.00</td>\n",
       "      <td>30.125</td>\n",
       "      <td>0.00</td>\n",
       "    </tr>\n",
       "    <tr>\n",
       "      <th>...</th>\n",
       "      <td>...</td>\n",
       "      <td>...</td>\n",
       "      <td>...</td>\n",
       "      <td>...</td>\n",
       "      <td>...</td>\n",
       "      <td>...</td>\n",
       "    </tr>\n",
       "    <tr>\n",
       "      <th>42232</th>\n",
       "      <td>31.50</td>\n",
       "      <td>1.66</td>\n",
       "      <td>12.50</td>\n",
       "      <td>3.20</td>\n",
       "      <td>14.250</td>\n",
       "      <td>4.44</td>\n",
       "    </tr>\n",
       "    <tr>\n",
       "      <th>42233</th>\n",
       "      <td>27.33</td>\n",
       "      <td>1.25</td>\n",
       "      <td>11.33</td>\n",
       "      <td>0.94</td>\n",
       "      <td>20.000</td>\n",
       "      <td>4.00</td>\n",
       "    </tr>\n",
       "    <tr>\n",
       "      <th>42234</th>\n",
       "      <td>37.80</td>\n",
       "      <td>3.83</td>\n",
       "      <td>14.20</td>\n",
       "      <td>2.48</td>\n",
       "      <td>17.250</td>\n",
       "      <td>0.83</td>\n",
       "    </tr>\n",
       "    <tr>\n",
       "      <th>42235</th>\n",
       "      <td>33.75</td>\n",
       "      <td>1.30</td>\n",
       "      <td>15.75</td>\n",
       "      <td>5.08</td>\n",
       "      <td>16.500</td>\n",
       "      <td>2.69</td>\n",
       "    </tr>\n",
       "    <tr>\n",
       "      <th>42236</th>\n",
       "      <td>32.67</td>\n",
       "      <td>3.09</td>\n",
       "      <td>18.67</td>\n",
       "      <td>0.47</td>\n",
       "      <td>14.000</td>\n",
       "      <td>3.16</td>\n",
       "    </tr>\n",
       "  </tbody>\n",
       "</table>\n",
       "<p>42237 rows × 6 columns</p>\n",
       "</div>"
      ],
      "text/plain": [
       "       avg_rss12  var_rss12  avg_rss13  var_rss13  avg_rss23  var_rss23\n",
       "0          39.25       0.43      22.75       0.43     30.125       1.30\n",
       "1          39.25       0.43      23.00       0.00     30.125       0.00\n",
       "2          39.25       0.43      23.25       0.43     30.125       0.00\n",
       "3          39.50       0.50      23.00       0.71     30.125       0.00\n",
       "4          39.50       0.50      24.00       0.00     30.125       0.00\n",
       "...          ...        ...        ...        ...        ...        ...\n",
       "42232      31.50       1.66      12.50       3.20     14.250       4.44\n",
       "42233      27.33       1.25      11.33       0.94     20.000       4.00\n",
       "42234      37.80       3.83      14.20       2.48     17.250       0.83\n",
       "42235      33.75       1.30      15.75       5.08     16.500       2.69\n",
       "42236      32.67       3.09      18.67       0.47     14.000       3.16\n",
       "\n",
       "[42237 rows x 6 columns]"
      ]
     },
     "execution_count": 167,
     "metadata": {},
     "output_type": "execute_result"
    }
   ],
   "source": [
    "# Independent variable or traget\n",
    "X=df.iloc[:,:6]\n",
    "X"
   ]
  },
  {
   "cell_type": "code",
   "execution_count": 168,
   "id": "dc91bdaf",
   "metadata": {},
   "outputs": [],
   "source": [
    "X_train, X_test, y_train, y_test = train_test_split(X,y, test_size=0.25, random_state=240)"
   ]
  },
  {
   "cell_type": "code",
   "execution_count": 169,
   "id": "9f465ef2",
   "metadata": {},
   "outputs": [],
   "source": [
    "scale=StandardScaler()"
   ]
  },
  {
   "cell_type": "code",
   "execution_count": 170,
   "id": "36b5b809",
   "metadata": {},
   "outputs": [],
   "source": [
    "X_train_scaled=scale.fit_transform(X_train)\n",
    "X_test_scaled=scale.fit_transform(X_test)"
   ]
  },
  {
   "cell_type": "code",
   "execution_count": 171,
   "id": "c4a84db7",
   "metadata": {},
   "outputs": [
    {
     "data": {
      "application/vnd.jupyter.widget-view+json": {
       "model_id": "907fc46fbf4d4a6ca58854d1eac6cf78",
       "version_major": 2,
       "version_minor": 0
      },
      "text/plain": [
       "Summarize dataset:   0%|          | 0/19 [00:00<?, ?it/s]"
      ]
     },
     "metadata": {},
     "output_type": "display_data"
    },
    {
     "data": {
      "application/vnd.jupyter.widget-view+json": {
       "model_id": "66dc731950014235877fbf46eeb76a37",
       "version_major": 2,
       "version_minor": 0
      },
      "text/plain": [
       "Generate report structure:   0%|          | 0/1 [00:00<?, ?it/s]"
      ]
     },
     "metadata": {},
     "output_type": "display_data"
    },
    {
     "data": {
      "application/vnd.jupyter.widget-view+json": {
       "model_id": "",
       "version_major": 2,
       "version_minor": 0
      },
      "text/plain": [
       "Render widgets:   0%|          | 0/1 [00:00<?, ?it/s]"
      ]
     },
     "metadata": {},
     "output_type": "display_data"
    },
    {
     "data": {
      "application/vnd.jupyter.widget-view+json": {
       "model_id": "2705d96f749448ca976e34fb3356fffa",
       "version_major": 2,
       "version_minor": 0
      },
      "text/plain": [
       "VBox(children=(Tab(children=(Tab(children=(GridBox(children=(VBox(children=(GridspecLayout(children=(HTML(valu…"
      ]
     },
     "metadata": {},
     "output_type": "display_data"
    }
   ],
   "source": [
    "pf1=pd.DataFrame(X_test_scaled).profile_report()\n",
    "cf=pf1.to_widgets()"
   ]
  },
  {
   "cell_type": "code",
   "execution_count": 172,
   "id": "f280f0e8",
   "metadata": {},
   "outputs": [],
   "source": [
    "from statsmodels.stats.outliers_influence import variance_inflation_factor"
   ]
  },
  {
   "cell_type": "code",
   "execution_count": 173,
   "id": "771e135a",
   "metadata": {},
   "outputs": [],
   "source": [
    "# To check multi colinearity\n",
    "def vif_score(x):\n",
    "    from statsmodels.stats.outliers_influence import variance_inflation_factor\n",
    "    scalar=StandardScaler()\n",
    "    arr=scalar.fit_transform(x)\n",
    "    return pd.DataFrame([[x.columns[i], variance_inflation_factor(arr,i)] for i in range(arr.shape[1])], columns=['Features','VIF_score'])"
   ]
  },
  {
   "cell_type": "code",
   "execution_count": 174,
   "id": "e85ab061",
   "metadata": {},
   "outputs": [
    {
     "data": {
      "text/html": [
       "<div>\n",
       "<style scoped>\n",
       "    .dataframe tbody tr th:only-of-type {\n",
       "        vertical-align: middle;\n",
       "    }\n",
       "\n",
       "    .dataframe tbody tr th {\n",
       "        vertical-align: top;\n",
       "    }\n",
       "\n",
       "    .dataframe thead th {\n",
       "        text-align: right;\n",
       "    }\n",
       "</style>\n",
       "<table border=\"1\" class=\"dataframe\">\n",
       "  <thead>\n",
       "    <tr style=\"text-align: right;\">\n",
       "      <th></th>\n",
       "      <th>Features</th>\n",
       "      <th>VIF_score</th>\n",
       "    </tr>\n",
       "  </thead>\n",
       "  <tbody>\n",
       "    <tr>\n",
       "      <th>0</th>\n",
       "      <td>avg_rss12</td>\n",
       "      <td>1.249756</td>\n",
       "    </tr>\n",
       "    <tr>\n",
       "      <th>1</th>\n",
       "      <td>var_rss12</td>\n",
       "      <td>2.256058</td>\n",
       "    </tr>\n",
       "    <tr>\n",
       "      <th>2</th>\n",
       "      <td>avg_rss13</td>\n",
       "      <td>1.371804</td>\n",
       "    </tr>\n",
       "    <tr>\n",
       "      <th>3</th>\n",
       "      <td>var_rss13</td>\n",
       "      <td>1.951899</td>\n",
       "    </tr>\n",
       "    <tr>\n",
       "      <th>4</th>\n",
       "      <td>avg_rss23</td>\n",
       "      <td>1.843604</td>\n",
       "    </tr>\n",
       "    <tr>\n",
       "      <th>5</th>\n",
       "      <td>var_rss23</td>\n",
       "      <td>1.958504</td>\n",
       "    </tr>\n",
       "    <tr>\n",
       "      <th>6</th>\n",
       "      <td>Label</td>\n",
       "      <td>1.620020</td>\n",
       "    </tr>\n",
       "  </tbody>\n",
       "</table>\n",
       "</div>"
      ],
      "text/plain": [
       "    Features  VIF_score\n",
       "0  avg_rss12   1.249756\n",
       "1  var_rss12   2.256058\n",
       "2  avg_rss13   1.371804\n",
       "3  var_rss13   1.951899\n",
       "4  avg_rss23   1.843604\n",
       "5  var_rss23   1.958504\n",
       "6      Label   1.620020"
      ]
     },
     "execution_count": 174,
     "metadata": {},
     "output_type": "execute_result"
    }
   ],
   "source": [
    "vif_score(df)"
   ]
  },
  {
   "cell_type": "code",
   "execution_count": 175,
   "id": "9f697d70",
   "metadata": {},
   "outputs": [],
   "source": [
    "from sklearn.linear_model import LogisticRegression"
   ]
  },
  {
   "cell_type": "code",
   "execution_count": 176,
   "id": "25348c83",
   "metadata": {},
   "outputs": [],
   "source": [
    "log_reg1=LogisticRegression(verbose=1,solver= 'lbfgs')"
   ]
  },
  {
   "cell_type": "code",
   "execution_count": 177,
   "id": "f7a08f8d",
   "metadata": {},
   "outputs": [
    {
     "name": "stderr",
     "output_type": "stream",
     "text": [
      "[Parallel(n_jobs=1)]: Using backend SequentialBackend with 1 concurrent workers.\n",
      "[Parallel(n_jobs=1)]: Done   1 out of   1 | elapsed:    0.0s finished\n"
     ]
    },
    {
     "data": {
      "text/html": [
       "<style>#sk-container-id-1 {color: black;background-color: white;}#sk-container-id-1 pre{padding: 0;}#sk-container-id-1 div.sk-toggleable {background-color: white;}#sk-container-id-1 label.sk-toggleable__label {cursor: pointer;display: block;width: 100%;margin-bottom: 0;padding: 0.3em;box-sizing: border-box;text-align: center;}#sk-container-id-1 label.sk-toggleable__label-arrow:before {content: \"▸\";float: left;margin-right: 0.25em;color: #696969;}#sk-container-id-1 label.sk-toggleable__label-arrow:hover:before {color: black;}#sk-container-id-1 div.sk-estimator:hover label.sk-toggleable__label-arrow:before {color: black;}#sk-container-id-1 div.sk-toggleable__content {max-height: 0;max-width: 0;overflow: hidden;text-align: left;background-color: #f0f8ff;}#sk-container-id-1 div.sk-toggleable__content pre {margin: 0.2em;color: black;border-radius: 0.25em;background-color: #f0f8ff;}#sk-container-id-1 input.sk-toggleable__control:checked~div.sk-toggleable__content {max-height: 200px;max-width: 100%;overflow: auto;}#sk-container-id-1 input.sk-toggleable__control:checked~label.sk-toggleable__label-arrow:before {content: \"▾\";}#sk-container-id-1 div.sk-estimator input.sk-toggleable__control:checked~label.sk-toggleable__label {background-color: #d4ebff;}#sk-container-id-1 div.sk-label input.sk-toggleable__control:checked~label.sk-toggleable__label {background-color: #d4ebff;}#sk-container-id-1 input.sk-hidden--visually {border: 0;clip: rect(1px 1px 1px 1px);clip: rect(1px, 1px, 1px, 1px);height: 1px;margin: -1px;overflow: hidden;padding: 0;position: absolute;width: 1px;}#sk-container-id-1 div.sk-estimator {font-family: monospace;background-color: #f0f8ff;border: 1px dotted black;border-radius: 0.25em;box-sizing: border-box;margin-bottom: 0.5em;}#sk-container-id-1 div.sk-estimator:hover {background-color: #d4ebff;}#sk-container-id-1 div.sk-parallel-item::after {content: \"\";width: 100%;border-bottom: 1px solid gray;flex-grow: 1;}#sk-container-id-1 div.sk-label:hover label.sk-toggleable__label {background-color: #d4ebff;}#sk-container-id-1 div.sk-serial::before {content: \"\";position: absolute;border-left: 1px solid gray;box-sizing: border-box;top: 0;bottom: 0;left: 50%;z-index: 0;}#sk-container-id-1 div.sk-serial {display: flex;flex-direction: column;align-items: center;background-color: white;padding-right: 0.2em;padding-left: 0.2em;position: relative;}#sk-container-id-1 div.sk-item {position: relative;z-index: 1;}#sk-container-id-1 div.sk-parallel {display: flex;align-items: stretch;justify-content: center;background-color: white;position: relative;}#sk-container-id-1 div.sk-item::before, #sk-container-id-1 div.sk-parallel-item::before {content: \"\";position: absolute;border-left: 1px solid gray;box-sizing: border-box;top: 0;bottom: 0;left: 50%;z-index: -1;}#sk-container-id-1 div.sk-parallel-item {display: flex;flex-direction: column;z-index: 1;position: relative;background-color: white;}#sk-container-id-1 div.sk-parallel-item:first-child::after {align-self: flex-end;width: 50%;}#sk-container-id-1 div.sk-parallel-item:last-child::after {align-self: flex-start;width: 50%;}#sk-container-id-1 div.sk-parallel-item:only-child::after {width: 0;}#sk-container-id-1 div.sk-dashed-wrapped {border: 1px dashed gray;margin: 0 0.4em 0.5em 0.4em;box-sizing: border-box;padding-bottom: 0.4em;background-color: white;}#sk-container-id-1 div.sk-label label {font-family: monospace;font-weight: bold;display: inline-block;line-height: 1.2em;}#sk-container-id-1 div.sk-label-container {text-align: center;}#sk-container-id-1 div.sk-container {/* jupyter's `normalize.less` sets `[hidden] { display: none; }` but bootstrap.min.css set `[hidden] { display: none !important; }` so we also need the `!important` here to be able to override the default hidden behavior on the sphinx rendered scikit-learn.org. See: https://github.com/scikit-learn/scikit-learn/issues/21755 */display: inline-block !important;position: relative;}#sk-container-id-1 div.sk-text-repr-fallback {display: none;}</style><div id=\"sk-container-id-1\" class=\"sk-top-container\"><div class=\"sk-text-repr-fallback\"><pre>LogisticRegression(verbose=1)</pre><b>In a Jupyter environment, please rerun this cell to show the HTML representation or trust the notebook. <br />On GitHub, the HTML representation is unable to render, please try loading this page with nbviewer.org.</b></div><div class=\"sk-container\" hidden><div class=\"sk-item\"><div class=\"sk-estimator sk-toggleable\"><input class=\"sk-toggleable__control sk-hidden--visually\" id=\"sk-estimator-id-1\" type=\"checkbox\" checked><label for=\"sk-estimator-id-1\" class=\"sk-toggleable__label sk-toggleable__label-arrow\">LogisticRegression</label><div class=\"sk-toggleable__content\"><pre>LogisticRegression(verbose=1)</pre></div></div></div></div></div>"
      ],
      "text/plain": [
       "LogisticRegression(verbose=1)"
      ]
     },
     "execution_count": 177,
     "metadata": {},
     "output_type": "execute_result"
    }
   ],
   "source": [
    "log_reg1.fit(X_test_scaled,y_test)"
   ]
  },
  {
   "cell_type": "code",
   "execution_count": 178,
   "id": "3c4e4211",
   "metadata": {},
   "outputs": [
    {
     "data": {
      "text/plain": [
       "array([1], dtype=int64)"
      ]
     },
     "execution_count": 178,
     "metadata": {},
     "output_type": "execute_result"
    }
   ],
   "source": [
    "log_reg1.predict(X_test_scaled[[10]])"
   ]
  },
  {
   "cell_type": "code",
   "execution_count": 179,
   "id": "0ef978ec",
   "metadata": {},
   "outputs": [
    {
     "data": {
      "text/plain": [
       "1"
      ]
     },
     "execution_count": 179,
     "metadata": {},
     "output_type": "execute_result"
    }
   ],
   "source": [
    "y_test.iloc[10]"
   ]
  },
  {
   "cell_type": "code",
   "execution_count": 180,
   "id": "fbf9c865",
   "metadata": {},
   "outputs": [
    {
     "data": {
      "text/plain": [
       "array([[0.02959683, 0.97040317]])"
      ]
     },
     "execution_count": 180,
     "metadata": {},
     "output_type": "execute_result"
    }
   ],
   "source": [
    "log_reg1.predict_proba(X_test_scaled[[10]])"
   ]
  },
  {
   "cell_type": "code",
   "execution_count": 181,
   "id": "0da44dae",
   "metadata": {},
   "outputs": [
    {
     "data": {
      "text/plain": [
       "array([[-3.52008791, -0.03004366]])"
      ]
     },
     "execution_count": 181,
     "metadata": {},
     "output_type": "execute_result"
    }
   ],
   "source": [
    "log_reg1.predict_log_proba(X_test_scaled[[10]])"
   ]
  },
  {
   "cell_type": "code",
   "execution_count": 182,
   "id": "2f543fa8",
   "metadata": {},
   "outputs": [],
   "source": [
    "def model_evaluation(y_test,y_predict):\n",
    "    from sklearn.metrics import confusion_matrix\n",
    "    # t : True, f : False, n : Negative, p : Positive\n",
    "    # .ravel will give ndarray in 1d array \n",
    "    tn, fp, fn, tp = confusion_matrix(y_test,y_predict).ravel()\n",
    "    accuracy = (tp+tn)/(tp+fp+fn+tn)\n",
    "    recall = (tp)/(tp+fn)\n",
    "    precision = (tp)/(tp+fp)\n",
    "    f1 = ( 2 * ( precision * recall ) / ( precision + recall ) )\n",
    "    specificity = (tn)/(tn+fp)\n",
    "    results = {\"Accuracy\":accuracy,\"Recall\" : recall, \"Precision\" : precision,\"F1\" : f1,\n",
    "              \"Specificity\" : specificity}\n",
    "    return results"
   ]
  },
  {
   "cell_type": "code",
   "execution_count": 183,
   "id": "a852decb",
   "metadata": {},
   "outputs": [],
   "source": [
    "y_predict1=log_reg1.predict(X_test_scaled)"
   ]
  },
  {
   "cell_type": "code",
   "execution_count": 184,
   "id": "dc4ed90f",
   "metadata": {},
   "outputs": [
    {
     "data": {
      "text/plain": [
       "{'Accuracy': 0.9759469696969697,\n",
       " 'Recall': 0.7680288461538461,\n",
       " 'Precision': 0.9128571428571428,\n",
       " 'F1': 0.8342036553524803,\n",
       " 'Specificity': 0.9937294407894737}"
      ]
     },
     "execution_count": 184,
     "metadata": {},
     "output_type": "execute_result"
    }
   ],
   "source": [
    "model_evaluation(y_test,y_predict1)"
   ]
  },
  {
   "cell_type": "code",
   "execution_count": 185,
   "id": "a2890b96",
   "metadata": {},
   "outputs": [],
   "source": [
    "from sklearn.metrics import accuracy_score, confusion_matrix, roc_curve, roc_auc_score"
   ]
  },
  {
   "cell_type": "code",
   "execution_count": 186,
   "id": "4b31b7f5",
   "metadata": {},
   "outputs": [
    {
     "data": {
      "text/plain": [
       "0.88087914347166"
      ]
     },
     "execution_count": 186,
     "metadata": {},
     "output_type": "execute_result"
    }
   ],
   "source": [
    "auc1=roc_auc_score(y_test,y_predict1)\n",
    "auc1"
   ]
  },
  {
   "cell_type": "code",
   "execution_count": 187,
   "id": "13aeae14",
   "metadata": {},
   "outputs": [],
   "source": [
    "fpr,tpr,threshold=roc_curve(y_test,y_predict1)"
   ]
  },
  {
   "cell_type": "code",
   "execution_count": 189,
   "id": "94ce94ea",
   "metadata": {},
   "outputs": [
    {
     "data": {
      "image/png": "[encoded data removed]",
      "text/plain": [
       "<Figure size 432x288 with 1 Axes>"
      ]
     },
     "metadata": {
      "needs_background": "light"
     },
     "output_type": "display_data"
    }
   ],
   "source": [
    "plt.plot(fpr, tpr, color=\"orange\", label=\"ROC\")\n",
    "plt.plot([0,1],[0,1], color='darkblue',linestyle='--', label='ROC curve (area =%0.2f)' %auc1)\n",
    "plt.xlabel(\"False Positive Rate\")\n",
    "plt.ylabel(\"True Positive Rate\")\n",
    "plt.title(\"Reciver Operating Characteristic (ROC) Curve\")\n",
    "plt.legend()\n",
    "plt.show()"
   ]
  },
  {
   "cell_type": "code",
   "execution_count": null,
   "id": "79eea97d",
   "metadata": {},
   "outputs": [],
   "source": []
  },
  {
   "cell_type": "code",
   "execution_count": 190,
   "id": "43cf51fc",
   "metadata": {},
   "outputs": [
    {
     "name": "stderr",
     "output_type": "stream",
     "text": [
      "[Parallel(n_jobs=1)]: Using backend SequentialBackend with 1 concurrent workers.\n",
      "[Parallel(n_jobs=1)]: Done   1 out of   1 | elapsed:    0.0s finished\n"
     ]
    },
    {
     "data": {
      "text/plain": [
       "array([[-3.52008791, -0.03004366]])"
      ]
     },
     "execution_count": 190,
     "metadata": {},
     "output_type": "execute_result"
    }
   ],
   "source": [
    "log_reg1=LogisticRegression(verbose=1,solver= 'lbfgs')\n",
    "\n",
    "log_reg1.fit(X_test_scaled,y_test)\n",
    "\n",
    "\n",
    "log_reg1.predict(X_test_scaled[[10]])\n",
    "              \n",
    "y_test.iloc[10]\n",
    "\n",
    "log_reg1.predict_proba(X_test_scaled[[10]])\n",
    "\n",
    "log_reg1.predict_log_proba(X_test_scaled[[10]])\n"
   ]
  },
  {
   "cell_type": "code",
   "execution_count": 191,
   "id": "01556cfd",
   "metadata": {},
   "outputs": [],
   "source": [
    "log_reg2=LogisticRegression(verbose=1,solver= 'newton-cg')"
   ]
  },
  {
   "cell_type": "code",
   "execution_count": 192,
   "id": "9bda7d49",
   "metadata": {},
   "outputs": [
    {
     "name": "stderr",
     "output_type": "stream",
     "text": [
      "[Parallel(n_jobs=1)]: Using backend SequentialBackend with 1 concurrent workers.\n",
      "[Parallel(n_jobs=1)]: Done   1 out of   1 | elapsed:    0.0s finished\n"
     ]
    },
    {
     "data": {
      "text/html": [
       "<style>#sk-container-id-2 {color: black;background-color: white;}#sk-container-id-2 pre{padding: 0;}#sk-container-id-2 div.sk-toggleable {background-color: white;}#sk-container-id-2 label.sk-toggleable__label {cursor: pointer;display: block;width: 100%;margin-bottom: 0;padding: 0.3em;box-sizing: border-box;text-align: center;}#sk-container-id-2 label.sk-toggleable__label-arrow:before {content: \"▸\";float: left;margin-right: 0.25em;color: #696969;}#sk-container-id-2 label.sk-toggleable__label-arrow:hover:before {color: black;}#sk-container-id-2 div.sk-estimator:hover label.sk-toggleable__label-arrow:before {color: black;}#sk-container-id-2 div.sk-toggleable__content {max-height: 0;max-width: 0;overflow: hidden;text-align: left;background-color: #f0f8ff;}#sk-container-id-2 div.sk-toggleable__content pre {margin: 0.2em;color: black;border-radius: 0.25em;background-color: #f0f8ff;}#sk-container-id-2 input.sk-toggleable__control:checked~div.sk-toggleable__content {max-height: 200px;max-width: 100%;overflow: auto;}#sk-container-id-2 input.sk-toggleable__control:checked~label.sk-toggleable__label-arrow:before {content: \"▾\";}#sk-container-id-2 div.sk-estimator input.sk-toggleable__control:checked~label.sk-toggleable__label {background-color: #d4ebff;}#sk-container-id-2 div.sk-label input.sk-toggleable__control:checked~label.sk-toggleable__label {background-color: #d4ebff;}#sk-container-id-2 input.sk-hidden--visually {border: 0;clip: rect(1px 1px 1px 1px);clip: rect(1px, 1px, 1px, 1px);height: 1px;margin: -1px;overflow: hidden;padding: 0;position: absolute;width: 1px;}#sk-container-id-2 div.sk-estimator {font-family: monospace;background-color: #f0f8ff;border: 1px dotted black;border-radius: 0.25em;box-sizing: border-box;margin-bottom: 0.5em;}#sk-container-id-2 div.sk-estimator:hover {background-color: #d4ebff;}#sk-container-id-2 div.sk-parallel-item::after {content: \"\";width: 100%;border-bottom: 1px solid gray;flex-grow: 1;}#sk-container-id-2 div.sk-label:hover label.sk-toggleable__label {background-color: #d4ebff;}#sk-container-id-2 div.sk-serial::before {content: \"\";position: absolute;border-left: 1px solid gray;box-sizing: border-box;top: 0;bottom: 0;left: 50%;z-index: 0;}#sk-container-id-2 div.sk-serial {display: flex;flex-direction: column;align-items: center;background-color: white;padding-right: 0.2em;padding-left: 0.2em;position: relative;}#sk-container-id-2 div.sk-item {position: relative;z-index: 1;}#sk-container-id-2 div.sk-parallel {display: flex;align-items: stretch;justify-content: center;background-color: white;position: relative;}#sk-container-id-2 div.sk-item::before, #sk-container-id-2 div.sk-parallel-item::before {content: \"\";position: absolute;border-left: 1px solid gray;box-sizing: border-box;top: 0;bottom: 0;left: 50%;z-index: -1;}#sk-container-id-2 div.sk-parallel-item {display: flex;flex-direction: column;z-index: 1;position: relative;background-color: white;}#sk-container-id-2 div.sk-parallel-item:first-child::after {align-self: flex-end;width: 50%;}#sk-container-id-2 div.sk-parallel-item:last-child::after {align-self: flex-start;width: 50%;}#sk-container-id-2 div.sk-parallel-item:only-child::after {width: 0;}#sk-container-id-2 div.sk-dashed-wrapped {border: 1px dashed gray;margin: 0 0.4em 0.5em 0.4em;box-sizing: border-box;padding-bottom: 0.4em;background-color: white;}#sk-container-id-2 div.sk-label label {font-family: monospace;font-weight: bold;display: inline-block;line-height: 1.2em;}#sk-container-id-2 div.sk-label-container {text-align: center;}#sk-container-id-2 div.sk-container {/* jupyter's `normalize.less` sets `[hidden] { display: none; }` but bootstrap.min.css set `[hidden] { display: none !important; }` so we also need the `!important` here to be able to override the default hidden behavior on the sphinx rendered scikit-learn.org. See: https://github.com/scikit-learn/scikit-learn/issues/21755 */display: inline-block !important;position: relative;}#sk-container-id-2 div.sk-text-repr-fallback {display: none;}</style><div id=\"sk-container-id-2\" class=\"sk-top-container\"><div class=\"sk-text-repr-fallback\"><pre>LogisticRegression(solver=&#x27;newton-cg&#x27;, verbose=1)</pre><b>In a Jupyter environment, please rerun this cell to show the HTML representation or trust the notebook. <br />On GitHub, the HTML representation is unable to render, please try loading this page with nbviewer.org.</b></div><div class=\"sk-container\" hidden><div class=\"sk-item\"><div class=\"sk-estimator sk-toggleable\"><input class=\"sk-toggleable__control sk-hidden--visually\" id=\"sk-estimator-id-2\" type=\"checkbox\" checked><label for=\"sk-estimator-id-2\" class=\"sk-toggleable__label sk-toggleable__label-arrow\">LogisticRegression</label><div class=\"sk-toggleable__content\"><pre>LogisticRegression(solver=&#x27;newton-cg&#x27;, verbose=1)</pre></div></div></div></div></div>"
      ],
      "text/plain": [
       "LogisticRegression(solver='newton-cg', verbose=1)"
      ]
     },
     "execution_count": 192,
     "metadata": {},
     "output_type": "execute_result"
    }
   ],
   "source": [
    "log_reg2.fit(X_test_scaled,y_test)"
   ]
  },
  {
   "cell_type": "code",
   "execution_count": 193,
   "id": "b86da8cd",
   "metadata": {},
   "outputs": [
    {
     "data": {
      "text/plain": [
       "array([1], dtype=int64)"
      ]
     },
     "execution_count": 193,
     "metadata": {},
     "output_type": "execute_result"
    }
   ],
   "source": [
    "log_reg2.predict(X_test_scaled[[10]])"
   ]
  },
  {
   "cell_type": "code",
   "execution_count": 194,
   "id": "ba80a8a7",
   "metadata": {},
   "outputs": [
    {
     "data": {
      "text/plain": [
       "1"
      ]
     },
     "execution_count": 194,
     "metadata": {},
     "output_type": "execute_result"
    }
   ],
   "source": [
    "y_test.iloc[10]"
   ]
  },
  {
   "cell_type": "code",
   "execution_count": 195,
   "id": "04c916e7",
   "metadata": {},
   "outputs": [
    {
     "data": {
      "text/plain": [
       "array([[0.02959683, 0.97040317]])"
      ]
     },
     "execution_count": 195,
     "metadata": {},
     "output_type": "execute_result"
    }
   ],
   "source": [
    "log_reg1.predict_proba(X_test_scaled[[10]])"
   ]
  },
  {
   "cell_type": "code",
   "execution_count": 196,
   "id": "df024b31",
   "metadata": {},
   "outputs": [
    {
     "data": {
      "text/plain": [
       "array([[-3.52008791, -0.03004366]])"
      ]
     },
     "execution_count": 196,
     "metadata": {},
     "output_type": "execute_result"
    }
   ],
   "source": [
    "log_reg1.predict_log_proba(X_test_scaled[[10]])"
   ]
  },
  {
   "cell_type": "code",
   "execution_count": 197,
   "id": "59ba315d",
   "metadata": {},
   "outputs": [],
   "source": [
    "y_predict2=log_reg2.predict(X_test_scaled)"
   ]
  },
  {
   "cell_type": "code",
   "execution_count": 198,
   "id": "91a8b61c",
   "metadata": {},
   "outputs": [
    {
     "data": {
      "text/plain": [
       "{'Accuracy': 0.9759469696969697,\n",
       " 'Recall': 0.7680288461538461,\n",
       " 'Precision': 0.9128571428571428,\n",
       " 'F1': 0.8342036553524803,\n",
       " 'Specificity': 0.9937294407894737}"
      ]
     },
     "execution_count": 198,
     "metadata": {},
     "output_type": "execute_result"
    }
   ],
   "source": [
    "model_evaluation(y_test,y_predict2)"
   ]
  },
  {
   "cell_type": "code",
   "execution_count": 199,
   "id": "6df5733c",
   "metadata": {},
   "outputs": [
    {
     "data": {
      "text/plain": [
       "0.88087914347166"
      ]
     },
     "execution_count": 199,
     "metadata": {},
     "output_type": "execute_result"
    }
   ],
   "source": [
    "auc2=roc_auc_score(y_test,y_predict2)\n",
    "auc2"
   ]
  },
  {
   "cell_type": "code",
   "execution_count": 200,
   "id": "8980ac4c",
   "metadata": {},
   "outputs": [],
   "source": [
    "fpr,tpr,threshold=roc_curve(y_test,y_predict2)"
   ]
  },
  {
   "cell_type": "code",
   "execution_count": 201,
   "id": "6eb91856",
   "metadata": {},
   "outputs": [
    {
     "data": {
      "image/png": "[encoded data removed]",
      "text/plain": [
       "<Figure size 432x288 with 1 Axes>"
      ]
     },
     "metadata": {
      "needs_background": "light"
     },
     "output_type": "display_data"
    }
   ],
   "source": [
    "plt.plot(fpr, tpr, color=\"orange\", label=\"ROC\")\n",
    "plt.plot([0,1],[0,1], color='darkblue',linestyle='--', label='ROC curve (area =%0.2f)' %auc2)\n",
    "plt.xlabel(\"False Positive Rate\")\n",
    "plt.ylabel(\"True Positive Rate\")\n",
    "plt.title(\"Reciver Operating Characteristic (ROC) Curve\")\n",
    "plt.legend()\n",
    "plt.show()"
   ]
  },
  {
   "cell_type": "code",
   "execution_count": null,
   "id": "ca2ad2c2",
   "metadata": {},
   "outputs": [],
   "source": []
  },
  {
   "cell_type": "code",
   "execution_count": 202,
   "id": "27f31933",
   "metadata": {},
   "outputs": [],
   "source": [
    "log_reg3=LogisticRegression(verbose=1,solver= 'liblinear')"
   ]
  },
  {
   "cell_type": "code",
   "execution_count": 203,
   "id": "66d29863",
   "metadata": {},
   "outputs": [
    {
     "name": "stdout",
     "output_type": "stream",
     "text": [
      "[LibLinear]"
     ]
    },
    {
     "data": {
      "text/html": [
       "<style>#sk-container-id-3 {color: black;background-color: white;}#sk-container-id-3 pre{padding: 0;}#sk-container-id-3 div.sk-toggleable {background-color: white;}#sk-container-id-3 label.sk-toggleable__label {cursor: pointer;display: block;width: 100%;margin-bottom: 0;padding: 0.3em;box-sizing: border-box;text-align: center;}#sk-container-id-3 label.sk-toggleable__label-arrow:before {content: \"▸\";float: left;margin-right: 0.25em;color: #696969;}#sk-container-id-3 label.sk-toggleable__label-arrow:hover:before {color: black;}#sk-container-id-3 div.sk-estimator:hover label.sk-toggleable__label-arrow:before {color: black;}#sk-container-id-3 div.sk-toggleable__content {max-height: 0;max-width: 0;overflow: hidden;text-align: left;background-color: #f0f8ff;}#sk-container-id-3 div.sk-toggleable__content pre {margin: 0.2em;color: black;border-radius: 0.25em;background-color: #f0f8ff;}#sk-container-id-3 input.sk-toggleable__control:checked~div.sk-toggleable__content {max-height: 200px;max-width: 100%;overflow: auto;}#sk-container-id-3 input.sk-toggleable__control:checked~label.sk-toggleable__label-arrow:before {content: \"▾\";}#sk-container-id-3 div.sk-estimator input.sk-toggleable__control:checked~label.sk-toggleable__label {background-color: #d4ebff;}#sk-container-id-3 div.sk-label input.sk-toggleable__control:checked~label.sk-toggleable__label {background-color: #d4ebff;}#sk-container-id-3 input.sk-hidden--visually {border: 0;clip: rect(1px 1px 1px 1px);clip: rect(1px, 1px, 1px, 1px);height: 1px;margin: -1px;overflow: hidden;padding: 0;position: absolute;width: 1px;}#sk-container-id-3 div.sk-estimator {font-family: monospace;background-color: #f0f8ff;border: 1px dotted black;border-radius: 0.25em;box-sizing: border-box;margin-bottom: 0.5em;}#sk-container-id-3 div.sk-estimator:hover {background-color: #d4ebff;}#sk-container-id-3 div.sk-parallel-item::after {content: \"\";width: 100%;border-bottom: 1px solid gray;flex-grow: 1;}#sk-container-id-3 div.sk-label:hover label.sk-toggleable__label {background-color: #d4ebff;}#sk-container-id-3 div.sk-serial::before {content: \"\";position: absolute;border-left: 1px solid gray;box-sizing: border-box;top: 0;bottom: 0;left: 50%;z-index: 0;}#sk-container-id-3 div.sk-serial {display: flex;flex-direction: column;align-items: center;background-color: white;padding-right: 0.2em;padding-left: 0.2em;position: relative;}#sk-container-id-3 div.sk-item {position: relative;z-index: 1;}#sk-container-id-3 div.sk-parallel {display: flex;align-items: stretch;justify-content: center;background-color: white;position: relative;}#sk-container-id-3 div.sk-item::before, #sk-container-id-3 div.sk-parallel-item::before {content: \"\";position: absolute;border-left: 1px solid gray;box-sizing: border-box;top: 0;bottom: 0;left: 50%;z-index: -1;}#sk-container-id-3 div.sk-parallel-item {display: flex;flex-direction: column;z-index: 1;position: relative;background-color: white;}#sk-container-id-3 div.sk-parallel-item:first-child::after {align-self: flex-end;width: 50%;}#sk-container-id-3 div.sk-parallel-item:last-child::after {align-self: flex-start;width: 50%;}#sk-container-id-3 div.sk-parallel-item:only-child::after {width: 0;}#sk-container-id-3 div.sk-dashed-wrapped {border: 1px dashed gray;margin: 0 0.4em 0.5em 0.4em;box-sizing: border-box;padding-bottom: 0.4em;background-color: white;}#sk-container-id-3 div.sk-label label {font-family: monospace;font-weight: bold;display: inline-block;line-height: 1.2em;}#sk-container-id-3 div.sk-label-container {text-align: center;}#sk-container-id-3 div.sk-container {/* jupyter's `normalize.less` sets `[hidden] { display: none; }` but bootstrap.min.css set `[hidden] { display: none !important; }` so we also need the `!important` here to be able to override the default hidden behavior on the sphinx rendered scikit-learn.org. See: https://github.com/scikit-learn/scikit-learn/issues/21755 */display: inline-block !important;position: relative;}#sk-container-id-3 div.sk-text-repr-fallback {display: none;}</style><div id=\"sk-container-id-3\" class=\"sk-top-container\"><div class=\"sk-text-repr-fallback\"><pre>LogisticRegression(solver=&#x27;liblinear&#x27;, verbose=1)</pre><b>In a Jupyter environment, please rerun this cell to show the HTML representation or trust the notebook. <br />On GitHub, the HTML representation is unable to render, please try loading this page with nbviewer.org.</b></div><div class=\"sk-container\" hidden><div class=\"sk-item\"><div class=\"sk-estimator sk-toggleable\"><input class=\"sk-toggleable__control sk-hidden--visually\" id=\"sk-estimator-id-3\" type=\"checkbox\" checked><label for=\"sk-estimator-id-3\" class=\"sk-toggleable__label sk-toggleable__label-arrow\">LogisticRegression</label><div class=\"sk-toggleable__content\"><pre>LogisticRegression(solver=&#x27;liblinear&#x27;, verbose=1)</pre></div></div></div></div></div>"
      ],
      "text/plain": [
       "LogisticRegression(solver='liblinear', verbose=1)"
      ]
     },
     "execution_count": 203,
     "metadata": {},
     "output_type": "execute_result"
    }
   ],
   "source": [
    "log_reg3.fit(X_test_scaled,y_test)"
   ]
  },
  {
   "cell_type": "code",
   "execution_count": 204,
   "id": "205696c8",
   "metadata": {},
   "outputs": [
    {
     "data": {
      "text/plain": [
       "array([1], dtype=int64)"
      ]
     },
     "execution_count": 204,
     "metadata": {},
     "output_type": "execute_result"
    }
   ],
   "source": [
    "log_reg3.predict(X_test_scaled[[10]])"
   ]
  },
  {
   "cell_type": "code",
   "execution_count": 205,
   "id": "eaa5dde2",
   "metadata": {},
   "outputs": [
    {
     "data": {
      "text/plain": [
       "1"
      ]
     },
     "execution_count": 205,
     "metadata": {},
     "output_type": "execute_result"
    }
   ],
   "source": [
    "y_test.iloc[10]"
   ]
  },
  {
   "cell_type": "code",
   "execution_count": 206,
   "id": "2faa8cbc",
   "metadata": {},
   "outputs": [
    {
     "data": {
      "text/plain": [
       "array([[0.03338327, 0.96661673]])"
      ]
     },
     "execution_count": 206,
     "metadata": {},
     "output_type": "execute_result"
    }
   ],
   "source": [
    "log_reg3.predict_proba(X_test_scaled[[10]])"
   ]
  },
  {
   "cell_type": "code",
   "execution_count": 207,
   "id": "cbdc9851",
   "metadata": {},
   "outputs": [
    {
     "data": {
      "text/plain": [
       "array([[-3.39970033, -0.03395321]])"
      ]
     },
     "execution_count": 207,
     "metadata": {},
     "output_type": "execute_result"
    }
   ],
   "source": [
    "log_reg3.predict_log_proba(X_test_scaled[[10]])"
   ]
  },
  {
   "cell_type": "code",
   "execution_count": 208,
   "id": "ad7fec4f",
   "metadata": {},
   "outputs": [],
   "source": [
    "y_predict3=log_reg3.predict(X_test_scaled)"
   ]
  },
  {
   "cell_type": "code",
   "execution_count": 209,
   "id": "c112a181",
   "metadata": {},
   "outputs": [
    {
     "data": {
      "text/plain": [
       "{'Accuracy': 0.9756628787878788,\n",
       " 'Recall': 0.7644230769230769,\n",
       " 'Precision': 0.9124820659971306,\n",
       " 'F1': 0.8319162851536952,\n",
       " 'Specificity': 0.9937294407894737}"
      ]
     },
     "execution_count": 209,
     "metadata": {},
     "output_type": "execute_result"
    }
   ],
   "source": [
    "model_evaluation(y_test,y_predict3)"
   ]
  },
  {
   "cell_type": "code",
   "execution_count": 210,
   "id": "2d6cacd7",
   "metadata": {},
   "outputs": [
    {
     "data": {
      "text/plain": [
       "0.8790762588562753"
      ]
     },
     "execution_count": 210,
     "metadata": {},
     "output_type": "execute_result"
    }
   ],
   "source": [
    "auc3=roc_auc_score(y_test,y_predict3)\n",
    "fpr,tpr,threshold=roc_curve(y_test,y_predict3)\n",
    "auc3"
   ]
  },
  {
   "cell_type": "code",
   "execution_count": 125,
   "id": "cd8d4b80",
   "metadata": {},
   "outputs": [],
   "source": []
  },
  {
   "cell_type": "code",
   "execution_count": 211,
   "id": "af6a9d59",
   "metadata": {},
   "outputs": [
    {
     "data": {
      "image/png": "[encoded data removed]",
      "text/plain": [
       "<Figure size 432x288 with 1 Axes>"
      ]
     },
     "metadata": {
      "needs_background": "light"
     },
     "output_type": "display_data"
    }
   ],
   "source": [
    "plt.plot(fpr, tpr, color=\"orange\", label=\"ROC\")\n",
    "plt.plot([0,1],[0,1], color='darkblue',linestyle='--', label='ROC curve (area =%0.2f)' %auc3)\n",
    "plt.xlabel(\"False Positive Rate\")\n",
    "plt.ylabel(\"True Positive Rate\")\n",
    "plt.title(\"Reciver Operating Characteristic (ROC) Curve\")\n",
    "plt.legend()\n",
    "plt.show()"
   ]
  },
  {
   "cell_type": "code",
   "execution_count": null,
   "id": "eeb31162",
   "metadata": {},
   "outputs": [],
   "source": []
  },
  {
   "cell_type": "code",
   "execution_count": 212,
   "id": "801f0248",
   "metadata": {},
   "outputs": [],
   "source": [
    "\n",
    "def log_solver(log_reg): \n",
    "    log_reg.fit(X_test_scaled,y_test)\n",
    "    print(\"log_reg.predict(X_test_scaled[[10]])\",log_reg.predict(X_test_scaled[[10]]))\n",
    "    print(\"y_test.iloc[10]\",y_test.iloc[10])\n",
    "    print(\"log_reg.predict_proba(X_test_scaled[[10]])\",log_reg.predict_proba(X_test_scaled[[10]]))\n",
    "    print(\"log_reg.predict_log_proba(X_test_scaled[[10]])\",log_reg.predict_log_proba(X_test_scaled[[10]]))"
   ]
  },
  {
   "cell_type": "code",
   "execution_count": 213,
   "id": "d3a59342",
   "metadata": {},
   "outputs": [
    {
     "name": "stdout",
     "output_type": "stream",
     "text": [
      "convergence after 23 epochs took 0 seconds\n",
      "log_reg.predict(X_test_scaled[[10]]) [1]\n",
      "y_test.iloc[10] 1\n",
      "log_reg.predict_proba(X_test_scaled[[10]]) [[0.02959938 0.97040062]]\n",
      "log_reg.predict_log_proba(X_test_scaled[[10]]) [[-3.52000197 -0.03004628]]\n"
     ]
    },
    {
     "name": "stderr",
     "output_type": "stream",
     "text": [
      "[Parallel(n_jobs=1)]: Using backend SequentialBackend with 1 concurrent workers.\n",
      "[Parallel(n_jobs=1)]: Done   1 out of   1 | elapsed:    0.0s finished\n"
     ]
    }
   ],
   "source": [
    "log_reg4=LogisticRegression(verbose=1,solver=\"sag\")\n",
    "log_solver(log_reg4)"
   ]
  },
  {
   "cell_type": "code",
   "execution_count": 214,
   "id": "1e6561b6",
   "metadata": {},
   "outputs": [],
   "source": [
    "y_predict4=log_reg4.predict(X_test_scaled)"
   ]
  },
  {
   "cell_type": "code",
   "execution_count": 215,
   "id": "45c78cbb",
   "metadata": {},
   "outputs": [
    {
     "data": {
      "text/plain": [
       "{'Accuracy': 0.9759469696969697,\n",
       " 'Recall': 0.7680288461538461,\n",
       " 'Precision': 0.9128571428571428,\n",
       " 'F1': 0.8342036553524803,\n",
       " 'Specificity': 0.9937294407894737}"
      ]
     },
     "execution_count": 215,
     "metadata": {},
     "output_type": "execute_result"
    }
   ],
   "source": [
    "model_evaluation(y_test,y_predict4)"
   ]
  },
  {
   "cell_type": "code",
   "execution_count": 216,
   "id": "aa6926d6",
   "metadata": {},
   "outputs": [
    {
     "data": {
      "text/plain": [
       "0.88087914347166"
      ]
     },
     "execution_count": 216,
     "metadata": {},
     "output_type": "execute_result"
    }
   ],
   "source": [
    "auc4=roc_auc_score(y_test,y_predict4)\n",
    "fpr,tpr,threshold=roc_curve(y_test,y_predict4)\n",
    "auc4"
   ]
  },
  {
   "cell_type": "code",
   "execution_count": 218,
   "id": "92a917d8",
   "metadata": {},
   "outputs": [
    {
     "data": {
      "image/png": "[encoded data removed]",
      "text/plain": [
       "<Figure size 432x288 with 1 Axes>"
      ]
     },
     "metadata": {
      "needs_background": "light"
     },
     "output_type": "display_data"
    }
   ],
   "source": [
    "plt.plot(fpr, tpr, color=\"orange\", label=\"ROC\")\n",
    "plt.plot([0,1],[0,1], color='darkblue',linestyle='--', label='ROC curve (area =%0.2f)' %auc4)\n",
    "plt.xlabel(\"False Positive Rate\")\n",
    "plt.ylabel(\"True Positive Rate\")\n",
    "plt.title(\"Reciver Operating Characteristic (ROC) Curve\")\n",
    "plt.legend()\n",
    "plt.show()"
   ]
  },
  {
   "cell_type": "code",
   "execution_count": null,
   "id": "f5c1f470",
   "metadata": {},
   "outputs": [],
   "source": []
  },
  {
   "cell_type": "code",
   "execution_count": 219,
   "id": "c2872074",
   "metadata": {},
   "outputs": [],
   "source": [
    "log_reg5=LogisticRegression(verbose=1, solver=\"saga\")"
   ]
  },
  {
   "cell_type": "code",
   "execution_count": 220,
   "id": "4c5685cb",
   "metadata": {},
   "outputs": [
    {
     "name": "stdout",
     "output_type": "stream",
     "text": [
      "convergence after 12 epochs took 0 seconds\n",
      "log_reg.predict(X_test_scaled[[10]]) [1]\n",
      "y_test.iloc[10] 1\n",
      "log_reg.predict_proba(X_test_scaled[[10]]) [[0.02959332 0.97040668]]\n",
      "log_reg.predict_log_proba(X_test_scaled[[10]]) [[-3.52020666 -0.03004004]]\n"
     ]
    },
    {
     "name": "stderr",
     "output_type": "stream",
     "text": [
      "[Parallel(n_jobs=1)]: Using backend SequentialBackend with 1 concurrent workers.\n",
      "[Parallel(n_jobs=1)]: Done   1 out of   1 | elapsed:    0.0s finished\n"
     ]
    }
   ],
   "source": [
    "log_solver(log_reg5)"
   ]
  },
  {
   "cell_type": "code",
   "execution_count": 221,
   "id": "25100631",
   "metadata": {},
   "outputs": [],
   "source": [
    "y_predict5=log_reg5.predict(X_test_scaled)"
   ]
  },
  {
   "cell_type": "code",
   "execution_count": 222,
   "id": "3669654e",
   "metadata": {},
   "outputs": [
    {
     "data": {
      "text/plain": [
       "{'Accuracy': 0.9759469696969697,\n",
       " 'Recall': 0.7680288461538461,\n",
       " 'Precision': 0.9128571428571428,\n",
       " 'F1': 0.8342036553524803,\n",
       " 'Specificity': 0.9937294407894737}"
      ]
     },
     "execution_count": 222,
     "metadata": {},
     "output_type": "execute_result"
    }
   ],
   "source": [
    "model_evaluation(y_test,y_predict5)"
   ]
  },
  {
   "cell_type": "code",
   "execution_count": 224,
   "id": "e7fd2e41",
   "metadata": {},
   "outputs": [
    {
     "data": {
      "text/plain": [
       "0.88087914347166"
      ]
     },
     "execution_count": 224,
     "metadata": {},
     "output_type": "execute_result"
    }
   ],
   "source": [
    "auc5=roc_auc_score(y_test,y_predict5)\n",
    "fpr,tpr,threshold=roc_curve(y_test,y_predict5)\n",
    "auc5"
   ]
  },
  {
   "cell_type": "code",
   "execution_count": 225,
   "id": "363db366",
   "metadata": {},
   "outputs": [
    {
     "data": {
      "image/png": "[encoded data removed]",
      "text/plain": [
       "<Figure size 432x288 with 1 Axes>"
      ]
     },
     "metadata": {
      "needs_background": "light"
     },
     "output_type": "display_data"
    }
   ],
   "source": [
    "plt.plot(fpr, tpr, color=\"orange\", label=\"ROC\")\n",
    "plt.plot([0,1],[0,1], color='darkblue',linestyle='--', label='ROC curve (area =%0.2f)' %auc5)\n",
    "plt.xlabel(\"False Positive Rate\")\n",
    "plt.ylabel(\"True Positive Rate\")\n",
    "plt.title(\"Reciver Operating Characteristic (ROC) Curve\")\n",
    "plt.legend()\n",
    "plt.show()"
   ]
  },
  {
   "cell_type": "code",
   "execution_count": null,
   "id": "740c9cc3",
   "metadata": {},
   "outputs": [],
   "source": []
  },
  {
   "cell_type": "code",
   "execution_count": null,
   "id": "183d554c",
   "metadata": {},
   "outputs": [],
   "source": []
  },
  {
   "cell_type": "code",
   "execution_count": null,
   "id": "d5227357",
   "metadata": {},
   "outputs": [],
   "source": []
  },
  {
   "cell_type": "code",
   "execution_count": null,
   "id": "5a693afb",
   "metadata": {},
   "outputs": [],
   "source": []
  },
  {
   "cell_type": "code",
   "execution_count": null,
   "id": "2cabb81b",
   "metadata": {},
   "outputs": [],
   "source": []
  },
  {
   "cell_type": "code",
   "execution_count": null,
   "id": "8498dedf",
   "metadata": {},
   "outputs": [],
   "source": []
  },
  {
   "cell_type": "code",
   "execution_count": null,
   "id": "2c071b4e",
   "metadata": {},
   "outputs": [],
   "source": []
  },
  {
   "cell_type": "code",
   "execution_count": null,
   "id": "21065c8f",
   "metadata": {},
   "outputs": [],
   "source": []
  },
  {
   "cell_type": "code",
   "execution_count": null,
   "id": "5fc06e6a",
   "metadata": {},
   "outputs": [],
   "source": []
  },
  {
   "cell_type": "code",
   "execution_count": null,
   "id": "a0d533c3",
   "metadata": {},
   "outputs": [],
   "source": []
  },
  {
   "cell_type": "code",
   "execution_count": null,
   "id": "1533719b",
   "metadata": {},
   "outputs": [],
   "source": []
  },
  {
   "cell_type": "code",
   "execution_count": null,
   "id": "ef8b8c57",
   "metadata": {},
   "outputs": [],
   "source": []
  },
  {
   "cell_type": "code",
   "execution_count": null,
   "id": "064cdd06",
   "metadata": {},
   "outputs": [],
   "source": []
  },
  {
   "cell_type": "code",
   "execution_count": null,
   "id": "87cc699a",
   "metadata": {},
   "outputs": [],
   "source": []
  },
  {
   "cell_type": "code",
   "execution_count": null,
   "id": "63550e43",
   "metadata": {},
   "outputs": [],
   "source": []
  },
  {
   "cell_type": "code",
   "execution_count": null,
   "id": "9e290f33",
   "metadata": {},
   "outputs": [],
   "source": []
  },
  {
   "cell_type": "code",
   "execution_count": null,
   "id": "9eae63df",
   "metadata": {},
   "outputs": [],
   "source": []
  },
  {
   "cell_type": "code",
   "execution_count": 33,
   "id": "1c8599dc",
   "metadata": {},
   "outputs": [],
   "source": [
    "import math"
   ]
  },
  {
   "cell_type": "code",
   "execution_count": 40,
   "id": "6d3f06f3",
   "metadata": {},
   "outputs": [
    {
     "data": {
      "text/plain": [
       "[0.9852281360342516]"
      ]
     },
     "execution_count": 40,
     "metadata": {},
     "output_type": "execute_result"
    }
   ],
   "source": [
    "res=[-((8/14)*math.log2(8/14))-((6/14)*math.log2(6/14))]\n",
    "res"
   ]
  },
  {
   "cell_type": "code",
   "execution_count": 41,
   "id": "d57e1c77",
   "metadata": {},
   "outputs": [
    {
     "data": {
      "text/plain": [
       "[0.9182958340544896]"
      ]
     },
     "execution_count": 41,
     "metadata": {},
     "output_type": "execute_result"
    }
   ],
   "source": [
    "res=[-((2/3)*math.log2(2/3))-((1/3)*math.log2(1/3))]\n",
    "res"
   ]
  },
  {
   "cell_type": "code",
   "execution_count": null,
   "id": "bc615d88",
   "metadata": {},
   "outputs": [],
   "source": []
  },
  {
   "cell_type": "code",
   "execution_count": null,
   "id": "09eb8366",
   "metadata": {},
   "outputs": [],
   "source": []
  }
 ],
 "metadata": {
  "kernelspec": {
   "display_name": "Python 3 (ipykernel)",
   "language": "python",
   "name": "python3"
  },
  "language_info": {
   "codemirror_mode": {
    "name": "ipython",
    "version": 3
   },
   "file_extension": ".py",
   "mimetype": "text/x-python",
   "name": "python",
   "nbconvert_exporter": "python",
   "pygments_lexer": "ipython3",
   "version": "3.9.12"
  }
 },
 "nbformat": 4,
 "nbformat_minor": 5
}
